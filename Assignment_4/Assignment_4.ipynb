{
  "cells": [
    {
      "cell_type": "markdown",
      "metadata": {
        "id": "be9f7653"
      },
      "source": [
        "**Heidelberg University**\n",
        "\n",
        "**Data Science  Group**\n",
        "    \n",
        "Prof. Dr. Michael Gertz  \n",
        "\n",
        "Ashish Chouhan, Satya Almasian, John Ziegler, Jayson Salazar, Nicolas Reuter\n",
        "    \n",
        "January 16, 2024\n",
        "    \n",
        "Natural Language Processing with Transformers\n",
        "\n",
        "Winter Semster 2023/2024     \n",
        "***"
      ],
      "id": "be9f7653"
    },
    {
      "cell_type": "markdown",
      "metadata": {
        "id": "258e9648"
      },
      "source": [
        "# **Assignment 4: Question Answering**\n",
        "**Due**: Monday, January 29, 2024, 2pm, via [Moodle](https://moodle.uni-heidelberg.de/course/view.php?id=19251)\n",
        "\n"
      ],
      "id": "258e9648"
    },
    {
      "cell_type": "markdown",
      "metadata": {
        "id": "fc27ad9e"
      },
      "source": [
        "### **Submission Guidelines**\n",
        "\n",
        "- Solutions need to be uploaded as a **single** Jupyter notebook. You will find several pre-filled code segments in the notebook, your task is to fill in the missing cells.\n",
        "- For the written solution, use LaTeX in markdown inside the same notebook. Do **not** hand in a separate file for it.\n",
        "- Download the .zip file containing the dataset but do **not** upload it with your solution.\n",
        "- It is sufficient if one person per group uploads the solution to Moodle, but make sure that the full names of all team members are given in the notebook.\n",
        "\n",
        "***"
      ],
      "id": "fc27ad9e"
    },
    {
      "cell_type": "markdown",
      "metadata": {
        "id": "HETm7VsBkmLq"
      },
      "source": [
        "## **Task 1: Retrieval Augmented Generation (RAG)** ( 4.5 + 3 + 4 + 3 + 1.5 = 16 points)"
      ],
      "id": "HETm7VsBkmLq"
    },
    {
      "cell_type": "markdown",
      "metadata": {
        "id": "0ODkKBIRkrfe"
      },
      "source": [
        "In this task, we look at using the open source `Llama-13b-chat` model for creating a RAG system. You must first apply for access to Llama 2 models via [this](https://ai.meta.com/resources/models-and-libraries/llama-downloads/) form (access is typically granted within a few hours). etrieval augmented generation you also need to request to use the model on Hugging Face by going to the [model](https://huggingface.co/meta-llama/Llama-2-13b-chat-hf) card. ***Note that the emails you provide for your Hugging Face account must match the email you used to request Llama 2.***\n",
        "\n",
        "The final piece that you need is a Hugging Face authentication token. You can find such a token by going to the `setting` in your Hugging Face profile, under the `Access Token` menu you can generate a new token.\n",
        "\n",
        "To store the document you will need a free Pinecone [API key](https://app.pinecone.io/).\n",
        "Make sure you have these pieces ready before starting to work on this task.\n",
        "\n",
        "----\n",
        "When ready, let's start by downloading the necessary packages.\n",
        "\n",
        "It is advised to proceed with this notebook with a GPU (if you are on Colab make sure that a GPU environment is activated.)\n"
      ],
      "id": "0ODkKBIRkrfe"
    },
    {
      "cell_type": "markdown",
      "metadata": {
        "id": "yO1OwuHTMo75"
      },
      "source": [
        "Place all the access tokens in the `.env` file and upload it to the working directory (if you are running this notebook locally, you can change the path to fit your working directory). Please use the following format:\n",
        "\n",
        "\n",
        "```\n",
        "HF_AUTH= \"Hugging Face Authentication Key\"\n",
        "PINECONE_API_KEY=\"Pincone API Key\"\n",
        "PINECONE_ENVIRONMENT=\"Pinecone Environment\"\n",
        "```\n",
        "\n",
        "Run the cell below to load the access tokens into the environment variables."
      ],
      "id": "yO1OwuHTMo75"
    },
    {
      "cell_type": "code",
      "execution_count": null,
      "metadata": {
        "id": "1Dxt-e1bg73b"
      },
      "outputs": [],
      "source": [
        "%pip install python-dotenv"
      ],
      "id": "1Dxt-e1bg73b"
    },
    {
      "cell_type": "code",
      "execution_count": null,
      "metadata": {
        "id": "EqmnxgpALbVV"
      },
      "outputs": [],
      "source": [
        "import os\n",
        "from dotenv import load_dotenv\n",
        "\n",
        "# load environment variables from .env file\n",
        "from dotenv import load_dotenv, find_dotenv\n",
        "_ = load_dotenv(find_dotenv())"
      ],
      "id": "EqmnxgpALbVV"
    },
    {
      "cell_type": "code",
      "execution_count": null,
      "metadata": {
        "id": "yE3EOlhTrKo6"
      },
      "outputs": [],
      "source": [
        "%pip install litellm\n",
        "%pip install -qU trulens_eval pydantic fastapi kaleido python-multipart uvicorn cohere openai tiktoken \"llama-index\"\n",
        "%pip install transformers\n",
        "%pip install sentence-transformers\n",
        "%pip install pinecone-client\n",
        "%pip install datasets\n",
        "%pip install accelerate\n",
        "%pip install einops\n",
        "%pip install langchain\n",
        "%pip install xformers\n",
        "%pip install bitsandbytes\n",
        "%pip install matplotlib seaborn tqdm\n",
        "%pip install chromadb\n",
        "%pip install evaluate\n",
        "%pip install rouge_score\n",
        "%pip install bert_score"
      ],
      "id": "yE3EOlhTrKo6"
    },
    {
      "cell_type": "markdown",
      "metadata": {
        "id": "dLDAPMVST2Ds"
      },
      "source": [
        "\n",
        "\n",
        "## Subtask 1.1: Data Preparation\n",
        "\n"
      ],
      "id": "dLDAPMVST2Ds"
    },
    {
      "cell_type": "markdown",
      "metadata": {
        "id": "9b9odZyFLDin"
      },
      "source": [
        "We need a collection of documents to perform our retrieval on. To make it closer to your final project, you will be downloading and using a subset of the LangChain documentation. We get some of the `.html` files located on the site. The code below will download all HTML files from the links on the webpage into a `docs` directory. `-l1` limits the download to only the first level of depth.\n"
      ],
      "id": "9b9odZyFLDin"
    },
    {
      "cell_type": "code",
      "source": [
        "import locale\n",
        "locale.getpreferredencoding = lambda: \"UTF-8\""
      ],
      "metadata": {
        "id": "JXe86ZKVFfrm"
      },
      "id": "JXe86ZKVFfrm",
      "execution_count": null,
      "outputs": []
    },
    {
      "cell_type": "code",
      "execution_count": null,
      "metadata": {
        "id": "qiodFLkaLUsF"
      },
      "outputs": [],
      "source": [
        "!wget -r -l1 -A.html -P docs https://api.python.langchain.com/en/stable/langchain_api_reference.html"
      ],
      "id": "qiodFLkaLUsF"
    },
    {
      "cell_type": "markdown",
      "metadata": {
        "id": "5DWa9M6JLb8O"
      },
      "source": [
        " The docs are going to be used as input text for answering questions that a normal language model might not be aware of (LangChain docs is not necessarily part of its training data of Llama2). We can use LangChain itself to process these docs. Use the [ReadTheDocsLoader](https://python.langchain.com/docs/integrations/document_loaders/readthedocs_documentation) to load the docs from the `docs` folder.\n",
        "\n",
        " At the time of creating this notebook, there  `423` documents were downloaded. However, since the documentation is being updated regularly this number might be different for you."
      ],
      "id": "5DWa9M6JLb8O"
    },
    {
      "cell_type": "code",
      "execution_count": null,
      "metadata": {
        "id": "Nd8ufORKLVy0"
      },
      "outputs": [],
      "source": [
        "from langchain.document_loaders import ReadTheDocsLoader\n",
        "#### your code ####\n",
        "docs =\n",
        "#### your code ####\n",
        "len(docs)"
      ],
      "id": "Nd8ufORKLVy0"
    },
    {
      "cell_type": "markdown",
      "metadata": {
        "id": "yKs0_OrBMQ7M"
      },
      "source": [
        "Let's take a look at one of the documents. You see that LangChain has created a `Document` object. Look at the example below and fill in the cells to print out the text content and URL of the page (the URL of the page should starts with `https://`)."
      ],
      "id": "yKs0_OrBMQ7M"
    },
    {
      "cell_type": "code",
      "execution_count": null,
      "metadata": {
        "id": "vcpuudNRLV7k"
      },
      "outputs": [],
      "source": [
        "docs[10]"
      ],
      "id": "vcpuudNRLV7k"
    },
    {
      "cell_type": "code",
      "execution_count": null,
      "metadata": {
        "id": "5Q24oWkGM3IP"
      },
      "outputs": [],
      "source": [
        "#### your code ####\n",
        "page_content=\n",
        "page_url=\n",
        "#### your code ####\n",
        "print(page_content)\n",
        "print(page_url)"
      ],
      "id": "5Q24oWkGM3IP"
    },
    {
      "cell_type": "markdown",
      "metadata": {
        "id": "OfZKdZJsMeyj"
      },
      "source": [
        "As you can imagine the documents can be long and if multiple of them are required as context to answer questions, we need to take the document lengths into account.\n",
        "This is due to the fact that language models do not have unlimited context span. In our case, we plan to use Llama2 for this project, where the maximum token limit is 4096. This limit is not only the input but also takes the generated output into account, moreover, you need to leave room for the query and instructions as well. Therefore, it is important to chunk the longer documents into smaller-sized fragments.\n",
        "\n",
        "Based on your use case and how many contexts you plan to feed into the model the length of these fragments will differ.\n",
        "In this case, we choose to assign 2000 tokens to context and choose to generate the answer from 5 context fragments, which leaves us with 400 tokens per context fragment as the maximum chunk size.\n",
        "\n",
        "To count the number of tokens in a chunk, we need to load the correct tokenizer for Llama2. Fill the code cell below to load the correct tokenizer and use it to complete the function that counts the number of tokens per given chunk.\n",
        "\n",
        "**Hint:** you need to use your Hugging Face authentication token to load the tokenizer."
      ],
      "id": "OfZKdZJsMeyj"
    },
    {
      "cell_type": "code",
      "execution_count": null,
      "metadata": {
        "id": "WjOHBqXLLWDA"
      },
      "outputs": [],
      "source": [
        "#If you get an error here during the first import from the `transformers` package, restart the kernel and try again.\n",
        "#### your code ####\n",
        "\n",
        "tokenizer =\n",
        "#### your code ####"
      ],
      "id": "WjOHBqXLLWDA"
    },
    {
      "cell_type": "code",
      "execution_count": null,
      "metadata": {
        "id": "G5GutpFdLWFu"
      },
      "outputs": [],
      "source": [
        "def token_len(text):\n",
        "  #### your code ####\n",
        "\n",
        "    #### your code ####"
      ],
      "id": "G5GutpFdLWFu"
    },
    {
      "cell_type": "markdown",
      "metadata": {
        "id": "2pdG2JeGPfcS"
      },
      "source": [
        "Count the number of tokens for all documents and use it to compute minimum, maximum, and average token count statistics across all documents. Depending on how the documentation is updated by the time you run the cell below the numbers might slightly differ."
      ],
      "id": "2pdG2JeGPfcS"
    },
    {
      "cell_type": "code",
      "execution_count": null,
      "metadata": {
        "id": "HdAdFPYyLWIM"
      },
      "outputs": [],
      "source": [
        "#### your code ####\n",
        "token_counts =\n",
        "min_tokens=\n",
        "avg_tokens=\n",
        "max_tokens=\n",
        "#### your code ####\n",
        "print(f\"\"\"Min: {min_tokens}\n",
        "Avg: {avg_tokens}\n",
        "Max: {max_tokens}\"\"\")"
      ],
      "id": "HdAdFPYyLWIM"
    },
    {
      "cell_type": "markdown",
      "metadata": {
        "id": "iz9rYYRtMo2N"
      },
      "source": [
        "Now we will use LangChain's built-in chunking functionality to split the text into smaller chunks. LangChain offers a variety of text splitters that you can check out [here](https://api.python.langchain.com/en/latest/langchain_api_reference.html#module-langchain.text_splitter).\n",
        "Use the general-purpose splitter that splits text by recursively looking at characters. Use this class to split the text into 400 token-sized chunks, where the length of each chunk is computed based on the `token_len` function. The length is not the only criterion for splitting, if any of these separators `'\\n\\n', '\\n', ' ', ''` is encountered, we will have a new chunk.\n",
        "Since splitting only based on maximum length might result in incoherent chunks for every consecutive chunk, let the chunk overlap by 50 tokens. This way,  we preserve some of the previous context while chunking."
      ],
      "id": "iz9rYYRtMo2N"
    },
    {
      "cell_type": "code",
      "execution_count": null,
      "metadata": {
        "id": "0_RaaGMPPUd9"
      },
      "outputs": [],
      "source": [
        "#### your code ####\n",
        "\n",
        "text_splitter =\n",
        "#### your code ####"
      ],
      "id": "0_RaaGMPPUd9"
    },
    {
      "cell_type": "code",
      "execution_count": null,
      "metadata": {
        "id": "kS6uNIzpOD-I"
      },
      "outputs": [],
      "source": [
        "chunks = text_splitter.split_text(docs[100].page_content)\n",
        "len(chunks)"
      ],
      "id": "kS6uNIzpOD-I"
    },
    {
      "cell_type": "code",
      "execution_count": null,
      "metadata": {
        "id": "-r29RUJ7PUg6"
      },
      "outputs": [],
      "source": [
        "token_len(chunks[0]))"
      ],
      "id": "-r29RUJ7PUg6"
    },
    {
      "cell_type": "markdown",
      "metadata": {
        "id": "SGaeBXo8ONLj"
      },
      "source": [
        "The next step is to apply the splitting function to all the documents in our corpus and to save our chunks in a logical way. We also want to assign a unique ID to each chunk so we know which part of the documentation they come from. In the end, the corpus should be transformed into a list of dictionaries of the following format:\n",
        "\n",
        "\n",
        "```\n",
        "[\n",
        "    {\n",
        "        \"id\": \"glossary-0\",\n",
        "        \"text\": \"first chunk of the document glossary\",\n",
        "        \"source\": \"https://langchain.readthedocs.io/en/latest/glossary.html\"\n",
        "    },\n",
        "    {\n",
        "        \"id\": \"glossary-1\",\n",
        "        \"text\": \"second chunk of glossary\",\n",
        "        \"source\": \"https://langchain.readthedocs.io/en/latest/glossary.html\"\n",
        "    }\n",
        "    ...\n",
        "]\n",
        "```\n",
        "\n",
        "Construct the IDs by taking the name of the page before the suffix `.html` and appending a chronological number indicating which chunk it is.\n"
      ],
      "id": "SGaeBXo8ONLj"
    },
    {
      "cell_type": "code",
      "execution_count": null,
      "metadata": {
        "id": "pBsNJBUNPUjC"
      },
      "outputs": [],
      "source": [
        "from tqdm.auto import tqdm\n",
        "\n",
        "documents = []\n",
        "\n",
        "for doc in tqdm(docs):\n",
        "  #### your code ####\n",
        "    url =\n",
        "    uid =\n",
        "    chunks =\n",
        "\n",
        "  #### your code ####\n",
        "len(documents) # once again this value might differ based on how the LangChain documentation is updated"
      ],
      "id": "pBsNJBUNPUjC"
    },
    {
      "cell_type": "markdown",
      "metadata": {
        "id": "Hnx_s1bBQFQM"
      },
      "source": [
        "For the next steps, we require a `DataFrame`."
      ],
      "id": "Hnx_s1bBQFQM"
    },
    {
      "cell_type": "code",
      "execution_count": null,
      "metadata": {
        "id": "V64EmH9bLWNO"
      },
      "outputs": [],
      "source": [
        "import pandas as pd\n",
        "data = pd.DataFrame(documents)\n",
        "data.head()"
      ],
      "id": "V64EmH9bLWNO"
    },
    {
      "cell_type": "markdown",
      "metadata": {
        "id": "CGbju_bkOQoL"
      },
      "source": [
        "#### ${\\color{red}{Comments\\ 1.1}}$\n",
        "\n",
        "${\\color{red}{⚠️Comments\\ begin⚠️}}$\n",
        "\n",
        "\n",
        "```\n",
        "cross-feedback comment section\n",
        "```\n",
        "\n",
        "\n",
        "${\\color{red}{⚠️Comments\\ end⚠️}}$"
      ],
      "id": "CGbju_bkOQoL"
    },
    {
      "cell_type": "markdown",
      "metadata": {
        "id": "VTrg2hMrO0vF"
      },
      "source": [
        "## Subtask 1.2: Document Embedding Pipeline\n"
      ],
      "id": "VTrg2hMrO0vF"
    },
    {
      "cell_type": "markdown",
      "metadata": {
        "id": "q_DSEsWIT9eI"
      },
      "source": [
        "In this task, we initialize the embedding pipeline to transform the chunks into vector embeddings using Hugging Face and LangChain. These embeddings are used for similarity search between the query and the chunks to retrieve the most relevant chunks.\n",
        "  We will use the `sentence-transformers/all-MiniLM-L6-v2` model for embedding, which is a rather small model that you can easily run on Colab. Initialize the model using `HuggingFaceEmbeddings` to use Hugging Face via Langchain. The encoding batch size should be 32, and make sure that the model is placed on the correct device, otherwise, this can take a long time."
      ],
      "id": "q_DSEsWIT9eI"
    },
    {
      "cell_type": "code",
      "execution_count": null,
      "metadata": {
        "id": "DYpEw-IKUTqK"
      },
      "outputs": [],
      "source": [
        "from torch import cuda\n",
        "from langchain.embeddings.huggingface import HuggingFaceEmbeddings\n",
        "import os\n",
        "import pinecone\n",
        "from tqdm import tqdm"
      ],
      "id": "DYpEw-IKUTqK"
    },
    {
      "cell_type": "code",
      "execution_count": null,
      "metadata": {
        "id": "HI3CJ5bbUTsT"
      },
      "outputs": [],
      "source": [
        "embedding_model = 'sentence-transformers/all-MiniLM-L6-v2'\n",
        "device = 'cuda:0' # make sure you are on gpu\n",
        "docs = [\n",
        "    \"An example document\",\n",
        "    \"A second document as an example\"\n",
        "]\n",
        "### your code ###\n",
        "embed_model =\n",
        "### your code ###"
      ],
      "id": "HI3CJ5bbUTsT"
    },
    {
      "cell_type": "markdown",
      "metadata": {
        "id": "_U73Hj93V0_-"
      },
      "source": [
        "Embed the example documents using the model you created and check the output.\n",
        "The output should be a list of lists, containing the embeddings."
      ],
      "id": "_U73Hj93V0_-"
    },
    {
      "cell_type": "code",
      "execution_count": null,
      "metadata": {
        "id": "9Qt3SDKoUvKx"
      },
      "outputs": [],
      "source": [
        "### your code ###\n",
        "embeddings =\n",
        "### your code ###\n",
        "print(\"number of docs:\",len(embeddings))\n",
        "print(\"dimension of docs:\",len(embeddings[0]))"
      ],
      "id": "9Qt3SDKoUvKx"
    },
    {
      "cell_type": "markdown",
      "metadata": {
        "id": "2D8sr-g9W8cw"
      },
      "source": [
        "Now we use the embedding pipeline created above to store the embeddings in a Pinecone vector index. First, lets setup the Pinecone environment, collect your API key and environment name from the environment variables, and initiate Pinecone with them."
      ],
      "id": "2D8sr-g9W8cw"
    },
    {
      "cell_type": "code",
      "execution_count": null,
      "metadata": {
        "id": "tycv_q6RW8tO"
      },
      "outputs": [],
      "source": [
        "### your code ###\n",
        "\n",
        "### your code ###"
      ],
      "id": "tycv_q6RW8tO"
    },
    {
      "cell_type": "markdown",
      "metadata": {
        "id": "_9tvVVQ7X2pV"
      },
      "source": [
        "Initialize the index `rag-assignment` inside Pinecone. Use the cosine similarity as similarity metric. Keep in mind that if you run this multiple times on a free tier, where only one index is allowed, you need to remove the index created to make room for a new one (Pinecone index gets archived automatically after 14 days of inactivity)."
      ],
      "id": "_9tvVVQ7X2pV"
    },
    {
      "cell_type": "code",
      "execution_count": null,
      "metadata": {
        "id": "g_ZA_2J5XyTD"
      },
      "outputs": [],
      "source": [
        "index_name = 'rag-assignment'\n",
        "### your code ###\n",
        "\n",
        "### your code ###"
      ],
      "id": "g_ZA_2J5XyTD"
    },
    {
      "cell_type": "markdown",
      "metadata": {
        "id": "rxfs9gshYfKx"
      },
      "source": [
        "Lets take a look at the index you created. As of now the index should be empty but have the correct embedding dimension."
      ],
      "id": "rxfs9gshYfKx"
    },
    {
      "cell_type": "code",
      "execution_count": null,
      "metadata": {
        "id": "gNnN9mEyYWHB"
      },
      "outputs": [],
      "source": [
        "index_name = 'rag-assignment'\n",
        "index = pinecone.Index(index_name)\n",
        "index.describe_index_stats()"
      ],
      "id": "gNnN9mEyYWHB"
    },
    {
      "cell_type": "markdown",
      "metadata": {
        "id": "woQKBXfobZMg"
      },
      "source": [
        "Process the dataset in batches of `32` and push the vectors to the Pinecone index. Your index should include the IDs and embeddings for each chunk. As metadata, pass the original text as `text` and the URL as `source` (no need to add the `https`). We use this metadata later to retrieve the original text."
      ],
      "id": "woQKBXfobZMg"
    },
    {
      "cell_type": "code",
      "execution_count": null,
      "metadata": {
        "id": "K8vjCSVKa8Y6"
      },
      "outputs": [],
      "source": [
        "batch_size = 32\n",
        "\n",
        "for i in tqdm(range(0, len(data), batch_size)):\n",
        "  ### your code ###\n",
        "\n",
        "    ids =\n",
        "    texts =\n",
        "    embeds =\n",
        "\n",
        "    ### your code ###\n"
      ],
      "id": "K8vjCSVKa8Y6"
    },
    {
      "cell_type": "markdown",
      "metadata": {
        "id": "kz2UZVj8ff_L"
      },
      "source": [
        "Now if we look at the index statistics we should have vectors of dimension `384`."
      ],
      "id": "kz2UZVj8ff_L"
    },
    {
      "cell_type": "code",
      "execution_count": null,
      "metadata": {
        "id": "cH9Zq6azfgJm"
      },
      "outputs": [],
      "source": [
        "index.describe_index_stats()"
      ],
      "id": "cH9Zq6azfgJm"
    },
    {
      "cell_type": "markdown",
      "metadata": {
        "id": "NK-2Scv8qqYV"
      },
      "source": [
        "#### ${\\color{red}{Comments\\ 1.2}}$\n",
        "\n",
        "${\\color{red}{⚠️Comments\\ begin⚠️}}$\n",
        "\n",
        "\n",
        "```\n",
        "cross-feedback comment section\n",
        "```\n",
        "\n",
        "\n",
        "${\\color{red}{⚠️Comments\\ end⚠️}}$"
      ],
      "id": "NK-2Scv8qqYV"
    },
    {
      "cell_type": "markdown",
      "metadata": {
        "id": "5bVrpkiJhHAF"
      },
      "source": [
        "## Subtask 1.3: Text Generation Pipeline\n"
      ],
      "id": "5bVrpkiJhHAF"
    },
    {
      "cell_type": "markdown",
      "metadata": {
        "id": "ZPykfVaHkIkO"
      },
      "source": [
        "So far we have our index ready and a way to find the most similar chunks to our query. Now, we need a way to generate the answer from the retrieved chunks. For this purpose, we use the `text-generation` pipeline from Hugging Face (refer to the Hugging Face [tutorial](https://moodle.uni-heidelberg.de/pluginfile.php/1286642/mod_resource/content/1/HuggingFace.ipynb)) and load it into LangChain using a wrapper."
      ],
      "id": "ZPykfVaHkIkO"
    },
    {
      "cell_type": "code",
      "execution_count": null,
      "metadata": {
        "id": "CL_PhWM3lEnj"
      },
      "outputs": [],
      "source": [
        "from torch import cuda, bfloat16\n",
        "import os\n",
        "import transformers\n",
        "model_id = 'meta-llama/Llama-2-13b-chat-hf'"
      ],
      "id": "CL_PhWM3lEnj"
    },
    {
      "cell_type": "markdown",
      "metadata": {
        "id": "A3l34T5T3eEN"
      },
      "source": [
        "Quantization techniques reduce memory and computational costs by representing weights and activations with lower-precision data types like 8-bit integers (int8). This enables loading larger models you normally wouldn’t be able to fit into memory, and thus speeds up inference.\n",
        "To make the process of model quantization more accessible, Hugging Face has seamlessly integrated with the [Bitsandbytes](https://huggingface.co/docs/accelerate/usage_guides/quantization) library.\n",
        "\n",
        "Define a config from `Bitsandbytes` that enables 4-bit quantization and set the nested quantization to `true`. This changes the datatype from float 32 (default) to normalized float 4 datatype to contain 4 bits of information.\n",
        "Additionally, add a compute type to store weights in 4-bits, but the computation to happen in 16-bit (bfloat16).\n",
        "Moreover, set the `bnb_4bit_use_double_quant` to true, which uses a second quantization after the first one to save an additional 0.4 bits per parameter.\n",
        "Refer to [here](https://huggingface.co/docs/transformers/main_classes/quantization) for more information."
      ],
      "id": "A3l34T5T3eEN"
    },
    {
      "cell_type": "code",
      "execution_count": null,
      "metadata": {
        "id": "mXNTODoOlFjX"
      },
      "outputs": [],
      "source": [
        "  ### your code ###\n",
        "bitsAndBites_config =\n",
        "  ### your code ###"
      ],
      "id": "mXNTODoOlFjX"
    },
    {
      "cell_type": "markdown",
      "metadata": {
        "id": "Wea-kVMF4Kvf"
      },
      "source": [
        "Use your Hugging Face token to load the correct model configuration using the `transformers` library."
      ],
      "id": "Wea-kVMF4Kvf"
    },
    {
      "cell_type": "code",
      "execution_count": null,
      "metadata": {
        "id": "7U47CyIk4EUz"
      },
      "outputs": [],
      "source": [
        "### your code ###\n",
        "\n",
        "model_config =\n",
        "### your code ###\n"
      ],
      "id": "7U47CyIk4EUz"
    },
    {
      "cell_type": "markdown",
      "metadata": {
        "id": "V8CNl7G1SsUC"
      },
      "source": [
        "Load the model for text generation (pay attention to the model type) using the configuration file you have defined, with the specified quantization, and set the `trust_remote_code` flag to `true`. Another flag that is useful for large mode is  `device_map=\"auto\"`. By setting this flag, Accelerate will determine where to put each layer to maximize the use of GPUs and offload the rest on the CPU, or even the hard drive if you don’t have enough GPU RAM (or CPU RAM).\n",
        "\n",
        "It will take a while for the model to download."
      ],
      "id": "V8CNl7G1SsUC"
    },
    {
      "cell_type": "code",
      "execution_count": null,
      "metadata": {
        "id": "TUzuGsv61cBA"
      },
      "outputs": [],
      "source": [
        "#Loading the model will take some time, (roughly 5 min)\n",
        "### your code ###\n",
        "model =\n",
        "### your code ###\n",
        "model.eval()# we only use the model for inference\n",
        "print(f\"Model loaded \")"
      ],
      "id": "TUzuGsv61cBA"
    },
    {
      "cell_type": "markdown",
      "metadata": {
        "id": "-brElhysTZVZ"
      },
      "source": [
        "You can even check the memory footprint of your model using the `get_memory_footprint` method.\n"
      ],
      "id": "-brElhysTZVZ"
    },
    {
      "cell_type": "code",
      "execution_count": null,
      "metadata": {
        "id": "zWDTgyKhlLLQ"
      },
      "outputs": [],
      "source": [
        "model.get_memory_footprint()"
      ],
      "id": "zWDTgyKhlLLQ"
    },
    {
      "cell_type": "markdown",
      "metadata": {
        "id": "ViFoo0vlSFMp"
      },
      "source": [
        "The next thing we need to do is initialize a `text-generation` pipeline with Hugging Face that uses the Llama2 model to generate some text, given some input. We will then use this pipeline inside LangChain to build our question-answering system.\n",
        "`text-generation` pipeline generates text from a language model conditioned on a given input. The pipeline is similar to other Hugging Face pipelines and requires two things that we must initialize:\n",
        "\n",
        "1.   A language model, in this case, it will be `meta-llama/Llama-2-13b-chat-hf`.\n",
        "2.   A tokenizer for the language model.\n",
        "\n",
        "LangChain expects the full-text outputs, therefore set the `return_full_text` to true. You can also pass additional generation parameters to the model.\n",
        "Since we want the questions to be answered mainly based on the retrieved chunks, let's set the model temperature to a low value of 0.01 to reduce randomness. Additionally, add a repetition penalty of 1.1 to stop the model from repeating itself and the maximum number of generation tokens to 512."
      ],
      "id": "ViFoo0vlSFMp"
    },
    {
      "cell_type": "code",
      "execution_count": null,
      "metadata": {
        "id": "1aFv-9-lPCJO"
      },
      "outputs": [],
      "source": [
        "### your code ###\n",
        "generate_text =\n",
        "### your code ###"
      ],
      "id": "1aFv-9-lPCJO"
    },
    {
      "cell_type": "markdown",
      "metadata": {
        "id": "ZvdSEw9PZ-n9"
      },
      "source": [
        "We provide the language model a general question to make sure our pipeline is working correctly."
      ],
      "id": "ZvdSEw9PZ-n9"
    },
    {
      "cell_type": "code",
      "execution_count": null,
      "metadata": {
        "id": "FpuCkc77RF53"
      },
      "outputs": [],
      "source": [
        "sample_input=\"Explain to me the difference between alligator and crocodile.\"\n",
        "### your code ###\n",
        "\n",
        "generated_text=\n",
        "### your code ###\n",
        "print(generated_text)"
      ],
      "id": "FpuCkc77RF53"
    },
    {
      "cell_type": "markdown",
      "metadata": {
        "id": "2QtViqTBSsPS"
      },
      "source": [
        "Use the LangChain Hugging Face wrapper, as subset of [LLM chain](https://python.langchain.com/docs/modules/chains/foundational/llm_chain) to create an interface for the text generation pipeline."
      ],
      "id": "2QtViqTBSsPS"
    },
    {
      "cell_type": "code",
      "execution_count": null,
      "metadata": {
        "id": "6-spabNmRMM2"
      },
      "outputs": [],
      "source": [
        "### your code ###\n",
        "\n",
        "llm =\n",
        "### your code ###"
      ],
      "id": "6-spabNmRMM2"
    },
    {
      "cell_type": "markdown",
      "metadata": {
        "id": "9EFZBGNgTM20"
      },
      "source": [
        "To confirm that it works the same way, use the sample input to generate text using the llm chain. The input should be passed as the `prompt` to the language model."
      ],
      "id": "9EFZBGNgTM20"
    },
    {
      "cell_type": "code",
      "execution_count": null,
      "metadata": {
        "id": "rDToa1YOTFEX"
      },
      "outputs": [],
      "source": [
        "### your code ###\n",
        "\n",
        "### your code ###"
      ],
      "id": "rDToa1YOTFEX"
    },
    {
      "cell_type": "markdown",
      "metadata": {
        "id": "mn7-zQxeVhWF"
      },
      "source": [
        "#### ${\\color{red}{Comments\\ 1.3}}$\n",
        "\n",
        "${\\color{red}{⚠️Comments\\ begin⚠️}}$\n",
        "\n",
        "\n",
        "```\n",
        "cross-feedback comment section\n",
        "```\n",
        "\n",
        "\n",
        "${\\color{red}{⚠️Comments\\ end⚠️}}$"
      ],
      "id": "mn7-zQxeVhWF"
    },
    {
      "cell_type": "markdown",
      "metadata": {
        "id": "VRwTtnQEWq5h"
      },
      "source": [
        "## Subtask 1.4: Question Answering Chain\n"
      ],
      "id": "VRwTtnQEWq5h"
    },
    {
      "cell_type": "markdown",
      "metadata": {
        "id": "wr9QzQvYXDBS"
      },
      "source": [
        "For Retrieval Augmented Generation (RAG) in LangChain, we need to initialize either a `RetrievalQA` or `RetrievalQAWithSourcesChain` object.\n",
        "\n",
        "`RetrievalQA` is a method for question-answering tasks, utilizing an index to retrieve relevant documents or text chunks, it is suitable for straightforward Q&A applications.\n",
        "\n",
        "`RetrievalQAWithSourcesChain` is an extension of RetrievalQA that chains together multiple sources of information, providing context and the source for answers.\n",
        "\n",
        " For both of these, we need an LLM and a Pinecone index. For LangChain to be able to use the Pinecone index, we need to initialize it through the LangChain vector store.\n",
        "\n",
        " **Hint**: You need to explicitly tell the vector storage where to find the original text."
      ],
      "id": "wr9QzQvYXDBS"
    },
    {
      "cell_type": "code",
      "execution_count": null,
      "metadata": {
        "id": "RQIR_Gb6Wrfs"
      },
      "outputs": [],
      "source": [
        "from langchain.vectorstores import Pinecone\n",
        "### your code ###\n",
        "vectorstore =\n",
        "### your code ###"
      ],
      "id": "RQIR_Gb6Wrfs"
    },
    {
      "cell_type": "markdown",
      "metadata": {
        "id": "mS9d51dyptJd"
      },
      "source": [
        "Let's try a query that is specific to the LangChain documentation and see which chunks are relevant. Use the vector storage defined above to find the top-3 chunks related to the given query."
      ],
      "id": "mS9d51dyptJd"
    },
    {
      "cell_type": "code",
      "execution_count": null,
      "metadata": {
        "id": "sQeWNPDqXdJe"
      },
      "outputs": [],
      "source": [
        "query = 'what is a LangChain Agent?'\n",
        "### your code ###\n",
        "\n",
        "### your code ###"
      ],
      "id": "sQeWNPDqXdJe"
    },
    {
      "cell_type": "markdown",
      "metadata": {
        "id": "gEMooqALXqOt"
      },
      "source": [
        "Now use the `vectorstore` and `llm` to initialize the `RetrievalQA` object, which showcases question answering over an index. `RetrievalQA` is a document chain, these are useful for summarizing documents, answering questions about documents, extracting information from documents, and more. All such chains operate with 4 different chain types:\n",
        "\n",
        "\n",
        "1.   `stuff`: it takes a list of documents, inserts them all into a prompt, and passes that prompt to an LLM.\n",
        "2.   `refine`: it constructs a response by looping over the input documents and iteratively updating its answer. It is well-suited for tasks that require analyzing more documents than can fit in the model’s context.\n",
        "3. `map_reduce`:  it first applies an LLM chain to each document individually (the Map step), treating the chain output as a new document. It then passes all the new documents to a separate combined documents chain to get a single output (the Reduce step).\n",
        "4. `map_re_rank`: it runs an initial prompt on each document that not only tries to complete a task but also gives a score for how certain it is in its answer. The highest-scoring response is returned.\n",
        "\n",
        "For this assignment, we focus only on the first type. Make sure to set the `verbose` to `true`, so we can see the different stages of processing that happens while answering a question (you might need to set this parameter more than once). As mentioned before, we want our retrieve to input top-5 most similiar chunks to the query to generate an answer."
      ],
      "id": "gEMooqALXqOt"
    },
    {
      "cell_type": "code",
      "execution_count": null,
      "metadata": {
        "id": "lYnUrFnaXqU0"
      },
      "outputs": [],
      "source": [
        "from langchain.chains import RetrievalQA\n",
        "### your code ###\n",
        "\n",
        "rag_pipeline =\n",
        "\n",
        "### your code ###\n",
        "query='what is a LangChain Agent?'"
      ],
      "id": "lYnUrFnaXqU0"
    },
    {
      "cell_type": "markdown",
      "metadata": {
        "id": "O4Mo0JNMqSC7"
      },
      "source": [
        "First, we try to answer the question only using Llama2. As you see the answer is not convincing as it does not have access to the LangChain documentation."
      ],
      "id": "O4Mo0JNMqSC7"
    },
    {
      "cell_type": "code",
      "execution_count": null,
      "metadata": {
        "id": "jGk2ZsUVYiJ0"
      },
      "outputs": [],
      "source": [
        "llm(query)"
      ],
      "id": "jGk2ZsUVYiJ0"
    },
    {
      "cell_type": "markdown",
      "metadata": {
        "id": "W8U5Vce0qdch"
      },
      "source": [
        "Now use the Pipeline from above and see how the answer changes."
      ],
      "id": "W8U5Vce0qdch"
    },
    {
      "cell_type": "code",
      "execution_count": null,
      "metadata": {
        "id": "1KaQyXKQYn57"
      },
      "outputs": [],
      "source": [
        "### your code ###\n",
        "\n",
        "### your code ###\n"
      ],
      "id": "1KaQyXKQYn57"
    },
    {
      "cell_type": "markdown",
      "metadata": {
        "id": "pJ2JxOL4aqM2"
      },
      "source": [
        "#### ${\\color{red}{Comments\\ 1.4}}$\n",
        "\n",
        "${\\color{red}{⚠️Comments\\ begin⚠️}}$\n",
        "\n",
        "\n",
        "```\n",
        "cross-feedback comment section\n",
        "```\n",
        "\n",
        "\n",
        "${\\color{red}{⚠️Comments\\ end⚠️}}$"
      ],
      "id": "pJ2JxOL4aqM2"
    },
    {
      "cell_type": "markdown",
      "metadata": {
        "id": "inIFkOziTce3"
      },
      "source": [
        "## Subtask 1.5: Conversational Retrieval Chain\n",
        "\n",
        "\n"
      ],
      "id": "inIFkOziTce3"
    },
    {
      "cell_type": "markdown",
      "metadata": {
        "id": "btxcJlEITiDt"
      },
      "source": [
        "We can also extend our retrieval chain to be able to remember the previous questions and answer the current question by looking at the previous context.\n",
        "The important part of a conversational model is conversation memory, which transforms the stateless language model to be able to remember previous interactions, e.g., similiar to ChatGPT. In this subtask, we will use LangChain to create a conversational memory.\n"
      ],
      "id": "btxcJlEITiDt"
    },
    {
      "cell_type": "markdown",
      "metadata": {
        "id": "DYHPVo-9TiGU"
      },
      "source": [
        "To implement the memory we use `ConversationalRetrievalChain`.\n",
        "This chain takes in chat history (a list of messages) and new questions and then returns an answer to that question. The algorithm for this chain consists of three parts:\n",
        "\n",
        "1. Use the chat history and the new question to create a new question that contains the information from the previous context.\n",
        "\n",
        "2. This new question is passed to the retriever and relevant documents are returned.\n",
        "\n",
        "3. The retrieved documents are passed to an LLM to generate a final response."
      ],
      "id": "DYHPVo-9TiGU"
    },
    {
      "cell_type": "code",
      "execution_count": null,
      "metadata": {
        "id": "GLv_d-RYyNYL"
      },
      "outputs": [],
      "source": [
        "from langchain.chains import ConversationalRetrievalChain\n",
        "chat_history = []\n",
        "\n",
        "### your code ###\n",
        "qa_conversation =\n",
        "result =\n",
        "### your code ###\n"
      ],
      "id": "GLv_d-RYyNYL"
    },
    {
      "cell_type": "code",
      "execution_count": null,
      "metadata": {
        "id": "S6HxivGwyv2x"
      },
      "outputs": [],
      "source": [
        "result[\"answer\"]"
      ],
      "id": "S6HxivGwyv2x"
    },
    {
      "cell_type": "markdown",
      "metadata": {
        "id": "yd6tqKhg24dL"
      },
      "source": [
        "Change the chat history to contain the previous question and answer pair and ask a follow-up question.  "
      ],
      "id": "yd6tqKhg24dL"
    },
    {
      "cell_type": "code",
      "execution_count": null,
      "metadata": {
        "id": "36vj0R9Fyyd1"
      },
      "outputs": [],
      "source": [
        "follow_up=\"What are tools and toolkits?\"\n",
        "\n",
        "### your code ###\n",
        "chat_history =\n",
        "result =\n",
        "### your code ###"
      ],
      "id": "36vj0R9Fyyd1"
    },
    {
      "cell_type": "markdown",
      "metadata": {
        "id": "EvlY2MtH0xo3"
      },
      "source": [
        "This is the previous context that was fed in alongside the new question."
      ],
      "id": "EvlY2MtH0xo3"
    },
    {
      "cell_type": "code",
      "execution_count": null,
      "metadata": {
        "id": "09zxWnojzKEu"
      },
      "outputs": [],
      "source": [
        "chat_history"
      ],
      "id": "09zxWnojzKEu"
    },
    {
      "cell_type": "markdown",
      "metadata": {
        "id": "DSlQYeWG04Gj"
      },
      "source": [
        "The current question is answered by knowing that the tools and toolkits are referring to a LangChain Agent, which was part of the previous question."
      ],
      "id": "DSlQYeWG04Gj"
    },
    {
      "cell_type": "code",
      "execution_count": null,
      "metadata": {
        "id": "5FP4_WAbzMSQ"
      },
      "outputs": [],
      "source": [
        "result['answer']"
      ],
      "id": "5FP4_WAbzMSQ"
    },
    {
      "cell_type": "markdown",
      "metadata": {
        "id": "LQUW_iFs3q3m"
      },
      "source": [
        "#### ${\\color{red}{Comments\\ 1.5}}$\n",
        "\n",
        "${\\color{red}{⚠️Comments\\ begin⚠️}}$\n",
        "\n",
        "\n",
        "```\n",
        "cross-feedback comment section\n",
        "```\n",
        "\n",
        "\n",
        "${\\color{red}{⚠️Comments\\ end⚠️}}$"
      ],
      "id": "LQUW_iFs3q3m"
    },
    {
      "cell_type": "markdown",
      "metadata": {
        "id": "0KDwOSuNPBe-"
      },
      "source": [
        "## **Task 2: Advanced RAG Techniques and Evaluation (4 + 5 = 9 points)**"
      ],
      "id": "0KDwOSuNPBe-"
    },
    {
      "cell_type": "markdown",
      "metadata": {
        "id": "cN6pjlW7PBhQ"
      },
      "source": [
        "Now that you have successfully implemented your first RAG system, we dive into more advanced techniques and learn how to evaluate your methods using metrics you learned during the lecture. We focus on evaluation with an already annotated dataset. To this end, we load a small subset of [NarrativeQA](https://huggingface.co/datasets/narrativeqa), which is an English-language dataset of stories and corresponding questions designed to test reading comprehension, especially on long documents. We only load 30 samples from the data, as you will see in the upcoming sections, answer generation takes quite some time. In actual setting, it is advised to use a much larger set to obtain statistically significant results."
      ],
      "id": "cN6pjlW7PBhQ"
    },
    {
      "cell_type": "code",
      "execution_count": null,
      "metadata": {
        "id": "wM2dodC2PAlr"
      },
      "outputs": [],
      "source": [
        "from datasets import load_dataset\n",
        "dataset = load_dataset(\"satyaalmasian/narrativeqa_subset\",split=\"train[:30]\")\n",
        "len(dataset)"
      ],
      "id": "wM2dodC2PAlr"
    },
    {
      "cell_type": "markdown",
      "source": [
        "Since we already used our free index in Pinecone for the previous task, we use Chroma, an open-source vector database, instead. As opposed to Pinecone, Chroma creates a collection on your machine."
      ],
      "metadata": {
        "id": "N0HDF2M1fz4D"
      },
      "id": "N0HDF2M1fz4D"
    },
    {
      "cell_type": "code",
      "execution_count": null,
      "metadata": {
        "id": "hZ8kqj95hqvo"
      },
      "outputs": [],
      "source": [
        "from langchain.docstore.document import Document\n",
        "documents=[ doc[\"text\"] for doc in dataset[\"document\"]]\n",
        "questions=[quest for quest in dataset[\"question\"]]\n",
        "answers=[ans for ans in dataset[\"answers\"]]\n",
        "documents=list(set(documents))"
      ],
      "id": "hZ8kqj95hqvo"
    },
    {
      "cell_type": "code",
      "source": [
        "docs= [Document(page_content=doc, metadata={\"source\": \"local\"}) for doc in documents]"
      ],
      "metadata": {
        "id": "fj0X3PqHIFpQ"
      },
      "id": "fj0X3PqHIFpQ",
      "execution_count": null,
      "outputs": []
    },
    {
      "cell_type": "markdown",
      "source": [
        "The number of documents is smaller  than the number of questions and answers and each document is used as a reference for multiple questions:"
      ],
      "metadata": {
        "id": "3BDIuYQkJB0U"
      },
      "id": "3BDIuYQkJB0U"
    },
    {
      "cell_type": "code",
      "source": [
        "print(len(docs))\n",
        "print(len(questions))"
      ],
      "metadata": {
        "id": "FbWqRg12JLJn"
      },
      "id": "FbWqRg12JLJn",
      "execution_count": null,
      "outputs": []
    },
    {
      "cell_type": "markdown",
      "source": [
        "##Subtask 2.1: Build Contextual Compression in LangChain"
      ],
      "metadata": {
        "id": "cD69GYOjjJuk"
      },
      "id": "cD69GYOjjJuk"
    },
    {
      "cell_type": "markdown",
      "source": [
        "Let's split our documents using the TextSplitter from Task 1 and embed them inside the Chroma database with the embedding model of the previous task."
      ],
      "metadata": {
        "id": "D-OyjUQGhGPq"
      },
      "id": "D-OyjUQGhGPq"
    },
    {
      "cell_type": "code",
      "execution_count": null,
      "metadata": {
        "id": "M7NGs-RzhQa7"
      },
      "outputs": [],
      "source": [
        "### your code ###\n",
        "all_splits =\n",
        "### your code ###"
      ],
      "id": "M7NGs-RzhQa7"
    },
    {
      "cell_type": "code",
      "source": [
        "from langchain.vectorstores import Chroma\n",
        "### your code ###\n",
        "vectordb =\n",
        "retriever =\n",
        "### your code ###"
      ],
      "metadata": {
        "id": "hHknAFVBf5ia"
      },
      "id": "hHknAFVBf5ia",
      "execution_count": null,
      "outputs": []
    },
    {
      "cell_type": "code",
      "source": [
        "print(\"Fist question in the set:\",questions[2]['text'])\n",
        "r_docs = retriever.get_relevant_documents(questions[2]['text'])\n",
        "r_docs"
      ],
      "metadata": {
        "id": "RbSBLyg364Ie"
      },
      "id": "RbSBLyg364Ie",
      "execution_count": null,
      "outputs": []
    },
    {
      "cell_type": "markdown",
      "source": [
        "First, make a simple RAG pipeline that works on top of the Chroma retriever. This retriever should be similar to the previous task. However, since we want to use it for a large number of questions, remove the `verbose` parameters."
      ],
      "metadata": {
        "id": "5YIitJ47Km7p"
      },
      "id": "5YIitJ47Km7p"
    },
    {
      "cell_type": "code",
      "source": [
        "from langchain.chains import RetrievalQA\n",
        "### your code ###\n",
        "rag_simple=\n",
        "### your code ###"
      ],
      "metadata": {
        "id": "CTp5BOapKami"
      },
      "id": "CTp5BOapKami",
      "execution_count": null,
      "outputs": []
    },
    {
      "cell_type": "markdown",
      "source": [
        "We look at an example question and compare the answer by RAG to the gold answer from the dataset. Note that the answers can contain multiple lines."
      ],
      "metadata": {
        "id": "I8EzQFiNRja9"
      },
      "id": "I8EzQFiNRja9"
    },
    {
      "cell_type": "code",
      "source": [
        "rag_simple(questions[2]['text']) #ignore the warning"
      ],
      "metadata": {
        "id": "afGjILYMKfCK"
      },
      "id": "afGjILYMKfCK",
      "execution_count": null,
      "outputs": []
    },
    {
      "cell_type": "code",
      "source": [
        "answers[2]"
      ],
      "metadata": {
        "id": "jvjAzg42R2WE"
      },
      "id": "jvjAzg42R2WE",
      "execution_count": null,
      "outputs": []
    },
    {
      "cell_type": "markdown",
      "source": [
        "Apply the `rag_simple` pipeline to all the question in your corpus and accumulate the answers. **It should take around 10 minutes on a T4 GPU on Colab**."
      ],
      "metadata": {
        "id": "mNXD6PaUSlLE"
      },
      "id": "mNXD6PaUSlLE"
    },
    {
      "cell_type": "code",
      "source": [
        "simple_answers=[]\n",
        "### your code ###\n",
        "\n",
        "### your code ###"
      ],
      "metadata": {
        "id": "uyTM0QD2KzwW"
      },
      "id": "uyTM0QD2KzwW",
      "execution_count": null,
      "outputs": []
    },
    {
      "cell_type": "markdown",
      "source": [
        "Libraries such as LangChain and [Llamaindex](https://www.llamaindex.ai/) provide a variety of retrieval strategies for building a RAG system. In this subtask, you will use one of these variations called **contextual compression**. This method aims to extract only the relevant information from documents, reducing the need for expensive language model calls and improving response quality. Contextual compression consists of two parts:\n",
        "\n",
        "\n",
        "1.  **Base retriever:** retrieves the initial set of documents based on the query. This is similar to the retriever from the previous task.\n",
        "2.   **Document compressor:** processes these documents to extract the relevant content. We use `LLMChainExtractor`, which will iterate over the initially returned documents and extract from each only the content that is relevant to the query.\n"
      ],
      "metadata": {
        "id": "0q3EbAw_hV5h"
      },
      "id": "0q3EbAw_hV5h"
    },
    {
      "cell_type": "code",
      "execution_count": null,
      "metadata": {
        "id": "RJ0UzPIVPAoc"
      },
      "outputs": [],
      "source": [
        "from langchain.retrievers import ContextualCompressionRetriever\n",
        "from langchain.retrievers.document_compressors import LLMChainExtractor,LLMChainFilter\n",
        "from langchain.llms import OpenAI\n",
        "\n",
        "### your code ###\n",
        "\n",
        "compression_retriever =\n",
        "### your code ###"
      ],
      "id": "RJ0UzPIVPAoc"
    },
    {
      "cell_type": "markdown",
      "source": [
        "Let's take a look at an example of compression retriever works."
      ],
      "metadata": {
        "id": "qMPaRwoeuvDX"
      },
      "id": "qMPaRwoeuvDX"
    },
    {
      "cell_type": "code",
      "execution_count": null,
      "metadata": {
        "id": "AK9xhW8JPAqo"
      },
      "outputs": [],
      "source": [
        "print(\"Fist question in the set:\",questions[2]['text'])\n",
        "compressed_docs = compression_retriever.get_relevant_documents(questions[2]['text'])\n",
        "compressed_docs"
      ],
      "id": "AK9xhW8JPAqo"
    },
    {
      "cell_type": "markdown",
      "source": [
        "Look at the output and try out several different questions by yourself. Does the compressed output make sense?\n",
        "\n",
        "Compare this to the previous **simple** approach. Which one, in your opinion, is better?"
      ],
      "metadata": {
        "id": "eWAPRPqCS3WP"
      },
      "id": "eWAPRPqCS3WP"
    },
    {
      "cell_type": "markdown",
      "source": [
        "Finally, we use the new retriever with the Llama2 model from the previous task to create the context compressor RAG pipeline. The code below should be similiar to what you did in the previous task. Once again, make sure to turn off the `verbose` argument."
      ],
      "metadata": {
        "id": "1GVulJfSu3lt"
      },
      "id": "1GVulJfSu3lt"
    },
    {
      "cell_type": "code",
      "execution_count": null,
      "metadata": {
        "id": "PKu2Dhr1PAtM"
      },
      "outputs": [],
      "source": [
        "### your code ###\n",
        "from langchain.chains import RetrievalQA\n",
        "\n",
        "rag_compressor =\n",
        "### your code ###\n"
      ],
      "id": "PKu2Dhr1PAtM"
    },
    {
      "cell_type": "code",
      "source": [
        "rag_compressor(questions[2]['text'])"
      ],
      "metadata": {
        "id": "DDtrO4z2pAD9"
      },
      "id": "DDtrO4z2pAD9",
      "execution_count": null,
      "outputs": []
    },
    {
      "cell_type": "markdown",
      "source": [
        "Now we can use the pipeline to generate answers for all the questions in our dataset. **It should take around 20 minutes on a T4 GPU on Colab.**"
      ],
      "metadata": {
        "id": "8PfY6ya8z-1T"
      },
      "id": "8PfY6ya8z-1T"
    },
    {
      "cell_type": "code",
      "execution_count": null,
      "metadata": {
        "id": "eofiL90APAvl"
      },
      "outputs": [],
      "source": [
        "compressor_answers=[]\n",
        "### your code ###\n",
        "\n",
        "### your code ###\n"
      ],
      "id": "eofiL90APAvl"
    },
    {
      "cell_type": "markdown",
      "source": [
        "#### ${\\color{red}{Comments\\ 2.1}}$\n",
        "\n",
        "${\\color{red}{⚠️Comments\\ begin⚠️}}$\n",
        "\n",
        "\n",
        "```\n",
        "cross-feedback comment section\n",
        "```\n",
        "\n",
        "\n",
        "${\\color{red}{⚠️Comments\\ end⚠️}}$"
      ],
      "metadata": {
        "id": "6ck8Ktt6Zns5"
      },
      "id": "6ck8Ktt6Zns5"
    },
    {
      "cell_type": "markdown",
      "source": [
        "##Subtask 2.2. Evaluate"
      ],
      "metadata": {
        "id": "RlA3IDsn0Oxa"
      },
      "id": "RlA3IDsn0Oxa"
    },
    {
      "cell_type": "markdown",
      "source": [
        "Since we have access to ground truth answers, we can use various evaluation metrics from the literature. In this task, we explore three metrics:\n",
        "\n",
        "\n",
        "1.   **BLEU:** BLEU score stands for Bilingual Evaluation Understudy and is a precision-based metric developed\n",
        "for evaluating machine translation. BLEU scores a candidate by computing the\n",
        "number of n-grams in the candidate that also appear\n",
        "in a reference. The n can vary, in this task we compute for n=4.\n",
        "2.   **ROUGE:** ROUGE score stands for Recall-Oriented Understudy for Gisting Evaluation and is an F-measure metric designed for\n",
        "evaluating translation and summarization. There are a number of variants of ROUGE.\n",
        "3. **BERTScore:** BERTScore first obtains BERT representation of each word in the candidate and reference by feeding the candidate\n",
        "and reference through a BERT model separately.\n",
        "An alignment is then computed between candidate\n",
        "and reference words by computing pairwise cosine\n",
        "similarity. This alignment is then aggregated in to\n",
        "precision and recall scores before being aggregated\n",
        "into a (modified) F1 score that is weighted using\n",
        "inverse-document-frequency values.\n",
        "\n",
        "Luckily, Hugging Face has an implementation for all these metrics. Use the `evaluate` library to load the metrics."
      ],
      "metadata": {
        "id": "E274c-Yc0gAr"
      },
      "id": "E274c-Yc0gAr"
    },
    {
      "cell_type": "markdown",
      "source": [
        "Use the loaded metrics to compare the RAG pipelines from the previous subtask."
      ],
      "metadata": {
        "id": "VT57xstfUtAL"
      },
      "id": "VT57xstfUtAL"
    },
    {
      "cell_type": "code",
      "execution_count": null,
      "metadata": {
        "id": "M4SU_Z4vPAxy"
      },
      "outputs": [],
      "source": [
        "import evaluate\n",
        "### your code ###\n",
        "bleu =\n",
        "rouge =\n",
        "bertscore =\n",
        "### your code ###"
      ],
      "id": "M4SU_Z4vPAxy"
    },
    {
      "cell_type": "markdown",
      "source": [
        "As seen in the previous subtask, the answers can contain multiple lines. To be able to compare the output of our systems to the gold answers, merge the multiple answers into a single string."
      ],
      "metadata": {
        "id": "ET3Ns8NSQ73F"
      },
      "id": "ET3Ns8NSQ73F"
    },
    {
      "cell_type": "code",
      "source": [
        "answers_merged=[]\n",
        "### your code ###\n",
        "\n",
        "### your code ###\n",
        "print(len(answers_merged))"
      ],
      "metadata": {
        "id": "6ITKpzWkQ_hJ"
      },
      "id": "6ITKpzWkQ_hJ",
      "execution_count": null,
      "outputs": []
    },
    {
      "cell_type": "markdown",
      "source": [
        "Compute the BLUE score for the simple RAG and compressor RAG."
      ],
      "metadata": {
        "id": "IOlhI3iV1p9M"
      },
      "id": "IOlhI3iV1p9M"
    },
    {
      "cell_type": "code",
      "execution_count": null,
      "metadata": {
        "id": "Z9PgmMfLPA0a"
      },
      "outputs": [],
      "source": [
        "### your code ###\n",
        "bleu_simple =\n",
        "bleu_compressor =\n",
        "### your code ###\n",
        "print(\"Simple system:\")\n",
        "print(bleu_simple)\n",
        "print(\"Compressor:\")\n",
        "print(bleu_compressor)"
      ],
      "id": "Z9PgmMfLPA0a"
    },
    {
      "cell_type": "markdown",
      "source": [
        "What does the elements below in the output of the BLEU impelementation in Hugging Face mean? (do not copy and paste the documentation but write the implications behind each element!).\n",
        "\n",
        "\n",
        "\n",
        "1.   **precisions:** `your answer`\n",
        "2.   **brevity_penalty:** `your answer`\n",
        "3.   **translation_length:** `your answer`\n",
        "4.   **reference_length:** `your answer`\n",
        "5.   **length_ratio:** `your answer`\n",
        "\n",
        "\n"
      ],
      "metadata": {
        "id": "BZI2_Jfqrgrc"
      },
      "id": "BZI2_Jfqrgrc"
    },
    {
      "cell_type": "markdown",
      "source": [
        "**Answer:**\n",
        "\n",
        "\n",
        "1.   **precisions:** precision of n-grams, which is calculated as the number of n-grams that appear in both the machine-generated translation and the reference translations divided by the total number of n-grams in the machine-generated translation.\n",
        "2.   **brevity_penalty:** is a penalty term that adjusts the score for translations that are shorter than the reference translations. It is calculated as min(1, (reference_length / translation_length)). It essentially penalizes generated translations that are too short compared to the closest reference length with an exponential decay.\n",
        "3.   **translation_length:**   is the total number of words in the machine-generated translation.\n",
        "4.   **reference_length:**  is the total number of words in the reference translations.\n",
        "5. **length_ratio:** ratio of the 3 and 4."
      ],
      "metadata": {
        "id": "G-usgncEr7i9"
      },
      "id": "G-usgncEr7i9"
    },
    {
      "cell_type": "code",
      "execution_count": null,
      "metadata": {
        "id": "Ot-jQzvqPA3J"
      },
      "outputs": [],
      "source": [
        "### your code ###\n",
        "rouge_simple =\n",
        "rouge_compressor =\n",
        "### your code ###\n",
        "print(\"Simple system:\")\n",
        "print(rouge_simple)\n",
        "print(\"Compressor:\")\n",
        "print(rouge_compressor)"
      ],
      "id": "Ot-jQzvqPA3J"
    },
    {
      "cell_type": "markdown",
      "source": [
        "What is the difference in variants of ROUGE (ROUGE-N, ROUGE-L, ROUGE-SUM)?\n",
        "\n",
        "`your answer`\n"
      ],
      "metadata": {
        "id": "IFE7RI-HsSGq"
      },
      "id": "IFE7RI-HsSGq"
    },
    {
      "cell_type": "markdown",
      "source": [
        "**Answer:**\n",
        "\n",
        "ROUGE measures the similarity between the machine-generated summary and the reference summaries using overlapping n-grams, word sequences that appear in both the machine-generated summary and the reference summaries. The most common n-grams used are unigrams, bigrams, and trigrams. ROUGE score calculates the recall of n-grams in the machine-generated summary by comparing them to the reference summaries.\n",
        "\n",
        "**ROUGE-N:** ROUGE-N measures the overlap of n-grams (contiguous sequences of n words) between the candidate text and the reference text. It computes the precision, recall, and F1-score based on the n-gram overlap. For example, ROUGE-1 (unigram) measures the overlap of single words, ROUGE-2 (bigram) measures the overlap of two-word sequences, and so on. ROUGE-N is often used to evaluate the grammatical correctness and fluency of generated text.\n",
        "\n",
        "**ROUGE-L:** ROUGE-L measures the longest common subsequence (LCS) between the candidate text and the reference text. It computes the precision, recall, and F1-score based on the length of the LCS. ROUGE-L is often used to evaluate the semantic similarity and content coverage of generated text, as it considers the common subsequence regardless of word order.\n",
        "\n",
        "**ROUGE-S:** ROUGE-S measures the skip-bigram (bi-gram with at most one intervening word) overlap between the candidate text and the reference text. It computes the precision, recall, and F1-score based on the skip-bigram overlap. ROUGE-S is often used to evaluate the coherence and local cohesion of generated text, as it captures the semantic similarity between adjacent words.\n",
        "\n"
      ],
      "metadata": {
        "id": "IJmntC2_sfkx"
      },
      "id": "IJmntC2_sfkx"
    },
    {
      "cell_type": "code",
      "execution_count": null,
      "metadata": {
        "id": "zSF5zMOyPA5I"
      },
      "outputs": [],
      "source": [
        "import numpy as np\n",
        "bertscore_simple_averaged={}\n",
        "bertscore_compressor_averaged={}\n",
        "### your code ###\n",
        "\n",
        "\n",
        "### your code ###\n",
        "print(\"Simple system:\")\n",
        "print(bertscore_simple_averaged)\n",
        "print(\"Compressor:\")\n",
        "print(bertscore_compressor_averaged)"
      ],
      "id": "zSF5zMOyPA5I"
    },
    {
      "cell_type": "markdown",
      "source": [
        "Which model works better?"
      ],
      "metadata": {
        "id": "LfiuFxqQVrHa"
      },
      "id": "LfiuFxqQVrHa"
    },
    {
      "cell_type": "markdown",
      "source": [
        "#### ${\\color{red}{Comments\\ 2.2}}$\n",
        "\n",
        "${\\color{red}{⚠️Comments\\ begin⚠️}}$\n",
        "\n",
        "\n",
        "```\n",
        "cross-feedback comment section\n",
        "```\n",
        "\n",
        "\n",
        "${\\color{red}{⚠️Comments\\ end⚠️}}$"
      ],
      "metadata": {
        "id": "bbIA8Cg3Zq6g"
      },
      "id": "bbIA8Cg3Zq6g"
    }
  ],
  "metadata": {
    "accelerator": "GPU",
    "colab": {
      "provenance": [],
      "gpuType": "T4"
    },
    "kernelspec": {
      "display_name": "Python 3",
      "name": "python3"
    },
    "language_info": {
      "codemirror_mode": {
        "name": "ipython",
        "version": 3
      },
      "file_extension": ".py",
      "mimetype": "text/x-python",
      "name": "python",
      "nbconvert_exporter": "python",
      "pygments_lexer": "ipython3",
      "version": "3.11.5"
    }
  },
  "nbformat": 4,
  "nbformat_minor": 5
}