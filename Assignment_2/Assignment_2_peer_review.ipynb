{
  "cells": [
    {
      "cell_type": "markdown",
      "id": "be9f7653",
      "metadata": {
        "id": "be9f7653"
      },
      "source": [
        "**Heidelberg University**\n",
        "\n",
        "**Data Science  Group**\n",
        "    \n",
        "Prof. Dr. Michael Gertz  \n",
        "\n",
        "Ashish Chouhan, Satya Almasian, John Ziegler, Jayson Salazar, Nicolas Reuter\n",
        "    \n",
        "November 13, 2023\n",
        "    \n",
        "Natural Language Processing with Transformers\n",
        "\n",
        "Winter Semster 2023/2024     \n",
        "***"
      ]
    },
    {
      "cell_type": "markdown",
      "id": "258e9648",
      "metadata": {
        "id": "258e9648"
      },
      "source": [
        "# **Assignment 2: “Sequence Models”**\n",
        "**Due**: Monday, November 27, 2pm, via [Moodle](https://moodle.uni-heidelberg.de/course/view.php?id=19251)\n",
        "\n"
      ]
    },
    {
      "cell_type": "markdown",
      "id": "fc27ad9e",
      "metadata": {
        "id": "fc27ad9e"
      },
      "source": [
        "### **Submission Guidelines**\n",
        "\n",
        "- Solutions need to be uploaded as a **single** Jupyter notebook. You will find several pre-filled code segments in the notebook, your task is to fill in the missing cells.\n",
        "- For the written solution, use LaTeX in markdown inside the same notebook. Do **not** hand in a separate file for it.\n",
        "- Download the .zip file containing the dataset but do **not** upload it with your solution.\n",
        "- It is sufficient if one person per group uploads the solution to Moodle, but make sure that the complete names of all team members are given in the notebook.\n",
        "\n",
        "***"
      ]
    },
    {
      "cell_type": "markdown",
      "id": "e322e8b0",
      "metadata": {
        "id": "e322e8b0"
      },
      "source": [
        "## **Task 1: Part-of-Speech Tagging with a Bidirectional LSTM**  (2+4+5=11 points)"
      ]
    },
    {
      "cell_type": "markdown",
      "id": "b4ca26ac",
      "metadata": {
        "id": "b4ca26ac"
      },
      "source": [
        "In this task we will be building a sequence tagger that produces an output for every element in an input sequence, using `PyTorch` and `TorchText`, where `TorchText` consists of data processing utilities and popular datasets for natural language.\n",
        "\n",
        "\n",
        "*   **input:** a sequence of text\n",
        "*   **output:** part-of-speech (POS) tag for each token in the input text\n",
        "\n",
        "We tackle this task using a multi-layer bi-directional LSTM (BiLSTM) to predict POS tags using the [Universal Dependencies](https://universaldependencies.org/) English Web Treebank (UDPOS) dataset. This dataset is contained in the `TorchText` library and we do not require an external file for it. The dataset in  `TorchText`  has two different sets of tags, universal dependency (UD) tags and Penn Treebank (PTB) tags. We only focus on the UD tags for this assignment."
      ]
    },
    {
      "cell_type": "code",
      "execution_count": null,
      "id": "nnBfLC1P5QXw",
      "metadata": {
        "id": "nnBfLC1P5QXw",
        "colab": {
          "base_uri": "https://localhost:8080/"
        },
        "outputId": "bcca8bfa-c391-4547-c1f6-b23c6dfb573c"
      },
      "outputs": [
        {
          "output_type": "stream",
          "name": "stdout",
          "text": [
            "Collecting portalocker\n",
            "  Downloading portalocker-2.8.2-py3-none-any.whl (17 kB)\n",
            "Installing collected packages: portalocker\n",
            "Successfully installed portalocker-2.8.2\n"
          ]
        }
      ],
      "source": [
        "%pip install portalocker"
      ]
    },
    {
      "cell_type": "code",
      "execution_count": null,
      "id": "nT5geerO7d1P",
      "metadata": {
        "id": "nT5geerO7d1P",
        "colab": {
          "base_uri": "https://localhost:8080/"
        },
        "outputId": "97f09e27-1f57-4127-bf7b-3a3d9a2192e0"
      },
      "outputs": [
        {
          "output_type": "stream",
          "name": "stdout",
          "text": [
            "Requirement already satisfied: torchdata in /usr/local/lib/python3.10/dist-packages (0.7.0)\n",
            "Requirement already satisfied: urllib3>=1.25 in /usr/local/lib/python3.10/dist-packages (from torchdata) (2.0.7)\n",
            "Requirement already satisfied: requests in /usr/local/lib/python3.10/dist-packages (from torchdata) (2.31.0)\n",
            "Requirement already satisfied: torch==2.1.0 in /usr/local/lib/python3.10/dist-packages (from torchdata) (2.1.0+cu118)\n",
            "Requirement already satisfied: filelock in /usr/local/lib/python3.10/dist-packages (from torch==2.1.0->torchdata) (3.13.1)\n",
            "Requirement already satisfied: typing-extensions in /usr/local/lib/python3.10/dist-packages (from torch==2.1.0->torchdata) (4.5.0)\n",
            "Requirement already satisfied: sympy in /usr/local/lib/python3.10/dist-packages (from torch==2.1.0->torchdata) (1.12)\n",
            "Requirement already satisfied: networkx in /usr/local/lib/python3.10/dist-packages (from torch==2.1.0->torchdata) (3.2.1)\n",
            "Requirement already satisfied: jinja2 in /usr/local/lib/python3.10/dist-packages (from torch==2.1.0->torchdata) (3.1.2)\n",
            "Requirement already satisfied: fsspec in /usr/local/lib/python3.10/dist-packages (from torch==2.1.0->torchdata) (2023.6.0)\n",
            "Requirement already satisfied: triton==2.1.0 in /usr/local/lib/python3.10/dist-packages (from torch==2.1.0->torchdata) (2.1.0)\n",
            "Requirement already satisfied: charset-normalizer<4,>=2 in /usr/local/lib/python3.10/dist-packages (from requests->torchdata) (3.3.2)\n",
            "Requirement already satisfied: idna<4,>=2.5 in /usr/local/lib/python3.10/dist-packages (from requests->torchdata) (3.6)\n",
            "Requirement already satisfied: certifi>=2017.4.17 in /usr/local/lib/python3.10/dist-packages (from requests->torchdata) (2023.11.17)\n",
            "Requirement already satisfied: MarkupSafe>=2.0 in /usr/local/lib/python3.10/dist-packages (from jinja2->torch==2.1.0->torchdata) (2.1.3)\n",
            "Requirement already satisfied: mpmath>=0.19 in /usr/local/lib/python3.10/dist-packages (from sympy->torch==2.1.0->torchdata) (1.3.0)\n"
          ]
        }
      ],
      "source": [
        "%pip install torchdata"
      ]
    },
    {
      "cell_type": "code",
      "execution_count": null,
      "id": "_pIBtTh3sOQe",
      "metadata": {
        "id": "_pIBtTh3sOQe",
        "colab": {
          "base_uri": "https://localhost:8080/"
        },
        "outputId": "6fb9f193-0900-4f7c-fcf0-b9f711fe8ef0"
      },
      "outputs": [
        {
          "output_type": "stream",
          "name": "stdout",
          "text": [
            "Requirement already satisfied: torchtext in /usr/local/lib/python3.10/dist-packages (0.16.0)\n",
            "Requirement already satisfied: tqdm in /usr/local/lib/python3.10/dist-packages (from torchtext) (4.66.1)\n",
            "Requirement already satisfied: requests in /usr/local/lib/python3.10/dist-packages (from torchtext) (2.31.0)\n",
            "Requirement already satisfied: torch==2.1.0 in /usr/local/lib/python3.10/dist-packages (from torchtext) (2.1.0+cu118)\n",
            "Requirement already satisfied: numpy in /usr/local/lib/python3.10/dist-packages (from torchtext) (1.23.5)\n",
            "Requirement already satisfied: torchdata==0.7.0 in /usr/local/lib/python3.10/dist-packages (from torchtext) (0.7.0)\n",
            "Requirement already satisfied: filelock in /usr/local/lib/python3.10/dist-packages (from torch==2.1.0->torchtext) (3.13.1)\n",
            "Requirement already satisfied: typing-extensions in /usr/local/lib/python3.10/dist-packages (from torch==2.1.0->torchtext) (4.5.0)\n",
            "Requirement already satisfied: sympy in /usr/local/lib/python3.10/dist-packages (from torch==2.1.0->torchtext) (1.12)\n",
            "Requirement already satisfied: networkx in /usr/local/lib/python3.10/dist-packages (from torch==2.1.0->torchtext) (3.2.1)\n",
            "Requirement already satisfied: jinja2 in /usr/local/lib/python3.10/dist-packages (from torch==2.1.0->torchtext) (3.1.2)\n",
            "Requirement already satisfied: fsspec in /usr/local/lib/python3.10/dist-packages (from torch==2.1.0->torchtext) (2023.6.0)\n",
            "Requirement already satisfied: triton==2.1.0 in /usr/local/lib/python3.10/dist-packages (from torch==2.1.0->torchtext) (2.1.0)\n",
            "Requirement already satisfied: urllib3>=1.25 in /usr/local/lib/python3.10/dist-packages (from torchdata==0.7.0->torchtext) (2.0.7)\n",
            "Requirement already satisfied: charset-normalizer<4,>=2 in /usr/local/lib/python3.10/dist-packages (from requests->torchtext) (3.3.2)\n",
            "Requirement already satisfied: idna<4,>=2.5 in /usr/local/lib/python3.10/dist-packages (from requests->torchtext) (3.6)\n",
            "Requirement already satisfied: certifi>=2017.4.17 in /usr/local/lib/python3.10/dist-packages (from requests->torchtext) (2023.11.17)\n",
            "Requirement already satisfied: MarkupSafe>=2.0 in /usr/local/lib/python3.10/dist-packages (from jinja2->torch==2.1.0->torchtext) (2.1.3)\n",
            "Requirement already satisfied: mpmath>=0.19 in /usr/local/lib/python3.10/dist-packages (from sympy->torch==2.1.0->torchtext) (1.3.0)\n"
          ]
        }
      ],
      "source": [
        "%pip install torchtext"
      ]
    },
    {
      "cell_type": "code",
      "execution_count": null,
      "id": "787e2059",
      "metadata": {
        "id": "787e2059"
      },
      "outputs": [],
      "source": [
        "import torch\n",
        "import torch.nn as nn\n",
        "import torch.optim as optim\n",
        "\n",
        "from torchtext.datasets import UDPOS\n",
        "\n",
        "import numpy as np\n",
        "\n",
        "import time\n",
        "import random\n",
        "from torchtext.vocab import build_vocab_from_iterator\n",
        "from torch.utils.data import DataLoader\n",
        "device = torch.device('cuda' if torch.cuda.is_available() else 'cpu')\n",
        "\n",
        "\n",
        "# for reproducibility\n",
        "random.seed(77)\n",
        "np.random.seed(77)\n",
        "torch.manual_seed(77)\n",
        "torch.backends.cudnn.deterministic = True"
      ]
    },
    {
      "cell_type": "markdown",
      "id": "fc29cb37",
      "metadata": {
        "id": "fc29cb37"
      },
      "source": [
        "### Subtask 1: Data Analysis\n",
        "The very basic components of the torchtext library include `vocab`, `word vectors`, and `tokenizer`. Those are the basic data processing building blocks for the raw text string.\n",
        "In this case, we use the tokenizer and the vocabulary. Use the `build_vocab_from_iterator` to create the vocabulary for the text field and add the `<unk>` and `<pad>` tokens to it. Use a minimal frequency of `2`.\n",
        "Also create a vocabulary for the labels (tag field). However, since the tags are predefined elements, you will not need an `<unk>` token.\n",
        " This dataset actually has two different sets of tags, universal dependency (UD) tags and Penn Treebank (PTB) tags. We train our model on the UD tags, which is the second element on the list of outputs (example below).\n"
      ]
    },
    {
      "cell_type": "code",
      "execution_count": null,
      "id": "IlEFywat4Gva",
      "metadata": {
        "id": "IlEFywat4Gva",
        "colab": {
          "base_uri": "https://localhost:8080/"
        },
        "outputId": "392feff4-5bd9-4031-d554-c3267ffb8305"
      },
      "outputs": [
        {
          "output_type": "stream",
          "name": "stdout",
          "text": [
            "[['Al', '-', 'Zaman', ':', 'American', 'forces', 'killed', 'Shaikh', 'Abdullah', 'al', '-', 'Ani', ',', 'the', 'preacher', 'at', 'the', 'mosque', 'in', 'the', 'town', 'of', 'Qaim', ',', 'near', 'the', 'Syrian', 'border', '.'], ['PROPN', 'PUNCT', 'PROPN', 'PUNCT', 'ADJ', 'NOUN', 'VERB', 'PROPN', 'PROPN', 'PROPN', 'PUNCT', 'PROPN', 'PUNCT', 'DET', 'NOUN', 'ADP', 'DET', 'NOUN', 'ADP', 'DET', 'NOUN', 'ADP', 'PROPN', 'PUNCT', 'ADP', 'DET', 'ADJ', 'NOUN', 'PUNCT'], ['NNP', 'HYPH', 'NNP', ':', 'JJ', 'NNS', 'VBD', 'NNP', 'NNP', 'NNP', 'HYPH', 'NNP', ',', 'DT', 'NN', 'IN', 'DT', 'NN', 'IN', 'DT', 'NN', 'IN', 'NNP', ',', 'IN', 'DT', 'JJ', 'NN', '.']]\n"
          ]
        }
      ],
      "source": [
        "train_iter = iter(UDPOS(split=\"train\"))\n",
        "print(next(train_iter))"
      ]
    },
    {
      "cell_type": "code",
      "execution_count": null,
      "id": "7HJWFvb3AgTI",
      "metadata": {
        "id": "7HJWFvb3AgTI",
        "colab": {
          "base_uri": "https://localhost:8080/"
        },
        "outputId": "e3d821ec-5310-4fa1-8c9d-bcc65cf2378c"
      },
      "outputs": [
        {
          "output_type": "stream",
          "name": "stdout",
          "text": [
            "Number of training examples: 12543\n",
            "Number of validation examples: 2002\n",
            "Number of testing examples: 2077\n"
          ]
        }
      ],
      "source": [
        "print(f\"Number of training examples: {len(list(UDPOS(split='train')))}\")\n",
        "print(f\"Number of validation examples: {len(list(UDPOS(split='valid')))}\")\n",
        "print(f\"Number of testing examples: {len(list(UDPOS(split='test')))}\")"
      ]
    },
    {
      "cell_type": "markdown",
      "id": "RaAW09-n_5DC",
      "metadata": {
        "id": "RaAW09-n_5DC"
      },
      "source": [
        "Note that the data is already tokenized!"
      ]
    },
    {
      "cell_type": "code",
      "execution_count": null,
      "id": "rcG-FcDu5DcA",
      "metadata": {
        "id": "rcG-FcDu5DcA"
      },
      "outputs": [],
      "source": [
        "train_iter = UDPOS(split=\"train\") # to get the training set\n",
        "\n",
        "### your code (make sure pad has id of 0) ####\n",
        "\n",
        "# A helper function to retrieve tokens from the training set\n",
        "def yield_tokens(train_iter, token_type):\n",
        "    for line in train_iter:\n",
        "        if token_type == 'text':\n",
        "            yield line[0]\n",
        "        elif token_type == 'tag':\n",
        "            yield line[1]\n",
        "\n",
        "\n",
        "# Generate the vocabularies for the text part\n",
        "vocab = build_vocab_from_iterator(iterator=yield_tokens(train_iter, token_type='text'), min_freq=2, specials=[\"<pad>\", \"<unk>\"])\n",
        "\n",
        "# Set the default index to the index of \"<unk>\"\n",
        "vocab.set_default_index(vocab[\"<unk>\"])\n",
        "\n",
        "# Generate the vocabularies for the tag part\n",
        "ud_vocab = build_vocab_from_iterator(iterator=yield_tokens(train_iter, token_type='tag'), min_freq=2, specials=[\"<pad>\"])\n",
        "\n",
        "### your code ####\n"
      ]
    },
    {
      "cell_type": "markdown",
      "id": "nzalgc92j2mG",
      "metadata": {
        "id": "nzalgc92j2mG"
      },
      "source": [
        "Prepare a text processing pipeline that takes raw input and labels and converts them to ids."
      ]
    },
    {
      "cell_type": "code",
      "execution_count": null,
      "id": "BDqKYQnRj2D8",
      "metadata": {
        "id": "BDqKYQnRj2D8"
      },
      "outputs": [],
      "source": [
        "text_pipeline = lambda x: vocab(x)\n",
        "label_pipeline = lambda x: ud_vocab(x)"
      ]
    },
    {
      "cell_type": "code",
      "execution_count": null,
      "id": "wg36B2Z_Hdi0",
      "metadata": {
        "id": "wg36B2Z_Hdi0",
        "colab": {
          "base_uri": "https://localhost:8080/"
        },
        "outputId": "8e60d33b-8232-47b1-fc6a-44fe4281242c"
      },
      "outputs": [
        {
          "output_type": "stream",
          "name": "stdout",
          "text": [
            "[3, 9271, 35, 9097, 0, 1]\n",
            "[6, 8, 1, 2]\n"
          ]
        }
      ],
      "source": [
        "print(text_pipeline(['the', 'preacher', 'at', 'mosque', \"<pad>\",\"pppp\"])) #should output [3, 9271, 35, 9097, 0, 1]\n",
        "print(label_pipeline(['DET', 'ADJ', 'NOUN', 'PUNCT'])) # should output [6, 8, 1, 2]"
      ]
    },
    {
      "cell_type": "code",
      "execution_count": null,
      "id": "cjn1qH2dHoaa",
      "metadata": {
        "id": "cjn1qH2dHoaa",
        "colab": {
          "base_uri": "https://localhost:8080/"
        },
        "outputId": "c725638b-4b4a-4055-b095-3ea53fe39d32"
      },
      "outputs": [
        {
          "output_type": "stream",
          "name": "stdout",
          "text": [
            "Unique tokens in input vocabulary: 9875\n",
            "Unique tokens in UD vocabulary: 18\n"
          ]
        }
      ],
      "source": [
        "print(f\"Unique tokens in input vocabulary: {len(vocab)}\")\n",
        "print(f\"Unique tokens in UD vocabulary: {len(ud_vocab)}\")"
      ]
    },
    {
      "cell_type": "markdown",
      "id": "FUnDiAOW-N5S",
      "metadata": {
        "id": "FUnDiAOW-N5S"
      },
      "source": [
        "Write a custom function for the dataloader that applies the text and label pipeline and pads the sequences to have equal lengths."
      ]
    },
    {
      "cell_type": "code",
      "execution_count": null,
      "id": "0aN6s1UhoRhK",
      "metadata": {
        "id": "0aN6s1UhoRhK"
      },
      "outputs": [],
      "source": [
        "from functools import partial\n",
        "\n",
        "def collate_batch(batch, pad_token_ix, pad_token_ix_ud):\n",
        "    ### your code ###\n",
        "\n",
        "    x_padded = [] #padded input\n",
        "\n",
        "    y_padded = [] #padded predictions\n",
        "\n",
        "    for text, ud_tag, ptb_tag in list(batch):\n",
        "\n",
        "        # Storing the IDs of vocabularies in a tensor\n",
        "        processed_text = torch.tensor(vocab(text), dtype=torch.int64)\n",
        "        processed_ud_tag = torch.tensor(ud_vocab(ud_tag), dtype=torch.int64)\n",
        "\n",
        "        # Append the tensors for the corresponding padding list\n",
        "        x_padded.append(processed_text)\n",
        "        y_padded.append(processed_ud_tag)\n",
        "\n",
        "\n",
        "    # Pad each list element with 0, i.e. <pad>\n",
        "    x_padded = nn.utils.rnn.pad_sequence(x_padded, batch_first=True, padding_value=0)\n",
        "    y_padded = nn.utils.rnn.pad_sequence(y_padded, batch_first=True, padding_value=0)\n",
        "\n",
        "\n",
        "    ### your code ###\n",
        "\n",
        "    return x_padded.to(device), y_padded.to(device)\n",
        "\n",
        "collate_fn = partial(collate_batch, pad_token_ix=vocab['<pad>'], pad_token_ix_ud=ud_vocab['<pad>'])\n",
        "\n",
        "\n",
        "train_dataloader = DataLoader(\n",
        "    UDPOS(split=\"train\"), batch_size=128, shuffle=True, collate_fn=collate_fn\n",
        ")\n",
        "valid_dataloader = DataLoader(\n",
        "    UDPOS(split=\"valid\"), batch_size=128, shuffle=True, collate_fn=collate_fn\n",
        ")\n",
        "test_dataloader = DataLoader(\n",
        "    UDPOS(split=\"test\"), batch_size=128, shuffle=True, collate_fn=collate_fn\n",
        ")"
      ]
    },
    {
      "cell_type": "code",
      "execution_count": null,
      "id": "2X8ZZ0J4oek_",
      "metadata": {
        "id": "2X8ZZ0J4oek_",
        "colab": {
          "base_uri": "https://localhost:8080/"
        },
        "outputId": "a8dfcebc-19f7-4e7d-83e2-2c6619a25b63"
      },
      "outputs": [
        {
          "output_type": "stream",
          "name": "stdout",
          "text": [
            "torch.Size([128, 57])\n",
            "torch.Size([128, 57])\n",
            "tensor([1832,   13,   17,  488, 2837,    3, 3074,    1, 5532,  512,   13,   23,\n",
            "          56,  143,    5,  170,  154,  273,   39,  157,  971,   44, 2212,  648,\n",
            "           2,    0,    0,    0,    0,    0,    0,    0,    0,    0,    0,    0,\n",
            "           0,    0,    0,    0,    0,    0,    0,    0,    0,    0,    0,    0,\n",
            "           0,    0,    0,    0,    0,    0,    0,    0,    0], device='cuda:0')\n",
            "tensor([14,  4,  9, 12,  3,  6,  1,  1, 10, 17,  4,  3, 10, 13,  5, 13,  1, 10,\n",
            "        14,  9,  3,  5,  7,  7,  2,  0,  0,  0,  0,  0,  0,  0,  0,  0,  0,  0,\n",
            "         0,  0,  0,  0,  0,  0,  0,  0,  0,  0,  0,  0,  0,  0,  0,  0,  0,  0,\n",
            "         0,  0,  0], device='cuda:0')\n"
          ]
        }
      ],
      "source": [
        "for idx, (label, text) in enumerate(train_dataloader):\n",
        "      print(label.shape)\n",
        "      print(text.shape)\n",
        "      print(label[0])\n",
        "      print(text[0])\n",
        "      break\n"
      ]
    },
    {
      "cell_type": "markdown",
      "id": "jDy_wvjR_1Sg",
      "metadata": {
        "id": "jDy_wvjR_1Sg"
      },
      "source": [
        "Let's take a closer look at the data and the distribution of tags.\n",
        "Implement `tag_percentage`:\n",
        "\n",
        "*   Use the `collection.counter` to count the unique instances of each tag.\n",
        "\n",
        "*    Compute the percentage of each tag in the entire set, by using the counted frequencies.\n",
        "\n"
      ]
    },
    {
      "cell_type": "code",
      "execution_count": null,
      "id": "273JqNZn_rRT",
      "metadata": {
        "id": "273JqNZn_rRT"
      },
      "outputs": [],
      "source": [
        "from collections import Counter\n",
        "\n",
        "def tag_percentage(training_iterator):\n",
        "    counter = Counter()\n",
        "    #### your code to count the number of tags\n",
        "\n",
        "    training_iterator_list = list(training_iterator)\n",
        "\n",
        "    for text, ud_tag, ptb_tag in training_iterator_list:\n",
        "        counter.update(ud_tag)\n",
        "\n",
        "    ###\n",
        "    ### compute the tag percentages based on the counter object\n",
        "\n",
        "    tag_p = [(tag, counter[tag], (counter[tag] / sum(counter.values())) * 100.0) for tag in counter] #precentages\n",
        "    ###\n",
        "    return tag_p"
      ]
    },
    {
      "cell_type": "code",
      "execution_count": null,
      "id": "fWzoEd7h_qRw",
      "metadata": {
        "id": "fWzoEd7h_qRw",
        "colab": {
          "base_uri": "https://localhost:8080/"
        },
        "outputId": "2e352e1e-0ec9-4598-8be5-06f139aa1d0b"
      },
      "outputs": [
        {
          "output_type": "stream",
          "name": "stdout",
          "text": [
            "Tag\t\tCount\t\tPercentage\n",
            "\n",
            "PROPN\t\t12946\t\t632.7%\n",
            "PUNCT\t\t23679\t\t1157.3%\n",
            "ADJ\t\t12477\t\t609.8%\n",
            "NOUN\t\t34781\t\t1699.9%\n",
            "VERB\t\t23081\t\t1128.1%\n",
            "DET\t\t16285\t\t795.9%\n",
            "ADP\t\t17638\t\t862.1%\n",
            "AUX\t\t12343\t\t603.3%\n",
            "PRON\t\t18577\t\t907.9%\n",
            "PART\t\t5567\t\t272.1%\n",
            "SCONJ\t\t3843\t\t187.8%\n",
            "NUM\t\t3999\t\t195.4%\n",
            "ADV\t\t10548\t\t515.5%\n",
            "CCONJ\t\t6707\t\t327.8%\n",
            "X\t\t847\t\t41.4%\n",
            "INTJ\t\t688\t\t33.6%\n",
            "SYM\t\t599\t\t29.3%\n"
          ]
        }
      ],
      "source": [
        "print(\"Tag\\t\\tCount\\t\\tPercentage\\n\")\n",
        "\n",
        "for tag, count, percent in tag_percentage(UDPOS(split='train')):\n",
        "    print(f\"{tag}\\t\\t{count}\\t\\t{percent*100:4.1f}%\")"
      ]
    },
    {
      "cell_type": "markdown",
      "metadata": {
        "id": "dHLSnb2nel8_"
      },
      "source": [
        "####${\\color{red}{Comments\\ 1.1}}$\n",
        "\n",
        "${\\color{red}{⚠️Comments\\ begin⚠️}}$\n",
        "\n",
        "\n",
        "```\n",
        "cross-feedback comment section\n",
        "- The percentage has been miscalculated and is not presented in descending order (-0.5 point)\n",
        "```\n",
        "\n",
        "\n",
        "${\\color{red}{⚠️Comments\\ end⚠️}}$"
      ],
      "id": "dHLSnb2nel8_"
    },
    {
      "cell_type": "markdown",
      "id": "gYHy3vSELfaN",
      "metadata": {
        "id": "gYHy3vSELfaN"
      },
      "source": [
        "### Subtask 2: The Model\n",
        "\n",
        "We start by creating a simple model and then make it more complex in later subtasks. The class `BiLSTMTagger` must subclass the `nn.Module` class of `PyTorch`. Fill the blank in the class by following the notes described below.\n",
        "1.   The input is a sequence of tokens, $X = \\{x_1, x_2,...,x_T\\}$.\n",
        "2.   Each token passes through  an embeddings layer, $e(X) = \\{e(x_1), e(x_2), ..., e(x_T)\\}$. Use `nn.Embedding` for the embedding layer and make sure to pass in the index of the pad token.\n",
        "3. Embedding is processed by forward and backward LSTMs from left to right and right to left.  The first input to the forward LSTM is $x_1$ and the first input to the backward LSTM is $x_T$. The hidden state of LSTMs is dependent on\n",
        "the hidden, $h$, and cell, $c$, states from the previous time-steps:\n",
        "$$h^{\\rightarrow}_t = \\text{LSTM}^{\\rightarrow}(e(x^{\\rightarrow}_t), h^{\\rightarrow}_{t-1}, c^{\\rightarrow}_{t-1})$$\n",
        "$$h^{\\leftarrow}_t=\\text{LSTM}^{\\leftarrow}(e(x^{\\leftarrow}_t), h^{\\leftarrow}_{t-1}, c^{\\leftarrow}_{t-1})$$\n",
        "4. The hidden, $h$, and cell, $c$ of each layer is passed to the next layer, where the $h_0$ and $c_0$, for each direction and layer, are initialized to a tensor full of zeros. Use `nn.LSTM` for LSTM cells. How can you make it bidirectional?\n",
        "5. Final hidden state is the concatenation of forward and backward hidden states from the final layer of the LSTM, $H = \\{h_1, h_2, ... h_T\\}$, where $h_1 = [h^{\\rightarrow}_1;h^{\\leftarrow}_T]$, $h_2 = [h^{\\rightarrow}_2;h^{\\leftarrow}_{T-1}]$. Use `nn.Linear` here.\n",
        "6. The last layer is linear layer $f$, which is used to make the prediction of which tag applies to this token, $\\hat{y}_t = f(h_t)$.\n",
        "7. Define a `nn.Dropout` layer to apply to the embeddings and the outputs of the final layer of the LSTM."
      ]
    },
    {
      "cell_type": "code",
      "execution_count": null,
      "id": "qE4GQE6NJ1k8",
      "metadata": {
        "id": "qE4GQE6NJ1k8"
      },
      "outputs": [],
      "source": [
        "class BiLSTMTagger(nn.Module):\n",
        "    def __init__(self, hyperparameters):\n",
        "      '''\n",
        "      hyperparameters: is a dictionary containing:\n",
        "                 input_dim: dimension of the input\n",
        "                 embedding_dim: dimension of the embedding layer\n",
        "                 lstm_hidden_dim:: dimension of the hidden state of lstms\n",
        "                 output_dim: dimension of the output hidden layer\n",
        "                 n_layers: number of layers to stack\n",
        "                 bidirectional: is the lstm bi-directional\n",
        "                 dropout: probability for the drop out layer\n",
        "                 pad_idx: id of the pad token\n",
        "      '''\n",
        "      super().__init__()\n",
        "       #### your code ####\n",
        "      #embedding layer\n",
        "      self.embedding = nn.Embedding(hyperparameters['input_dim'], hyperparameters['embedding_dim'], padding_idx=hyperparameters['pad_idx'])\n",
        "      #bi-lstm, apply dropout if the number of layers is more than 1\n",
        "      self.lstm = nn.LSTM(hyperparameters['embedding_dim'], hyperparameters['lstm_hidden_dim'], num_layers=hyperparameters['n_layers'], bidirectional=hyperparameters['bidirectional'], dropout=hyperparameters['dropout'] if hyperparameters['n_layers'] > 1 else 0)\n",
        "      self.fc = nn.Linear(hyperparameters['lstm_hidden_dim'] * 2 if hyperparameters['bidirectional'] else hyperparameters['lstm_hidden_dim'], hyperparameters['output_dim'])\n",
        "      self.dropout = nn.Dropout(hyperparameters['dropout'])\n",
        "      #### your code ####\n",
        "    def forward(self, text, debug=False): #(B,S)\n",
        "      '''\n",
        "      S: sentence len\n",
        "      B: batch size\n",
        "      E: embedding size\n",
        "      H: hidden size\n",
        "      O:output size\n",
        "      L: number of layers\n",
        "      '''\n",
        "      #### your code ####\n",
        "      #pass text through embedding layer and a drop out layer\n",
        "      embd = self.dropout(self.embedding(text))\n",
        "\n",
        "\n",
        "      #pass embeddings into bi-LSTM\n",
        "      outputs, (hidden, cell) = self.lstm(embd)\n",
        "\n",
        "      #compute prediction\n",
        "      predictions = self.fc(self.dropout(outputs))\n",
        "      #### your code ####\n",
        "\n",
        "      if debug==True:\n",
        "        print(\"Input shape:\",text.shape)\n",
        "        print(\"Embedding shape:\",embd.shape)\n",
        "        print(\"LSTM output shape:\",outputs.shape)\n",
        "        print(\"LSTM hidden shape:\",hidden.shape)\n",
        "        print(\"LSTM cell shape:\",cell.shape)\n",
        "        print(\"Output shape:\",predictions.shape)\n",
        "\n",
        "      return predictions"
      ]
    },
    {
      "cell_type": "markdown",
      "id": "4OcQbD9LUkD5",
      "metadata": {
        "id": "4OcQbD9LUkD5"
      },
      "source": [
        "Response in plain text:\n",
        "1. Based on the notation defined in the forward function. What is the dimension of `outputs`, `hidden`, and `cell`?"
      ]
    },
    {
      "cell_type": "markdown",
      "id": "ml4KUd1BU3op",
      "metadata": {
        "id": "ml4KUd1BU3op"
      },
      "source": []
    },
    {
      "cell_type": "code",
      "execution_count": null,
      "id": "ivB8Iv4yScVW",
      "metadata": {
        "id": "ivB8Iv4yScVW"
      },
      "outputs": [],
      "source": [
        "hyper_parameters={\n",
        "  'input_dim':  len(vocab),\n",
        "  'embedding_dim': 100,\n",
        "  'lstm_hidden_dim': 128,\n",
        "  'output_dim':len(ud_vocab),\n",
        "  'n_layers': 2 ,\n",
        "  'bidirectional':True,\n",
        "  'dropout': 0.25,\n",
        "  'pad_idx': vocab['<pad>']\n",
        "}\n",
        "model = BiLSTMTagger(hyper_parameters)"
      ]
    },
    {
      "cell_type": "code",
      "execution_count": null,
      "id": "1XvNFfJBV7ya",
      "metadata": {
        "id": "1XvNFfJBV7ya",
        "colab": {
          "base_uri": "https://localhost:8080/"
        },
        "outputId": "79b96bf3-013e-4919-b3bb-4947860997b5"
      },
      "outputs": [
        {
          "output_type": "stream",
          "name": "stdout",
          "text": [
            "Input shape: torch.Size([2, 6])\n",
            "Embedding shape: torch.Size([2, 6, 100])\n",
            "LSTM output shape: torch.Size([2, 6, 256])\n",
            "LSTM hidden shape: torch.Size([4, 6, 128])\n",
            "LSTM cell shape: torch.Size([4, 6, 128])\n",
            "Output shape: torch.Size([2, 6, 18])\n"
          ]
        },
        {
          "output_type": "execute_result",
          "data": {
            "text/plain": [
              "torch.Size([2, 6, 18])"
            ]
          },
          "metadata": {},
          "execution_count": 14
        }
      ],
      "source": [
        "input=torch.tensor([[3, 9271, 35, 9097, 0, 1],\n",
        "                    [3, 9271, 35, 9097, 0, 1]])\n",
        "model(input,debug=True).shape"
      ]
    },
    {
      "cell_type": "markdown",
      "id": "2XiJkG-NfrDV",
      "metadata": {
        "id": "2XiJkG-NfrDV"
      },
      "source": [
        "Weights of the network are initialized randomly, so let's make a more systematic initialization to help us with the optimization. For example,  Xavier Initialization creates weights such that the variance of the activations is the same across every layer. This constant variance helps prevent the gradient from exploding or vanishing. However, it does not apply to bias terms.\n",
        "\n",
        "Create a function that uses Xavier Initialization to initialize the weights of the network, for biases use a normal distribution with a mean of 0 and a standard deviation of 0.1."
      ]
    },
    {
      "cell_type": "code",
      "execution_count": null,
      "id": "PB78pCHpa758",
      "metadata": {
        "id": "PB78pCHpa758",
        "colab": {
          "base_uri": "https://localhost:8080/"
        },
        "outputId": "35286d07-4aec-4147-a879-6199030e728d"
      },
      "outputs": [
        {
          "output_type": "execute_result",
          "data": {
            "text/plain": [
              "BiLSTMTagger(\n",
              "  (embedding): Embedding(9875, 100, padding_idx=0)\n",
              "  (lstm): LSTM(100, 128, num_layers=2, dropout=0.25, bidirectional=True)\n",
              "  (fc): Linear(in_features=256, out_features=18, bias=True)\n",
              "  (dropout): Dropout(p=0.25, inplace=False)\n",
              ")"
            ]
          },
          "metadata": {},
          "execution_count": 15
        }
      ],
      "source": [
        "def init_weights(m):\n",
        "\n",
        "  ### you code ###\n",
        "  for name, param in m.named_parameters():\n",
        "    nn.init.normal_(param.data, mean=0, std=0.1)\n",
        "  ### your code ###\n",
        "model.apply(init_weights)\n",
        "model.to(device)"
      ]
    },
    {
      "cell_type": "markdown",
      "id": "sdPx1mSOgy0V",
      "metadata": {
        "id": "sdPx1mSOgy0V"
      },
      "source": [
        "Let's count the number of trainable parameters in our model."
      ]
    },
    {
      "cell_type": "code",
      "execution_count": null,
      "id": "P5738nU2ew_O",
      "metadata": {
        "id": "P5738nU2ew_O",
        "outputId": "f6dd1bd2-10d9-4420-dca1-4558ebbdb165"
      },
      "outputs": [
        {
          "name": "stdout",
          "output_type": "stream",
          "text": [
            "number of trainable parameters: 1622910\n"
          ]
        }
      ],
      "source": [
        "def count_parameters(model):\n",
        "  ### your code ###\n",
        "  return sum(p.numel() for p in model.parameters() if p.requires_grad)\n",
        "  ### your code ###\n",
        "\n",
        "print(\"number of trainable parameters:\",count_parameters(model))"
      ]
    },
    {
      "cell_type": "markdown",
      "metadata": {
        "id": "ZZhYQJ-del9D"
      },
      "source": [
        "####${\\color{red}{Comments\\ 1.2}}$\n",
        "\n",
        "${\\color{red}{⚠️Comments\\ begin⚠️}}$\n",
        "\n",
        "\n",
        "```\n",
        "cross-feedback comment section\n",
        "- No solution for 1. question in given notations (-0.5)\n",
        "- correct solution for output, hidden cell shapes\n",
        "- Model implementation and forward function correct\n",
        "- No distinction between bias vs weights made(-0.5)\n",
        "- correct num parameters\n",
        "```\n",
        "\n",
        "\n",
        "${\\color{red}{⚠️Comments\\ end⚠️}}$"
      ],
      "id": "ZZhYQJ-del9D"
    },
    {
      "cell_type": "markdown",
      "id": "-lVg08iTd0XN",
      "metadata": {
        "id": "-lVg08iTd0XN"
      },
      "source": [
        "### Subtask 3: Training\n",
        "\n",
        "We start by defining a loss function and an optimizer.\n",
        "\n",
        "\n",
        "*   **optimizer:** We use Adam with the learning rate=0.0001.\n",
        "*   **loss:** We use cross-entropy loss.\n",
        "\n",
        "Even though we have no `<unk>` tokens within our tag vocab, we still have `<pad>` tokens to create batches of the same size. However, we do not want to calculate loss on those tokens, so make sure you define your loss function in such a way that ignores the `<pad>` tokens.\n",
        "\n",
        "\n"
      ]
    },
    {
      "cell_type": "code",
      "execution_count": null,
      "id": "8LEyNeKhmBvK",
      "metadata": {
        "id": "8LEyNeKhmBvK"
      },
      "outputs": [],
      "source": [
        "### your code ###\n",
        "optimizer = optim.Adam(model.parameters(), lr=0.001)\n",
        "loss_function = nn.CrossEntropyLoss(ignore_index=ud_vocab['<pad>'])\n",
        "### your code ###"
      ]
    },
    {
      "cell_type": "markdown",
      "id": "95Cf7ZcVgLHK",
      "metadata": {
        "id": "95Cf7ZcVgLHK"
      },
      "source": [
        "Watching the loss go down as you train a model is a good indication of the correct training procedure, but does not tell us how well we are doing on a given task.\n",
        "To this end, we also implement a categorical accuracy measure to keep track of how well our model is doing on a given task.\n",
        "Same as before: we don't want to calculate accuracy over the `<pad>` tokens as we aren't interested in predicting them.\n",
        "Implement the function `categorical_acc` to compare the prediction of non-pad tokens with labels count the correct ones and calculate the accuracy over a single batch."
      ]
    },
    {
      "cell_type": "code",
      "execution_count": null,
      "id": "J5OpDKuBitk1",
      "metadata": {
        "id": "J5OpDKuBitk1"
      },
      "outputs": [],
      "source": [
        "def categorical_acc(preds, gt, pad_idx):\n",
        "    \"\"\"\n",
        "    Returns categorical accuracy per batch\n",
        "    \"\"\"\n",
        "    ### your code ####\n",
        "    # get the index of the max probability\n",
        "    max_preds = preds.argmax(dim = 1, keepdim = True)\n",
        "    # categorical accuracy\n",
        "    non_pad_elements = (gt != pad_idx).nonzero()\n",
        "    correct = max_preds[non_pad_elements].squeeze(1).eq(gt[non_pad_elements])\n",
        "    temp =  correct.sum() / torch.FloatTensor([gt[non_pad_elements].shape[0]])\n",
        "\n",
        "    return temp\n",
        "     ### your code ####"
      ]
    },
    {
      "cell_type": "code",
      "execution_count": null,
      "id": "WANOhA56kjY_",
      "metadata": {
        "id": "WANOhA56kjY_"
      },
      "outputs": [],
      "source": [
        "dummpy_input=torch.tensor([\n",
        "    [0.9,0,0,0],\n",
        "    [0.1,0.9,0,0],\n",
        "    [0.1,0,0,0.9],\n",
        "    [0.9,0.1,0,0],\n",
        "    [0.1,0.8,0,0]\n",
        "\n",
        "])\n",
        "categorical_acc(dummpy_input, torch.tensor([0,2,3,0,1]), 0)"
      ]
    },
    {
      "cell_type": "markdown",
      "id": "y_wngIs7jFrT",
      "metadata": {
        "id": "y_wngIs7jFrT"
      },
      "source": [
        "Define the `train` model that performs one epoch of training. You can refer to the Tutorial 2 of the course to get a sample workflow. The only difference to the tutorial is that we keep track of the batch-wise accuracy as well as the loss."
      ]
    },
    {
      "cell_type": "code",
      "execution_count": null,
      "id": "kyMs0FJNfGCp",
      "metadata": {
        "id": "kyMs0FJNfGCp"
      },
      "outputs": [],
      "source": [
        "def train(model, dataloader, optimizer, loss_function, pad_idx):\n",
        "\n",
        "    epoch_loss = 0\n",
        "    epoch_acc = 0\n",
        "\n",
        "    model.train()\n",
        "    epoch_start_time = time.time()\n",
        "\n",
        "    for length_dataloader,(text,tags) in enumerate(dataloader):\n",
        "        #### your code ####\n",
        "\n",
        "\n",
        "        #### your code ####\n",
        "    end_time= time.time() - epoch_start_time\n",
        "    return epoch_loss / length_dataloader, epoch_acc / length_dataloader,end_time"
      ]
    },
    {
      "cell_type": "markdown",
      "id": "W0ytUn7vkdcR",
      "metadata": {
        "id": "W0ytUn7vkdcR"
      },
      "source": [
        "It is not enough to only look at the training loss and accuracy, since with more training, we can always do better on the training set, but lose the generalizability to unseen data, a phenomenon known as **overfitting**. Therefore, it is important to check the loss and accuracy on the validation set after each epoch and stop before  overfitting occurs. Moreover, we can use the validation metric as an indication of which checkpoint of our model is the best.\n",
        "\n",
        "Define an `evaluate` function that runs once through the validation set and computes loss and accuracy. **Note:** You should not be updating gradients here and your model should be in evaluation mode."
      ]
    },
    {
      "cell_type": "code",
      "execution_count": null,
      "id": "0CKzEqyAfktd",
      "metadata": {
        "id": "0CKzEqyAfktd"
      },
      "outputs": [],
      "source": [
        "def evaluate(model, dataloader, loss_function, pad_idx):\n",
        "\n",
        "    val_loss = 0\n",
        "    val_acc = 0\n",
        "\n",
        "    ### your code ###\n",
        "\n",
        "     ### your code ###\n",
        "\n",
        "    return val_loss / length_dataloader, val_acc / length_dataloader"
      ]
    },
    {
      "cell_type": "markdown",
      "id": "3AZJidLFnOUW",
      "metadata": {
        "id": "3AZJidLFnOUW"
      },
      "source": [
        "Let's use the functions defined so far and train our model for `30` epochs. We suggest using GPU for this task, as it is quite slow on the CPU. Run the training loop for the given number of epochs and calculate the validation metric at the end of each epoch. Based on the validation loss, save the best checkpoint of the model."
      ]
    },
    {
      "cell_type": "code",
      "execution_count": null,
      "id": "NblN-U0inVYc",
      "metadata": {
        "id": "NblN-U0inVYc"
      },
      "outputs": [],
      "source": [
        "epochs = 30\n",
        "\n",
        "best_valid_loss = float('inf')\n",
        "\n",
        "for epoch in range(epochs):\n",
        "    ### your code ###\n",
        "    train_loss, train_acc, epoch_time =\n",
        "    valid_loss, valid_acc =\n",
        "\n",
        "\n",
        "    ### your code ###\n",
        "    elapsed_mins = int(epoch_time / 60)\n",
        "    elapsed_secs = int(epoch_time - (elapsed_mins * 60))\n",
        "    print(f'Epoch: {epoch+1:02} | Epoch Time: {elapsed_mins}m {elapsed_secs}s')\n",
        "    print(f'\\tTrain Loss: {train_loss:.3f} | Train Acc: {train_acc*100:.2f}%')\n",
        "    print(f'\\t Validation Loss: {valid_loss:.3f} |  Validation Acc: {valid_acc*100:.2f}%')"
      ]
    },
    {
      "cell_type": "markdown",
      "id": "7dXTYFEbHzNL",
      "metadata": {
        "id": "7dXTYFEbHzNL"
      },
      "source": [
        "Question:\n",
        "\n",
        "1. Does overfitting occur? If so, after which epochs?\n",
        "\n",
        "2. How do you detect overfitting?\n"
      ]
    },
    {
      "cell_type": "markdown",
      "id": "9qSbr8CrH9hD",
      "metadata": {
        "id": "9qSbr8CrH9hD"
      },
      "source": [
        "**Answer:**\n",
        "```\n",
        "Write your answer here.\n",
        "```"
      ]
    },
    {
      "cell_type": "markdown",
      "id": "GmqNesqiMISb",
      "metadata": {
        "id": "GmqNesqiMISb"
      },
      "source": [
        "Let's see how well our model is doing on the test set. Load the best checkpoint and calculate the accuracy."
      ]
    },
    {
      "cell_type": "code",
      "execution_count": null,
      "id": "SgCFqby0m8sf",
      "metadata": {
        "id": "SgCFqby0m8sf"
      },
      "outputs": [],
      "source": [
        "#### you code ####\n",
        "\n",
        "#### you code ####\n",
        "test_acc"
      ]
    },
    {
      "cell_type": "markdown",
      "metadata": {
        "id": "XYockWm6el9H"
      },
      "source": [
        "####${\\color{red}{Comments\\ 1.3}}$\n",
        "\n",
        "${\\color{red}{⚠️Comments\\ begin⚠️}}$\n",
        "\n",
        "\n",
        "```\n",
        "cross-feedback comment section\n",
        "- The learning rate is set to 0.001 instead of 0.0001 during initialization.\n",
        "- function train model is missing: zero_grad(), .step() .backward() (-1 point)\n",
        "- loss function is not called (-0.25 point)\n",
        "- loss and accuracy are missing (-0.25 point)\n",
        "- model.eval is not used (-0.25 point)\n",
        "- the rest of the function is not completed (-0.5 point)\n",
        "- the training and validation are not called (-0.25 point)\n",
        "- checkpoint is not saved (-0.25 point)\n",
        "- answer is missing for question 1 (-0.25 point)\n",
        "- answer is missing for question 2 (-0.25 point)\n",
        "- accuracy is not calculated (-0.25 point)\n",
        "```\n",
        "\n",
        "\n",
        "${\\color{red}{⚠️Comments\\ end⚠️}}$"
      ],
      "id": "XYockWm6el9H"
    },
    {
      "cell_type": "markdown",
      "id": "7dPfzmVGMeSO",
      "metadata": {
        "id": "7dPfzmVGMeSO"
      },
      "source": [
        "### Subtask 4: Inference\n",
        "\n",
        "Let's use the model we trained to tag some actual sentences. We have the preprocessing pipeline ready from Subtask 1, now we need to map the predictions back to label texts for each token.\n",
        "\n",
        "Implement the `tag_sequence` function that takes a model and a sentence as input and generates POS tags. Keep in mind that you need to divide the sentence into tokens first. For this purpose, we just split each sentence on whitespaces."
      ]
    },
    {
      "cell_type": "code",
      "execution_count": null,
      "id": "Xe7_ROCyEslD",
      "metadata": {
        "id": "Xe7_ROCyEslD"
      },
      "outputs": [],
      "source": [
        "def tag_sentence(model, sentence):\n",
        "    ### your code ###\n",
        "\n",
        "\n",
        "    predictions = # make predictions on th esentence\n",
        "\n",
        "\n",
        "    predicted_tags = # get the tags\n",
        "    ### your code ###\n",
        "    return predicted_tags"
      ]
    },
    {
      "cell_type": "code",
      "execution_count": null,
      "id": "JtiR75PFRR61",
      "metadata": {
        "id": "JtiR75PFRR61"
      },
      "outputs": [],
      "source": [
        "text=\" \".join(list(UDPOS(split='test'))[0][0])\n",
        "label= list(UDPOS(split='test'))[0][1]\n",
        "predicted_tag=tag_sentence(model,text)\n",
        "print(\"Text: \",text)\n",
        "print(\"Predicted Tags: \",predicted_tag)\n",
        "print(\"True Tags: \",label)"
      ]
    },
    {
      "cell_type": "markdown",
      "metadata": {
        "id": "kueNkHPKel9J"
      },
      "source": [
        "####${\\color{red}{Comments\\ 1.4}}$\n",
        "\n",
        "${\\color{red}{⚠️Comments\\ begin⚠️}}$\n",
        "\n",
        "\n",
        "```\n",
        "cross-feedback comment section\n",
        "- prediction doesn't exist (-0.5)\n",
        "\n",
        "total 11 − 0.5 - 1.0 - 3.5 - 0.5 = 5.5 points\n",
        "```\n",
        "\n",
        "\n",
        "${\\color{red}{⚠️Comments\\ end⚠️}}$"
      ],
      "id": "kueNkHPKel9J"
    },
    {
      "cell_type": "markdown",
      "id": "X4n7Xi4TT_Ww",
      "metadata": {
        "id": "X4n7Xi4TT_Ww"
      },
      "source": [
        "## **Task 2: Theoretical Questions** (0.5+1.5+1+3=6 points)"
      ]
    },
    {
      "cell_type": "markdown",
      "id": "QbQJ3baXUHkQ",
      "metadata": {
        "id": "QbQJ3baXUHkQ"
      },
      "source": [
        "### Subtask 1:\n",
        "In beam search, if you increase the beam width, what will happen to a) the runtime and memory and b) the quality of results?"
      ]
    },
    {
      "cell_type": "markdown",
      "id": "Ei5A-D_djZup",
      "metadata": {
        "id": "Ei5A-D_djZup"
      },
      "source": [
        "**Answer:**\n",
        "\n",
        "\n",
        "```\n",
        "a) Increasing beam width generally increases runtime and memory usage.\n",
        "b) Increasing beam width can improve the quality of results by exploring a larger search space but may also lead to more redundancy.\n",
        "```\n",
        "\n"
      ]
    },
    {
      "cell_type": "markdown",
      "id": "RuzX2q7TywyW",
      "metadata": {
        "id": "RuzX2q7TywyW"
      },
      "source": [
        "####${\\color{red}{Comments\\ 2.1}}$\n",
        "\n",
        "${\\color{red}{⚠️Comments\\ begin⚠️}}$\n",
        "\n",
        "\n",
        "```\n",
        "- a is correct\n",
        "- b is correct\n",
        "```\n",
        "\n",
        "\n",
        "${\\color{red}{⚠️Comments\\ end⚠️}}$"
      ]
    },
    {
      "cell_type": "markdown",
      "id": "N7KlRPnhknbl",
      "metadata": {
        "id": "N7KlRPnhknbl"
      },
      "source": [
        "### Subtask 2:\n",
        "Except for beam search, there are other ways to create a more coherent output for generation tasks, one of which is adding a temperature to the softmax over the vocabulary. Temperature is a hyperparameter that is applied to the input of a softmax to affect the final probabilities. All values in the input are divided by the temperature before going through the softmax. What do you think will happen in these cases:\n",
        "\n",
        "1. A low temperature - below 1\n",
        "2. A high temperature - above 1\n",
        "3. Really small temperature - temperature $→$ 0"
      ]
    },
    {
      "cell_type": "markdown",
      "id": "uxuh5LOFnF3D",
      "metadata": {
        "id": "uxuh5LOFnF3D"
      },
      "source": [
        "**Answer:**\n",
        "```\n",
        "Low temperature (below 1): This will make the probability distribution more peaked. It will emphasize high-probability words and suppress the influence of low-probability words. The generated output is likely to be more focused and deterministic.\n",
        "\n",
        "High temperature (above 1): This will make the probability distribution flatter. It will assign more equal probabilities to a broader range of words, including both high and low-probability words. The generated output is likely to be more diverse but might lack precision.\n",
        "\n",
        "Really small temperature (approaching 0): As the temperature approaches zero, the softmax operation amplifies differences between the input values. This results in a distribution that tends to have a single dominant probability. The output becomes highly deterministic, with a strong focus on the word with the highest probability.\n",
        "\n",
        "\n",
        "\n",
        "```"
      ]
    },
    {
      "cell_type": "markdown",
      "id": "GmW4NNb4yyZF",
      "metadata": {
        "id": "GmW4NNb4yyZF"
      },
      "source": [
        "####${\\color{red}{Comments\\ 2.2}}$\n",
        "\n",
        "${\\color{red}{⚠️Comments\\ begin⚠️}}$\n",
        "\n",
        "\n",
        "```\n",
        "cross-feedback comment section\n",
        "- 1 is correct\n",
        "- 2 is correct\n",
        "- 3 is correct but could've been used better terminology ,for temperature zero case, to describe highly deterministic ---> greedy\n",
        "```\n",
        "\n",
        "\n",
        "${\\color{red}{⚠️Comments\\ end⚠️}}$"
      ]
    },
    {
      "cell_type": "markdown",
      "id": "tM2DmNOwod4r",
      "metadata": {
        "id": "tM2DmNOwod4r"
      },
      "source": [
        "### Subtask 3:\n",
        "Explain what the “bottleneck” of an encoder-decoder RNN is and how attention provides a way to get around this bottleneck."
      ]
    },
    {
      "cell_type": "markdown",
      "id": "DNJ3f_MtdzrM",
      "metadata": {
        "id": "DNJ3f_MtdzrM"
      },
      "source": [
        "**Answer:**\n",
        "```\n",
        "The \"bottleneck\" in an encoder-decoder RNN refers to the fixed-size internal representation (context vector) that the encoder produces for the entire input sequence. This fixed-size representation may struggle to capture all relevant information, especially in long sequences. Attention mechanisms address this bottleneck by allowing the decoder to dynamically focus on different parts of the input sequence when generating each element of the output sequence. This way, attention provides a flexible way to access and utilize the entire input sequence during the decoding process, improving the model's ability to handle long-range dependencies and capture relevant information.\n",
        "```"
      ]
    },
    {
      "cell_type": "markdown",
      "id": "JFUHVF40y0j-",
      "metadata": {
        "id": "JFUHVF40y0j-"
      },
      "source": [
        "####${\\color{red}{Comments\\ 2.3}}$\n",
        "\n",
        "${\\color{red}{⚠️Comments\\ begin⚠️}}$\n",
        "\n",
        "\n",
        "```\n",
        "- the solution correctly describes the bottleneck in RNN and explains advatange of attention for long sequences. It is correct thus.\n",
        "```\n",
        "\n",
        "\n",
        "${\\color{red}{⚠️Comments\\ end⚠️}}$"
      ]
    },
    {
      "cell_type": "markdown",
      "id": "HaHhdLdJehL3",
      "metadata": {
        "id": "HaHhdLdJehL3"
      },
      "source": [
        "### Subtask 4:\n",
        "As mentioned, there are various way to remedy the repetitiveness and incoherence of generation outputs. One of the widely used methods is Nucleus sampling described the paper \"[ The Curious Case of Neural Text DeGeneration](https://arxiv.org/pdf/1904.09751.pdf)\". Read the model section and introduction of the paper and use it as reference to answer the following questions:\n",
        "\n",
        "1. Describe top-k sampling in your own words, no need for mathematical notation.\n",
        "2. Describe Nucleus sampling in your own words, there is not need for mathematical notation.\n",
        "3.  Why is beam search not a good strategy for human-like text generation and why don't these methods suffer from the problem of the beam search?\n"
      ]
    },
    {
      "cell_type": "markdown",
      "id": "9Ojtbn1kgaYE",
      "metadata": {
        "id": "9Ojtbn1kgaYE"
      },
      "source": [
        "**Answer:**\n",
        "```\n",
        "**Top-k Sampling:**\n",
        "In top-k sampling, during the generation process, instead of sampling from the entire vocabulary, only the top-k most likely words are considered. The model's probabilities are calculated for all words, and then the sampling is confined to the k words with the highest probabilities. This helps in limiting the randomness of the generated text and provides a balance between controlled output and diversity.\n",
        "\n",
        "**Nucleus Sampling:**\n",
        "Nucleus sampling is an extension of top-k sampling. Rather than fixing the number of options (k), nucleus sampling involves sampling from the smallest set of words whose cumulative probability exceeds a certain threshold (nucleus probability). This dynamic approach adapts to the changing distribution of word probabilities, allowing for more flexibility in controlling the diversity of generated text.\n",
        "\n",
        "**Beam Search Limitations:**\n",
        "Beam search is a strategy that explores multiple possible sequences during generation and selects the one with the highest overall probability. However, beam search tends to produce outputs that are too focused and may lack diversity. It often converges to a narrow set of possibilities, leading to repetitive and less human-like text.\n",
        "\n",
        "**Advantages of Top-k and Nucleus Sampling:**\n",
        "Top-k and nucleus sampling allow for more diverse and contextually relevant outputs. By not strictly adhering to a fixed beam width, these methods can capture a wider range of possibilities and avoid the narrow focus problem of beam search. They provide a balance between exploring various options and maintaining coherence in the generated text, making them more suitable for human-like text generation.\n",
        "```"
      ]
    },
    {
      "cell_type": "markdown",
      "id": "0wU67Iqpy2rg",
      "metadata": {
        "id": "0wU67Iqpy2rg"
      },
      "source": [
        "####${\\color{red}{Comments\\ 2.4}}$\n",
        "\n",
        "${\\color{red}{⚠️Comments\\ begin⚠️}}$\n",
        "\n",
        "\n",
        "```\n",
        "- 1 is correct\n",
        "- 2 is correct\n",
        "- 3 is incorrect (-1.0), it seems correct in very simple terminology but lacks the explanation with tail distribution. It also fails to address 2nd part of question.\n",
        "\n",
        "\n",
        "total points: 0.5 + 1.5 + 1 + (3-1) = 5\n",
        "```\n",
        "\n",
        "\n",
        "${\\color{red}{⚠️Comments\\ end⚠️}}$"
      ]
    },
    {
      "cell_type": "markdown",
      "id": "IZl0-MMY6MWs",
      "metadata": {
        "id": "IZl0-MMY6MWs"
      },
      "source": [
        "## **Task 3: Scaled Dot-Product Attention** (4+1=5 points)\n",
        "In class, you learned about attention and Transformers as described in the 2017 paper\n",
        "[Attention Is All You Need](https://arxiv.org/abs/1706.03762).\n",
        "The base of the attention module is a scaled dot product with Queries, Keys, and Values.\n",
        "In this task, you will implement a simplified version of scaled dot-product attention and inspired by the translation task, aim to replicate word alignment between English and French.\n",
        "You will not be training the embedding from scratch, we provide you with pre-trained embedding for both languages.\n",
        "However, you need to know the details of scaled dot product attention, which mainly consists of two matrix multiplications and a softmax scaling.\n",
        "Refer to Figure 2 of the [Attention Is All You Need](https://arxiv.org/abs/1706.03762) paper.\n",
        "\n",
        "The inputs of the attention module are Queries, Keys, and Values. Mathematically, attention is defined as follows:\n",
        "\n",
        "$$\n",
        "\\large \\mathrm{Attention}\\left(Q, K, V\\right) = \\mathrm{softmax}\\left(\\frac{QK^{\\top}}{\\sqrt{d_k}}\\right)V\n",
        "$$\n",
        "\n",
        "\n",
        "*   $Q$, $K$, and $V$ are the Queries, Keys, and Values matrices.\n",
        "* $d_k$ is the dimension of the Keys (in practice dimensions of all matrices are the same).\n",
        "*   $QK^{\\top}$ is a measure of the similarity between the Queries and the Keys\n",
        "* softmax transforms the similarity into weights.\n",
        "* Weights multiplied by the Values are the output of the attention, defining how much importance should be given to each token of the input.\n",
        "\n",
        "In the case of self-attention, both Queries and Keys come from the encoder, however, for cross attention between encoder and decoder, decoder states are used as the queries while encoder states are the Keys and Values.\n",
        "In our case, we need the cross attention between one language to another to find the correct alignment.\n"
      ]
    },
    {
      "cell_type": "code",
      "execution_count": null,
      "id": "gOP3Fa8IfkMK",
      "metadata": {
        "id": "gOP3Fa8IfkMK",
        "outputId": "591e515a-17e9-4dcf-87b7-2dc59bb93fe6"
      },
      "outputs": [
        {
          "name": "stdout",
          "output_type": "stream",
          "text": [
            "Collecting matplotlib\n",
            "  Downloading matplotlib-3.8.2-cp310-cp310-win_amd64.whl.metadata (5.9 kB)\n",
            "Collecting contourpy>=1.0.1 (from matplotlib)\n",
            "  Downloading contourpy-1.2.0-cp310-cp310-win_amd64.whl.metadata (5.8 kB)\n",
            "Collecting cycler>=0.10 (from matplotlib)\n",
            "  Downloading cycler-0.12.1-py3-none-any.whl.metadata (3.8 kB)\n",
            "Collecting fonttools>=4.22.0 (from matplotlib)\n",
            "  Downloading fonttools-4.45.1-cp310-cp310-win_amd64.whl.metadata (158 kB)\n",
            "     ---------------------------------------- 0.0/158.4 kB ? eta -:--:--\n",
            "     -------------------------------------- 158.4/158.4 kB 3.2 MB/s eta 0:00:00\n",
            "Collecting kiwisolver>=1.3.1 (from matplotlib)\n",
            "  Downloading kiwisolver-1.4.5-cp310-cp310-win_amd64.whl.metadata (6.5 kB)\n",
            "Requirement already satisfied: numpy<2,>=1.21 in c:\\users\\prdie\\dropbox\\1ws2324\\inlpt\\inlpt\\nlp_env\\lib\\site-packages (from matplotlib) (1.26.2)\n",
            "Requirement already satisfied: packaging>=20.0 in c:\\users\\prdie\\dropbox\\1ws2324\\inlpt\\inlpt\\nlp_env\\lib\\site-packages (from matplotlib) (23.2)\n",
            "Collecting pillow>=8 (from matplotlib)\n",
            "  Downloading Pillow-10.1.0-cp310-cp310-win_amd64.whl.metadata (9.6 kB)\n",
            "Collecting pyparsing>=2.3.1 (from matplotlib)\n",
            "  Downloading pyparsing-3.1.1-py3-none-any.whl.metadata (5.1 kB)\n",
            "Requirement already satisfied: python-dateutil>=2.7 in c:\\users\\prdie\\dropbox\\1ws2324\\inlpt\\inlpt\\nlp_env\\lib\\site-packages (from matplotlib) (2.8.2)\n",
            "Requirement already satisfied: six>=1.5 in c:\\users\\prdie\\dropbox\\1ws2324\\inlpt\\inlpt\\nlp_env\\lib\\site-packages (from python-dateutil>=2.7->matplotlib) (1.16.0)\n",
            "Downloading matplotlib-3.8.2-cp310-cp310-win_amd64.whl (7.6 MB)\n",
            "   ---------------------------------------- 0.0/7.6 MB ? eta -:--:--\n",
            "   --- ------------------------------------ 0.7/7.6 MB 14.8 MB/s eta 0:00:01\n",
            "   ------ --------------------------------- 1.3/7.6 MB 14.0 MB/s eta 0:00:01\n",
            "   --------- ------------------------------ 1.9/7.6 MB 13.5 MB/s eta 0:00:01\n",
            "   ------------- -------------------------- 2.5/7.6 MB 14.5 MB/s eta 0:00:01\n",
            "   ---------------- ----------------------- 3.1/7.6 MB 14.1 MB/s eta 0:00:01\n",
            "   ------------------- -------------------- 3.7/7.6 MB 13.9 MB/s eta 0:00:01\n",
            "   ---------------------- ----------------- 4.3/7.6 MB 13.8 MB/s eta 0:00:01\n",
            "   ------------------------- -------------- 4.9/7.6 MB 13.6 MB/s eta 0:00:01\n",
            "   ---------------------------- ----------- 5.5/7.6 MB 13.5 MB/s eta 0:00:01\n",
            "   ------------------------------- -------- 6.1/7.6 MB 13.0 MB/s eta 0:00:01\n",
            "   ----------------------------------- ---- 6.7/7.6 MB 13.0 MB/s eta 0:00:01\n",
            "   -------------------------------------- - 7.3/7.6 MB 13.0 MB/s eta 0:00:01\n",
            "   ---------------------------------------  7.6/7.6 MB 13.2 MB/s eta 0:00:01\n",
            "   ---------------------------------------- 7.6/7.6 MB 12.5 MB/s eta 0:00:00\n",
            "Downloading contourpy-1.2.0-cp310-cp310-win_amd64.whl (186 kB)\n",
            "   ---------------------------------------- 0.0/186.7 kB ? eta -:--:--\n",
            "   --------------------------------------- 186.7/186.7 kB 11.8 MB/s eta 0:00:00\n",
            "Downloading cycler-0.12.1-py3-none-any.whl (8.3 kB)\n",
            "Downloading fonttools-4.45.1-cp310-cp310-win_amd64.whl (2.2 MB)\n",
            "   ---------------------------------------- 0.0/2.2 MB ? eta -:--:--\n",
            "   ----------- ---------------------------- 0.6/2.2 MB 19.5 MB/s eta 0:00:01\n",
            "   ---------------------- ----------------- 1.2/2.2 MB 15.6 MB/s eta 0:00:01\n",
            "   --------------------------------- ------ 1.8/2.2 MB 14.3 MB/s eta 0:00:01\n",
            "   ---------------------------------------- 2.2/2.2 MB 12.5 MB/s eta 0:00:00\n",
            "Downloading kiwisolver-1.4.5-cp310-cp310-win_amd64.whl (56 kB)\n",
            "   ---------------------------------------- 0.0/56.1 kB ? eta -:--:--\n",
            "   ---------------------------------------- 56.1/56.1 kB ? eta 0:00:00\n",
            "Downloading Pillow-10.1.0-cp310-cp310-win_amd64.whl (2.6 MB)\n",
            "   ---------------------------------------- 0.0/2.6 MB ? eta -:--:--\n",
            "   -------- ------------------------------- 0.6/2.6 MB 18.2 MB/s eta 0:00:01\n",
            "   ------------------ --------------------- 1.2/2.6 MB 15.1 MB/s eta 0:00:01\n",
            "   --------------------------- ------------ 1.8/2.6 MB 14.1 MB/s eta 0:00:01\n",
            "   ------------------------------------ --- 2.4/2.6 MB 13.7 MB/s eta 0:00:01\n",
            "   -------------------------------------- - 2.5/2.6 MB 11.4 MB/s eta 0:00:01\n",
            "   ---------------------------------------- 2.6/2.6 MB 10.4 MB/s eta 0:00:00\n",
            "Downloading pyparsing-3.1.1-py3-none-any.whl (103 kB)\n",
            "   ---------------------------------------- 0.0/103.1 kB ? eta -:--:--\n",
            "   ---------------------------------------- 103.1/103.1 kB 5.8 MB/s eta 0:00:00\n",
            "Installing collected packages: pyparsing, pillow, kiwisolver, fonttools, cycler, contourpy, matplotlib\n",
            "Successfully installed contourpy-1.2.0 cycler-0.12.1 fonttools-4.45.1 kiwisolver-1.4.5 matplotlib-3.8.2 pillow-10.1.0 pyparsing-3.1.1\n",
            "Note: you may need to restart the kernel to use updated packages.\n"
          ]
        }
      ],
      "source": [
        "%pip install matplotlib"
      ]
    },
    {
      "cell_type": "code",
      "execution_count": null,
      "id": "tB6RD3wssHe9",
      "metadata": {
        "id": "tB6RD3wssHe9"
      },
      "outputs": [],
      "source": [
        "import pickle\n",
        "import matplotlib.pyplot as plt\n",
        "import numpy as np\n",
        "#load the dictionaries (dictionary of words to ids)\n",
        "with open(\"./word2int_en.pkl\", \"rb\") as f:\n",
        "    en_dict = pickle.load(f)\n",
        "\n",
        "with open(\"./word2int_fr.pkl\", \"rb\") as f:\n",
        "    fr_dict = pickle.load(f)\n",
        "\n",
        "# load word embeddings (dictionary of token ids to embeddings)\n",
        "en_embeddings = np.load(\"./embeddings_en.npz\")[\"embeddings\"]\n",
        "fr_embeddings = np.load(\"./embeddings_fr.npz\")[\"embeddings\"]\n"
      ]
    },
    {
      "cell_type": "markdown",
      "id": "7VYjN1xHsbYj",
      "metadata": {
        "id": "7VYjN1xHsbYj"
      },
      "source": [
        "### Subtask 1: Attention Weights\n",
        "Fill the blanks in `tokenize` to tokenize a sentence and convert it to ids and `embed` function to create an embedding of a sentence."
      ]
    },
    {
      "cell_type": "code",
      "execution_count": null,
      "id": "cwS_M10nwOBH",
      "metadata": {
        "id": "cwS_M10nwOBH"
      },
      "outputs": [],
      "source": [
        "def tokenize(sentence, token_mapping):\n",
        "    # token_mapping contains 10000 words to their ids\n",
        "    # we stick to simple blank space tokenization\n",
        "    tokenized = []\n",
        "    for word in sentence.lower().split(\" \"):\n",
        "        ### your code ###\n",
        "        # if the word is in token mapping, then take its id from token_mapping\n",
        "        if word in token_mapping:\n",
        "            tokenized.append(token_mapping[word])\n",
        "        else:\n",
        "            # if not in the token mapping, use -1 as id (suggested by Almasian, Shideh)\n",
        "            # print(\"NOT FOUND\")\n",
        "            # print(f\"NOT FOUND {word}\")\n",
        "            tokenized.append(-1)\n",
        "        ### your code ###\n",
        "    return tokenized\n",
        "\n",
        "\n",
        "def embed(tokens, embeddings):\n",
        "    \"\"\" get the embedding for the tokens in a sentence stacked in a simple matrix (sequence length, embedding size)\n",
        "        tokens: tokenized sentence\n",
        "        embeddings: dictionary of token to embeddings.\n",
        "    \"\"\"\n",
        "    embed_size = embeddings.shape[1]\n",
        "    #### your code ####\n",
        "    seq_length = len(tokens)\n",
        "    output = np.zeros((seq_length, embed_size)) # initially everything is 0\n",
        "    for i, token in enumerate(tokens):\n",
        "        if 0 <= token < embeddings.shape[0]: # check if we have an embedding for the given token\n",
        "            output[i] = embeddings[token]\n",
        "        else: # if we do not have an embedding for the token\n",
        "            output[i] = np.zeros(embed_size) # np.random.rand(embed_size) could be used to add a random embedding\n",
        "    #### your code ####\n",
        "    return output"
      ]
    },
    {
      "cell_type": "code",
      "execution_count": null,
      "id": "dkAulXarueT_",
      "metadata": {
        "id": "dkAulXarueT_",
        "outputId": "a797b63e-6d5c-4e70-f197-d847af9f657e"
      },
      "outputs": [
        {
          "name": "stdout",
          "output_type": "stream",
          "text": [
            "Tokenized english: [59, 40, 9355, 6, 158, -1]\n",
            "embedding english: (6, 300)\n",
            "Tokenized french: [21, 73, 192, 16, 8652, -1, 558, -1]\n",
            "embedding french: (8, 300)\n"
          ]
        }
      ],
      "source": [
        "sentence_en = \"there were clouds in my coffeeeeee.\"\n",
        "tokenized_en = tokenize(sentence_en, en_dict)\n",
        "embedded_en = embed(tokenized_en, en_embeddings)\n",
        "print(\"Tokenized english:\",tokenized_en)\n",
        "print(\"embedding english:\",embedded_en.shape)\n",
        "\n",
        "sentence_fr = \"il y avait des nuages ​​dans mon ccafé.\"\n",
        "tokenized_fr = tokenize(sentence_fr, fr_dict)\n",
        "embedded_fr = embed(tokenized_fr, fr_embeddings)\n",
        "print(\"Tokenized french:\",tokenized_fr)\n",
        "print(\"embedding french:\",embedded_fr.shape)"
      ]
    },
    {
      "cell_type": "markdown",
      "id": "WJ58FCMpsHJP",
      "metadata": {
        "id": "WJ58FCMpsHJP"
      },
      "source": [
        "\n",
        "Implement the `softmax` function with `Numpy`.\n"
      ]
    },
    {
      "cell_type": "code",
      "execution_count": null,
      "id": "caOjXfbxon9h",
      "metadata": {
        "id": "caOjXfbxon9h"
      },
      "outputs": [],
      "source": [
        "def softmax(x, axis=0):\n",
        "    \"\"\"\n",
        "    x: input matrix\n",
        "    axis: defines which axis to compute the softmax over 0 for rows and 1 for columns\n",
        "        axis=0 calculates softmax across rows which means each column sums to 1\n",
        "        axis=1 calculates softmax across columns which means each row sums to 1\n",
        "    \"\"\"\n",
        "\n",
        "    #### your code ####\n",
        "    exp_x = np.exp(x - np.max(x, axis=axis, keepdims=True)) # use shifting to avoid overflow\n",
        "    softmax_x = exp_x / np.sum(exp_x, axis=axis, keepdims=True)\n",
        "    #### your code ####\n",
        "\n",
        "    return softmax_x"
      ]
    },
    {
      "cell_type": "code",
      "execution_count": null,
      "id": "kCbjmG49p-v0",
      "metadata": {
        "id": "kCbjmG49p-v0",
        "outputId": "0383897c-8ba3-4f98-e8c8-9e348f542d12"
      },
      "outputs": [
        {
          "data": {
            "text/plain": [
              "1.0"
            ]
          },
          "execution_count": 17,
          "metadata": {},
          "output_type": "execute_result"
        }
      ],
      "source": [
        "w=softmax(np.array([[1,3,4,1], [24,3,2,3]]),axis=0)\n",
        "w.sum(axis=0)[0]"
      ]
    },
    {
      "cell_type": "markdown",
      "id": "oNqtNPB9orLr",
      "metadata": {
        "id": "oNqtNPB9orLr"
      },
      "source": [
        "Use the `softmax` function to calculate the weights.\n",
        "$$ \\mathrm{softmax}\\left(\\frac{QK^{\\top}}{\\sqrt{d_k}}\\right)$$\n",
        "Assume the queries and keys are 2D matrices."
      ]
    },
    {
      "cell_type": "code",
      "execution_count": null,
      "id": "ysRdVCnP7Qir",
      "metadata": {
        "id": "ysRdVCnP7Qir"
      },
      "outputs": [],
      "source": [
        "def calc_weights(queries, keys):\n",
        "    \"\"\"\n",
        "    queries: queries matrix\n",
        "    keys: keys matrix\n",
        "    \"\"\"\n",
        "    #### your code ####\n",
        "    d_k = keys.shape[1]\n",
        "    weights = softmax(np.dot(queries, keys.T) / np.sqrt(d_k), axis=1)\n",
        "    #### your code ####\n",
        "\n",
        "    return weights"
      ]
    },
    {
      "cell_type": "code",
      "execution_count": null,
      "id": "LVYGelEsqsoo",
      "metadata": {
        "id": "LVYGelEsqsoo",
        "outputId": "468a0783-fc66-44c5-ca43-249cf040eeff"
      },
      "outputs": [
        {
          "name": "stdout",
          "output_type": "stream",
          "text": [
            "[[0.19557032 0.80442968]\n",
            " [0.19557032 0.80442968]]\n"
          ]
        },
        {
          "data": {
            "text/plain": [
              "1.0"
            ]
          },
          "execution_count": 19,
          "metadata": {},
          "output_type": "execute_result"
        }
      ],
      "source": [
        "weights=calc_weights(np.array([[1,3],[1,3]]),np.array([[0,3],[2,3]]))\n",
        "print(weights)\n",
        "weights.sum(axis=1)[0]"
      ]
    },
    {
      "cell_type": "markdown",
      "id": "16V5yFAew1Hx",
      "metadata": {
        "id": "16V5yFAew1Hx"
      },
      "source": [
        "Use the `calcu_weights` to compute the attention matrix between two sentences from English and French and visualize the weights to check for alignments."
      ]
    },
    {
      "cell_type": "code",
      "execution_count": null,
      "id": "miW865arw9Fv",
      "metadata": {
        "id": "miW865arw9Fv",
        "outputId": "befb25f8-02af-4b5a-ad25-9d8a045745f8"
      },
      "outputs": [
        {
          "name": "stdout",
          "output_type": "stream",
          "text": [
            "The top allignment is between the words 'nuages' and 'clouds' with a score of 0.09370453641488403\n",
            "The second top allignment is between the words 'café' and 'coffee' with a score of 0.0932135859530074\n"
          ]
        },
        {
          "data": {
            "image/png": "[encoded data removed]",
            "text/plain": [
              "<Figure size 500x500 with 1 Axes>"
            ]
          },
          "metadata": {},
          "output_type": "display_data"
        }
      ],
      "source": [
        "sentence_en = \"there were clouds in my coffee and unicorns in the sky.\"\n",
        "tokenized_en = tokenize(sentence_en, en_dict)\n",
        "embedded_en = embed(tokenized_en, en_embeddings)\n",
        "\n",
        "sentence_fr = \"il y avait des nuages ​​dans mon café et des licornes dans le ciel.\"\n",
        "tokenized_fr = tokenize(sentence_fr, fr_dict)\n",
        "embedded_fr = embed(tokenized_fr, fr_embeddings)\n",
        "\n",
        "alignment = calc_weights(embedded_fr, embedded_en)\n",
        "# visualize weights\n",
        "fig, ax = plt.subplots(figsize=(5,5))\n",
        "ax.imshow(alignment,cmap='gray')\n",
        "ax.xaxis.tick_top()\n",
        "ax.set_xticks(np.arange(alignment.shape[1]))\n",
        "ax.set_xticklabels(sentence_en.split(\" \"), rotation=90, size=12);\n",
        "ax.set_yticks(np.arange(alignment.shape[0]));\n",
        "ax.set_yticklabels(sentence_fr.split(\" \"), size=12);\n",
        "\n",
        "\n",
        "### your code to compute the top-2 ###\n",
        "top1_score = -1\n",
        "top2_score = -2\n",
        "top1_coordinates = [None, None]\n",
        "top2_coordinates = [None, None]\n",
        "for i in range(alignment.shape[0]):\n",
        "    for j in range(alignment.shape[1]):\n",
        "        if alignment[i][j] >= top1_score:\n",
        "            top2_score = top1_score\n",
        "            top2_coordinates = top1_coordinates\n",
        "            top1_score = alignment[i][j]\n",
        "            top1_coordinates = [i, j]\n",
        "        elif alignment[i][j] > top2_score:\n",
        "            top2_score = alignment[i][j]\n",
        "            top2_coordinates = [i, j]\n",
        "\n",
        "\n",
        "top1_words = [sentence_fr.split(\" \")[top1_coordinates[0]], sentence_en.split(\" \")[top1_coordinates[1]]]\n",
        "top2_words = [sentence_fr.split(\" \")[top2_coordinates[0]], sentence_en.split(\" \")[top2_coordinates[1]]]\n",
        "print(f\"The top allignment is between the words '{top1_words[0]}' and '{top1_words[1]}' with a score of {top1_score}\")\n",
        "print(f\"The second top allignment is between the words '{top2_words[0]}' and '{top2_words[1]}' with a score of {top2_score}\")\n",
        "### your code ###"
      ]
    },
    {
      "cell_type": "markdown",
      "id": "0BxnOJJ2xhIZ",
      "metadata": {
        "id": "0BxnOJJ2xhIZ"
      },
      "source": [
        "1. What are the top 2 alignments shown in the figure?\n",
        "2. On the rows you see flat lines for `ciel` and `dans` and `licornes`, why do you think that is?"
      ]
    },
    {
      "cell_type": "markdown",
      "id": "QUwdKXhZxqUP",
      "metadata": {
        "id": "QUwdKXhZxqUP"
      },
      "source": [
        "**Answer:**\n",
        "\n",
        "```\n",
        "1. What are the top 2 alignments shown in the figure?\n",
        "    The top alignment shown in the figure is between the words 'nuages' and 'clouds' with an alignment score of 0.09370453641488403\n",
        "\n",
        "    The second top aligment shown in the figure is between the words 'café' and 'coffee' with an alignment score of 0.0932135859530074\n",
        "    \n",
        "2. On the rows you see flat lines for `ciel` and `dans` and `licornes`, why do you think that is?\n",
        "    I think that is due to the fact that `ciel` and `dans` and `licornes` do not have predefined embeddings and they get the same embedding (zeros) because of not having a predefined emebedding. This makes them unrelated to other words.\n",
        "```"
      ]
    },
    {
      "cell_type": "markdown",
      "id": "C2TnQmsxy70i",
      "metadata": {
        "id": "C2TnQmsxy70i"
      },
      "source": [
        "#### ${\\color{red}{Comments\\ 3.1}}$\n",
        "\n",
        "${\\color{red}{⚠️Comments\\ begin⚠️}}$\n",
        "\n",
        "\n",
        "```\n",
        "✅ Point distribution ✅ 4/4\n",
        "- Tokenization outputs are correct\n",
        "- embedding shapes are correct\n",
        "- Weights are correct and softmax sum is 1.0. (0.5 + 0.5 = 1.0). \n",
        "\n",
        "The provided solution uses a try-except block to handle unknown words, assigning -1 as the token ID.\n",
        "Yours explicitly checks if the word is in the token mapping before assigning its ID.\n",
        "Both solutions initialize the embedding matrix with zeros.\n",
        "Your solution includes a check to ensure that the token ID is within the valid range for embeddings. (0.5 + 0.5 = 1.0)\n",
        "\n",
        "For softmax implementation, the solution is correct and provides the correct output, by modularizing the softmax calculation by using a separate function which may be considered more readable. (0.5 + 0.5 = 1.0)\n",
        "\n",
        "Both solutions are correct in calculating the top-2 alignments. Your solution includes a visualization with numerical row and column labels. It would have been better to visualize it with words. Both Q-A answers are true. You focused on the absence of predefined embeddings, while the provided solution focuses on random embeddings not being sufficient for the attention module. (0.5 + 0.5 = 1.0)\n",
        "\n",
        "\n",
        "```\n",
        "\n",
        "\n",
        "${\\color{red}{⚠️Comments\\ end⚠️}}$"
      ]
    },
    {
      "cell_type": "markdown",
      "id": "eqXwL4MpzW--",
      "metadata": {
        "id": "eqXwL4MpzW--"
      },
      "source": [
        "### Subtask 2: Scaled Dot-product\n",
        "Implement the scaled dot-product attention using the functions from above.\n",
        "\n"
      ]
    },
    {
      "cell_type": "code",
      "execution_count": null,
      "id": "8iQTr4KCzqZk",
      "metadata": {
        "id": "8iQTr4KCzqZk",
        "outputId": "b4afd058-465a-4632-f0fd-1239c59b6fc5"
      },
      "outputs": [
        {
          "name": "stdout",
          "output_type": "stream",
          "text": [
            "(14, 300)\n",
            "[[-0.0077802  -0.00345834 -0.01493142  0.05936939 -0.02286767 -0.00835552\n",
            "   0.00079745 -0.03737862  0.0270674   0.05374082]\n",
            " [-0.00777829 -0.00336843 -0.01498988  0.05937157 -0.02285948 -0.00835695\n",
            "   0.00085725 -0.03740797  0.02706951  0.05377672]]\n"
          ]
        }
      ],
      "source": [
        "def attention(queries, keys, values):\n",
        "    \"\"\"  scaled dot-product attention\n",
        "    queries: query matrix\n",
        "    keys: key matrix\n",
        "    value: value matrix\n",
        "    \"\"\"\n",
        "\n",
        "    #### your code ####\n",
        "    attention = np.dot(calc_weights(queries, keys), values)\n",
        "    #### your code ####\n",
        "    return attention\n",
        "\n",
        "\n",
        "attention_result = attention(embedded_fr, embedded_en, embedded_en)\n",
        "print(attention_result.shape)\n",
        "print(attention_result[0:2,:10])"
      ]
    },
    {
      "cell_type": "markdown",
      "id": "vlwGjAWMy_OX",
      "metadata": {
        "id": "vlwGjAWMy_OX"
      },
      "source": [
        "####${\\color{red}{Comments\\ 3.2}}$\n",
        "\n",
        "${\\color{red}{⚠️Comments\\ begin⚠️}}$\n",
        "\n",
        "\n",
        "```\n",
        "✅ Point distribution ✅ 1/1\n",
        "Solution is correct and produce identical outputs with the provided solution. Attention operation has been applied appropriately, and attention mechanism is functioning as intended. (0.5 + 0.5 = 1.0)\n",
        "\n",
        "\n",
        "Total task 3 points: 4 + 1 = 5\n",
        "```\n",
        "\n",
        "\n",
        "\n",
        "${\\color{red}{⚠️Comments\\ end⚠️}}$"
      ]
    },
    {
      "cell_type": "code",
      "execution_count": null,
      "id": "qDx8DrnVzAR1",
      "metadata": {
        "id": "qDx8DrnVzAR1"
      },
      "outputs": [],
      "source": []
    }
  ],
  "metadata": {
    "accelerator": "GPU",
    "colab": {
      "gpuType": "T4",
      "provenance": [],
      "toc_visible": true
    },
    "kernelspec": {
      "display_name": "Python 3 (ipykernel)",
      "language": "python",
      "name": "python3"
    },
    "language_info": {
      "codemirror_mode": {
        "name": "ipython",
        "version": 3
      },
      "file_extension": ".py",
      "mimetype": "text/x-python",
      "name": "python",
      "nbconvert_exporter": "python",
      "pygments_lexer": "ipython3",
      "version": "3.11.4"
    }
  },
  "nbformat": 4,
  "nbformat_minor": 5
}
