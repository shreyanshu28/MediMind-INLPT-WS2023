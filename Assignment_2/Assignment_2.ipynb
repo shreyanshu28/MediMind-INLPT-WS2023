{
  "cells": [
    {
      "cell_type": "markdown",
      "metadata": {
        "id": "be9f7653"
      },
      "source": [
        "**Heidelberg University**\n",
        "\n",
        "**Data Science  Group**\n",
        "    \n",
        "Prof. Dr. Michael Gertz  \n",
        "\n",
        "Ashish Chouhan, Satya Almasian, John Ziegler, Jayson Salazar, Nicolas Reuter\n",
        "    \n",
        "November 13, 2023\n",
        "    \n",
        "Natural Language Processing with Transformers\n",
        "\n",
        "Winter Semster 2023/2024     \n",
        "***"
      ],
      "id": "be9f7653"
    },
    {
      "cell_type": "markdown",
      "metadata": {
        "id": "258e9648"
      },
      "source": [
        "# **Assignment 2: “Sequence Models”**\n",
        "**Due**: Monday, November 27, 2pm, via [Moodle](https://moodle.uni-heidelberg.de/course/view.php?id=19251)\n",
        "\n"
      ],
      "id": "258e9648"
    },
    {
      "cell_type": "markdown",
      "metadata": {
        "id": "fc27ad9e"
      },
      "source": [
        "### **Submission Guidelines**\n",
        "\n",
        "- Solutions need to be uploaded as a **single** Jupyter notebook. You will find several pre-filled code segments in the notebook, your task is to fill in the missing cells.\n",
        "- For the written solution, use LaTeX in markdown inside the same notebook. Do **not** hand in a separate file for it.\n",
        "- Download the .zip file containing the dataset but do **not** upload it with your solution.\n",
        "- It is sufficient if one person per group uploads the solution to Moodle, but make sure that the complete names of all team members are given in the notebook.\n",
        "\n",
        "***"
      ],
      "id": "fc27ad9e"
    },
    {
      "cell_type": "markdown",
      "metadata": {
        "id": "e322e8b0"
      },
      "source": [
        "## **Task 1: Part-of-Speech Tagging with a Bidirectional LSTM**  (2+4+5=11 points)"
      ],
      "id": "e322e8b0"
    },
    {
      "cell_type": "markdown",
      "metadata": {
        "id": "b4ca26ac"
      },
      "source": [
        "In this task we will be building a sequence tagger that produces an output for every element in an input sequence, using `PyTorch` and `TorchText`, where `TorchText` consists of data processing utilities and popular datasets for natural language.\n",
        "\n",
        "\n",
        "*   **input:** a sequence of text\n",
        "*   **output:** part-of-speech (POS) tag for each token in the input text\n",
        "\n",
        "We tackle this task using a multi-layer bi-directional LSTM (BiLSTM) to predict POS tags using the [Universal Dependencies](https://universaldependencies.org/) English Web Treebank (UDPOS) dataset. This dataset is contained in the `TorchText` library and we do not require an external file for it. The dataset in  `TorchText`  has two different sets of tags, universal dependency (UD) tags and Penn Treebank (PTB) tags. We only focus on the UD tags for this assignment."
      ],
      "id": "b4ca26ac"
    },
    {
      "cell_type": "code",
      "source": [
        "%pip install portalocker"
      ],
      "metadata": {
        "id": "nnBfLC1P5QXw"
      },
      "id": "nnBfLC1P5QXw",
      "execution_count": null,
      "outputs": []
    },
    {
      "cell_type": "code",
      "source": [
        "%pip install torchdata"
      ],
      "metadata": {
        "id": "nT5geerO7d1P"
      },
      "id": "nT5geerO7d1P",
      "execution_count": null,
      "outputs": []
    },
    {
      "cell_type": "code",
      "source": [
        "%pip install torchtext"
      ],
      "metadata": {
        "id": "_pIBtTh3sOQe"
      },
      "id": "_pIBtTh3sOQe",
      "execution_count": null,
      "outputs": []
    },
    {
      "cell_type": "code",
      "execution_count": null,
      "metadata": {
        "id": "787e2059"
      },
      "outputs": [],
      "source": [
        "import torch\n",
        "import torch.nn as nn\n",
        "import torch.optim as optim\n",
        "\n",
        "from torchtext.datasets import UDPOS\n",
        "\n",
        "import numpy as np\n",
        "\n",
        "import time\n",
        "import random\n",
        "from torchtext.vocab import build_vocab_from_iterator\n",
        "from torch.utils.data import DataLoader\n",
        "device = torch.device('cuda' if torch.cuda.is_available() else 'cpu')\n",
        "\n",
        "\n",
        "# for reproducibility\n",
        "random.seed(77)\n",
        "np.random.seed(77)\n",
        "torch.manual_seed(77)\n",
        "torch.backends.cudnn.deterministic = True"
      ],
      "id": "787e2059"
    },
    {
      "cell_type": "markdown",
      "metadata": {
        "id": "fc29cb37"
      },
      "source": [
        "### Subtask 1: Data Analysis\n",
        "The very basic components of the torchtext library include `vocab`, `word vectors`, and `tokenizer`. Those are the basic data processing building blocks for the raw text string.\n",
        "In this case, we use the tokenizer and the vocabulary. Use the `build_vocab_from_iterator` to create the vocabulary for the text field and add the `<unk>` and `<pad>` tokens to it. Use a minimal frequency of `2`.\n",
        "Also create a vocabulary for the labels (tag field). However, since the tags are predefined elements, you will not need an `<unk>` token.\n",
        " This dataset actually has two different sets of tags, universal dependency (UD) tags and Penn Treebank (PTB) tags. We train our model on the UD tags, which is the second element on the list of outputs (example below).\n"
      ],
      "id": "fc29cb37"
    },
    {
      "cell_type": "code",
      "source": [
        "train_iter = iter(UDPOS(split=\"train\"))\n",
        "print(next(train_iter))"
      ],
      "metadata": {
        "id": "IlEFywat4Gva"
      },
      "id": "IlEFywat4Gva",
      "execution_count": null,
      "outputs": []
    },
    {
      "cell_type": "code",
      "source": [
        "print(f\"Number of training examples: {len(list(UDPOS(split='train')))}\")\n",
        "print(f\"Number of validation examples: {len(list(UDPOS(split='valid')))}\")\n",
        "print(f\"Number of testing examples: {len(list(UDPOS(split='test')))}\")"
      ],
      "metadata": {
        "id": "7HJWFvb3AgTI"
      },
      "id": "7HJWFvb3AgTI",
      "execution_count": null,
      "outputs": []
    },
    {
      "cell_type": "markdown",
      "source": [
        "Note that the data is already tokenized!"
      ],
      "metadata": {
        "id": "RaAW09-n_5DC"
      },
      "id": "RaAW09-n_5DC"
    },
    {
      "cell_type": "code",
      "source": [
        "train_iter = UDPOS(split=\"train\") # to get the training set\n",
        "\n",
        "### your code (make sure pad has id of 0) ####\n",
        "vocab =\n",
        "\n",
        "ud_vocab=\n",
        "\n",
        "### your code ####\n"
      ],
      "metadata": {
        "id": "rcG-FcDu5DcA"
      },
      "id": "rcG-FcDu5DcA",
      "execution_count": null,
      "outputs": []
    },
    {
      "cell_type": "markdown",
      "source": [
        "Prepare a text processing pipeline that takes raw input and labels and converts them to ids."
      ],
      "metadata": {
        "id": "nzalgc92j2mG"
      },
      "id": "nzalgc92j2mG"
    },
    {
      "cell_type": "code",
      "source": [
        "text_pipeline = lambda x: vocab(x)\n",
        "label_pipeline = lambda x: ud_vocab(x)"
      ],
      "metadata": {
        "id": "BDqKYQnRj2D8"
      },
      "id": "BDqKYQnRj2D8",
      "execution_count": null,
      "outputs": []
    },
    {
      "cell_type": "code",
      "source": [
        "print(text_pipeline(['the', 'preacher', 'at', 'mosque', \"<pad>\",\"pppp\"])) #should output [3, 9271, 35, 9097, 0, 1]\n",
        "print(label_pipeline(['DET', 'ADJ', 'NOUN', 'PUNCT'])) # should output [6, 8, 1, 2]"
      ],
      "metadata": {
        "id": "wg36B2Z_Hdi0"
      },
      "id": "wg36B2Z_Hdi0",
      "execution_count": null,
      "outputs": []
    },
    {
      "cell_type": "code",
      "source": [
        "print(f\"Unique tokens in input vocabulary: {len(vocab)}\")\n",
        "print(f\"Unique tokens in UD vocabulary: {len(ud_vocab)}\")"
      ],
      "metadata": {
        "id": "cjn1qH2dHoaa"
      },
      "id": "cjn1qH2dHoaa",
      "execution_count": null,
      "outputs": []
    },
    {
      "cell_type": "markdown",
      "source": [
        "Write a custom function for the dataloader that applies the text and label pipeline and pads the sequences to have equal lengths."
      ],
      "metadata": {
        "id": "FUnDiAOW-N5S"
      },
      "id": "FUnDiAOW-N5S"
    },
    {
      "cell_type": "code",
      "source": [
        "from functools import partial\n",
        "\n",
        "def collate_batch(batch, pad_token_ix, pad_token_ix_ud):\n",
        "    ### your code ###\n",
        "\n",
        "    x_padded = #padded input\n",
        "\n",
        "    y_padded = #padded predictions\n",
        "    ### your code ###\n",
        "    return x_padded.to(device), y_padded.to(device)\n",
        "\n",
        "collate_fn = partial(collate_batch, pad_token_ix=vocab['<pad>'], pad_token_ix_ud=ud_vocab['<pad>'])\n",
        "\n",
        "\n",
        "train_dataloader = DataLoader(\n",
        "    UDPOS(split=\"train\"), batch_size=128, shuffle=True, collate_fn=collate_fn\n",
        ")\n",
        "valid_dataloader = DataLoader(\n",
        "    UDPOS(split=\"valid\"), batch_size=128, shuffle=True, collate_fn=collate_fn\n",
        ")\n",
        "test_dataloader = DataLoader(\n",
        "    UDPOS(split=\"test\"), batch_size=128, shuffle=True, collate_fn=collate_fn\n",
        ")"
      ],
      "metadata": {
        "id": "0aN6s1UhoRhK"
      },
      "id": "0aN6s1UhoRhK",
      "execution_count": null,
      "outputs": []
    },
    {
      "cell_type": "code",
      "source": [
        "for idx, (label, text) in enumerate(train_dataloader):\n",
        "      print(label.shape)\n",
        "      print(text.shape)\n",
        "      print(label[0])\n",
        "      print(text[0])\n",
        "      break\n"
      ],
      "metadata": {
        "id": "2X8ZZ0J4oek_"
      },
      "id": "2X8ZZ0J4oek_",
      "execution_count": null,
      "outputs": []
    },
    {
      "cell_type": "markdown",
      "source": [
        "Let's take a closer look at the data and the distribution of tags.\n",
        "Implement `tag_percentage`:\n",
        "\n",
        "*   Use the `collection.counter` to count the unique instances of each tag.\n",
        "\n",
        "*    Compute the percentage of each tag in the entire set, by using the counted frequencies.\n",
        "\n"
      ],
      "metadata": {
        "id": "jDy_wvjR_1Sg"
      },
      "id": "jDy_wvjR_1Sg"
    },
    {
      "cell_type": "code",
      "source": [
        "from collections import Counter\n",
        "\n",
        "def tag_percentage(training_iterator):\n",
        "    counter = Counter()\n",
        "    #### your code to count the number of tags\n",
        "\n",
        "    ###\n",
        "    ### compute the tag percentages based on the counter object\n",
        "\n",
        "    tag_p = #precentages\n",
        "    ###\n",
        "    return tag_p"
      ],
      "metadata": {
        "id": "273JqNZn_rRT"
      },
      "id": "273JqNZn_rRT",
      "execution_count": null,
      "outputs": []
    },
    {
      "cell_type": "code",
      "source": [
        "print(\"Tag\\t\\tCount\\t\\tPercentage\\n\")\n",
        "\n",
        "for tag, count, percent in tag_percentage(UDPOS(split='train')):\n",
        "    print(f\"{tag}\\t\\t{count}\\t\\t{percent*100:4.1f}%\")"
      ],
      "metadata": {
        "id": "fWzoEd7h_qRw"
      },
      "id": "fWzoEd7h_qRw",
      "execution_count": null,
      "outputs": []
    },
    {
      "cell_type": "markdown",
      "source": [
        "####${\\color{red}{Comments\\ 1.1}}$\n",
        "\n",
        "${\\color{red}{⚠️Comments\\ begin⚠️}}$\n",
        "\n",
        "\n",
        "```\n",
        "cross-feedback comment section\n",
        "```\n",
        "\n",
        "\n",
        "${\\color{red}{⚠️Comments\\ end⚠️}}$"
      ],
      "metadata": {
        "id": "GKTQL0EsxSUU"
      },
      "id": "GKTQL0EsxSUU"
    },
    {
      "cell_type": "markdown",
      "source": [
        "### Subtask 2: The Model\n",
        "\n",
        "We start by creating a simple model and then make it more complex in later subtasks. The class `BiLSTMTagger` must subclass the `nn.Module` class of `PyTorch`. Fill the blank in the class by following the notes described below.\n",
        "1.   The input is a sequence of tokens, $X = \\{x_1, x_2,...,x_T\\}$.\n",
        "2.   Each token passes through  an embeddings layer, $e(X) = \\{e(x_1), e(x_2), ..., e(x_T)\\}$. Use `nn.Embedding` for the embedding layer and make sure to pass in the index of the pad token.\n",
        "3. Embedding is processed by forward and backward LSTMs from left to right and right to left.  The first input to the forward LSTM is $x_1$ and the first input to the backward LSTM is $x_T$. The hidden state of LSTMs is dependent on\n",
        "the hidden, $h$, and cell, $c$, states from the previous time-steps:\n",
        "$$h^{\\rightarrow}_t = \\text{LSTM}^{\\rightarrow}(e(x^{\\rightarrow}_t), h^{\\rightarrow}_{t-1}, c^{\\rightarrow}_{t-1})$$\n",
        "$$h^{\\leftarrow}_t=\\text{LSTM}^{\\leftarrow}(e(x^{\\leftarrow}_t), h^{\\leftarrow}_{t-1}, c^{\\leftarrow}_{t-1})$$\n",
        "4. The hidden, $h$, and cell, $c$ of each layer is passed to the next layer, where the $h_0$ and $c_0$, for each direction and layer, are initialized to a tensor full of zeros. Use `nn.LSTM` for LSTM cells. How can you make it bidirectional?\n",
        "5. Final hidden state is the concatenation of forward and backward hidden states from the final layer of the LSTM, $H = \\{h_1, h_2, ... h_T\\}$, where $h_1 = [h^{\\rightarrow}_1;h^{\\leftarrow}_T]$, $h_2 = [h^{\\rightarrow}_2;h^{\\leftarrow}_{T-1}]$. Use `nn.Linear` here.\n",
        "6. The last layer is linear layer $f$, which is used to make the prediction of which tag applies to this token, $\\hat{y}_t = f(h_t)$.\n",
        "7. Define a `nn.Dropout` layer to apply to the embeddings and the outputs of the final layer of the LSTM."
      ],
      "metadata": {
        "id": "gYHy3vSELfaN"
      },
      "id": "gYHy3vSELfaN"
    },
    {
      "cell_type": "code",
      "source": [
        "class BiLSTMTagger(nn.Module):\n",
        "    def __init__(self, hyperparameters):\n",
        "      '''\n",
        "      hyperparameters: is a dictionary containing:\n",
        "                 input_dim: dimension of the input\n",
        "                 embedding_dim: dimension of the embedding layer\n",
        "                 lstm_hidden_dim:: dimension of the hidden state of lstms\n",
        "                 output_dim: dimension of the output hidden layer\n",
        "                 n_layers: number of layers to stack\n",
        "                 bidirectional: is the lstm bi-directional\n",
        "                 dropout: probability for the drop out layer\n",
        "                 pad_idx: id of the pad token\n",
        "      '''\n",
        "      super().__init__()\n",
        "       #### your code ####\n",
        "      #embedding layer\n",
        "      self.embedding =\n",
        "      #bi-lstm, apply dropout if the number of layers is more than 1\n",
        "      self.lstm =\n",
        "      self.fc =\n",
        "      self.dropout =\n",
        "      #### your code ####\n",
        "    def forward(self, text, debug=False): #(B,S)\n",
        "      '''\n",
        "      S: sentence len\n",
        "      B: batch size\n",
        "      E: embedding size\n",
        "      H: hidden size\n",
        "      O:output size\n",
        "      L: number of layers\n",
        "      '''\n",
        "      #### your code ####\n",
        "      #pass text through embedding layer and a drop out layer\n",
        "\n",
        "\n",
        "      #pass embeddings into bi-LSTM\n",
        "\n",
        "\n",
        "      #compute prediction\n",
        "      predictions =\n",
        "      #### your code ####\n",
        "\n",
        "      if debug==True:\n",
        "        print(\"Input shape:\",text.shape)\n",
        "        print(\"Embedding shape:\",embd.shape)\n",
        "        print(\"LSTM output shape:\",outputs.shape)\n",
        "        print(\"LSTM hidden shape:\",hidden.shape)\n",
        "        print(\"LSTM cell shape:\",cell.shape)\n",
        "        print(\"Output shape:\",predictions.shape)\n",
        "\n",
        "      return predictions"
      ],
      "metadata": {
        "id": "qE4GQE6NJ1k8"
      },
      "id": "qE4GQE6NJ1k8",
      "execution_count": null,
      "outputs": []
    },
    {
      "cell_type": "markdown",
      "source": [
        "Response in plain text:\n",
        "1. Based on the notation defined in the forward function. What is the dimension of `outputs`, `hidden`, and `cell`?"
      ],
      "metadata": {
        "id": "4OcQbD9LUkD5"
      },
      "id": "4OcQbD9LUkD5"
    },
    {
      "cell_type": "markdown",
      "source": [],
      "metadata": {
        "id": "ml4KUd1BU3op"
      },
      "id": "ml4KUd1BU3op"
    },
    {
      "cell_type": "code",
      "source": [
        "hyper_parameters={\n",
        "  'input_dim':  len(vocab),\n",
        "  'embedding_dim': 100,\n",
        "  'lstm_hidden_dim': 128,\n",
        "  'output_dim':len(ud_vocab),\n",
        "  'n_layers': 2 ,\n",
        "  'bidirectional':True,\n",
        "  'dropout': 0.25,\n",
        "  'pad_idx': vocab['<pad>']\n",
        "}\n",
        "model = BiLSTMTagger(hyper_parameters)"
      ],
      "metadata": {
        "id": "ivB8Iv4yScVW"
      },
      "id": "ivB8Iv4yScVW",
      "execution_count": null,
      "outputs": []
    },
    {
      "cell_type": "code",
      "source": [
        "input=torch.tensor([[3, 9271, 35, 9097, 0, 1],\n",
        "                    [3, 9271, 35, 9097, 0, 1]])\n",
        "model(input,debug=True).shape"
      ],
      "metadata": {
        "id": "1XvNFfJBV7ya"
      },
      "id": "1XvNFfJBV7ya",
      "execution_count": null,
      "outputs": []
    },
    {
      "cell_type": "markdown",
      "source": [
        "Weights of the network are initialized randomly, so let's make a more systematic initialization to help us with the optimization. For example,  Xavier Initialization creates weights such that the variance of the activations is the same across every layer. This constant variance helps prevent the gradient from exploding or vanishing. However, it does not apply to bias terms.\n",
        "\n",
        "Create a function that uses Xavier Initialization to initialize the weights of the network, for biases use a normal distribution with a mean of 0 and a standard deviation of 0.1."
      ],
      "metadata": {
        "id": "2XiJkG-NfrDV"
      },
      "id": "2XiJkG-NfrDV"
    },
    {
      "cell_type": "code",
      "source": [
        "def init_weights(m):\n",
        "\n",
        "  ### you code ###\n",
        "\n",
        "  ### your code ###\n",
        "model.apply(init_weights)\n",
        "model.to(device)"
      ],
      "metadata": {
        "id": "PB78pCHpa758"
      },
      "id": "PB78pCHpa758",
      "execution_count": null,
      "outputs": []
    },
    {
      "cell_type": "markdown",
      "source": [
        "Let's count the number of trainable parameters in our model."
      ],
      "metadata": {
        "id": "sdPx1mSOgy0V"
      },
      "id": "sdPx1mSOgy0V"
    },
    {
      "cell_type": "code",
      "source": [
        "def count_parameters(model):\n",
        "  ### your code ###\n",
        "\n",
        "  ### your code ###\n",
        "\n",
        "print(\"number of trainable parameters:\",count_parameters(model))"
      ],
      "metadata": {
        "id": "P5738nU2ew_O"
      },
      "id": "P5738nU2ew_O",
      "execution_count": null,
      "outputs": []
    },
    {
      "cell_type": "markdown",
      "source": [
        "####${\\color{red}{Comments\\ 1.2}}$\n",
        "\n",
        "${\\color{red}{⚠️Comments\\ begin⚠️}}$\n",
        "\n",
        "\n",
        "```\n",
        "cross-feedback comment section\n",
        "```\n",
        "\n",
        "\n",
        "${\\color{red}{⚠️Comments\\ end⚠️}}$"
      ],
      "metadata": {
        "id": "91uNA-vnyoUW"
      },
      "id": "91uNA-vnyoUW"
    },
    {
      "cell_type": "markdown",
      "source": [
        "### Subtask 3: Training\n",
        "\n",
        "We start by defining a loss function and an optimizer.\n",
        "\n",
        "\n",
        "*   **optimizer:** We use Adam with the learning rate=0.0001.\n",
        "*   **loss:** We use cross-entropy loss.\n",
        "\n",
        "Even though we have no `<unk>` tokens within our tag vocab, we still have `<pad>` tokens to create batches of the same size. However, we do not want to calculate loss on those tokens, so make sure you define your loss function in such a way that ignores the `<pad>` tokens.\n",
        "\n",
        "\n"
      ],
      "metadata": {
        "id": "-lVg08iTd0XN"
      },
      "id": "-lVg08iTd0XN"
    },
    {
      "cell_type": "code",
      "source": [
        "### your code ###\n",
        "optimizer =\n",
        "loss_function =\n",
        "### your code ###"
      ],
      "metadata": {
        "id": "8LEyNeKhmBvK"
      },
      "id": "8LEyNeKhmBvK",
      "execution_count": null,
      "outputs": []
    },
    {
      "cell_type": "markdown",
      "source": [
        "Watching the loss go down as you train a model is a good indication of the correct training procedure, but does not tell us how well we are doing on a given task.\n",
        "To this end, we also implement a categorical accuracy measure to keep track of how well our model is doing on a given task.\n",
        "Same as before: we don't want to calculate accuracy over the `<pad>` tokens as we aren't interested in predicting them.\n",
        "Implement the function `categorical_acc` to compare the prediction of non-pad tokens with labels count the correct ones and calculate the accuracy over a single batch."
      ],
      "metadata": {
        "id": "95Cf7ZcVgLHK"
      },
      "id": "95Cf7ZcVgLHK"
    },
    {
      "cell_type": "code",
      "source": [
        "def categorical_acc(preds, gt, pad_idx):\n",
        "    \"\"\"\n",
        "    Returns categorical accuracy per batch\n",
        "    \"\"\"\n",
        "    ### your code ####\n",
        "    max_preds =  # get the index of the max probability\n",
        "\n",
        "\n",
        "    return\n",
        "     ### your code ####"
      ],
      "metadata": {
        "id": "J5OpDKuBitk1"
      },
      "id": "J5OpDKuBitk1",
      "execution_count": null,
      "outputs": []
    },
    {
      "cell_type": "code",
      "source": [
        "dummpy_input=torch.tensor([\n",
        "    [0.9,0,0,0],\n",
        "    [0.1,0.9,0,0],\n",
        "    [0.1,0,0,0.9],\n",
        "    [0.9,0.1,0,0],\n",
        "    [0.1,0.8,0,0]\n",
        "\n",
        "])\n",
        "categorical_acc(dummpy_input, torch.tensor([0,2,3,0,1]), 0)"
      ],
      "metadata": {
        "id": "WANOhA56kjY_"
      },
      "id": "WANOhA56kjY_",
      "execution_count": null,
      "outputs": []
    },
    {
      "cell_type": "markdown",
      "source": [
        "Define the `train` model that performs one epoch of training. You can refer to the Tutorial 2 of the course to get a sample workflow. The only difference to the tutorial is that we keep track of the batch-wise accuracy as well as the loss."
      ],
      "metadata": {
        "id": "y_wngIs7jFrT"
      },
      "id": "y_wngIs7jFrT"
    },
    {
      "cell_type": "code",
      "source": [
        "def train(model, dataloader, optimizer, loss_function, pad_idx):\n",
        "\n",
        "    epoch_loss = 0\n",
        "    epoch_acc = 0\n",
        "\n",
        "    model.train()\n",
        "    epoch_start_time = time.time()\n",
        "\n",
        "    for length_dataloader,(text,tags) in enumerate(dataloader):\n",
        "        #### your code ####\n",
        "\n",
        "\n",
        "        #### your code ####\n",
        "    end_time= time.time() - epoch_start_time\n",
        "    return epoch_loss / length_dataloader, epoch_acc / length_dataloader,end_time"
      ],
      "metadata": {
        "id": "kyMs0FJNfGCp"
      },
      "id": "kyMs0FJNfGCp",
      "execution_count": null,
      "outputs": []
    },
    {
      "cell_type": "markdown",
      "source": [
        "It is not enough to only look at the training loss and accuracy, since with more training, we can always do better on the training set, but lose the generalizability to unseen data, a phenomenon known as **overfitting**. Therefore, it is important to check the loss and accuracy on the validation set after each epoch and stop before  overfitting occurs. Moreover, we can use the validation metric as an indication of which checkpoint of our model is the best.\n",
        "\n",
        "Define an `evaluate` function that runs once through the validation set and computes loss and accuracy. **Note:** You should not be updating gradients here and your model should be in evaluation mode."
      ],
      "metadata": {
        "id": "W0ytUn7vkdcR"
      },
      "id": "W0ytUn7vkdcR"
    },
    {
      "cell_type": "code",
      "source": [
        "def evaluate(model, dataloader, loss_function, pad_idx):\n",
        "\n",
        "    val_loss = 0\n",
        "    val_acc = 0\n",
        "\n",
        "    ### your code ###\n",
        "\n",
        "     ### your code ###\n",
        "\n",
        "    return val_loss / length_dataloader, val_acc / length_dataloader"
      ],
      "metadata": {
        "id": "0CKzEqyAfktd"
      },
      "id": "0CKzEqyAfktd",
      "execution_count": null,
      "outputs": []
    },
    {
      "cell_type": "markdown",
      "source": [
        "Let's use the functions defined so far and train our model for `30` epochs. We suggest using GPU for this task, as it is quite slow on the CPU. Run the training loop for the given number of epochs and calculate the validation metric at the end of each epoch. Based on the validation loss, save the best checkpoint of the model."
      ],
      "metadata": {
        "id": "3AZJidLFnOUW"
      },
      "id": "3AZJidLFnOUW"
    },
    {
      "cell_type": "code",
      "source": [
        "epochs = 30\n",
        "\n",
        "best_valid_loss = float('inf')\n",
        "\n",
        "for epoch in range(epochs):\n",
        "    ### your code ###\n",
        "    train_loss, train_acc, epoch_time =\n",
        "    valid_loss, valid_acc =\n",
        "\n",
        "\n",
        "    ### your code ###\n",
        "    elapsed_mins = int(epoch_time / 60)\n",
        "    elapsed_secs = int(epoch_time - (elapsed_mins * 60))\n",
        "    print(f'Epoch: {epoch+1:02} | Epoch Time: {elapsed_mins}m {elapsed_secs}s')\n",
        "    print(f'\\tTrain Loss: {train_loss:.3f} | Train Acc: {train_acc*100:.2f}%')\n",
        "    print(f'\\t Validation Loss: {valid_loss:.3f} |  Validation Acc: {valid_acc*100:.2f}%')"
      ],
      "metadata": {
        "id": "NblN-U0inVYc"
      },
      "id": "NblN-U0inVYc",
      "execution_count": null,
      "outputs": []
    },
    {
      "cell_type": "markdown",
      "source": [
        "Question:\n",
        "\n",
        "1. Does overfitting occur? If so, after which epochs?\n",
        "\n",
        "2. How do you detect overfitting?\n"
      ],
      "metadata": {
        "id": "7dXTYFEbHzNL"
      },
      "id": "7dXTYFEbHzNL"
    },
    {
      "cell_type": "markdown",
      "source": [
        "**Answer:**\n",
        "```\n",
        "Write your answer here.\n",
        "```"
      ],
      "metadata": {
        "id": "9qSbr8CrH9hD"
      },
      "id": "9qSbr8CrH9hD"
    },
    {
      "cell_type": "markdown",
      "source": [
        "Let's see how well our model is doing on the test set. Load the best checkpoint and calculate the accuracy."
      ],
      "metadata": {
        "id": "GmqNesqiMISb"
      },
      "id": "GmqNesqiMISb"
    },
    {
      "cell_type": "code",
      "source": [
        "#### you code ####\n",
        "\n",
        "#### you code ####\n",
        "test_acc"
      ],
      "metadata": {
        "id": "SgCFqby0m8sf"
      },
      "id": "SgCFqby0m8sf",
      "execution_count": null,
      "outputs": []
    },
    {
      "cell_type": "markdown",
      "source": [
        "####${\\color{red}{Comments\\ 1.3}}$\n",
        "\n",
        "${\\color{red}{⚠️Comments\\ begin⚠️}}$\n",
        "\n",
        "\n",
        "```\n",
        "cross-feedback comment section\n",
        "```\n",
        "\n",
        "\n",
        "${\\color{red}{⚠️Comments\\ end⚠️}}$"
      ],
      "metadata": {
        "id": "tMIDBeSFyqJr"
      },
      "id": "tMIDBeSFyqJr"
    },
    {
      "cell_type": "markdown",
      "source": [
        "### Subtask 4: Inference\n",
        "\n",
        "Let's use the model we trained to tag some actual sentences. We have the preprocessing pipeline ready from Subtask 1, now we need to map the predictions back to label texts for each token.\n",
        "\n",
        "Implement the `tag_sequence` function that takes a model and a sentence as input and generates POS tags. Keep in mind that you need to divide the sentence into tokens first. For this purpose, we just split each sentence on whitespaces."
      ],
      "metadata": {
        "id": "7dPfzmVGMeSO"
      },
      "id": "7dPfzmVGMeSO"
    },
    {
      "cell_type": "code",
      "source": [
        "def tag_sentence(model, sentence):\n",
        "    ### your code ###\n",
        "\n",
        "\n",
        "    predictions = # make predictions on th esentence\n",
        "\n",
        "\n",
        "    predicted_tags = # get the tags\n",
        "    ### your code ###\n",
        "    return predicted_tags"
      ],
      "metadata": {
        "id": "Xe7_ROCyEslD"
      },
      "id": "Xe7_ROCyEslD",
      "execution_count": null,
      "outputs": []
    },
    {
      "cell_type": "code",
      "source": [
        "text=\" \".join(list(UDPOS(split='test'))[0][0])\n",
        "label= list(UDPOS(split='test'))[0][1]\n",
        "predicted_tag=tag_sentence(model,text)\n",
        "print(\"Text: \",text)\n",
        "print(\"Predicted Tags: \",predicted_tag)\n",
        "print(\"True Tags: \",label)"
      ],
      "metadata": {
        "id": "JtiR75PFRR61"
      },
      "id": "JtiR75PFRR61",
      "execution_count": null,
      "outputs": []
    },
    {
      "cell_type": "markdown",
      "source": [
        "####${\\color{red}{Comments\\ 1.4}}$\n",
        "\n",
        "${\\color{red}{⚠️Comments\\ begin⚠️}}$\n",
        "\n",
        "\n",
        "```\n",
        "cross-feedback comment section\n",
        "```\n",
        "\n",
        "\n",
        "${\\color{red}{⚠️Comments\\ end⚠️}}$"
      ],
      "metadata": {
        "id": "7bPriv78yuyQ"
      },
      "id": "7bPriv78yuyQ"
    },
    {
      "cell_type": "markdown",
      "source": [
        "## **Task 2: Theoretical Questions** (0.5+1.5+1+3=6 points)"
      ],
      "metadata": {
        "id": "X4n7Xi4TT_Ww"
      },
      "id": "X4n7Xi4TT_Ww"
    },
    {
      "cell_type": "markdown",
      "source": [
        "### Subtask 1:\n",
        "In beam search, if you increase the beam width, what will happen to a) the runtime and memory and b) the quality of results?"
      ],
      "metadata": {
        "id": "QbQJ3baXUHkQ"
      },
      "id": "QbQJ3baXUHkQ"
    },
    {
      "cell_type": "markdown",
      "source": [
        "**Answer:**\n",
        "\n",
        "\n",
        "```\n",
        "Write your answer here.\n",
        "```\n",
        "\n"
      ],
      "metadata": {
        "id": "Ei5A-D_djZup"
      },
      "id": "Ei5A-D_djZup"
    },
    {
      "cell_type": "markdown",
      "source": [
        "####${\\color{red}{Comments\\ 2.1}}$\n",
        "\n",
        "${\\color{red}{⚠️Comments\\ begin⚠️}}$\n",
        "\n",
        "\n",
        "```\n",
        "cross-feedback comment section\n",
        "```\n",
        "\n",
        "\n",
        "${\\color{red}{⚠️Comments\\ end⚠️}}$"
      ],
      "metadata": {
        "id": "RuzX2q7TywyW"
      },
      "id": "RuzX2q7TywyW"
    },
    {
      "cell_type": "markdown",
      "source": [
        "### Subtask 2:\n",
        "Except for beam search, there are other ways to create a more coherent output for generation tasks, one of which is adding a temperature to the softmax over the vocabulary. Temperature is a hyperparameter that is applied to the input of a softmax to affect the final probabilities. All values in the input are divided by the temperature before going through the softmax. What do you think will happen in these cases:\n",
        "\n",
        "1. A low temperature - below 1\n",
        "2. A high temperature - above 1\n",
        "3. Really small temperature - temperature $→$ 0"
      ],
      "metadata": {
        "id": "N7KlRPnhknbl"
      },
      "id": "N7KlRPnhknbl"
    },
    {
      "cell_type": "markdown",
      "source": [
        "**Answer:**\n",
        "```\n",
        "Write your answer here.\n",
        "```"
      ],
      "metadata": {
        "id": "uxuh5LOFnF3D"
      },
      "id": "uxuh5LOFnF3D"
    },
    {
      "cell_type": "markdown",
      "source": [
        "####${\\color{red}{Comments\\ 2.2}}$\n",
        "\n",
        "${\\color{red}{⚠️Comments\\ begin⚠️}}$\n",
        "\n",
        "\n",
        "```\n",
        "cross-feedback comment section\n",
        "```\n",
        "\n",
        "\n",
        "${\\color{red}{⚠️Comments\\ end⚠️}}$"
      ],
      "metadata": {
        "id": "GmW4NNb4yyZF"
      },
      "id": "GmW4NNb4yyZF"
    },
    {
      "cell_type": "markdown",
      "source": [
        "### Subtask 3:\n",
        "Explain what the “bottleneck” of an encoder-decoder RNN is and how attention provides a way to get around this bottleneck."
      ],
      "metadata": {
        "id": "tM2DmNOwod4r"
      },
      "id": "tM2DmNOwod4r"
    },
    {
      "cell_type": "markdown",
      "source": [
        "**Answer:**\n",
        "```\n",
        "Write your answer here.\n",
        "```"
      ],
      "metadata": {
        "id": "DNJ3f_MtdzrM"
      },
      "id": "DNJ3f_MtdzrM"
    },
    {
      "cell_type": "markdown",
      "source": [
        "####${\\color{red}{Comments\\ 2.3}}$\n",
        "\n",
        "${\\color{red}{⚠️Comments\\ begin⚠️}}$\n",
        "\n",
        "\n",
        "```\n",
        "cross-feedback comment section\n",
        "```\n",
        "\n",
        "\n",
        "${\\color{red}{⚠️Comments\\ end⚠️}}$"
      ],
      "metadata": {
        "id": "JFUHVF40y0j-"
      },
      "id": "JFUHVF40y0j-"
    },
    {
      "cell_type": "markdown",
      "source": [
        "### Subtask 4:\n",
        "As mentioned, there are various way to remedy the repetitiveness and incoherence of generation outputs. One of the widely used methods is Nucleus sampling described the paper \"[ The Curious Case of Neural Text DeGeneration](https://arxiv.org/pdf/1904.09751.pdf)\". Read the model section and introduction of the paper and use it as reference to answer the following questions:\n",
        "\n",
        "1. Describe top-k sampling in your own words, no need for mathematical notation.\n",
        "2. Describe Nucleus sampling in your own words, there is not need for mathematical notation.\n",
        "3.  Why is beam search not a good strategy for human-like text generation and why don't these methods suffer from the problem of the beam search?\n"
      ],
      "metadata": {
        "id": "HaHhdLdJehL3"
      },
      "id": "HaHhdLdJehL3"
    },
    {
      "cell_type": "markdown",
      "source": [
        "**Answer:**\n",
        "```\n",
        "Write your answer here.\n",
        "```"
      ],
      "metadata": {
        "id": "9Ojtbn1kgaYE"
      },
      "id": "9Ojtbn1kgaYE"
    },
    {
      "cell_type": "markdown",
      "source": [
        "####${\\color{red}{Comments\\ 2.4}}$\n",
        "\n",
        "${\\color{red}{⚠️Comments\\ begin⚠️}}$\n",
        "\n",
        "\n",
        "```\n",
        "cross-feedback comment section\n",
        "```\n",
        "\n",
        "\n",
        "${\\color{red}{⚠️Comments\\ end⚠️}}$"
      ],
      "metadata": {
        "id": "0wU67Iqpy2rg"
      },
      "id": "0wU67Iqpy2rg"
    },
    {
      "cell_type": "markdown",
      "source": [
        "## **Task 3: Scaled Dot-Product Attention** (4+1=5 points)\n",
        "In class, you learned about attention and Transformers as described in the 2017 paper\n",
        "[Attention Is All You Need](https://arxiv.org/abs/1706.03762).\n",
        "The base of the attention module is a scaled dot product with Queries, Keys, and Values.\n",
        "In this task, you will implement a simplified version of scaled dot-product attention and inspired by the translation task, aim to replicate word alignment between English and French.\n",
        "You will not be training the embedding from scratch, we provide you with pre-trained embedding for both languages.\n",
        "However, you need to know the details of scaled dot product attention, which mainly consists of two matrix multiplications and a softmax scaling.\n",
        "Refer to Figure 2 of the [Attention Is All You Need](https://arxiv.org/abs/1706.03762) paper.\n",
        "\n",
        "The inputs of the attention module are Queries, Keys, and Values. Mathematically, attention is defined as follows:\n",
        "\n",
        "$$\n",
        "\\large \\mathrm{Attention}\\left(Q, K, V\\right) = \\mathrm{softmax}\\left(\\frac{QK^{\\top}}{\\sqrt{d_k}}\\right)V\n",
        "$$\n",
        "\n",
        "\n",
        "*   $Q$, $K$, and $V$ are the Queries, Keys, and Values matrices.\n",
        "* $d_k$ is the dimension of the Keys (in practice dimensions of all matrices are the same).\n",
        "*   $QK^{\\top}$ is a measure of the similarity between the Queries and the Keys\n",
        "* softmax transforms the similarity into weights.\n",
        "* Weights multiplied by the Values are the output of the attention, defining how much importance should be given to each token of the input.\n",
        "\n",
        "In the case of self-attention, both Queries and Keys come from the encoder, however, for cross attention between encoder and decoder, decoder states are used as the queries while encoder states are the Keys and Values.\n",
        "In our case, we need the cross attention between one language to another to find the correct alignment.\n"
      ],
      "metadata": {
        "id": "IZl0-MMY6MWs"
      },
      "id": "IZl0-MMY6MWs"
    },
    {
      "cell_type": "code",
      "source": [
        "%pip install matplotlib"
      ],
      "metadata": {
        "id": "gOP3Fa8IfkMK"
      },
      "id": "gOP3Fa8IfkMK",
      "execution_count": null,
      "outputs": []
    },
    {
      "cell_type": "code",
      "source": [
        "import pickle\n",
        "import matplotlib.pyplot as plt\n",
        "import numpy as np\n",
        "#load the dictionaries (dictionary of words to ids)\n",
        "with open(\"./word2int_en.pkl\", \"rb\") as f:\n",
        "    en_dict = pickle.load(f)\n",
        "\n",
        "with open(\"./word2int_fr.pkl\", \"rb\") as f:\n",
        "    fr_dict = pickle.load(f)\n",
        "\n",
        "# load word embeddings (dictionary of token ids to embeddings)\n",
        "en_embeddings = np.load(\"./embeddings_en.npz\")[\"embeddings\"]\n",
        "fr_embeddings = np.load(\"./embeddings_fr.npz\")[\"embeddings\"]\n"
      ],
      "metadata": {
        "id": "tB6RD3wssHe9"
      },
      "id": "tB6RD3wssHe9",
      "execution_count": null,
      "outputs": []
    },
    {
      "cell_type": "markdown",
      "source": [
        "### Subtask 1: Attention Weights\n",
        "Fill the blanks in `tokenize` to tokenize a sentence and convert it to ids and `embed` function to create an embedding of a sentence."
      ],
      "metadata": {
        "id": "7VYjN1xHsbYj"
      },
      "id": "7VYjN1xHsbYj"
    },
    {
      "cell_type": "code",
      "source": [
        "def tokenize(sentence, token_mapping):\n",
        "   # we stick to simple blank space tokenization\n",
        "   tokenized = []\n",
        "   for word in sentence.lower().split(\" \"):\n",
        "      ### your code ###\n",
        "\n",
        "      ### your code ###\n",
        "   return tokenized\n",
        "\n",
        "def embed(tokens, embeddings):\n",
        "    \"\"\" get the embedding for the tokens in a sentence stacked in a simple matrix (sequence length, embedding size)\n",
        "        tokens: tokenized sentence\n",
        "        embeddings: dictionary of token to embeddings.\n",
        "    \"\"\"\n",
        "    embed_size = embeddings.shape[1]\n",
        "    #### your code ####\n",
        "\n",
        "    #### your code ####\n",
        "\n",
        "    return output"
      ],
      "metadata": {
        "id": "cwS_M10nwOBH"
      },
      "execution_count": null,
      "outputs": [],
      "id": "cwS_M10nwOBH"
    },
    {
      "cell_type": "code",
      "source": [
        "sentence_en = \"there were clouds in my coffeeeeee.\"\n",
        "tokenized_en = tokenize(sentence_en, en_dict)\n",
        "embedded_en = embed(tokenized_en, en_embeddings)\n",
        "print(\"Tokenized english:\",tokenized_en)\n",
        "print(\"embedding english:\",embedded_en.shape)\n",
        "\n",
        "sentence_fr = \"il y avait des nuages ​​dans mon ccafé.\"\n",
        "tokenized_fr = tokenize(sentence_fr, fr_dict)\n",
        "embedded_fr = embed(tokenized_fr, fr_embeddings)\n",
        "print(\"Tokenized french:\",tokenized_fr)\n",
        "print(\"embedding french:\",embedded_fr.shape)"
      ],
      "metadata": {
        "id": "dkAulXarueT_"
      },
      "id": "dkAulXarueT_",
      "execution_count": null,
      "outputs": []
    },
    {
      "cell_type": "markdown",
      "source": [
        "\n",
        "Implement the `softmax` function with `Numpy`.\n"
      ],
      "metadata": {
        "id": "WJ58FCMpsHJP"
      },
      "id": "WJ58FCMpsHJP"
    },
    {
      "cell_type": "code",
      "source": [
        "def softmax(x, axis=0):\n",
        "    \"\"\"\n",
        "    x: input matrix\n",
        "    axis: defines which axis to compute the softmax over 0 for rows and 1 for columns\n",
        "        axis=0 calculates softmax across rows which means each column sums to 1\n",
        "        axis=1 calculates softmax across columns which means each row sums to 1\n",
        "    \"\"\"\n",
        "\n",
        "    #### your code ####\n",
        "    softmax_x=\n",
        "    #### your code ####\n",
        "\n",
        "    return softmax_x"
      ],
      "metadata": {
        "id": "caOjXfbxon9h"
      },
      "id": "caOjXfbxon9h",
      "execution_count": null,
      "outputs": []
    },
    {
      "cell_type": "code",
      "source": [
        "w=softmax(np.array([[1,3,4,1], [24,3,2,3]]),axis=0)\n",
        "w.sum(axis=0)[0]"
      ],
      "metadata": {
        "id": "kCbjmG49p-v0"
      },
      "id": "kCbjmG49p-v0",
      "execution_count": null,
      "outputs": []
    },
    {
      "cell_type": "markdown",
      "source": [
        "Use the `softmax` function to calculate the weights.\n",
        "$$ \\mathrm{softmax}\\left(\\frac{QK^{\\top}}{\\sqrt{d_k}}\\right)$$\n",
        "Assume the queries and keys are 2D matrices."
      ],
      "metadata": {
        "id": "oNqtNPB9orLr"
      },
      "id": "oNqtNPB9orLr"
    },
    {
      "cell_type": "code",
      "source": [
        "def calc_weights(queries, keys):\n",
        "    \"\"\"\n",
        "    queries: queries matrix\n",
        "    keys: keys matrix\n",
        "    \"\"\"\n",
        "    #### your code ####\n",
        "\n",
        "    weights =\n",
        "    #### your code ####\n",
        "\n",
        "    return weights"
      ],
      "metadata": {
        "id": "ysRdVCnP7Qir"
      },
      "id": "ysRdVCnP7Qir",
      "execution_count": null,
      "outputs": []
    },
    {
      "cell_type": "code",
      "source": [
        "weights=calc_weights(np.array([[1,3],[1,3]]),np.array([[0,3],[2,3]]))\n",
        "print(weights)\n",
        "weights.sum(axis=1)[0]"
      ],
      "metadata": {
        "id": "LVYGelEsqsoo"
      },
      "id": "LVYGelEsqsoo",
      "execution_count": null,
      "outputs": []
    },
    {
      "cell_type": "markdown",
      "source": [
        "Use the `calcu_weights` to compute the attention matrix between two sentences from English and French and visualize the weights to check for alignments."
      ],
      "metadata": {
        "id": "16V5yFAew1Hx"
      },
      "id": "16V5yFAew1Hx"
    },
    {
      "cell_type": "code",
      "source": [
        "sentence_en = \"there were clouds in my coffee and unicorns in the sky.\"\n",
        "tokenized_en = tokenize(sentence_en, en_dict)\n",
        "embedded_en = embed(tokenized_en, en_embeddings)\n",
        "\n",
        "sentence_fr = \"il y avait des nuages ​​dans mon café et des licornes dans le ciel.\"\n",
        "tokenized_fr = tokenize(sentence_fr, fr_dict)\n",
        "embedded_fr = embed(tokenized_fr, fr_embeddings)\n",
        "\n",
        "alignment = calc_weights(embedded_fr, embedded_en)\n",
        "# visualize weights\n",
        "fig, ax = plt.subplots(figsize=(5,5))\n",
        "ax.imshow(alignment,cmap='gray')\n",
        "ax.xaxis.tick_top()\n",
        "ax.set_xticks(np.arange(alignment.shape[1]))\n",
        "ax.set_xticklabels(sentence_en.split(\" \"), rotation=90, size=12);\n",
        "ax.set_yticks(np.arange(alignment.shape[0]));\n",
        "ax.set_yticklabels(sentence_fr.split(\" \"), size=12);\n",
        "\n",
        "### your code to compute the top-2 ###\n",
        "\n",
        "### your code ###"
      ],
      "metadata": {
        "id": "miW865arw9Fv"
      },
      "id": "miW865arw9Fv",
      "execution_count": null,
      "outputs": []
    },
    {
      "cell_type": "markdown",
      "source": [
        "1. What are the top 2 alignments shown in the figure?\n",
        "2. On the rows you see flat lines for `ciel` and `dans` and `licornes`, why do you think that is?"
      ],
      "metadata": {
        "id": "0BxnOJJ2xhIZ"
      },
      "id": "0BxnOJJ2xhIZ"
    },
    {
      "cell_type": "markdown",
      "source": [
        "**Answer:**\n",
        "\n",
        "```\n",
        "Write your answer here.\n",
        "```"
      ],
      "metadata": {
        "id": "QUwdKXhZxqUP"
      },
      "id": "QUwdKXhZxqUP"
    },
    {
      "cell_type": "markdown",
      "source": [
        "####${\\color{red}{Comments\\ 3.1}}$\n",
        "\n",
        "${\\color{red}{⚠️Comments\\ begin⚠️}}$\n",
        "\n",
        "\n",
        "```\n",
        "cross-feedback comment section\n",
        "```\n",
        "\n",
        "\n",
        "${\\color{red}{⚠️Comments\\ end⚠️}}$"
      ],
      "metadata": {
        "id": "C2TnQmsxy70i"
      },
      "id": "C2TnQmsxy70i"
    },
    {
      "cell_type": "markdown",
      "source": [
        "### Subtask 2: Scaled Dot-product\n",
        "Implement the scaled dot-product attention using the functions from above.\n",
        "\n"
      ],
      "metadata": {
        "id": "eqXwL4MpzW--"
      },
      "id": "eqXwL4MpzW--"
    },
    {
      "cell_type": "code",
      "source": [
        "def attention(queries, keys, values):\n",
        "    \"\"\"  scaled dot-product attention\n",
        "    queries: query matrix\n",
        "    keys: key matrix\n",
        "    value: value matrix\n",
        "    \"\"\"\n",
        "\n",
        "    #### your code ####\n",
        "\n",
        "    attention =\n",
        "    #### your code ####\n",
        "    return attention\n",
        "\n",
        "\n",
        "attention_result = attention(embedded_fr, embedded_en, embedded_en)\n",
        "print(attention_result.shape)\n",
        "print(attention_result[0:2,:10])"
      ],
      "metadata": {
        "id": "8iQTr4KCzqZk"
      },
      "id": "8iQTr4KCzqZk",
      "execution_count": null,
      "outputs": []
    },
    {
      "cell_type": "markdown",
      "source": [
        "####${\\color{red}{Comments\\ 3.2}}$\n",
        "\n",
        "${\\color{red}{⚠️Comments\\ begin⚠️}}$\n",
        "\n",
        "\n",
        "```\n",
        "cross-feedback comment section\n",
        "```\n",
        "\n",
        "\n",
        "${\\color{red}{⚠️Comments\\ end⚠️}}$"
      ],
      "metadata": {
        "id": "vlwGjAWMy_OX"
      },
      "id": "vlwGjAWMy_OX"
    },
    {
      "cell_type": "code",
      "source": [],
      "metadata": {
        "id": "qDx8DrnVzAR1"
      },
      "id": "qDx8DrnVzAR1",
      "execution_count": null,
      "outputs": []
    }
  ],
  "metadata": {
    "colab": {
      "provenance": [],
      "gpuType": "T4",
      "toc_visible": true
    },
    "kernelspec": {
      "display_name": "Python 3",
      "name": "python3"
    },
    "language_info": {
      "codemirror_mode": {
        "name": "ipython",
        "version": 3
      },
      "file_extension": ".py",
      "mimetype": "text/x-python",
      "name": "python",
      "nbconvert_exporter": "python",
      "pygments_lexer": "ipython3",
      "version": "3.11.5"
    },
    "accelerator": "GPU"
  },
  "nbformat": 4,
  "nbformat_minor": 5
}