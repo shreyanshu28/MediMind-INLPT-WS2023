{
  "cells": [
    {
      "cell_type": "markdown",
      "id": "be9f7653",
      "metadata": {
        "id": "be9f7653"
      },
      "source": [
        "**Heidelberg University**\n",
        "\n",
        "**Data Science  Group**\n",
        "    \n",
        "Prof. Dr. Michael Gertz  \n",
        "\n",
        "Ashish Chouhan, Satya Almasian, John Ziegler, Jayson Salazar, Nicolas Reuter\n",
        "    \n",
        "November 13, 2023\n",
        "    \n",
        "Natural Language Processing with Transformers\n",
        "\n",
        "Winter Semster 2023/2024     \n",
        "***"
      ]
    },
    {
      "cell_type": "markdown",
      "id": "258e9648",
      "metadata": {
        "id": "258e9648"
      },
      "source": [
        "# **Assignment 2: “Sequence Models”**\n",
        "**Due**: Monday, November 27, 2pm, via [Moodle](https://moodle.uni-heidelberg.de/course/view.php?id=19251)\n",
        "\n"
      ]
    },
    {
      "cell_type": "markdown",
      "id": "fc27ad9e",
      "metadata": {
        "id": "fc27ad9e"
      },
      "source": [
        "### **Submission Guidelines**\n",
        "\n",
        "- Solutions need to be uploaded as a **single** Jupyter notebook. You will find several pre-filled code segments in the notebook, your task is to fill in the missing cells.\n",
        "- For the written solution, use LaTeX in markdown inside the same notebook. Do **not** hand in a separate file for it.\n",
        "- Download the .zip file containing the dataset but do **not** upload it with your solution.\n",
        "- It is sufficient if one person per group uploads the solution to Moodle, but make sure that the complete names of all team members are given in the notebook.\n",
        "\n",
        "***"
      ]
    },
    {
      "cell_type": "markdown",
      "id": "e322e8b0",
      "metadata": {
        "id": "e322e8b0"
      },
      "source": [
        "## **Task 1: Part-of-Speech Tagging with a Bidirectional LSTM**  (2+4+5=11 points)"
      ]
    },
    {
      "cell_type": "markdown",
      "id": "b4ca26ac",
      "metadata": {
        "id": "b4ca26ac"
      },
      "source": [
        "In this task we will be building a sequence tagger that produces an output for every element in an input sequence, using `PyTorch` and `TorchText`, where `TorchText` consists of data processing utilities and popular datasets for natural language.\n",
        "\n",
        "\n",
        "*   **input:** a sequence of text\n",
        "*   **output:** part-of-speech (POS) tag for each token in the input text\n",
        "\n",
        "We tackle this task using a multi-layer bi-directional LSTM (BiLSTM) to predict POS tags using the [Universal Dependencies](https://universaldependencies.org/) English Web Treebank (UDPOS) dataset. This dataset is contained in the `TorchText` library and we do not require an external file for it. The dataset in  `TorchText`  has two different sets of tags, universal dependency (UD) tags and Penn Treebank (PTB) tags. We only focus on the UD tags for this assignment."
      ]
    },
    {
      "cell_type": "code",
      "execution_count": 1,
      "id": "nnBfLC1P5QXw",
      "metadata": {
        "id": "nnBfLC1P5QXw",
        "colab": {
          "base_uri": "https://localhost:8080/"
        },
        "outputId": "2c4287f3-696f-4c41-da8a-0f0264433bc9"
      },
      "outputs": [
        {
          "output_type": "stream",
          "name": "stdout",
          "text": [
            "Requirement already satisfied: portalocker in /usr/local/lib/python3.10/dist-packages (2.8.2)\n"
          ]
        }
      ],
      "source": [
        "%pip install portalocker"
      ]
    },
    {
      "cell_type": "code",
      "execution_count": 2,
      "id": "nT5geerO7d1P",
      "metadata": {
        "id": "nT5geerO7d1P",
        "colab": {
          "base_uri": "https://localhost:8080/"
        },
        "outputId": "c12de069-e570-4d77-815a-81a416b93712"
      },
      "outputs": [
        {
          "output_type": "stream",
          "name": "stdout",
          "text": [
            "Requirement already satisfied: torchdata in /usr/local/lib/python3.10/dist-packages (0.7.1)\n",
            "Requirement already satisfied: urllib3>=1.25 in /usr/local/lib/python3.10/dist-packages (from torchdata) (2.0.7)\n",
            "Requirement already satisfied: requests in /usr/local/lib/python3.10/dist-packages (from torchdata) (2.31.0)\n",
            "Requirement already satisfied: torch>=2 in /usr/local/lib/python3.10/dist-packages (from torchdata) (2.1.1)\n",
            "Requirement already satisfied: filelock in /usr/local/lib/python3.10/dist-packages (from torch>=2->torchdata) (3.13.1)\n",
            "Requirement already satisfied: typing-extensions in /usr/local/lib/python3.10/dist-packages (from torch>=2->torchdata) (4.5.0)\n",
            "Requirement already satisfied: sympy in /usr/local/lib/python3.10/dist-packages (from torch>=2->torchdata) (1.12)\n",
            "Requirement already satisfied: networkx in /usr/local/lib/python3.10/dist-packages (from torch>=2->torchdata) (3.2.1)\n",
            "Requirement already satisfied: jinja2 in /usr/local/lib/python3.10/dist-packages (from torch>=2->torchdata) (3.1.2)\n",
            "Requirement already satisfied: fsspec in /usr/local/lib/python3.10/dist-packages (from torch>=2->torchdata) (2023.6.0)\n",
            "Requirement already satisfied: nvidia-cuda-nvrtc-cu12==12.1.105 in /usr/local/lib/python3.10/dist-packages (from torch>=2->torchdata) (12.1.105)\n",
            "Requirement already satisfied: nvidia-cuda-runtime-cu12==12.1.105 in /usr/local/lib/python3.10/dist-packages (from torch>=2->torchdata) (12.1.105)\n",
            "Requirement already satisfied: nvidia-cuda-cupti-cu12==12.1.105 in /usr/local/lib/python3.10/dist-packages (from torch>=2->torchdata) (12.1.105)\n",
            "Requirement already satisfied: nvidia-cudnn-cu12==8.9.2.26 in /usr/local/lib/python3.10/dist-packages (from torch>=2->torchdata) (8.9.2.26)\n",
            "Requirement already satisfied: nvidia-cublas-cu12==12.1.3.1 in /usr/local/lib/python3.10/dist-packages (from torch>=2->torchdata) (12.1.3.1)\n",
            "Requirement already satisfied: nvidia-cufft-cu12==11.0.2.54 in /usr/local/lib/python3.10/dist-packages (from torch>=2->torchdata) (11.0.2.54)\n",
            "Requirement already satisfied: nvidia-curand-cu12==10.3.2.106 in /usr/local/lib/python3.10/dist-packages (from torch>=2->torchdata) (10.3.2.106)\n",
            "Requirement already satisfied: nvidia-cusolver-cu12==11.4.5.107 in /usr/local/lib/python3.10/dist-packages (from torch>=2->torchdata) (11.4.5.107)\n",
            "Requirement already satisfied: nvidia-cusparse-cu12==12.1.0.106 in /usr/local/lib/python3.10/dist-packages (from torch>=2->torchdata) (12.1.0.106)\n",
            "Requirement already satisfied: nvidia-nccl-cu12==2.18.1 in /usr/local/lib/python3.10/dist-packages (from torch>=2->torchdata) (2.18.1)\n",
            "Requirement already satisfied: nvidia-nvtx-cu12==12.1.105 in /usr/local/lib/python3.10/dist-packages (from torch>=2->torchdata) (12.1.105)\n",
            "Requirement already satisfied: triton==2.1.0 in /usr/local/lib/python3.10/dist-packages (from torch>=2->torchdata) (2.1.0)\n",
            "Requirement already satisfied: nvidia-nvjitlink-cu12 in /usr/local/lib/python3.10/dist-packages (from nvidia-cusolver-cu12==11.4.5.107->torch>=2->torchdata) (12.3.101)\n",
            "Requirement already satisfied: charset-normalizer<4,>=2 in /usr/local/lib/python3.10/dist-packages (from requests->torchdata) (3.3.2)\n",
            "Requirement already satisfied: idna<4,>=2.5 in /usr/local/lib/python3.10/dist-packages (from requests->torchdata) (3.4)\n",
            "Requirement already satisfied: certifi>=2017.4.17 in /usr/local/lib/python3.10/dist-packages (from requests->torchdata) (2023.7.22)\n",
            "Requirement already satisfied: MarkupSafe>=2.0 in /usr/local/lib/python3.10/dist-packages (from jinja2->torch>=2->torchdata) (2.1.3)\n",
            "Requirement already satisfied: mpmath>=0.19 in /usr/local/lib/python3.10/dist-packages (from sympy->torch>=2->torchdata) (1.3.0)\n"
          ]
        }
      ],
      "source": [
        "%pip install torchdata"
      ]
    },
    {
      "cell_type": "code",
      "execution_count": 3,
      "id": "_pIBtTh3sOQe",
      "metadata": {
        "id": "_pIBtTh3sOQe",
        "colab": {
          "base_uri": "https://localhost:8080/"
        },
        "outputId": "d55a27d3-3bc4-40d8-b6b6-ebc6dbdcd803"
      },
      "outputs": [
        {
          "output_type": "stream",
          "name": "stdout",
          "text": [
            "Requirement already satisfied: torchtext in /usr/local/lib/python3.10/dist-packages (0.16.1)\n",
            "Requirement already satisfied: tqdm in /usr/local/lib/python3.10/dist-packages (from torchtext) (4.66.1)\n",
            "Requirement already satisfied: requests in /usr/local/lib/python3.10/dist-packages (from torchtext) (2.31.0)\n",
            "Requirement already satisfied: torch==2.1.1 in /usr/local/lib/python3.10/dist-packages (from torchtext) (2.1.1)\n",
            "Requirement already satisfied: numpy in /usr/local/lib/python3.10/dist-packages (from torchtext) (1.23.5)\n",
            "Requirement already satisfied: torchdata==0.7.1 in /usr/local/lib/python3.10/dist-packages (from torchtext) (0.7.1)\n",
            "Requirement already satisfied: filelock in /usr/local/lib/python3.10/dist-packages (from torch==2.1.1->torchtext) (3.13.1)\n",
            "Requirement already satisfied: typing-extensions in /usr/local/lib/python3.10/dist-packages (from torch==2.1.1->torchtext) (4.5.0)\n",
            "Requirement already satisfied: sympy in /usr/local/lib/python3.10/dist-packages (from torch==2.1.1->torchtext) (1.12)\n",
            "Requirement already satisfied: networkx in /usr/local/lib/python3.10/dist-packages (from torch==2.1.1->torchtext) (3.2.1)\n",
            "Requirement already satisfied: jinja2 in /usr/local/lib/python3.10/dist-packages (from torch==2.1.1->torchtext) (3.1.2)\n",
            "Requirement already satisfied: fsspec in /usr/local/lib/python3.10/dist-packages (from torch==2.1.1->torchtext) (2023.6.0)\n",
            "Requirement already satisfied: nvidia-cuda-nvrtc-cu12==12.1.105 in /usr/local/lib/python3.10/dist-packages (from torch==2.1.1->torchtext) (12.1.105)\n",
            "Requirement already satisfied: nvidia-cuda-runtime-cu12==12.1.105 in /usr/local/lib/python3.10/dist-packages (from torch==2.1.1->torchtext) (12.1.105)\n",
            "Requirement already satisfied: nvidia-cuda-cupti-cu12==12.1.105 in /usr/local/lib/python3.10/dist-packages (from torch==2.1.1->torchtext) (12.1.105)\n",
            "Requirement already satisfied: nvidia-cudnn-cu12==8.9.2.26 in /usr/local/lib/python3.10/dist-packages (from torch==2.1.1->torchtext) (8.9.2.26)\n",
            "Requirement already satisfied: nvidia-cublas-cu12==12.1.3.1 in /usr/local/lib/python3.10/dist-packages (from torch==2.1.1->torchtext) (12.1.3.1)\n",
            "Requirement already satisfied: nvidia-cufft-cu12==11.0.2.54 in /usr/local/lib/python3.10/dist-packages (from torch==2.1.1->torchtext) (11.0.2.54)\n",
            "Requirement already satisfied: nvidia-curand-cu12==10.3.2.106 in /usr/local/lib/python3.10/dist-packages (from torch==2.1.1->torchtext) (10.3.2.106)\n",
            "Requirement already satisfied: nvidia-cusolver-cu12==11.4.5.107 in /usr/local/lib/python3.10/dist-packages (from torch==2.1.1->torchtext) (11.4.5.107)\n",
            "Requirement already satisfied: nvidia-cusparse-cu12==12.1.0.106 in /usr/local/lib/python3.10/dist-packages (from torch==2.1.1->torchtext) (12.1.0.106)\n",
            "Requirement already satisfied: nvidia-nccl-cu12==2.18.1 in /usr/local/lib/python3.10/dist-packages (from torch==2.1.1->torchtext) (2.18.1)\n",
            "Requirement already satisfied: nvidia-nvtx-cu12==12.1.105 in /usr/local/lib/python3.10/dist-packages (from torch==2.1.1->torchtext) (12.1.105)\n",
            "Requirement already satisfied: triton==2.1.0 in /usr/local/lib/python3.10/dist-packages (from torch==2.1.1->torchtext) (2.1.0)\n",
            "Requirement already satisfied: urllib3>=1.25 in /usr/local/lib/python3.10/dist-packages (from torchdata==0.7.1->torchtext) (2.0.7)\n",
            "Requirement already satisfied: nvidia-nvjitlink-cu12 in /usr/local/lib/python3.10/dist-packages (from nvidia-cusolver-cu12==11.4.5.107->torch==2.1.1->torchtext) (12.3.101)\n",
            "Requirement already satisfied: charset-normalizer<4,>=2 in /usr/local/lib/python3.10/dist-packages (from requests->torchtext) (3.3.2)\n",
            "Requirement already satisfied: idna<4,>=2.5 in /usr/local/lib/python3.10/dist-packages (from requests->torchtext) (3.4)\n",
            "Requirement already satisfied: certifi>=2017.4.17 in /usr/local/lib/python3.10/dist-packages (from requests->torchtext) (2023.7.22)\n",
            "Requirement already satisfied: MarkupSafe>=2.0 in /usr/local/lib/python3.10/dist-packages (from jinja2->torch==2.1.1->torchtext) (2.1.3)\n",
            "Requirement already satisfied: mpmath>=0.19 in /usr/local/lib/python3.10/dist-packages (from sympy->torch==2.1.1->torchtext) (1.3.0)\n"
          ]
        }
      ],
      "source": [
        "%pip install torchtext"
      ]
    },
    {
      "cell_type": "code",
      "execution_count": 8,
      "id": "eae8af8b",
      "metadata": {
        "colab": {
          "base_uri": "https://localhost:8080/",
          "height": 843
        },
        "id": "eae8af8b",
        "outputId": "c13a3a7b-cd0a-46d7-9eca-3650a18f7c3d"
      },
      "outputs": [
        {
          "output_type": "stream",
          "name": "stdout",
          "text": [
            "Found existing installation: torch 2.1.1\n",
            "Uninstalling torch-2.1.1:\n",
            "  Successfully uninstalled torch-2.1.1\n",
            "\u001b[33mWARNING: Skipping torchvision as it is not installed.\u001b[0m\u001b[33m\n",
            "\u001b[0mCollecting torch\n",
            "  Using cached torch-2.1.1-cp310-cp310-manylinux1_x86_64.whl (670.2 MB)\n",
            "Collecting torchvision\n",
            "  Using cached torchvision-0.16.1-cp310-cp310-manylinux1_x86_64.whl (6.8 MB)\n",
            "Requirement already satisfied: filelock in /usr/local/lib/python3.10/dist-packages (from torch) (3.13.1)\n",
            "Requirement already satisfied: typing-extensions in /usr/local/lib/python3.10/dist-packages (from torch) (4.5.0)\n",
            "Requirement already satisfied: sympy in /usr/local/lib/python3.10/dist-packages (from torch) (1.12)\n",
            "Requirement already satisfied: networkx in /usr/local/lib/python3.10/dist-packages (from torch) (3.2.1)\n",
            "Requirement already satisfied: jinja2 in /usr/local/lib/python3.10/dist-packages (from torch) (3.1.2)\n",
            "Requirement already satisfied: fsspec in /usr/local/lib/python3.10/dist-packages (from torch) (2023.6.0)\n",
            "Requirement already satisfied: nvidia-cuda-nvrtc-cu12==12.1.105 in /usr/local/lib/python3.10/dist-packages (from torch) (12.1.105)\n",
            "Requirement already satisfied: nvidia-cuda-runtime-cu12==12.1.105 in /usr/local/lib/python3.10/dist-packages (from torch) (12.1.105)\n",
            "Requirement already satisfied: nvidia-cuda-cupti-cu12==12.1.105 in /usr/local/lib/python3.10/dist-packages (from torch) (12.1.105)\n",
            "Requirement already satisfied: nvidia-cudnn-cu12==8.9.2.26 in /usr/local/lib/python3.10/dist-packages (from torch) (8.9.2.26)\n",
            "Requirement already satisfied: nvidia-cublas-cu12==12.1.3.1 in /usr/local/lib/python3.10/dist-packages (from torch) (12.1.3.1)\n",
            "Requirement already satisfied: nvidia-cufft-cu12==11.0.2.54 in /usr/local/lib/python3.10/dist-packages (from torch) (11.0.2.54)\n",
            "Requirement already satisfied: nvidia-curand-cu12==10.3.2.106 in /usr/local/lib/python3.10/dist-packages (from torch) (10.3.2.106)\n",
            "Requirement already satisfied: nvidia-cusolver-cu12==11.4.5.107 in /usr/local/lib/python3.10/dist-packages (from torch) (11.4.5.107)\n",
            "Requirement already satisfied: nvidia-cusparse-cu12==12.1.0.106 in /usr/local/lib/python3.10/dist-packages (from torch) (12.1.0.106)\n",
            "Requirement already satisfied: nvidia-nccl-cu12==2.18.1 in /usr/local/lib/python3.10/dist-packages (from torch) (2.18.1)\n",
            "Requirement already satisfied: nvidia-nvtx-cu12==12.1.105 in /usr/local/lib/python3.10/dist-packages (from torch) (12.1.105)\n",
            "Requirement already satisfied: triton==2.1.0 in /usr/local/lib/python3.10/dist-packages (from torch) (2.1.0)\n",
            "Requirement already satisfied: nvidia-nvjitlink-cu12 in /usr/local/lib/python3.10/dist-packages (from nvidia-cusolver-cu12==11.4.5.107->torch) (12.3.101)\n",
            "Requirement already satisfied: numpy in /usr/local/lib/python3.10/dist-packages (from torchvision) (1.23.5)\n",
            "Requirement already satisfied: requests in /usr/local/lib/python3.10/dist-packages (from torchvision) (2.31.0)\n",
            "Requirement already satisfied: pillow!=8.3.*,>=5.3.0 in /usr/local/lib/python3.10/dist-packages (from torchvision) (9.4.0)\n",
            "Requirement already satisfied: MarkupSafe>=2.0 in /usr/local/lib/python3.10/dist-packages (from jinja2->torch) (2.1.3)\n",
            "Requirement already satisfied: charset-normalizer<4,>=2 in /usr/local/lib/python3.10/dist-packages (from requests->torchvision) (3.3.2)\n",
            "Requirement already satisfied: idna<4,>=2.5 in /usr/local/lib/python3.10/dist-packages (from requests->torchvision) (3.4)\n",
            "Requirement already satisfied: urllib3<3,>=1.21.1 in /usr/local/lib/python3.10/dist-packages (from requests->torchvision) (2.0.7)\n",
            "Requirement already satisfied: certifi>=2017.4.17 in /usr/local/lib/python3.10/dist-packages (from requests->torchvision) (2023.7.22)\n",
            "Requirement already satisfied: mpmath>=0.19 in /usr/local/lib/python3.10/dist-packages (from sympy->torch) (1.3.0)\n",
            "Installing collected packages: torch, torchvision\n",
            "\u001b[31mERROR: pip's dependency resolver does not currently take into account all the packages that are installed. This behaviour is the source of the following dependency conflicts.\n",
            "torchaudio 2.1.0+cu118 requires torch==2.1.0, but you have torch 2.1.1 which is incompatible.\u001b[0m\u001b[31m\n",
            "\u001b[0mSuccessfully installed torch-2.1.1 torchvision-0.16.1\n"
          ]
        },
        {
          "output_type": "display_data",
          "data": {
            "application/vnd.colab-display-data+json": {
              "pip_warning": {
                "packages": [
                  "torch"
                ]
              }
            }
          },
          "metadata": {}
        }
      ],
      "source": [
        "!pip3 uninstall -y torch torchvision\n",
        "!pip3 install torch torchvision"
      ]
    },
    {
      "cell_type": "code",
      "execution_count": 5,
      "id": "27ca0c5f",
      "metadata": {
        "colab": {
          "base_uri": "https://localhost:8080/"
        },
        "id": "27ca0c5f",
        "outputId": "14388985-d2b2-4fc8-b132-02b246194455"
      },
      "outputs": [
        {
          "output_type": "stream",
          "name": "stdout",
          "text": [
            "Requirement already satisfied: torch in /usr/local/lib/python3.10/dist-packages (2.1.1)\n",
            "Requirement already satisfied: filelock in /usr/local/lib/python3.10/dist-packages (from torch) (3.13.1)\n",
            "Requirement already satisfied: typing-extensions in /usr/local/lib/python3.10/dist-packages (from torch) (4.5.0)\n",
            "Requirement already satisfied: sympy in /usr/local/lib/python3.10/dist-packages (from torch) (1.12)\n",
            "Requirement already satisfied: networkx in /usr/local/lib/python3.10/dist-packages (from torch) (3.2.1)\n",
            "Requirement already satisfied: jinja2 in /usr/local/lib/python3.10/dist-packages (from torch) (3.1.2)\n",
            "Requirement already satisfied: fsspec in /usr/local/lib/python3.10/dist-packages (from torch) (2023.6.0)\n",
            "Requirement already satisfied: nvidia-cuda-nvrtc-cu12==12.1.105 in /usr/local/lib/python3.10/dist-packages (from torch) (12.1.105)\n",
            "Requirement already satisfied: nvidia-cuda-runtime-cu12==12.1.105 in /usr/local/lib/python3.10/dist-packages (from torch) (12.1.105)\n",
            "Requirement already satisfied: nvidia-cuda-cupti-cu12==12.1.105 in /usr/local/lib/python3.10/dist-packages (from torch) (12.1.105)\n",
            "Requirement already satisfied: nvidia-cudnn-cu12==8.9.2.26 in /usr/local/lib/python3.10/dist-packages (from torch) (8.9.2.26)\n",
            "Requirement already satisfied: nvidia-cublas-cu12==12.1.3.1 in /usr/local/lib/python3.10/dist-packages (from torch) (12.1.3.1)\n",
            "Requirement already satisfied: nvidia-cufft-cu12==11.0.2.54 in /usr/local/lib/python3.10/dist-packages (from torch) (11.0.2.54)\n",
            "Requirement already satisfied: nvidia-curand-cu12==10.3.2.106 in /usr/local/lib/python3.10/dist-packages (from torch) (10.3.2.106)\n",
            "Requirement already satisfied: nvidia-cusolver-cu12==11.4.5.107 in /usr/local/lib/python3.10/dist-packages (from torch) (11.4.5.107)\n",
            "Requirement already satisfied: nvidia-cusparse-cu12==12.1.0.106 in /usr/local/lib/python3.10/dist-packages (from torch) (12.1.0.106)\n",
            "Requirement already satisfied: nvidia-nccl-cu12==2.18.1 in /usr/local/lib/python3.10/dist-packages (from torch) (2.18.1)\n",
            "Requirement already satisfied: nvidia-nvtx-cu12==12.1.105 in /usr/local/lib/python3.10/dist-packages (from torch) (12.1.105)\n",
            "Requirement already satisfied: triton==2.1.0 in /usr/local/lib/python3.10/dist-packages (from torch) (2.1.0)\n",
            "Requirement already satisfied: nvidia-nvjitlink-cu12 in /usr/local/lib/python3.10/dist-packages (from nvidia-cusolver-cu12==11.4.5.107->torch) (12.3.101)\n",
            "Requirement already satisfied: MarkupSafe>=2.0 in /usr/local/lib/python3.10/dist-packages (from jinja2->torch) (2.1.3)\n",
            "Requirement already satisfied: mpmath>=0.19 in /usr/local/lib/python3.10/dist-packages (from sympy->torch) (1.3.0)\n"
          ]
        }
      ],
      "source": [
        "!pip install --upgrade torch\n"
      ]
    },
    {
      "cell_type": "code",
      "execution_count": 6,
      "id": "8d5e1809",
      "metadata": {
        "colab": {
          "base_uri": "https://localhost:8080/"
        },
        "id": "8d5e1809",
        "outputId": "994dee29-07c7-4a30-c4cf-038748ed248c"
      },
      "outputs": [
        {
          "output_type": "stream",
          "name": "stdout",
          "text": [
            "Requirement already satisfied: torchtext in /usr/local/lib/python3.10/dist-packages (0.16.1)\n",
            "Requirement already satisfied: tqdm in /usr/local/lib/python3.10/dist-packages (from torchtext) (4.66.1)\n",
            "Requirement already satisfied: requests in /usr/local/lib/python3.10/dist-packages (from torchtext) (2.31.0)\n",
            "Requirement already satisfied: torch==2.1.1 in /usr/local/lib/python3.10/dist-packages (from torchtext) (2.1.1)\n",
            "Requirement already satisfied: numpy in /usr/local/lib/python3.10/dist-packages (from torchtext) (1.23.5)\n",
            "Requirement already satisfied: torchdata==0.7.1 in /usr/local/lib/python3.10/dist-packages (from torchtext) (0.7.1)\n",
            "Requirement already satisfied: filelock in /usr/local/lib/python3.10/dist-packages (from torch==2.1.1->torchtext) (3.13.1)\n",
            "Requirement already satisfied: typing-extensions in /usr/local/lib/python3.10/dist-packages (from torch==2.1.1->torchtext) (4.5.0)\n",
            "Requirement already satisfied: sympy in /usr/local/lib/python3.10/dist-packages (from torch==2.1.1->torchtext) (1.12)\n",
            "Requirement already satisfied: networkx in /usr/local/lib/python3.10/dist-packages (from torch==2.1.1->torchtext) (3.2.1)\n",
            "Requirement already satisfied: jinja2 in /usr/local/lib/python3.10/dist-packages (from torch==2.1.1->torchtext) (3.1.2)\n",
            "Requirement already satisfied: fsspec in /usr/local/lib/python3.10/dist-packages (from torch==2.1.1->torchtext) (2023.6.0)\n",
            "Requirement already satisfied: nvidia-cuda-nvrtc-cu12==12.1.105 in /usr/local/lib/python3.10/dist-packages (from torch==2.1.1->torchtext) (12.1.105)\n",
            "Requirement already satisfied: nvidia-cuda-runtime-cu12==12.1.105 in /usr/local/lib/python3.10/dist-packages (from torch==2.1.1->torchtext) (12.1.105)\n",
            "Requirement already satisfied: nvidia-cuda-cupti-cu12==12.1.105 in /usr/local/lib/python3.10/dist-packages (from torch==2.1.1->torchtext) (12.1.105)\n",
            "Requirement already satisfied: nvidia-cudnn-cu12==8.9.2.26 in /usr/local/lib/python3.10/dist-packages (from torch==2.1.1->torchtext) (8.9.2.26)\n",
            "Requirement already satisfied: nvidia-cublas-cu12==12.1.3.1 in /usr/local/lib/python3.10/dist-packages (from torch==2.1.1->torchtext) (12.1.3.1)\n",
            "Requirement already satisfied: nvidia-cufft-cu12==11.0.2.54 in /usr/local/lib/python3.10/dist-packages (from torch==2.1.1->torchtext) (11.0.2.54)\n",
            "Requirement already satisfied: nvidia-curand-cu12==10.3.2.106 in /usr/local/lib/python3.10/dist-packages (from torch==2.1.1->torchtext) (10.3.2.106)\n",
            "Requirement already satisfied: nvidia-cusolver-cu12==11.4.5.107 in /usr/local/lib/python3.10/dist-packages (from torch==2.1.1->torchtext) (11.4.5.107)\n",
            "Requirement already satisfied: nvidia-cusparse-cu12==12.1.0.106 in /usr/local/lib/python3.10/dist-packages (from torch==2.1.1->torchtext) (12.1.0.106)\n",
            "Requirement already satisfied: nvidia-nccl-cu12==2.18.1 in /usr/local/lib/python3.10/dist-packages (from torch==2.1.1->torchtext) (2.18.1)\n",
            "Requirement already satisfied: nvidia-nvtx-cu12==12.1.105 in /usr/local/lib/python3.10/dist-packages (from torch==2.1.1->torchtext) (12.1.105)\n",
            "Requirement already satisfied: triton==2.1.0 in /usr/local/lib/python3.10/dist-packages (from torch==2.1.1->torchtext) (2.1.0)\n",
            "Requirement already satisfied: urllib3>=1.25 in /usr/local/lib/python3.10/dist-packages (from torchdata==0.7.1->torchtext) (2.0.7)\n",
            "Requirement already satisfied: nvidia-nvjitlink-cu12 in /usr/local/lib/python3.10/dist-packages (from nvidia-cusolver-cu12==11.4.5.107->torch==2.1.1->torchtext) (12.3.101)\n",
            "Requirement already satisfied: charset-normalizer<4,>=2 in /usr/local/lib/python3.10/dist-packages (from requests->torchtext) (3.3.2)\n",
            "Requirement already satisfied: idna<4,>=2.5 in /usr/local/lib/python3.10/dist-packages (from requests->torchtext) (3.4)\n",
            "Requirement already satisfied: certifi>=2017.4.17 in /usr/local/lib/python3.10/dist-packages (from requests->torchtext) (2023.7.22)\n",
            "Requirement already satisfied: MarkupSafe>=2.0 in /usr/local/lib/python3.10/dist-packages (from jinja2->torch==2.1.1->torchtext) (2.1.3)\n",
            "Requirement already satisfied: mpmath>=0.19 in /usr/local/lib/python3.10/dist-packages (from sympy->torch==2.1.1->torchtext) (1.3.0)\n"
          ]
        }
      ],
      "source": [
        "!pip install --upgrade torchtext"
      ]
    },
    {
      "cell_type": "code",
      "execution_count": 1,
      "id": "787e2059",
      "metadata": {
        "id": "787e2059"
      },
      "outputs": [],
      "source": [
        "import torch\n",
        "import torch.nn as nn\n",
        "import torch.optim as optim\n",
        "\n",
        "from torchtext.datasets import UDPOS\n",
        "\n",
        "import numpy as np\n",
        "\n",
        "import time\n",
        "import random\n",
        "from torchtext.vocab import build_vocab_from_iterator\n",
        "from torch.utils.data import DataLoader\n",
        "device = torch.device('cuda' if torch.cuda.is_available() else 'cpu')\n",
        "\n",
        "\n",
        "# for reproducibility\n",
        "random.seed(77)\n",
        "np.random.seed(77)\n",
        "torch.manual_seed(77)\n",
        "torch.backends.cudnn.deterministic = True"
      ]
    },
    {
      "cell_type": "markdown",
      "id": "fc29cb37",
      "metadata": {
        "id": "fc29cb37"
      },
      "source": [
        "### Subtask 1: Data Analysis\n",
        "The very basic components of the torchtext library include `vocab`, `word vectors`, and `tokenizer`. Those are the basic data processing building blocks for the raw text string.\n",
        "In this case, we use the tokenizer and the vocabulary. Use the `build_vocab_from_iterator` to create the vocabulary for the text field and add the `<unk>` and `<pad>` tokens to it. Use a minimal frequency of `2`.\n",
        "Also create a vocabulary for the labels (tag field). However, since the tags are predefined elements, you will not need an `<unk>` token.\n",
        " This dataset actually has two different sets of tags, universal dependency (UD) tags and Penn Treebank (PTB) tags. We train our model on the UD tags, which is the second element on the list of outputs (example below).\n"
      ]
    },
    {
      "cell_type": "code",
      "execution_count": 2,
      "id": "IlEFywat4Gva",
      "metadata": {
        "id": "IlEFywat4Gva",
        "colab": {
          "base_uri": "https://localhost:8080/"
        },
        "outputId": "c1c571a6-7405-4fad-facc-696aca577d33"
      },
      "outputs": [
        {
          "output_type": "stream",
          "name": "stdout",
          "text": [
            "[['Al', '-', 'Zaman', ':', 'American', 'forces', 'killed', 'Shaikh', 'Abdullah', 'al', '-', 'Ani', ',', 'the', 'preacher', 'at', 'the', 'mosque', 'in', 'the', 'town', 'of', 'Qaim', ',', 'near', 'the', 'Syrian', 'border', '.'], ['PROPN', 'PUNCT', 'PROPN', 'PUNCT', 'ADJ', 'NOUN', 'VERB', 'PROPN', 'PROPN', 'PROPN', 'PUNCT', 'PROPN', 'PUNCT', 'DET', 'NOUN', 'ADP', 'DET', 'NOUN', 'ADP', 'DET', 'NOUN', 'ADP', 'PROPN', 'PUNCT', 'ADP', 'DET', 'ADJ', 'NOUN', 'PUNCT'], ['NNP', 'HYPH', 'NNP', ':', 'JJ', 'NNS', 'VBD', 'NNP', 'NNP', 'NNP', 'HYPH', 'NNP', ',', 'DT', 'NN', 'IN', 'DT', 'NN', 'IN', 'DT', 'NN', 'IN', 'NNP', ',', 'IN', 'DT', 'JJ', 'NN', '.']]\n"
          ]
        }
      ],
      "source": [
        "train_iter = iter(UDPOS(split=\"train\"))\n",
        "print(next(train_iter))"
      ]
    },
    {
      "cell_type": "code",
      "execution_count": 3,
      "id": "7HJWFvb3AgTI",
      "metadata": {
        "id": "7HJWFvb3AgTI",
        "colab": {
          "base_uri": "https://localhost:8080/"
        },
        "outputId": "b58b1eb0-8a07-46ee-fb8c-61382852a19a"
      },
      "outputs": [
        {
          "output_type": "stream",
          "name": "stdout",
          "text": [
            "Number of training examples: 12543\n",
            "Number of validation examples: 2002\n",
            "Number of testing examples: 2077\n"
          ]
        }
      ],
      "source": [
        "print(f\"Number of training examples: {len(list(UDPOS(split='train')))}\")\n",
        "print(f\"Number of validation examples: {len(list(UDPOS(split='valid')))}\")\n",
        "print(f\"Number of testing examples: {len(list(UDPOS(split='test')))}\")"
      ]
    },
    {
      "cell_type": "markdown",
      "id": "RaAW09-n_5DC",
      "metadata": {
        "id": "RaAW09-n_5DC"
      },
      "source": [
        "Note that the data is already tokenized!"
      ]
    },
    {
      "cell_type": "code",
      "execution_count": 4,
      "id": "rcG-FcDu5DcA",
      "metadata": {
        "id": "rcG-FcDu5DcA"
      },
      "outputs": [],
      "source": [
        "train_iter = UDPOS(split=\"train\") # to get the training set\n",
        "\n",
        "### your code (make sure pad has id of 0) ####\n",
        "\n",
        "#functions for iteration of text, label (separately)\n",
        "def text_iterator(dataset):\n",
        "    for text, label_ud,label_ptb in dataset:\n",
        "        yield text\n",
        "\n",
        "def label_iterator(dataset):\n",
        "    for text, label_ud,label_ptb in dataset:\n",
        "        yield label_ud\n",
        "\n",
        "#get text vocab\n",
        "vocab = build_vocab_from_iterator(\n",
        "    text_iterator(train_iter),\n",
        "    min_freq=2,\n",
        "    specials=['<pad>','<unk>'],\n",
        "    special_first = True\n",
        ")\n",
        "vocab.set_default_index(vocab['<unk>'])\n",
        "\n",
        "#get tags vocab\n",
        "ud_vocab=build_vocab_from_iterator(\n",
        "    label_iterator(train_iter),\n",
        "    min_freq=2,\n",
        "    specials=['<pad>'],\n",
        "    special_first = True\n",
        ")\n",
        "\n",
        "\n",
        "### your code ####\n",
        "\n"
      ]
    },
    {
      "cell_type": "markdown",
      "id": "nzalgc92j2mG",
      "metadata": {
        "id": "nzalgc92j2mG"
      },
      "source": [
        "Prepare a text processing pipeline that takes raw input and labels and converts them to ids."
      ]
    },
    {
      "cell_type": "code",
      "execution_count": 5,
      "id": "BDqKYQnRj2D8",
      "metadata": {
        "id": "BDqKYQnRj2D8"
      },
      "outputs": [],
      "source": [
        "text_pipeline = lambda x: vocab(x)\n",
        "label_pipeline = lambda x: ud_vocab(x)"
      ]
    },
    {
      "cell_type": "code",
      "execution_count": 6,
      "id": "wg36B2Z_Hdi0",
      "metadata": {
        "id": "wg36B2Z_Hdi0",
        "colab": {
          "base_uri": "https://localhost:8080/"
        },
        "outputId": "574d3022-179d-4d19-d52a-d4ee5639e239"
      },
      "outputs": [
        {
          "output_type": "stream",
          "name": "stdout",
          "text": [
            "[3, 9271, 35, 9097, 0, 1]\n",
            "[6, 8, 1, 2]\n"
          ]
        }
      ],
      "source": [
        "print(text_pipeline(['the', 'preacher', 'at', 'mosque', \"<pad>\",\"pppp\"])) #should output [3, 9271, 35, 9097, 0, 1]\n",
        "print(label_pipeline(['DET', 'ADJ', 'NOUN', 'PUNCT'])) # should output [6, 8, 1, 2]"
      ]
    },
    {
      "cell_type": "code",
      "execution_count": 7,
      "id": "cjn1qH2dHoaa",
      "metadata": {
        "id": "cjn1qH2dHoaa",
        "colab": {
          "base_uri": "https://localhost:8080/"
        },
        "outputId": "98e38572-af44-45e1-c87c-2af8bacad4e8"
      },
      "outputs": [
        {
          "output_type": "stream",
          "name": "stdout",
          "text": [
            "Unique tokens in input vocabulary: 9875\n",
            "Unique tokens in UD vocabulary: 18\n"
          ]
        }
      ],
      "source": [
        "print(f\"Unique tokens in input vocabulary: {len(vocab)}\")\n",
        "print(f\"Unique tokens in UD vocabulary: {len(ud_vocab)}\")"
      ]
    },
    {
      "cell_type": "markdown",
      "id": "FUnDiAOW-N5S",
      "metadata": {
        "id": "FUnDiAOW-N5S"
      },
      "source": [
        "Write a custom function for the dataloader that applies the text and label pipeline and pads the sequences to have equal lengths."
      ]
    },
    {
      "cell_type": "code",
      "execution_count": 8,
      "id": "0aN6s1UhoRhK",
      "metadata": {
        "id": "0aN6s1UhoRhK"
      },
      "outputs": [],
      "source": [
        "from functools import partial\n",
        "\n",
        "def collate_batch(batch, pad_token_ix, pad_token_ix_ud):\n",
        "    ### your code ###\n",
        "    texts = [torch.tensor(text_pipeline(item[0])) for item in batch] #text\n",
        "\n",
        "    labels = [torch.tensor(label_pipeline(item[1])) for item in batch] #ud pos\n",
        "\n",
        "    #Pad text sequences using pad_token_ix (coz why not)\n",
        "    x_padded = nn.utils.rnn.pad_sequence(texts, padding_value=pad_token_ix, batch_first = False)\n",
        "\n",
        "    #Pad label sequences with a different padding token (pad_token_ix_ud)\n",
        "    y_padded = nn.utils.rnn.pad_sequence(labels, padding_value=pad_token_ix_ud, batch_first = False)\n",
        "\n",
        "    # print(x_padded.shape, y_padded.shape)\n",
        "    ### your code ###\n",
        "\n",
        "    return x_padded.to(device), y_padded.to(device)\n",
        "\n",
        "collate_fn = partial(collate_batch, pad_token_ix=vocab['<pad>'], pad_token_ix_ud=ud_vocab['<pad>'])\n",
        "\n",
        "\n",
        "train_dataloader = DataLoader(\n",
        "    UDPOS(split=\"train\"), batch_size=128, shuffle=True, collate_fn=collate_fn\n",
        ")\n",
        "valid_dataloader = DataLoader(\n",
        "    UDPOS(split=\"valid\"), batch_size=128, shuffle=True, collate_fn=collate_fn\n",
        ")\n",
        "test_dataloader = DataLoader(\n",
        "    UDPOS(split=\"test\"), batch_size=128, shuffle=True, collate_fn=collate_fn\n",
        ")"
      ]
    },
    {
      "cell_type": "code",
      "execution_count": 9,
      "id": "2X8ZZ0J4oek_",
      "metadata": {
        "id": "2X8ZZ0J4oek_",
        "colab": {
          "base_uri": "https://localhost:8080/"
        },
        "outputId": "2a53d85d-27c1-4730-da7c-7141f82a25e6"
      },
      "outputs": [
        {
          "output_type": "stream",
          "name": "stdout",
          "text": [
            "torch.Size([57, 128])\n",
            "torch.Size([57, 128])\n",
            "tensor([1832,  475,  475,    9, 1131, 7298,  442,   28,  116,  457,  183,    9,\n",
            "         144,  723,   79,  119,  119,   28,   68,  257,  744, 1273,    9,   28,\n",
            "         689, 1835,  489,  522,  116, 1352,    9,  116, 3055, 7498,   28, 2008,\n",
            "         210,   91, 2800,  159,  183,  116,   91,  131, 7146,   28,  522,  210,\n",
            "         459,  400, 1357,  653, 7221,    9,    9,   28,   30, 6707,   28,  313,\n",
            "        2423,    9,  143,   40, 3610,    1,    9,  210,   67,    9,   79, 1464,\n",
            "          13, 2893,    9, 1278, 7240,   30,  210,  256, 7449,  486,  410, 3154,\n",
            "        2479, 1685, 5203,  167, 6758,  119, 6248, 1824,  202, 5614,  389,    9,\n",
            "          92,    9, 3534,  524,   28,  182, 1206, 1188,  572,  182,  695,  105,\n",
            "           1, 4469,  562,  746,    9, 1440,  410,  131,  562,  105,    9,    9,\n",
            "         202,  167,   68, 7836,    9, 1692,   28,    9], device='cuda:0')\n",
            "tensor([14,  7,  7,  4,  3,  1, 12,  6,  4,  2, 11,  4,  1,  3,  4,  5,  5,  6,\n",
            "         4,  6,  6,  7,  4,  6, 13,  7,  5, 10,  4,  9,  4,  4, 13, 15,  6,  1,\n",
            "         4, 14,  3, 16, 11,  4, 14,  6,  7,  6, 10,  4,  5,  9,  7,  7,  7,  4,\n",
            "         4,  6,  2,  1,  6,  7, 13,  4, 15,  4,  1,  1,  4,  4, 10,  4,  4, 11,\n",
            "         4,  3,  4, 10,  3,  2,  6,  7,  1,  8,  5, 16,  7,  7, 13,  4, 13,  5,\n",
            "        15,  7,  9,  7,  3,  4,  4,  4, 13,  7,  6, 11, 13,  6, 10, 11,  9,  6,\n",
            "        13,  8,  4,  5,  4, 13,  5,  6,  4,  4,  4,  4,  9,  4,  4,  7,  4,  3,\n",
            "         6,  4], device='cuda:0')\n"
          ]
        }
      ],
      "source": [
        "for idx, (label, text) in enumerate(train_dataloader):\n",
        "      print(label.shape)\n",
        "      print(text.shape)\n",
        "      print(label[0])\n",
        "      print(text[0])\n",
        "      break\n"
      ]
    },
    {
      "cell_type": "markdown",
      "id": "jDy_wvjR_1Sg",
      "metadata": {
        "id": "jDy_wvjR_1Sg"
      },
      "source": [
        "Let's take a closer look at the data and the distribution of tags.\n",
        "Implement `tag_percentage`:\n",
        "\n",
        "*   Use the `collection.counter` to count the unique instances of each tag.\n",
        "\n",
        "*    Compute the percentage of each tag in the entire set, by using the counted frequencies.\n",
        "\n"
      ]
    },
    {
      "cell_type": "code",
      "execution_count": 10,
      "id": "273JqNZn_rRT",
      "metadata": {
        "id": "273JqNZn_rRT"
      },
      "outputs": [],
      "source": [
        "from collections import Counter\n",
        "\n",
        "def tag_percentage(training_iterator):\n",
        "    counter = Counter()\n",
        "    full_tag_mapping = {'N': 'NOUN', 'P': 'PRO', 'O': 'OTH', 'U': 'INT',\n",
        "                        'R': 'ADV', 'A': 'ADJ', 'D': 'DET', 'T': 'PAR',\n",
        "                        'C': 'CONJ', 'E': 'EXC', 'V': 'VERB', 'J': 'JOT',\n",
        "                        'B': 'ABB', 'X': 'UNK', 'S': 'SYM', 'M': 'NUM',\n",
        "                        'I': 'ITM', 'Y': 'FOR'}\n",
        "\n",
        "    for _, labels,_ in training_iterator:\n",
        "        for seq_labels in labels:\n",
        "            counter.update(seq_labels)\n",
        "\n",
        "    total_tags = sum(counter.values())\n",
        "    ###\n",
        "    ### compute the tag percentages based on the counter object\n",
        "\n",
        "    tag_p = [(full_tag_mapping[tag], counter[tag], count / total_tags) for tag, count in counter.items()]\n",
        "    # Sort by count in descending order\n",
        "    tag_p = sorted(tag_p, key=lambda x: x[1], reverse=True)\n",
        "    ###\n",
        "    return tag_p"
      ]
    },
    {
      "cell_type": "code",
      "execution_count": 11,
      "id": "fWzoEd7h_qRw",
      "metadata": {
        "id": "fWzoEd7h_qRw",
        "colab": {
          "base_uri": "https://localhost:8080/"
        },
        "outputId": "3634a0d9-5ed3-47a4-b819-e41fdde08dfd"
      },
      "outputs": [
        {
          "output_type": "stream",
          "name": "stdout",
          "text": [
            "Tag\t\tCount\t\tPercentage\n",
            "\n",
            "NOUN\t\t140001\t\t17.7%\n",
            "PRO\t\t91353\t\t11.6%\n",
            "OTH\t\t76854\t\t 9.7%\n",
            "INT\t\t74802\t\t 9.5%\n",
            "ADV\t\t60171\t\t 7.6%\n",
            "ADJ\t\t58573\t\t 7.4%\n",
            "DET\t\t56948\t\t 7.2%\n",
            "PAR\t\t46219\t\t 5.9%\n",
            "CONJ\t\t40936\t\t 5.2%\n",
            "EXC\t\t39366\t\t 5.0%\n",
            "VERB\t\t33629\t\t 4.3%\n",
            "JOT\t\t23715\t\t 3.0%\n",
            "ABB\t\t23081\t\t 2.9%\n",
            "UNK\t\t13190\t\t 1.7%\n",
            "NUM\t\t4598\t\t 0.6%\n",
            "SYM\t\t4442\t\t 0.6%\n",
            "ITM\t\t688\t\t 0.1%\n",
            "FOR\t\t599\t\t 0.1%\n"
          ]
        }
      ],
      "source": [
        "print(\"Tag\\t\\tCount\\t\\tPercentage\\n\")\n",
        "\n",
        "for tag, count, percent in tag_percentage(UDPOS(split='train')):\n",
        "    print(f\"{tag}\\t\\t{count}\\t\\t{percent*100:4.1f}%\")"
      ]
    },
    {
      "cell_type": "markdown",
      "id": "GKTQL0EsxSUU",
      "metadata": {
        "id": "GKTQL0EsxSUU"
      },
      "source": [
        "####${\\color{red}{Comments\\ 1.1}}$\n",
        "\n",
        "${\\color{red}{⚠️Comments\\ begin⚠️}}$\n",
        "\n",
        "\n",
        "```\n",
        "cross-feedback comment section\n",
        "```\n",
        "\n",
        "\n",
        "${\\color{red}{⚠️Comments\\ end⚠️}}$"
      ]
    },
    {
      "cell_type": "markdown",
      "id": "gYHy3vSELfaN",
      "metadata": {
        "id": "gYHy3vSELfaN"
      },
      "source": [
        "### Subtask 2: The Model\n",
        "\n",
        "We start by creating a simple model and then make it more complex in later subtasks. The class `BiLSTMTagger` must subclass the `nn.Module` class of `PyTorch`. Fill the blank in the class by following the notes described below.\n",
        "1.   The input is a sequence of tokens, $X = \\{x_1, x_2,...,x_T\\}$.\n",
        "2.   Each token passes through  an embeddings layer, $e(X) = \\{e(x_1), e(x_2), ..., e(x_T)\\}$. Use `nn.Embedding` for the embedding layer and make sure to pass in the index of the pad token.\n",
        "3. Embedding is processed by forward and backward LSTMs from left to right and right to left.  The first input to the forward LSTM is $x_1$ and the first input to the backward LSTM is $x_T$. The hidden state of LSTMs is dependent on\n",
        "the hidden, $h$, and cell, $c$, states from the previous time-steps:\n",
        "$$h^{\\rightarrow}_t = \\text{LSTM}^{\\rightarrow}(e(x^{\\rightarrow}_t), h^{\\rightarrow}_{t-1}, c^{\\rightarrow}_{t-1})$$\n",
        "$$h^{\\leftarrow}_t=\\text{LSTM}^{\\leftarrow}(e(x^{\\leftarrow}_t), h^{\\leftarrow}_{t-1}, c^{\\leftarrow}_{t-1})$$\n",
        "4. The hidden, $h$, and cell, $c$ of each layer is passed to the next layer, where the $h_0$ and $c_0$, for each direction and layer, are initialized to a tensor full of zeros. Use `nn.LSTM` for LSTM cells. How can you make it bidirectional?\n",
        "5. Final hidden state is the concatenation of forward and backward hidden states from the final layer of the LSTM, $H = \\{h_1, h_2, ... h_T\\}$, where $h_1 = [h^{\\rightarrow}_1;h^{\\leftarrow}_T]$, $h_2 = [h^{\\rightarrow}_2;h^{\\leftarrow}_{T-1}]$. Use `nn.Linear` here.\n",
        "6. The last layer is linear layer $f$, which is used to make the prediction of which tag applies to this token, $\\hat{y}_t = f(h_t)$.\n",
        "7. Define a `nn.Dropout` layer to apply to the embeddings and the outputs of the final layer of the LSTM."
      ]
    },
    {
      "cell_type": "code",
      "execution_count": 12,
      "id": "qE4GQE6NJ1k8",
      "metadata": {
        "id": "qE4GQE6NJ1k8"
      },
      "outputs": [],
      "source": [
        "import torch\n",
        "import torch.nn as nn\n",
        "\n",
        "class BiLSTMTagger(nn.Module):\n",
        "    def __init__(self, hyperparameters):\n",
        "        '''\n",
        "        hyperparameters: is a dictionary containing:\n",
        "               input_dim: dimension of the input\n",
        "               embedding_dim: dimension of the embedding layer\n",
        "               lstm_hidden_dim: dimension of the hidden state of lstms\n",
        "               output_dim: dimension of the output hidden layer\n",
        "               n_layers: number of layers to stack\n",
        "               bidirectional: is the lstm bi-directional\n",
        "               dropout: probability for the drop-out layer\n",
        "               pad_idx: id of the pad token\n",
        "        '''\n",
        "        super().__init__()\n",
        "\n",
        "        # Embedding layer\n",
        "        self.embedding = nn.Embedding(hyperparameters['input_dim'],\n",
        "                                      hyperparameters['embedding_dim'],\n",
        "                                      padding_idx=hyperparameters['pad_idx'])\n",
        "\n",
        "        # Bi-LSTM layer\n",
        "        self.lstm = nn.LSTM(hyperparameters['embedding_dim'],\n",
        "                            hyperparameters['lstm_hidden_dim'],\n",
        "                            num_layers=hyperparameters['n_layers'],\n",
        "                            bidirectional=hyperparameters['bidirectional'],\n",
        "                            dropout=hyperparameters['dropout'] if hyperparameters['n_layers'] > 1 else 0)\n",
        "\n",
        "        # Fully connected layer (linear layer)\n",
        "        self.fc = nn.Linear(hyperparameters['lstm_hidden_dim'] * 2 if hyperparameters['bidirectional'] else hyperparameters['lstm_hidden_dim'],\n",
        "                            hyperparameters['output_dim'])\n",
        "\n",
        "        # Dropout layer\n",
        "        self.dropout = nn.Dropout(hyperparameters['dropout'])\n",
        "\n",
        "    def forward(self, text, debug=False):\n",
        "        '''\n",
        "        S: sentence len\n",
        "        B: batch size\n",
        "        E: embedding size\n",
        "        H: hidden size\n",
        "        O: output size\n",
        "        L: number of layers\n",
        "        '''\n",
        "        # Pass text through embedding layer and a dropout layer\n",
        "        embedded = self.dropout(self.embedding(text))\n",
        "\n",
        "        # Pass embeddings into bi-LSTM\n",
        "        outputs, (hidden, cell) = self.lstm(embedded)\n",
        "\n",
        "        #since outputs holds states from both direction, we pass the outputs\n",
        "\n",
        "        # Apply dropout to the concatenated hidden states\n",
        "        predictions = self.fc(self.dropout(outputs))\n",
        "\n",
        "\n",
        "        if debug:\n",
        "            print(\"Input shape:\", text.shape)\n",
        "            print(\"Embedding shape:\", embedded.shape)\n",
        "            print(\"LSTM output shape:\", outputs.shape)\n",
        "            print(\"LSTM hidden shape:\", hidden.shape)\n",
        "            print(\"LSTM cell shape:\", cell.shape)\n",
        "            print(\"Output shape:\", predictions.shape)\n",
        "\n",
        "        return predictions\n"
      ]
    },
    {
      "cell_type": "markdown",
      "id": "4OcQbD9LUkD5",
      "metadata": {
        "id": "4OcQbD9LUkD5"
      },
      "source": [
        "Response in plain text:\n",
        "1. Based on the notation defined in the forward function. What is the dimension of `outputs`, `hidden`, and `cell`?\n",
        "\n",
        "- outputs: The dimension of outputs is (S, B, H), where S is the sentence length, B is the batch size, and H is the hidden size.\n",
        "\n",
        "- hidden: The dimension of hidden is (L * num_directions, B, H), where L is the number of layers, num_directions is 2 for bidirectional, 1 for unidirectional, B is the batch size, and H is the hidden size.\n",
        "\n",
        "- cell: The dimension of cell is (L * num_directions, B, H), where L is the number of layers, num_directions is 2 for bidirectional, 1 for unidirectional, B is the batch size, and H is the hidden size.\n",
        "\n",
        "    - LSTM output shape: torch.Size([2, 6, 256])\n",
        "    - LSTM hidden shape: torch.Size([4, 6, 128])\n",
        "    - LSTM cell shape: torch.Size([4, 6, 128])"
      ]
    },
    {
      "cell_type": "code",
      "execution_count": 13,
      "id": "ivB8Iv4yScVW",
      "metadata": {
        "id": "ivB8Iv4yScVW"
      },
      "outputs": [],
      "source": [
        "hyper_parameters={\n",
        "  'input_dim':  len(vocab),\n",
        "  'embedding_dim': 100,\n",
        "  'lstm_hidden_dim': 128,\n",
        "  'output_dim':len(ud_vocab),\n",
        "  'n_layers': 2 ,\n",
        "  'bidirectional':True,\n",
        "  'dropout': 0.25,\n",
        "  'pad_idx': vocab['<pad>']\n",
        "}\n",
        "model = BiLSTMTagger(hyper_parameters)"
      ]
    },
    {
      "cell_type": "code",
      "execution_count": 14,
      "id": "1XvNFfJBV7ya",
      "metadata": {
        "id": "1XvNFfJBV7ya",
        "colab": {
          "base_uri": "https://localhost:8080/"
        },
        "outputId": "9cd38cd5-8df5-44a9-f255-d7d101a6ecfe"
      },
      "outputs": [
        {
          "output_type": "stream",
          "name": "stdout",
          "text": [
            "Input shape: torch.Size([2, 6])\n",
            "Embedding shape: torch.Size([2, 6, 100])\n",
            "LSTM output shape: torch.Size([2, 6, 256])\n",
            "LSTM hidden shape: torch.Size([4, 6, 128])\n",
            "LSTM cell shape: torch.Size([4, 6, 128])\n",
            "Output shape: torch.Size([2, 6, 18])\n"
          ]
        },
        {
          "output_type": "execute_result",
          "data": {
            "text/plain": [
              "torch.Size([2, 6, 18])"
            ]
          },
          "metadata": {},
          "execution_count": 14
        }
      ],
      "source": [
        "input=torch.tensor([[3, 9271, 35, 9097, 0, 1],\n",
        "                    [3, 9271, 35, 9097, 0, 1]])\n",
        "model(input,debug=True).shape"
      ]
    },
    {
      "cell_type": "markdown",
      "id": "2XiJkG-NfrDV",
      "metadata": {
        "id": "2XiJkG-NfrDV"
      },
      "source": [
        "Weights of the network are initialized randomly, so let's make a more systematic initialization to help us with the optimization. For example,  Xavier Initialization creates weights such that the variance of the activations is the same across every layer. This constant variance helps prevent the gradient from exploding or vanishing. However, it does not apply to bias terms.\n",
        "\n",
        "Create a function that uses Xavier Initialization to initialize the weights of the network, for biases use a normal distribution with a mean of 0 and a standard deviation of 0.1."
      ]
    },
    {
      "cell_type": "code",
      "execution_count": 15,
      "id": "PB78pCHpa758",
      "metadata": {
        "id": "PB78pCHpa758",
        "colab": {
          "base_uri": "https://localhost:8080/"
        },
        "outputId": "7d900c95-49c1-4e78-8c7b-02f438219a3b"
      },
      "outputs": [
        {
          "output_type": "execute_result",
          "data": {
            "text/plain": [
              "BiLSTMTagger(\n",
              "  (embedding): Embedding(9875, 100, padding_idx=0)\n",
              "  (lstm): LSTM(100, 128, num_layers=2, dropout=0.25, bidirectional=True)\n",
              "  (fc): Linear(in_features=256, out_features=18, bias=True)\n",
              "  (dropout): Dropout(p=0.25, inplace=False)\n",
              ")"
            ]
          },
          "metadata": {},
          "execution_count": 15
        }
      ],
      "source": [
        "import torch.nn.init as init\n",
        "\n",
        "def init_weights(m):\n",
        "    if isinstance(m, nn.Linear):\n",
        "        # Apply Xavier Initialization to weights\n",
        "        init.xavier_uniform_(m.weight)\n",
        "\n",
        "        # Initialize biases with a normal distribution\n",
        "        init.normal_(m.bias, mean=0, std=0.1)\n",
        "\n",
        "# Apply the initialization function to the model\n",
        "model.apply(init_weights)\n",
        "model.to(device)"
      ]
    },
    {
      "cell_type": "markdown",
      "id": "sdPx1mSOgy0V",
      "metadata": {
        "id": "sdPx1mSOgy0V"
      },
      "source": [
        "Let's count the number of trainable parameters in our model."
      ]
    },
    {
      "cell_type": "code",
      "execution_count": 16,
      "id": "P5738nU2ew_O",
      "metadata": {
        "id": "P5738nU2ew_O",
        "colab": {
          "base_uri": "https://localhost:8080/"
        },
        "outputId": "6b331807-b05c-4c93-e2e2-132c74cc5a8c"
      },
      "outputs": [
        {
          "output_type": "stream",
          "name": "stdout",
          "text": [
            "Number of trainable parameters: 1622910\n"
          ]
        }
      ],
      "source": [
        "def count_parameters(model):\n",
        "    return sum(p.numel() for p in model.parameters() if p.requires_grad)\n",
        "\n",
        "print(\"Number of trainable parameters:\", count_parameters(model))\n"
      ]
    },
    {
      "cell_type": "markdown",
      "id": "91uNA-vnyoUW",
      "metadata": {
        "id": "91uNA-vnyoUW"
      },
      "source": [
        "####${\\color{red}{Comments\\ 1.2}}$\n",
        "\n",
        "${\\color{red}{⚠️Comments\\ begin⚠️}}$\n",
        "\n",
        "\n",
        "```\n",
        "cross-feedback comment section\n",
        "```\n",
        "\n",
        "\n",
        "${\\color{red}{⚠️Comments\\ end⚠️}}$"
      ]
    },
    {
      "cell_type": "markdown",
      "id": "-lVg08iTd0XN",
      "metadata": {
        "id": "-lVg08iTd0XN"
      },
      "source": [
        "### Subtask 3: Training\n",
        "\n",
        "We start by defining a loss function and an optimizer.\n",
        "\n",
        "\n",
        "*   **optimizer:** We use Adam with the learning rate=0.0001.\n",
        "*   **loss:** We use cross-entropy loss.\n",
        "\n",
        "Even though we have no `<unk>` tokens within our tag vocab, we still have `<pad>` tokens to create batches of the same size. However, we do not want to calculate loss on those tokens, so make sure you define your loss function in such a way that ignores the `<pad>` tokens.\n",
        "\n",
        "\n"
      ]
    },
    {
      "cell_type": "code",
      "execution_count": 17,
      "id": "8LEyNeKhmBvK",
      "metadata": {
        "id": "8LEyNeKhmBvK"
      },
      "outputs": [],
      "source": [
        "import torch.optim as optim\n",
        "import torch.nn.functional as F\n",
        "\n",
        "# Optimizer: Adam with learning rate=0.0001\n",
        "optimizer = optim.Adam(model.parameters(), lr=0.0001)\n",
        "\n",
        "# Loss function: Cross-entropy loss, ignoring <pad> tokens\n",
        "# You can use the ignore_index parameter to specify which index to ignore in the loss calculation\n",
        "loss_function = nn.CrossEntropyLoss(ignore_index=ud_vocab['<pad>'])\n"
      ]
    },
    {
      "cell_type": "markdown",
      "id": "95Cf7ZcVgLHK",
      "metadata": {
        "id": "95Cf7ZcVgLHK"
      },
      "source": [
        "Watching the loss go down as you train a model is a good indication of the correct training procedure, but does not tell us how well we are doing on a given task.\n",
        "To this end, we also implement a categorical accuracy measure to keep track of how well our model is doing on a given task.\n",
        "Same as before: we don't want to calculate accuracy over the `<pad>` tokens as we aren't interested in predicting them.\n",
        "Implement the function `categorical_acc` to compare the prediction of non-pad tokens with labels count the correct ones and calculate the accuracy over a single batch."
      ]
    },
    {
      "cell_type": "code",
      "execution_count": 18,
      "id": "J5OpDKuBitk1",
      "metadata": {
        "id": "J5OpDKuBitk1"
      },
      "outputs": [],
      "source": [
        "def categorical_acc(preds, gt, pad_idx):\n",
        "    \"\"\"\n",
        "    Returns categorical accuracy per batch\n",
        "    \"\"\"\n",
        "    max_preds =  preds.argmax(dim=1, keepdim=True) # get the index of the max probability\n",
        "\n",
        "    # Create a mask for non-padding tokens\n",
        "    non_pad_elements = (gt != pad_idx).nonzero()\n",
        "\n",
        "    # Extract non-padding predictions and ground truth\n",
        "    correct = max_preds[non_pad_elements].squeeze(1).eq(gt[non_pad_elements])\n",
        "\n",
        "    # Calculate accuracy\n",
        "    acc = correct.sum().item() / non_pad_elements.size(0)\n",
        "\n",
        "    return acc\n",
        "     ### your code ####"
      ]
    },
    {
      "cell_type": "code",
      "execution_count": 19,
      "id": "WANOhA56kjY_",
      "metadata": {
        "id": "WANOhA56kjY_",
        "colab": {
          "base_uri": "https://localhost:8080/"
        },
        "outputId": "3657c595-24d5-41bc-fbe2-d65f3d8ada78"
      },
      "outputs": [
        {
          "output_type": "execute_result",
          "data": {
            "text/plain": [
              "0.6666666666666666"
            ]
          },
          "metadata": {},
          "execution_count": 19
        }
      ],
      "source": [
        "dummpy_input=torch.tensor([\n",
        "    [0.9,0,0,0],\n",
        "    [0.1,0.9,0,0],\n",
        "    [0.1,0,0,0.9],\n",
        "    [0.9,0.1,0,0],\n",
        "    [0.1,0.8,0,0]\n",
        "\n",
        "])\n",
        "categorical_acc(dummpy_input, torch.tensor([0,2,3,0,1]), 0)"
      ]
    },
    {
      "cell_type": "markdown",
      "id": "y_wngIs7jFrT",
      "metadata": {
        "id": "y_wngIs7jFrT"
      },
      "source": [
        "Define the `train` model that performs one epoch of training. You can refer to the Tutorial 2 of the course to get a sample workflow. The only difference to the tutorial is that we keep track of the batch-wise accuracy as well as the loss."
      ]
    },
    {
      "cell_type": "code",
      "execution_count": 20,
      "id": "kyMs0FJNfGCp",
      "metadata": {
        "id": "kyMs0FJNfGCp"
      },
      "outputs": [],
      "source": [
        "def train(model, dataloader, optimizer, loss_function, pad_idx):\n",
        "\n",
        "    epoch_loss = 0\n",
        "    epoch_acc = 0\n",
        "\n",
        "    model.train()\n",
        "    epoch_start_time = time.time()\n",
        "\n",
        "    for length_dataloader,(text,tags) in enumerate(dataloader):\n",
        "        #### your code ####\n",
        "        optimizer.zero_grad()\n",
        "\n",
        "        # Forward pass\n",
        "        predictions = model(text)\n",
        "\n",
        "        # Calculate the loss, ignoring <pad> tokens\n",
        "\n",
        "        predictions = predictions.view(-1, predictions.shape[-1])\n",
        "        tags = tags.view(-1)\n",
        "\n",
        "        loss = loss_function(predictions, tags)\n",
        "\n",
        "        # Calculate accuracy\n",
        "        acc = categorical_acc(predictions, tags, pad_idx)\n",
        "\n",
        "        # Backward pass and optimization\n",
        "        loss.backward()\n",
        "        optimizer.step()\n",
        "\n",
        "        # Accumulate loss and accuracy for the entire epoch\n",
        "        epoch_loss += loss.item()\n",
        "        epoch_acc += acc\n",
        "        #### your code ####\n",
        "    end_time= time.time() - epoch_start_time\n",
        "    return epoch_loss / length_dataloader, epoch_acc / length_dataloader,end_time"
      ]
    },
    {
      "cell_type": "markdown",
      "id": "W0ytUn7vkdcR",
      "metadata": {
        "id": "W0ytUn7vkdcR"
      },
      "source": [
        "It is not enough to only look at the training loss and accuracy, since with more training, we can always do better on the training set, but lose the generalizability to unseen data, a phenomenon known as **overfitting**. Therefore, it is important to check the loss and accuracy on the validation set after each epoch and stop before  overfitting occurs. Moreover, we can use the validation metric as an indication of which checkpoint of our model is the best.\n",
        "\n",
        "Define an `evaluate` function that runs once through the validation set and computes loss and accuracy. **Note:** You should not be updating gradients here and your model should be in evaluation mode."
      ]
    },
    {
      "cell_type": "code",
      "execution_count": 21,
      "id": "0CKzEqyAfktd",
      "metadata": {
        "id": "0CKzEqyAfktd"
      },
      "outputs": [],
      "source": [
        "def evaluate(model, dataloader, loss_function, pad_idx):\n",
        "\n",
        "    val_loss = 0\n",
        "    val_acc = 0\n",
        "\n",
        "    ### your code ###\n",
        "    model.eval()\n",
        "    with torch.no_grad():\n",
        "        for length_dataloader,(text,tags) in enumerate(dataloader):\n",
        "            # Forward Pass\n",
        "            predictions = model(text)\n",
        "\n",
        "            predictions = predictions.view(-1, predictions.shape[-1])\n",
        "            tags = tags.view(-1)\n",
        "\n",
        "            # Calculate the loss, ignoring <pad> tokens\n",
        "            loss = loss_function(predictions, tags)\n",
        "\n",
        "            # Calculate accuracy\n",
        "            acc = categorical_acc(predictions, tags, pad_idx)\n",
        "\n",
        "            # Accumulate loss and accuracy for the entire evaluation set\n",
        "            val_loss += loss.item()\n",
        "            val_acc += acc\n",
        "     ### your code ###\n",
        "\n",
        "    return val_loss / length_dataloader, val_acc / length_dataloader"
      ]
    },
    {
      "cell_type": "markdown",
      "id": "3AZJidLFnOUW",
      "metadata": {
        "id": "3AZJidLFnOUW"
      },
      "source": [
        "Let's use the functions defined so far and train our model for `30` epochs. We suggest using GPU for this task, as it is quite slow on the CPU. Run the training loop for the given number of epochs and calculate the validation metric at the end of each epoch. Based on the validation loss, save the best checkpoint of the model."
      ]
    },
    {
      "cell_type": "code",
      "execution_count": 22,
      "id": "NblN-U0inVYc",
      "metadata": {
        "id": "NblN-U0inVYc",
        "colab": {
          "base_uri": "https://localhost:8080/"
        },
        "outputId": "5967df0f-9a73-4b85-f0dd-c95dde95d609"
      },
      "outputs": [
        {
          "output_type": "stream",
          "name": "stderr",
          "text": [
            "/usr/local/lib/python3.10/dist-packages/torch/utils/data/datapipes/iter/combining.py:333: UserWarning: Some child DataPipes are not exhausted when __iter__ is called. We are resetting the buffer and each child DataPipe will read from the start again.\n",
            "  warnings.warn(\"Some child DataPipes are not exhausted when __iter__ is called. We are resetting \"\n"
          ]
        },
        {
          "output_type": "stream",
          "name": "stdout",
          "text": [
            "Epoch: 01 | Epoch Time: 0m 6s\n",
            "\tTrain Loss: 2.638 | Train Acc: 19.67%\n",
            "\t Validation Loss: 2.416 |  Validation Acc: 31.50%\n",
            "Epoch: 02 | Epoch Time: 0m 2s\n",
            "\tTrain Loss: 2.044 | Train Acc: 38.42%\n",
            "\t Validation Loss: 1.777 |  Validation Acc: 52.15%\n",
            "Epoch: 03 | Epoch Time: 0m 2s\n",
            "\tTrain Loss: 1.578 | Train Acc: 52.61%\n",
            "\t Validation Loss: 1.382 |  Validation Acc: 63.36%\n",
            "Epoch: 04 | Epoch Time: 0m 3s\n",
            "\tTrain Loss: 1.319 | Train Acc: 59.88%\n",
            "\t Validation Loss: 1.180 |  Validation Acc: 69.13%\n",
            "Epoch: 05 | Epoch Time: 0m 3s\n",
            "\tTrain Loss: 1.169 | Train Acc: 64.26%\n",
            "\t Validation Loss: 1.062 |  Validation Acc: 72.56%\n",
            "Epoch: 06 | Epoch Time: 0m 2s\n",
            "\tTrain Loss: 1.074 | Train Acc: 66.96%\n",
            "\t Validation Loss: 0.984 |  Validation Acc: 75.21%\n",
            "Epoch: 07 | Epoch Time: 0m 2s\n",
            "\tTrain Loss: 1.004 | Train Acc: 68.98%\n",
            "\t Validation Loss: 0.927 |  Validation Acc: 76.53%\n",
            "Epoch: 08 | Epoch Time: 0m 3s\n",
            "\tTrain Loss: 0.948 | Train Acc: 70.68%\n",
            "\t Validation Loss: 0.882 |  Validation Acc: 78.04%\n",
            "Epoch: 09 | Epoch Time: 0m 5s\n",
            "\tTrain Loss: 0.902 | Train Acc: 72.08%\n",
            "\t Validation Loss: 0.842 |  Validation Acc: 78.99%\n",
            "Epoch: 10 | Epoch Time: 0m 3s\n",
            "\tTrain Loss: 0.862 | Train Acc: 73.25%\n",
            "\t Validation Loss: 0.806 |  Validation Acc: 80.45%\n",
            "Epoch: 11 | Epoch Time: 0m 3s\n",
            "\tTrain Loss: 0.826 | Train Acc: 74.33%\n",
            "\t Validation Loss: 0.781 |  Validation Acc: 80.95%\n",
            "Epoch: 12 | Epoch Time: 0m 6s\n",
            "\tTrain Loss: 0.795 | Train Acc: 75.40%\n",
            "\t Validation Loss: 0.754 |  Validation Acc: 82.00%\n",
            "Epoch: 13 | Epoch Time: 0m 3s\n",
            "\tTrain Loss: 0.767 | Train Acc: 76.21%\n",
            "\t Validation Loss: 0.734 |  Validation Acc: 82.82%\n",
            "Epoch: 14 | Epoch Time: 0m 2s\n",
            "\tTrain Loss: 0.744 | Train Acc: 76.89%\n",
            "\t Validation Loss: 0.707 |  Validation Acc: 83.54%\n",
            "Epoch: 15 | Epoch Time: 0m 2s\n",
            "\tTrain Loss: 0.721 | Train Acc: 77.65%\n",
            "\t Validation Loss: 0.689 |  Validation Acc: 84.17%\n",
            "Epoch: 16 | Epoch Time: 0m 3s\n",
            "\tTrain Loss: 0.699 | Train Acc: 78.32%\n",
            "\t Validation Loss: 0.676 |  Validation Acc: 84.54%\n",
            "Epoch: 17 | Epoch Time: 0m 3s\n",
            "\tTrain Loss: 0.680 | Train Acc: 78.92%\n",
            "\t Validation Loss: 0.656 |  Validation Acc: 85.12%\n",
            "Epoch: 18 | Epoch Time: 0m 2s\n",
            "\tTrain Loss: 0.660 | Train Acc: 79.60%\n",
            "\t Validation Loss: 0.642 |  Validation Acc: 85.65%\n",
            "Epoch: 19 | Epoch Time: 0m 3s\n",
            "\tTrain Loss: 0.646 | Train Acc: 79.98%\n",
            "\t Validation Loss: 0.624 |  Validation Acc: 86.08%\n",
            "Epoch: 20 | Epoch Time: 0m 3s\n",
            "\tTrain Loss: 0.628 | Train Acc: 80.58%\n",
            "\t Validation Loss: 0.615 |  Validation Acc: 86.40%\n",
            "Epoch: 21 | Epoch Time: 0m 3s\n",
            "\tTrain Loss: 0.614 | Train Acc: 80.97%\n",
            "\t Validation Loss: 0.601 |  Validation Acc: 86.89%\n",
            "Epoch: 22 | Epoch Time: 0m 3s\n",
            "\tTrain Loss: 0.602 | Train Acc: 81.44%\n",
            "\t Validation Loss: 0.592 |  Validation Acc: 87.17%\n",
            "Epoch: 23 | Epoch Time: 0m 3s\n",
            "\tTrain Loss: 0.588 | Train Acc: 81.85%\n",
            "\t Validation Loss: 0.580 |  Validation Acc: 87.40%\n",
            "Epoch: 24 | Epoch Time: 0m 4s\n",
            "\tTrain Loss: 0.577 | Train Acc: 82.12%\n",
            "\t Validation Loss: 0.579 |  Validation Acc: 87.51%\n",
            "Epoch: 25 | Epoch Time: 0m 3s\n",
            "\tTrain Loss: 0.562 | Train Acc: 82.58%\n",
            "\t Validation Loss: 0.560 |  Validation Acc: 88.06%\n",
            "Epoch: 26 | Epoch Time: 0m 3s\n",
            "\tTrain Loss: 0.552 | Train Acc: 82.89%\n",
            "\t Validation Loss: 0.553 |  Validation Acc: 88.40%\n",
            "Epoch: 27 | Epoch Time: 0m 3s\n",
            "\tTrain Loss: 0.543 | Train Acc: 83.28%\n",
            "\t Validation Loss: 0.546 |  Validation Acc: 88.68%\n",
            "Epoch: 28 | Epoch Time: 0m 3s\n",
            "\tTrain Loss: 0.532 | Train Acc: 83.54%\n",
            "\t Validation Loss: 0.532 |  Validation Acc: 89.18%\n",
            "Epoch: 29 | Epoch Time: 0m 6s\n",
            "\tTrain Loss: 0.520 | Train Acc: 83.96%\n",
            "\t Validation Loss: 0.526 |  Validation Acc: 89.43%\n",
            "Epoch: 30 | Epoch Time: 0m 3s\n",
            "\tTrain Loss: 0.511 | Train Acc: 84.26%\n",
            "\t Validation Loss: 0.515 |  Validation Acc: 89.68%\n"
          ]
        }
      ],
      "source": [
        "epochs = 30\n",
        "\n",
        "best_valid_loss = float('inf')\n",
        "\n",
        "for epoch in range(epochs):\n",
        "    ### your code ###\n",
        "    train_loss, train_acc, epoch_time = train(model, train_dataloader, optimizer, loss_function, vocab['<pad>'])\n",
        "    valid_loss, valid_acc = evaluate(model, valid_dataloader, loss_function, vocab['<pad>'])\n",
        "\n",
        "    # Save the model if the validation loss is the best so far\n",
        "    if valid_loss < best_valid_loss:\n",
        "        best_valid_loss = valid_loss\n",
        "        torch.save(model.state_dict(), 'best_model.pth')\n",
        "\n",
        "    ### your code ###\n",
        "    elapsed_mins = int(epoch_time / 60)\n",
        "    elapsed_secs = int(epoch_time - (elapsed_mins * 60))\n",
        "    print(f'Epoch: {epoch+1:02} | Epoch Time: {elapsed_mins}m {elapsed_secs}s')\n",
        "    print(f'\\tTrain Loss: {train_loss:.3f} | Train Acc: {train_acc*100:.2f}%')\n",
        "    print(f'\\t Validation Loss: {valid_loss:.3f} |  Validation Acc: {valid_acc*100:.2f}%')"
      ]
    },
    {
      "cell_type": "markdown",
      "id": "7dXTYFEbHzNL",
      "metadata": {
        "id": "7dXTYFEbHzNL"
      },
      "source": [
        "Question:\n",
        "\n",
        "1. Does overfitting occur? If so, after which epochs?\n",
        "\n",
        "2. How do you detect overfitting?\n"
      ]
    },
    {
      "cell_type": "markdown",
      "id": "9qSbr8CrH9hD",
      "metadata": {
        "id": "9qSbr8CrH9hD"
      },
      "source": [
        "**Answer:**\n",
        "```\n",
        "Write your answer here.\n",
        "```"
      ]
    },
    {
      "cell_type": "markdown",
      "id": "GmqNesqiMISb",
      "metadata": {
        "id": "GmqNesqiMISb"
      },
      "source": [
        "Let's see how well our model is doing on the test set. Load the best checkpoint and calculate the accuracy."
      ]
    },
    {
      "cell_type": "code",
      "execution_count": 24,
      "id": "SgCFqby0m8sf",
      "metadata": {
        "id": "SgCFqby0m8sf",
        "colab": {
          "base_uri": "https://localhost:8080/"
        },
        "outputId": "c80b45e2-17b8-4dad-f2b4-3448f5d82a6b"
      },
      "outputs": [
        {
          "output_type": "stream",
          "name": "stdout",
          "text": [
            "Validation Loss: 0.5170 |  Validation Acc: 89.64%\n"
          ]
        }
      ],
      "source": [
        "#### you code ####\n",
        "model.load_state_dict(torch.load('best_model.pth'))\n",
        "\n",
        "valid_loss, test_acc = evaluate(model, valid_dataloader, loss_function, vocab['<pad>'])\n",
        "#### you code ####\n",
        "print(f'Validation Loss: {valid_loss:.4f} |  Validation Acc: {test_acc*100:.2f}%')"
      ]
    },
    {
      "cell_type": "markdown",
      "id": "tMIDBeSFyqJr",
      "metadata": {
        "id": "tMIDBeSFyqJr"
      },
      "source": [
        "####${\\color{red}{Comments\\ 1.3}}$\n",
        "\n",
        "${\\color{red}{⚠️Comments\\ begin⚠️}}$\n",
        "\n",
        "\n",
        "```\n",
        "cross-feedback comment section\n",
        "```\n",
        "\n",
        "\n",
        "${\\color{red}{⚠️Comments\\ end⚠️}}$"
      ]
    },
    {
      "cell_type": "markdown",
      "id": "7dPfzmVGMeSO",
      "metadata": {
        "id": "7dPfzmVGMeSO"
      },
      "source": [
        "### Subtask 4: Inference\n",
        "\n",
        "Let's use the model we trained to tag some actual sentences. We have the preprocessing pipeline ready from Subtask 1, now we need to map the predictions back to label texts for each token.\n",
        "\n",
        "Implement the `tag_sequence` function that takes a model and a sentence as input and generates POS tags. Keep in mind that you need to divide the sentence into tokens first. For this purpose, we just split each sentence on whitespaces."
      ]
    },
    {
      "cell_type": "code",
      "execution_count": 36,
      "id": "Xe7_ROCyEslD",
      "metadata": {
        "id": "Xe7_ROCyEslD"
      },
      "outputs": [],
      "source": [
        "def tag_sentence(model, sentence):\n",
        "\n",
        "    global ud_vocab\n",
        "    ### your code ###\n",
        "    model.eval()\n",
        "\n",
        "    #divide on whitespaces\n",
        "    tokens = sentence.split(\" \")\n",
        "\n",
        "    token_tensor =torch.tensor(text_pipeline(tokens))\n",
        "\n",
        "    token_tensor = token_tensor.unsqueeze(-1).to(device)\n",
        "\n",
        "    predictions = model(token_tensor)\n",
        "\n",
        "    top_predictions = predictions.argmax(-1)\n",
        "\n",
        "    # print([t.item() for t in top_predictions])\n",
        "    itos = ud_vocab.vocab.get_itos()\n",
        "    predicted_tags = [itos[t.item()] for t in top_predictions]\n",
        "\n",
        "    return predicted_tags\n"
      ]
    },
    {
      "cell_type": "code",
      "execution_count": 37,
      "id": "JtiR75PFRR61",
      "metadata": {
        "id": "JtiR75PFRR61",
        "colab": {
          "base_uri": "https://localhost:8080/"
        },
        "outputId": "916241c3-924b-4920-c7ed-be598e6928b4"
      },
      "outputs": [
        {
          "output_type": "stream",
          "name": "stdout",
          "text": [
            "Text:  What if Google Morphed Into GoogleOS ?\n",
            "Predicted Tags:  ['PRON', 'SCONJ', 'VERB', 'VERB', 'PROPN', 'PROPN', 'PUNCT']\n",
            "True Tags:  ['PRON', 'SCONJ', 'PROPN', 'VERB', 'ADP', 'PROPN', 'PUNCT']\n"
          ]
        }
      ],
      "source": [
        "text=\" \".join(list(UDPOS(split='test'))[0][0])\n",
        "label= list(UDPOS(split='test'))[0][1]\n",
        "predicted_tag=tag_sentence(model,text)\n",
        "print(\"Text: \",text)\n",
        "print(\"Predicted Tags: \",predicted_tag)\n",
        "print(\"True Tags: \",label)"
      ]
    },
    {
      "cell_type": "markdown",
      "id": "7bPriv78yuyQ",
      "metadata": {
        "id": "7bPriv78yuyQ"
      },
      "source": [
        "####${\\color{red}{Comments\\ 1.4}}$\n",
        "\n",
        "${\\color{red}{⚠️Comments\\ begin⚠️}}$\n",
        "\n",
        "\n",
        "```\n",
        "cross-feedback comment section\n",
        "```\n",
        "\n",
        "\n",
        "${\\color{red}{⚠️Comments\\ end⚠️}}$"
      ]
    },
    {
      "cell_type": "markdown",
      "id": "X4n7Xi4TT_Ww",
      "metadata": {
        "id": "X4n7Xi4TT_Ww"
      },
      "source": [
        "## **Task 2: Theoretical Questions** (0.5+1.5+1+3=6 points)"
      ]
    },
    {
      "cell_type": "markdown",
      "id": "QbQJ3baXUHkQ",
      "metadata": {
        "id": "QbQJ3baXUHkQ"
      },
      "source": [
        "### Subtask 1:\n",
        "In beam search, if you increase the beam width, what will happen to a) the runtime and memory and b) the quality of results?"
      ]
    },
    {
      "cell_type": "markdown",
      "id": "Ei5A-D_djZup",
      "metadata": {
        "id": "Ei5A-D_djZup"
      },
      "source": [
        "**Answer:**\n",
        "\n",
        "\n",
        "```\n",
        "Write your answer here.\n",
        "```\n",
        "\n"
      ]
    },
    {
      "cell_type": "markdown",
      "id": "RuzX2q7TywyW",
      "metadata": {
        "id": "RuzX2q7TywyW"
      },
      "source": [
        "####${\\color{red}{Comments\\ 2.1}}$\n",
        "\n",
        "${\\color{red}{⚠️Comments\\ begin⚠️}}$\n",
        "\n",
        "\n",
        "```\n",
        "cross-feedback comment section\n",
        "```\n",
        "\n",
        "\n",
        "${\\color{red}{⚠️Comments\\ end⚠️}}$"
      ]
    },
    {
      "cell_type": "markdown",
      "id": "N7KlRPnhknbl",
      "metadata": {
        "id": "N7KlRPnhknbl"
      },
      "source": [
        "### Subtask 2:\n",
        "Except for beam search, there are other ways to create a more coherent output for generation tasks, one of which is adding a temperature to the softmax over the vocabulary. Temperature is a hyperparameter that is applied to the input of a softmax to affect the final probabilities. All values in the input are divided by the temperature before going through the softmax. What do you think will happen in these cases:\n",
        "\n",
        "1. A low temperature - below 1\n",
        "2. A high temperature - above 1\n",
        "3. Really small temperature - temperature $→$ 0"
      ]
    },
    {
      "cell_type": "markdown",
      "id": "uxuh5LOFnF3D",
      "metadata": {
        "id": "uxuh5LOFnF3D"
      },
      "source": [
        "**Answer:**\n",
        "```\n",
        "Write your answer here.\n",
        "```"
      ]
    },
    {
      "cell_type": "markdown",
      "id": "GmW4NNb4yyZF",
      "metadata": {
        "id": "GmW4NNb4yyZF"
      },
      "source": [
        "####${\\color{red}{Comments\\ 2.2}}$\n",
        "\n",
        "${\\color{red}{⚠️Comments\\ begin⚠️}}$\n",
        "\n",
        "\n",
        "```\n",
        "cross-feedback comment section\n",
        "```\n",
        "\n",
        "\n",
        "${\\color{red}{⚠️Comments\\ end⚠️}}$"
      ]
    },
    {
      "cell_type": "markdown",
      "id": "tM2DmNOwod4r",
      "metadata": {
        "id": "tM2DmNOwod4r"
      },
      "source": [
        "### Subtask 3:\n",
        "Explain what the “bottleneck” of an encoder-decoder RNN is and how attention provides a way to get around this bottleneck."
      ]
    },
    {
      "cell_type": "markdown",
      "id": "DNJ3f_MtdzrM",
      "metadata": {
        "id": "DNJ3f_MtdzrM"
      },
      "source": [
        "**Answer:**\n",
        "```\n",
        "Write your answer here.\n",
        "```"
      ]
    },
    {
      "cell_type": "markdown",
      "id": "JFUHVF40y0j-",
      "metadata": {
        "id": "JFUHVF40y0j-"
      },
      "source": [
        "####${\\color{red}{Comments\\ 2.3}}$\n",
        "\n",
        "${\\color{red}{⚠️Comments\\ begin⚠️}}$\n",
        "\n",
        "\n",
        "```\n",
        "cross-feedback comment section\n",
        "```\n",
        "\n",
        "\n",
        "${\\color{red}{⚠️Comments\\ end⚠️}}$"
      ]
    },
    {
      "cell_type": "markdown",
      "id": "HaHhdLdJehL3",
      "metadata": {
        "id": "HaHhdLdJehL3"
      },
      "source": [
        "### Subtask 4:\n",
        "As mentioned, there are various way to remedy the repetitiveness and incoherence of generation outputs. One of the widely used methods is Nucleus sampling described the paper \"[ The Curious Case of Neural Text DeGeneration](https://arxiv.org/pdf/1904.09751.pdf)\". Read the model section and introduction of the paper and use it as reference to answer the following questions:\n",
        "\n",
        "1. Describe top-k sampling in your own words, no need for mathematical notation.\n",
        "2. Describe Nucleus sampling in your own words, there is not need for mathematical notation.\n",
        "3.  Why is beam search not a good strategy for human-like text generation and why don't these methods suffer from the problem of the beam search?\n"
      ]
    },
    {
      "cell_type": "markdown",
      "id": "9Ojtbn1kgaYE",
      "metadata": {
        "id": "9Ojtbn1kgaYE"
      },
      "source": [
        "**Answer:**\n",
        "```\n",
        "Write your answer here.\n",
        "```"
      ]
    },
    {
      "cell_type": "markdown",
      "id": "0wU67Iqpy2rg",
      "metadata": {
        "id": "0wU67Iqpy2rg"
      },
      "source": [
        "####${\\color{red}{Comments\\ 2.4}}$\n",
        "\n",
        "${\\color{red}{⚠️Comments\\ begin⚠️}}$\n",
        "\n",
        "\n",
        "```\n",
        "cross-feedback comment section\n",
        "```\n",
        "\n",
        "\n",
        "${\\color{red}{⚠️Comments\\ end⚠️}}$"
      ]
    },
    {
      "cell_type": "markdown",
      "id": "IZl0-MMY6MWs",
      "metadata": {
        "id": "IZl0-MMY6MWs"
      },
      "source": [
        "## **Task 3: Scaled Dot-Product Attention** (4+1=5 points)\n",
        "In class, you learned about attention and Transformers as described in the 2017 paper\n",
        "[Attention Is All You Need](https://arxiv.org/abs/1706.03762).\n",
        "The base of the attention module is a scaled dot product with Queries, Keys, and Values.\n",
        "In this task, you will implement a simplified version of scaled dot-product attention and inspired by the translation task, aim to replicate word alignment between English and French.\n",
        "You will not be training the embedding from scratch, we provide you with pre-trained embedding for both languages.\n",
        "However, you need to know the details of scaled dot product attention, which mainly consists of two matrix multiplications and a softmax scaling.\n",
        "Refer to Figure 2 of the [Attention Is All You Need](https://arxiv.org/abs/1706.03762) paper.\n",
        "\n",
        "The inputs of the attention module are Queries, Keys, and Values. Mathematically, attention is defined as follows:\n",
        "\n",
        "$$\n",
        "\\large \\mathrm{Attention}\\left(Q, K, V\\right) = \\mathrm{softmax}\\left(\\frac{QK^{\\top}}{\\sqrt{d_k}}\\right)V\n",
        "$$\n",
        "\n",
        "\n",
        "*   $Q$, $K$, and $V$ are the Queries, Keys, and Values matrices.\n",
        "* $d_k$ is the dimension of the Keys (in practice dimensions of all matrices are the same).\n",
        "*   $QK^{\\top}$ is a measure of the similarity between the Queries and the Keys\n",
        "* softmax transforms the similarity into weights.\n",
        "* Weights multiplied by the Values are the output of the attention, defining how much importance should be given to each token of the input.\n",
        "\n",
        "In the case of self-attention, both Queries and Keys come from the encoder, however, for cross attention between encoder and decoder, decoder states are used as the queries while encoder states are the Keys and Values.\n",
        "In our case, we need the cross attention between one language to another to find the correct alignment.\n"
      ]
    },
    {
      "cell_type": "code",
      "execution_count": null,
      "id": "gOP3Fa8IfkMK",
      "metadata": {
        "id": "gOP3Fa8IfkMK",
        "outputId": "f5e9dee7-9fc0-4aca-f245-fefc898e08df"
      },
      "outputs": [
        {
          "name": "stdout",
          "output_type": "stream",
          "text": [
            "Requirement already satisfied: matplotlib in c:\\users\\ozgeb\\appdata\\local\\programs\\python\\python311\\lib\\site-packages (3.7.1)\n",
            "Requirement already satisfied: contourpy>=1.0.1 in c:\\users\\ozgeb\\appdata\\local\\programs\\python\\python311\\lib\\site-packages (from matplotlib) (1.0.7)\n",
            "Requirement already satisfied: cycler>=0.10 in c:\\users\\ozgeb\\appdata\\local\\programs\\python\\python311\\lib\\site-packages (from matplotlib) (0.11.0)\n",
            "Requirement already satisfied: fonttools>=4.22.0 in c:\\users\\ozgeb\\appdata\\local\\programs\\python\\python311\\lib\\site-packages (from matplotlib) (4.39.4)\n",
            "Requirement already satisfied: kiwisolver>=1.0.1 in c:\\users\\ozgeb\\appdata\\local\\programs\\python\\python311\\lib\\site-packages (from matplotlib) (1.4.4)\n",
            "Requirement already satisfied: numpy>=1.20 in c:\\users\\ozgeb\\appdata\\local\\programs\\python\\python311\\lib\\site-packages (from matplotlib) (1.24.3)\n",
            "Requirement already satisfied: packaging>=20.0 in c:\\users\\ozgeb\\appdata\\local\\programs\\python\\python311\\lib\\site-packages (from matplotlib) (23.1)\n",
            "Requirement already satisfied: pillow>=6.2.0 in c:\\users\\ozgeb\\appdata\\local\\programs\\python\\python311\\lib\\site-packages (from matplotlib) (9.5.0)\n",
            "Requirement already satisfied: pyparsing>=2.3.1 in c:\\users\\ozgeb\\appdata\\local\\programs\\python\\python311\\lib\\site-packages (from matplotlib) (3.0.9)\n",
            "Requirement already satisfied: python-dateutil>=2.7 in c:\\users\\ozgeb\\appdata\\local\\programs\\python\\python311\\lib\\site-packages (from matplotlib) (2.8.2)\n",
            "Requirement already satisfied: six>=1.5 in c:\\users\\ozgeb\\appdata\\local\\programs\\python\\python311\\lib\\site-packages (from python-dateutil>=2.7->matplotlib) (1.16.0)\n",
            "Note: you may need to restart the kernel to use updated packages.\n"
          ]
        }
      ],
      "source": [
        "%pip install matplotlib"
      ]
    },
    {
      "cell_type": "code",
      "execution_count": null,
      "id": "tB6RD3wssHe9",
      "metadata": {
        "id": "tB6RD3wssHe9"
      },
      "outputs": [],
      "source": [
        "import pickle\n",
        "import matplotlib.pyplot as plt\n",
        "import numpy as np\n",
        "#load the dictionaries (dictionary of words to ids)\n",
        "with open(\"./word2int_en.pkl\", \"rb\") as f:\n",
        "    en_dict = pickle.load(f)\n",
        "\n",
        "with open(\"./word2int_fr.pkl\", \"rb\") as f:\n",
        "    fr_dict = pickle.load(f)\n",
        "\n",
        "# load word embeddings (dictionary of token ids to embeddings)\n",
        "en_embeddings = np.load(\"./embeddings_en.npz\")[\"embeddings\"]\n",
        "fr_embeddings = np.load(\"./embeddings_fr.npz\")[\"embeddings\"]\n"
      ]
    },
    {
      "cell_type": "markdown",
      "id": "7VYjN1xHsbYj",
      "metadata": {
        "id": "7VYjN1xHsbYj"
      },
      "source": [
        "### Subtask 1: Attention Weights\n",
        "Fill the blanks in `tokenize` to tokenize a sentence and convert it to ids and `embed` function to create an embedding of a sentence."
      ]
    },
    {
      "cell_type": "code",
      "execution_count": null,
      "id": "cwS_M10nwOBH",
      "metadata": {
        "id": "cwS_M10nwOBH"
      },
      "outputs": [],
      "source": [
        "en_dict['<unk>'] = -1\n",
        "fr_dict['<unk>'] = -1\n",
        "\n",
        "def tokenize(sentence, token_mapping):\n",
        "    # we stick to simple blank space tokenization\n",
        "    tokenized = []\n",
        "    for word in sentence.lower().split(\" \"):\n",
        "        if word in token_mapping:\n",
        "            tokenized.append(token_mapping[word])\n",
        "        else:\n",
        "            # Use a special token for out-of-vocabulary words\n",
        "            tokenized.append(token_mapping['<unk>'])\n",
        "    return tokenized\n",
        "\n",
        "def embed(tokens, embeddings):\n",
        "    \"\"\" get the embedding for the tokens in a sentence stacked in a simple matrix (sequence length, embedding size)\n",
        "        tokens: tokenized sentence\n",
        "        embeddings: dictionary of token to embeddings.\n",
        "    \"\"\"\n",
        "    embed_size = embeddings.shape[1]\n",
        "\n",
        "    # Initialize an empty matrix to store embeddings\n",
        "    output = np.zeros((len(tokens), embed_size))\n",
        "\n",
        "    # Populate the matrix with embeddings\n",
        "    for i, token_id in enumerate(tokens):\n",
        "        output[i, :] = embeddings[token_id]\n",
        "\n",
        "    return output"
      ]
    },
    {
      "cell_type": "code",
      "execution_count": null,
      "id": "dkAulXarueT_",
      "metadata": {
        "id": "dkAulXarueT_",
        "outputId": "7f0c93a8-e014-4634-cdbf-114c4353a824"
      },
      "outputs": [
        {
          "name": "stdout",
          "output_type": "stream",
          "text": [
            "Tokenized english: [59, 40, 9355, 6, 158, -1]\n",
            "embedding english: (6, 300)\n",
            "Tokenized french: [21, 73, 192, 16, 8652, -1, 558, -1]\n",
            "embedding french: (8, 300)\n"
          ]
        }
      ],
      "source": [
        "sentence_en = \"there were clouds in my coffeeeeee.\"\n",
        "tokenized_en = tokenize(sentence_en, en_dict)\n",
        "embedded_en = embed(tokenized_en, en_embeddings)\n",
        "print(\"Tokenized english:\",tokenized_en)\n",
        "print(\"embedding english:\",embedded_en.shape)\n",
        "\n",
        "sentence_fr = \"il y avait des nuages ​​dans mon ccafé.\"\n",
        "tokenized_fr = tokenize(sentence_fr, fr_dict)\n",
        "embedded_fr = embed(tokenized_fr, fr_embeddings)\n",
        "print(\"Tokenized french:\",tokenized_fr)\n",
        "print(\"embedding french:\",embedded_fr.shape)"
      ]
    },
    {
      "cell_type": "markdown",
      "id": "WJ58FCMpsHJP",
      "metadata": {
        "id": "WJ58FCMpsHJP"
      },
      "source": [
        "\n",
        "Implement the `softmax` function with `Numpy`.\n"
      ]
    },
    {
      "cell_type": "code",
      "execution_count": null,
      "id": "caOjXfbxon9h",
      "metadata": {
        "id": "caOjXfbxon9h"
      },
      "outputs": [],
      "source": [
        "def softmax(x, axis=0):\n",
        "    \"\"\"\n",
        "    x: input matrix\n",
        "    axis: defines which axis to compute the softmax over; 0 for rows and 1 for columns\n",
        "          axis=0 calculates softmax across rows, each column sums to 1\n",
        "          axis=1 calculates softmax across columns, each row sums to 1\n",
        "    \"\"\"\n",
        "    # Subtract the maximum value for numerical stability\n",
        "    exp_x = np.exp(x - np.max(x, axis=axis, keepdims=True))\n",
        "\n",
        "    # Compute softmax\n",
        "    softmax_x = exp_x / np.sum(exp_x, axis=axis, keepdims=True)\n",
        "\n",
        "    return softmax_x"
      ]
    },
    {
      "cell_type": "code",
      "execution_count": null,
      "id": "kCbjmG49p-v0",
      "metadata": {
        "id": "kCbjmG49p-v0",
        "outputId": "8427c88c-d8fd-4b81-e319-be8434a54808"
      },
      "outputs": [
        {
          "data": {
            "text/plain": [
              "1.0"
            ]
          },
          "execution_count": 8,
          "metadata": {},
          "output_type": "execute_result"
        }
      ],
      "source": [
        "w=softmax(np.array([[1,3,4,1], [24,3,2,3]]),axis=0)\n",
        "w.sum(axis=0)[0]"
      ]
    },
    {
      "cell_type": "markdown",
      "id": "oNqtNPB9orLr",
      "metadata": {
        "id": "oNqtNPB9orLr"
      },
      "source": [
        "Use the `softmax` function to calculate the weights.\n",
        "$$ \\mathrm{softmax}\\left(\\frac{QK^{\\top}}{\\sqrt{d_k}}\\right)$$\n",
        "Assume the queries and keys are 2D matrices."
      ]
    },
    {
      "cell_type": "code",
      "execution_count": null,
      "id": "ysRdVCnP7Qir",
      "metadata": {
        "id": "ysRdVCnP7Qir"
      },
      "outputs": [],
      "source": [
        "def calc_weights(queries, keys):\n",
        "    \"\"\"\n",
        "    queries: queries matrix\n",
        "    keys: keys matrix\n",
        "    \"\"\"\n",
        "    # Calculate dot product of Queries and Keys\n",
        "    dot_product = np.dot(queries, keys.T)\n",
        "\n",
        "    # Calculate scaling factor (square root of the dimension of the Keys)\n",
        "    dk = np.sqrt(keys.shape[-1])\n",
        "\n",
        "    # Apply softmax to obtain attention weights\n",
        "    weights = softmax(dot_product / dk, axis=-1)\n",
        "\n",
        "    return weights"
      ]
    },
    {
      "cell_type": "code",
      "execution_count": null,
      "id": "LVYGelEsqsoo",
      "metadata": {
        "id": "LVYGelEsqsoo",
        "outputId": "0ea47113-5bab-4c5b-eea3-77629ed0bf98"
      },
      "outputs": [
        {
          "name": "stdout",
          "output_type": "stream",
          "text": [
            "[[0.19557032 0.80442968]\n",
            " [0.19557032 0.80442968]]\n"
          ]
        },
        {
          "data": {
            "text/plain": [
              "1.0"
            ]
          },
          "execution_count": 10,
          "metadata": {},
          "output_type": "execute_result"
        }
      ],
      "source": [
        "weights=calc_weights(np.array([[1,3],[1,3]]),np.array([[0,3],[2,3]]))\n",
        "print(weights)\n",
        "weights.sum(axis=1)[0]"
      ]
    },
    {
      "cell_type": "markdown",
      "id": "16V5yFAew1Hx",
      "metadata": {
        "id": "16V5yFAew1Hx"
      },
      "source": [
        "Use the `calcu_weights` to compute the attention matrix between two sentences from English and French and visualize the weights to check for alignments."
      ]
    },
    {
      "cell_type": "code",
      "execution_count": null,
      "id": "miW865arw9Fv",
      "metadata": {
        "id": "miW865arw9Fv",
        "outputId": "2c6463a5-bebf-44aa-977c-69237d632e9d"
      },
      "outputs": [
        {
          "data": {
            "image/png": "[encoded data removed]",
            "text/plain": [
              "<Figure size 500x500 with 1 Axes>"
            ]
          },
          "metadata": {},
          "output_type": "display_data"
        }
      ],
      "source": [
        "sentence_en = \"there were clouds in my coffee and unicorns in the sky.\"\n",
        "tokenized_en = tokenize(sentence_en, en_dict)\n",
        "embedded_en = embed(tokenized_en, en_embeddings)\n",
        "\n",
        "sentence_fr = \"il y avait des nuages ​​dans mon café et des licornes dans le ciel.\"\n",
        "tokenized_fr = tokenize(sentence_fr, fr_dict)\n",
        "embedded_fr = embed(tokenized_fr, fr_embeddings)\n",
        "\n",
        "alignment = calc_weights(embedded_fr, embedded_en)\n",
        "# visualize weights\n",
        "fig, ax = plt.subplots(figsize=(5,5))\n",
        "ax.imshow(alignment,cmap='gray')\n",
        "ax.xaxis.tick_top()\n",
        "ax.set_xticks(np.arange(alignment.shape[1]))\n",
        "ax.set_xticklabels(sentence_en.split(\" \"), rotation=90, size=12);\n",
        "ax.set_yticks(np.arange(alignment.shape[0]));\n",
        "ax.set_yticklabels(sentence_fr.split(\" \"), size=12);\n",
        "\n",
        "### your code to compute the top-2 ###\n",
        "\n",
        "### your code ###\n",
        "\n",
        "# Compute the top-2 alignments\n",
        "top2_indices = np.argsort(alignment, axis=None)[::-1][:2]\n",
        "top2_positions = np.unravel_index(top2_indices, alignment.shape)\n",
        "\n",
        "# Highlight the top-2 alignments\n",
        "ax.plot(top2_positions[1], top2_positions[0], 'ro')  # 'ro' means red color, circle marker\n",
        "\n",
        "plt.show()"
      ]
    },
    {
      "cell_type": "markdown",
      "id": "0BxnOJJ2xhIZ",
      "metadata": {
        "id": "0BxnOJJ2xhIZ"
      },
      "source": [
        "1. What are the top 2 alignments shown in the figure?\n",
        "2. On the rows you see flat lines for `ciel` and `dans` and `licornes`, why do you think that is?"
      ]
    },
    {
      "cell_type": "code",
      "execution_count": null,
      "id": "9c2c0d71",
      "metadata": {
        "id": "9c2c0d71",
        "outputId": "6a7effe1-0aed-4ce7-8f91-3b1b8123b143"
      },
      "outputs": [
        {
          "name": "stdout",
          "output_type": "stream",
          "text": [
            "(array([4, 8], dtype=int64), array([2, 6], dtype=int64))\n"
          ]
        }
      ],
      "source": [
        "print(top2_positions)"
      ]
    },
    {
      "cell_type": "markdown",
      "id": "QUwdKXhZxqUP",
      "metadata": {
        "id": "QUwdKXhZxqUP"
      },
      "source": [
        "**Answer:**\n",
        "\n",
        "```\n",
        "1) The first tuple (4, 2) corresponds to the maximum attention weight, where the word in the 4th position of the French sentence aligns with the word in the 2nd position of the English sentence.\n",
        "\n",
        "The second tuple (8, 6) corresponds to the second-highest attention weight, where the word in the 8th position of the French sentence aligns with the word in the 6th position of the English sentence.\n",
        "\n",
        "These tuples represent the top-2 alignments, showing which words in the French sentence have the highest attention with respect to the words in the English sentence.\n",
        "\n",
        "2) As for the flat lines, it indicates that these specific words in the French sentence (\"ciel,\" \"dans,\" and \"licornes\") have relatively low attention weights with respect to the words in the English sentence.\n",
        "Words in the French sentence are not strongly aligned with any specific words in the English sentence.\n",
        "```"
      ]
    },
    {
      "cell_type": "markdown",
      "id": "C2TnQmsxy70i",
      "metadata": {
        "id": "C2TnQmsxy70i"
      },
      "source": [
        "####${\\color{red}{Comments\\ 3.1}}$\n",
        "\n",
        "${\\color{red}{⚠️Comments\\ begin⚠️}}$\n",
        "\n",
        "\n",
        "```\n",
        "cross-feedback comment section\n",
        "```\n",
        "\n",
        "\n",
        "${\\color{red}{⚠️Comments\\ end⚠️}}$"
      ]
    },
    {
      "cell_type": "markdown",
      "id": "eqXwL4MpzW--",
      "metadata": {
        "id": "eqXwL4MpzW--"
      },
      "source": [
        "### Subtask 2: Scaled Dot-product\n",
        "Implement the scaled dot-product attention using the functions from above.\n",
        "\n"
      ]
    },
    {
      "cell_type": "code",
      "execution_count": null,
      "id": "8iQTr4KCzqZk",
      "metadata": {
        "id": "8iQTr4KCzqZk",
        "outputId": "61be3fc2-e05e-44f1-e903-9255d3829147"
      },
      "outputs": [
        {
          "name": "stdout",
          "output_type": "stream",
          "text": [
            "(14, 300)\n",
            "[[-0.01465396 -0.00349964 -0.01659316  0.06743862 -0.01879631  0.00778681\n",
            "   0.00148305 -0.0552838   0.03413273  0.04849195]\n",
            " [-0.01466722 -0.0034074  -0.01664636  0.06742405 -0.01876021  0.00783934\n",
            "   0.0015444  -0.05534094  0.03413732  0.04847523]]\n"
          ]
        }
      ],
      "source": [
        "def attention(queries, keys, values):\n",
        "    \"\"\"Scaled dot-product attention\n",
        "    queries: query matrix\n",
        "    keys: key matrix\n",
        "    values: value matrix\n",
        "    \"\"\"\n",
        "\n",
        "    # Calculate attention weights using scaled dot-product attention\n",
        "    weights = calc_weights(queries, keys)\n",
        "\n",
        "    # Apply attention weights to values\n",
        "    attention = np.dot(weights, values)\n",
        "\n",
        "    return attention\n",
        "\n",
        "\n",
        "attention_result = attention(embedded_fr, embedded_en, embedded_en)\n",
        "print(attention_result.shape)\n",
        "print(attention_result[0:2,:10])"
      ]
    },
    {
      "cell_type": "markdown",
      "id": "vlwGjAWMy_OX",
      "metadata": {
        "id": "vlwGjAWMy_OX"
      },
      "source": [
        "####${\\color{red}{Comments\\ 3.2}}$\n",
        "\n",
        "${\\color{red}{⚠️Comments\\ begin⚠️}}$\n",
        "\n",
        "\n",
        "```\n",
        "cross-feedback comment section\n",
        "```\n",
        "\n",
        "\n",
        "${\\color{red}{⚠️Comments\\ end⚠️}}$"
      ]
    },
    {
      "cell_type": "code",
      "execution_count": null,
      "id": "qDx8DrnVzAR1",
      "metadata": {
        "id": "qDx8DrnVzAR1"
      },
      "outputs": [],
      "source": []
    }
  ],
  "metadata": {
    "accelerator": "GPU",
    "colab": {
      "gpuType": "T4",
      "provenance": []
    },
    "kernelspec": {
      "display_name": "Python 3",
      "name": "python3"
    },
    "language_info": {
      "codemirror_mode": {
        "name": "ipython",
        "version": 3
      },
      "file_extension": ".py",
      "mimetype": "text/x-python",
      "name": "python",
      "nbconvert_exporter": "python",
      "pygments_lexer": "ipython3",
      "version": "3.11.3"
    }
  },
  "nbformat": 4,
  "nbformat_minor": 5
}