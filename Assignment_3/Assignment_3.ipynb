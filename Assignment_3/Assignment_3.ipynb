{
  "cells": [
    {
      "cell_type": "markdown",
      "id": "be9f7653",
      "metadata": {
        "id": "be9f7653"
      },
      "source": [
        "**Heidelberg University**\n",
        "\n",
        "**Data Science  Group**\n",
        "    \n",
        "Prof. Dr. Michael Gertz  \n",
        "\n",
        "Ashish Chouhan, Satya Almasian, John Ziegler, Jayson Salazar, Nicolas Reuter\n",
        "    \n",
        "December 4, 2023\n",
        "    \n",
        "Natural Language Processing with Transformers\n",
        "\n",
        "Winter Semster 2023/2024     \n",
        "***"
      ]
    },
    {
      "cell_type": "markdown",
      "id": "258e9648",
      "metadata": {
        "id": "258e9648"
      },
      "source": [
        "# **Assignment 3: “Transformers”**\n",
        "**Due**: Monday, January 8, 2024, 2pm, via [Moodle](https://moodle.uni-heidelberg.de/course/view.php?id=19251)\n",
        "\n"
      ]
    },
    {
      "cell_type": "markdown",
      "id": "fc27ad9e",
      "metadata": {
        "id": "fc27ad9e"
      },
      "source": [
        "### **Submission Guidelines**\n",
        "\n",
        "- Solutions need to be uploaded as a **single** Jupyter notebook. You will find several pre-filled code segments in the notebook, your task is to fill in the missing cells.\n",
        "- For the written solution, use LaTeX in markdown inside the same notebook. Do **not** hand in a separate file for it.\n",
        "- Download the .zip file containing the dataset but do **not** upload it with your solution.\n",
        "- It is sufficient if one person per group uploads the solution to Moodle, but make sure that the full names of all team members are given in the notebook.\n",
        "\n",
        "***"
      ]
    },
    {
      "cell_type": "markdown",
      "id": "HETm7VsBkmLq",
      "metadata": {
        "id": "HETm7VsBkmLq"
      },
      "source": [
        "## **Task 1: Diving into Attention** (3 + 4 + 4 + 1 = 12 points)"
      ]
    },
    {
      "cell_type": "markdown",
      "id": "0ODkKBIRkrfe",
      "metadata": {
        "id": "0ODkKBIRkrfe"
      },
      "source": [
        "In this task, you work with self-attention equations and find out why multi-head attention is preferable to single-head attention.\n",
        "\n",
        "Recall the equation of attention on slide 5-9 to compute self-attention on a series of input tokens. We simplify the formula by focusing on a single query vector $q \\in R^d$, value vectors ($\\{ v_1,v_2,...,v_i \\},v_i \\in R^d$), and key vectors ($\\{ k_1,k_2,...,k_i \\},k_i \\in R^d$). We then have\n",
        "\n",
        "$$\n",
        "a_i=\\frac{exp(q^Tk_i)}{\\Sigma^n_{j=1}exp(q^Tk_j)}\n",
        "$$\n",
        "\n",
        "$$\n",
        " o= \\Sigma^n_{i=1} a_i v_i\n",
        "$$\n",
        "\n",
        "with $a_i$ being the attention weight for query $q$ with respect to key $k_i$. Then the output $o$ is the new representation for the query token as a weighted average of value vectors with weights $a=\\{ a_1,a_2,...,a_i \\},a_i \\in R^d$.\n",
        "Answer the following questions with the help of the equations and the intuition behind attention that you learned in the class:\n",
        "\n"
      ]
    },
    {
      "cell_type": "markdown",
      "id": "MRwxqsMVodDt",
      "metadata": {
        "id": "MRwxqsMVodDt"
      },
      "source": [
        "### Subtask 1: Copying  \n",
        "\n",
        "1.   Explain why $a$ can be interpreted as a categorical distribution.\n",
        "2.   This distribution is typically diffuse, where the mass is spread out between different values of $a_i$. Describe a scenario in which the categorical distribution puts all the weight on a single element, e.g., $a_j \\gg \\Sigma_{j\\neq i}a_i$. What are the conditions on key and/or query for this to happen?\n",
        "3. In this case of a single large $a$, what would the output $c$ look like and what it means intuitively?\n",
        "\n",
        "In attention, it is easy to **copy** a value vector $v_i$ to the output $o$.\n",
        "\n",
        "\n",
        "\n"
      ]
    },
    {
      "cell_type": "markdown",
      "id": "Km0X1VPoqgrt",
      "metadata": {
        "id": "Km0X1VPoqgrt"
      },
      "source": [
        "**Answer**"
      ]
    },
    {
      "cell_type": "markdown",
      "id": "ZcLTljmmqhIM",
      "metadata": {
        "id": "ZcLTljmmqhIM"
      },
      "source": [
        "\n",
        "\n",
        "1. $a$ can be interpreted as a categorical distribution because it is a probability distribution over the set of keys $\\{k_1, k_2, ..., k_i\\}$, where each $a_i$ is the probability of selecting the corresponding key $k_i$ for the given query $q$.\n",
        "\n",
        "2. A scenario in which the categorical distribution puts all the weight on a single element $a_j \\gg \\Sigma_{j\\neq i}a_i$ is when the query $q$ is very similar to the key $k_j$ and dissimilar to all other keys. In other words, when the dot product $q^Tk_j$ is much larger than the dot products between $q$ and all other keys $k_i$ for $i \\neq j$. This means that the query is highly correlated with a specific key and not with others.\n",
        "\n",
        "3. In the case of a single large $a$, the output $c$ would be equal to the value vector $v_j$ corresponding to the key $k_j$ with the highest attention weight $a_j$. This means that the query $q$ is highly correlated with the key $k_j$ and the output $c$ is a copy of the corresponding value vector $v_j$. Intuitively, this means that the query is focused on a specific aspect of the input sequence represented by the key $k_j$.\n",
        "\n",
        "It is easy to copy a value vector $v_i$ to the output $o$ by setting the corresponding attention weight $a_i$ to 1 and all other weights to 0. This is because the output $o$ is a weighted sum of the value vectors $v_i$ with weights $a_i$, and setting $a_i$ to 1 and all other weights to 0 results in a copy of the corresponding value vector $v_i$.\n",
        "\n",
        "\n",
        "\n"
      ]
    },
    {
      "cell_type": "markdown",
      "id": "NK-2Scv8qqYV",
      "metadata": {
        "id": "NK-2Scv8qqYV"
      },
      "source": [
        "#### ${\\color{red}{Comments\\ 1.1}}$\n",
        "\n",
        "${\\color{red}{⚠️Comments\\ begin⚠️}}$\n",
        "\n",
        "\n",
        "```\n",
        "cross-feedback comment section\n",
        "```\n",
        "\n",
        "\n",
        "${\\color{red}{⚠️Comments\\ end⚠️}}$"
      ]
    },
    {
      "cell_type": "markdown",
      "id": "YmWxycPF15kM",
      "metadata": {
        "id": "YmWxycPF15kM"
      },
      "source": [
        "### Subtask 2: Averaging\n"
      ]
    },
    {
      "cell_type": "markdown",
      "id": "WFKra56Q15mq",
      "metadata": {
        "id": "WFKra56Q15mq"
      },
      "source": [
        "Instead of focusing on just one value vector $v_j$, the Transformer model can incorporate information from multiple inputs. Consider the situation where we want to incorporate information from two value vectors $v_b$ and $v_c$ with keys $k_b$ and $k_c$. In machine learning one of the ways to combine this information is through averaging of vectors $o= \\frac{1}{2}(v_b+v_c)$.  It might seem hard to extract information about the original vectors $v_b$ and $v_c$ from the resulting average. But under certain conditions, one can do so. In this subtask, we look at the following cases:\n",
        "\n",
        "1. Suppose we know the following:\n",
        "\n",
        "\n",
        "* $v_b$ lies in a subspace $B$ formed by the $m$ basis vectors $\\{b_1, b_2, .. , b_m\\}$, while $v_c$ lies in a subspace $C$ formed by the $p$ basis vectors $\\{c_1, c_2, . . . , c_p\\}$ (This means that any $v_b$ and $v_c$ can be expressed as a linear combination of their basis vectors).\n",
        "*   All basis vectors have the norm 1 and are orthogonal to each other.\n",
        "*   The two subspaces $B$ and $C$ are orthogonal, meaning $b_j^Tc_k=0$ for all $j$ and $k$.\n",
        "* Given that $\\{b_1, b_2, .. , b_m\\}$ are both orthogonal and form a basis for $v_b$, we know that there exists some $d_1, ..., d_m$ such that $v_b=d_1 b_1+d_2 b_2+...+d_m b_m$. Use these $d\\text{s}$ to solve this task.\n",
        "\n",
        "Using the basis vectors $\\{b_1, b_2, .. , b_m\\}$, construct a matrix $M$ such that for arbitrary vectors $v_b$ and $v_c$ with the given conditions, we can use $M$ to extract $v_b$ from the sum of the vector $s = v_b + v_c$. In other words, construct an $M$ such that  $ Ms = v_b$ holds.\n",
        "\n",
        "\n",
        "2. If we assume that\n",
        "* all key vectors are orthogonal, i.e., $k_i^Tk_j=0$ for all $i \\neq j$, and\n",
        "* all key vectors have the norm 1.\n",
        "\n",
        "Find an expression for the query vector $q$ such that $o \\approx \\frac{1}{2}(v_b+v_c)$. Justify your answer.\n",
        "\n",
        "**Hint:** Use your finding in subtask 1 to solve part 2.\n",
        "\n",
        "**Hint:** If the norm of a vector $x$ is 1, then $x^Tx=1$\n",
        "\n",
        "**Hint:** Start with writing $v_b$ and $v_c$ as the linear combination of the bases.\n"
      ]
    },
    {
      "cell_type": "markdown",
      "id": "UdPaWhCzTxKT",
      "metadata": {
        "id": "UdPaWhCzTxKT"
      },
      "source": [
        "**Answer**"
      ]
    },
    {
      "cell_type": "markdown",
      "id": "f00275f8",
      "metadata": {
        "id": "f00275f8"
      },
      "source": [
        "\n",
        "1. To construct the matrix $M$, we can use the fact that the dot product of any basis vector in $B$ with any vector in $C$ is zero, due to the orthogonality of the subspaces. This means that for any $i$ and $j$, we have $b_i^T(v_b + v_c) = b_i^Tv_b + b_i^Tv_c = b_i^Tv_b$. Therefore, if we stack the basis vectors of $B$ as rows of a matrix, we get $M = \\begin{bmatrix} b_1^T \\\\ b_2^T \\\\ \\vdots \\\\ b_m^T \\end{bmatrix}$, and we can verify that $Ms = v_b$, since $Ms = \\begin{bmatrix} b_1^T \\\\ b_2^T \\\\ \\vdots \\\\ b_m^T \\end{bmatrix} (v_b + v_c) = \\begin{bmatrix} b_1^Tv_b \\\\ b_2^Tv_b \\\\ \\vdots \\\\ b_m^Tv_b \\end{bmatrix} = \\begin{bmatrix} d_1 \\\\ d_2 \\\\ \\vdots \\\\ d_m \\end{bmatrix} \\begin{bmatrix} b_1 \\\\ b_2 \\\\ \\vdots \\\\ b_m \\end{bmatrix} = v_b$.\n",
        "\n",
        "2. To find the query vector $q$, we can use the fact that the attention mechanism computes the weighted average of the value vectors, where the weights are given by the softmax of the dot products of the query vector with the key vectors. In other words, $o = \\frac{\\exp(q^Tk_b)v_b + \\exp(q^Tk_c)v_c}{\\exp(q^Tk_b) + \\exp(q^Tk_c)}$. To make this expression close to $\\frac{1}{2}(v_b + v_c)$, we want the weights to be close to $\\frac{1}{2}$. This means that we want the dot products of $q$ with $k_b$ and $k_c$ to be close to each other. One possible way to achieve this is to choose $q$ such that it is orthogonal to both $k_b$ and $k_c$. This way, $q^Tk_b = q^Tk_c = 0$, and the weights are equal to $\\frac{1}{2}$. Therefore, one possible expression for $q$ is $q = k_b \\times k_c$, where $\\times$ denotes the cross product. This vector is orthogonal to both $k_b$ and $k_c$, and has norm 1, since the key vectors have norm 1 and are orthogonal. Thus, $q = k_b \\times k_c$ satisfies the conditions and gives $o \\approx \\frac{1}{2}(v_b + v_c)$.\n",
        "\n",
        "\n",
        "\n",
        "\n",
        "\n"
      ]
    },
    {
      "cell_type": "markdown",
      "id": "5poTWvSxUoc3",
      "metadata": {
        "id": "5poTWvSxUoc3"
      },
      "source": [
        "#### ${\\color{red}{Comments\\ 1.2}}$\n",
        "\n",
        "${\\color{red}{⚠️Comments\\ begin⚠️}}$\n",
        "\n",
        "\n",
        "```\n",
        "cross-feedback comment section\n",
        "```\n",
        "\n",
        "\n",
        "${\\color{red}{⚠️Comments\\ end⚠️}}$"
      ]
    },
    {
      "cell_type": "markdown",
      "id": "imqOTai0bxuA",
      "metadata": {
        "id": "imqOTai0bxuA"
      },
      "source": [
        "### Subtask 3: Drawbacks of Single-head Attention"
      ]
    },
    {
      "cell_type": "markdown",
      "id": "0lObCVx7bx3q",
      "metadata": {
        "id": "0lObCVx7bx3q"
      },
      "source": [
        "You might have wondered why we need multi-heads for attention. In this subtask, we look at some of the drawbacks of having a single head attention. As shown in the previous subtask, it is possible for single head attention to focus equally on two values. The same can apply to any subset of values, which therefor can become problematic.\n",
        "\n",
        "Consider a set of key vectors $\\{ k_1,k_2,...,k_n \\}$, randomly sampled from a normal distribution with a known mean value of $\\mu_i \\in R^d$ and unknown covariance $Σ_i, i \\in \\{1, \\ldots, n\\}$, where\n",
        "\n",
        "\n",
        "*   $\\mu_i\\text{s}$ are all orthogonal $\\mu_i^T\\mu_j=0$ if $i \\neq j$.\n",
        "*   $\\mu_i\\text{s}$ all have unit norm $||\\mu_i||=1$.\n",
        "\n",
        "1. For a vanishingly small $\\alpha$ (not to be confused with attention weights), the covariance matrices are  $Σ_i=\\alpha I, \\forall i  \\in \\{1,2,..,n\\}$, design a query $q$ in terms of the $\\mu_i$ such that as before, $o= \\frac{1}{2}(v_b+v_c)$ and describe why it works.\n",
        "\n",
        "2.  Large perturbations in key value might cause problems for single head attention.  Specifically, in some cases, one key vector $k_b$ may be larger or smaller in norm than the others, while still pointing in the same direction as $\\mu_b$. As an example of such a case,\n",
        "consider a covariance matrix for item $b$ for vanishingly small $\\alpha$ as $Σ_b=\\alpha I + \\frac{1}{2}(\\mu_b^T\\mu_b)$. This causes $k_a$ to point to roughly the same direction as $\\mu_b$ but with large differences in magnitude, while for other items. Further, let $Σ_i=\\alpha I\\  \\forall_i i \\neq b$. When you sample multiple keys from the distribution $\\{ k_1,k_2,...,k_n \\}$ and use the $q$ vector from the pervious part, what do you expect vector $o$ to look like? Explain why this shows the drawback of single-head attention.\n",
        "\n",
        "**Hint:**\n",
        "Think about how it differs from pervious part and how $o$'s variance would be affected by the change in $Σ_b$.\n",
        "\n",
        "**Hint:** Considering that $\\mu_b^T\\mu_b=1$, think of what are the ranges $Σ_b$ can take and how does that effect a sampled $k_b$ value.\n",
        "\n",
        "**Hint:** $\\frac{exp(b)}{exp(b)+exp(c)}=\\frac{exp(b)}{exp(b)+exp(c)}\\frac{exp(-b)}{exp(-b)}= \\frac{1}{1+exp(c-b)}$"
      ]
    },
    {
      "cell_type": "markdown",
      "id": "PFkzZv9NcCpZ",
      "metadata": {
        "id": "PFkzZv9NcCpZ"
      },
      "source": [
        "**Answer:**"
      ]
    },
    {
      "cell_type": "markdown",
      "id": "2ef5e26c",
      "metadata": {
        "id": "2ef5e26c"
      },
      "source": [
        "\n",
        "\n",
        "\n",
        "1. To design the query $q$, we can use the same idea as in the previous subtask, where we chose $q$ to be orthogonal to both $k_b$ and $k_c$. This way, the dot products of $q$ with $k_b$ and $k_c$ are both zero, and the weights are both $\\frac{1}{2}$. Since the key vectors are randomly sampled from a normal distribution with mean $\\mu_i$, we can approximate the dot products of $q$ with $k_i$ by the dot products of $q$ with $\\mu_i$. Therefore, we can choose $q$ to be orthogonal to both $\\mu_b$ and $\\mu_c$. One possible way to do this is to choose $q = \\mu_b \\times \\mu_c$, where $\\times$ denotes the cross product. This vector is orthogonal to both $\\mu_b$ and $\\mu_c$, and has norm 1, since the mean vectors have norm 1 and are orthogonal. Thus, $q = \\mu_b \\times \\mu_c$ satisfies the conditions and gives $o \\approx \\frac{1}{2}(v_b + v_c)$.\n",
        "\n",
        "2. If one key vector $k_b$ has a larger or smaller norm than the others, while still pointing in the same direction as $\\mu_b$, then the dot product of $q$ with $k_b$ will not be zero anymore. Instead, it will be proportional to the norm of $k_b$. This means that the weight for $v_b$ will be larger or smaller than $\\frac{1}{2}$, depending on the sign of the dot product. This will affect the output vector $o$, making it closer or farther from $v_b$. For example, if $k_b$ has a larger norm than the others, then $q^Tk_b > 0$, and the weight for $v_b$ will be larger than $\\frac{1}{2}$. This will make $o$ closer to $v_b$ than to $v_c$. This shows the drawback of single-head attention, because it cannot handle the variability in the key vectors' norms. It will either over- or under-attend to some values, depending on the random sampling. Multi-head attention can overcome this problem by learning different query vectors for different attention heads, and combining them in a more robust way.\n",
        "\n",
        "```\n",
        "\n"
      ]
    },
    {
      "cell_type": "markdown",
      "id": "j0r37mi5cC1B",
      "metadata": {
        "id": "j0r37mi5cC1B"
      },
      "source": [
        "#### ${\\color{red}{Comments\\ 1.3}}$\n",
        "\n",
        "${\\color{red}{⚠️Comments\\ begin⚠️}}$\n",
        "\n",
        "\n",
        "```\n",
        "cross-feedback comment section\n",
        "```\n",
        "\n",
        "\n",
        "${\\color{red}{⚠️Comments\\ end⚠️}}$"
      ]
    },
    {
      "cell_type": "markdown",
      "id": "_qxdcrolx48r",
      "metadata": {
        "id": "_qxdcrolx48r"
      },
      "source": [
        "### Subtask 4: Model Size  \n",
        "1. Imagine you have an input sequence of  $l$ tokens, how much memory is required and what time complexity do we have for a single self-attention layer? (give your answer in terms of $l$)\n",
        "2. If you have $N$ layers of self-attention, how  would the memory requirements and the time complexity change? (give your answer in terms of $l$ and $N$)\n",
        "3. If you have $l=10,000$ and $10$ layers, with the ability to perform $10M$ operations per second, how long would it take to compute the attention output?\n"
      ]
    },
    {
      "cell_type": "markdown",
      "id": "s35qnPU4yoYD",
      "metadata": {
        "id": "s35qnPU4yoYD"
      },
      "source": [
        "**Answer**"
      ]
    },
    {
      "cell_type": "markdown",
      "id": "e4229985",
      "metadata": {
        "id": "e4229985"
      },
      "source": [
        "\n",
        "1. A single self-attention layer requires $O(l^2d)$ memory and time complexity, where $d$ is the dimension of the vector representations. This is because the self-attention layer computes the query, key, and value matrices, each of which has shape $(l,d)$, and then computes the dot product of the query and key matrices, which has shape $(l,l)$.\n",
        "2. If you have $N$ layers of self-attention, the memory and time complexity will be multiplied by $N$, since each layer performs the same computation. Therefore, the memory and time complexity will be $O(Nl^2d)$ for $N$ layers of self-attention.\n",
        "3. If you have $l=10,000$ and $10$ layers, the number of operations required to compute the attention output will be $10 \\times 10,000^2 \\times d$, where $d$ is the dimension of the vector representations. Assuming $d=512$, which is a common choice for transformer models, the number of operations will be $512 \\times 10^{11}$. If you can perform $10M$ operations per second, it will take $\\frac{512 \\times 10^{11}}{10 \\times 10^6} = 5.12 \\times 10^5$ seconds, which is about $5.9$ days, to compute the attention output. This shows that the self-attention mechanism is very expensive for long sequences, and motivates the need for more efficient alternatives.\n"
      ]
    },
    {
      "cell_type": "markdown",
      "id": "n2UFNSuozvNd",
      "metadata": {
        "id": "n2UFNSuozvNd"
      },
      "source": [
        "#### ${\\color{red}{Comments\\ 1.4}}$\n",
        "\n",
        "${\\color{red}{⚠️Comments\\ begin⚠️}}$\n",
        "\n",
        "\n",
        "```\n",
        "cross-feedback comment section\n",
        "```\n",
        "\n",
        "\n",
        "${\\color{red}{⚠️Comments\\ end⚠️}}$"
      ]
    },
    {
      "cell_type": "markdown",
      "id": "Av_GjYokHmGo",
      "metadata": {
        "id": "Av_GjYokHmGo"
      },
      "source": [
        "## **Task 2: Multiple Choice Question Answering** (4 + 3 + 5 + 2 = 14 points)"
      ]
    },
    {
      "cell_type": "markdown",
      "id": "hypnmNp2yeNz",
      "metadata": {
        "id": "hypnmNp2yeNz"
      },
      "source": [
        "In this task, you will fine-tune a transformer model on a multiple-choice task, which is the task of selecting the most plausible inputs in a given selection. The dataset used here is [SWAG](https://www.aclweb.org/anthology/D18-1009/), which is available via the Hugging Face [hub](https://huggingface.co/datasets/swag). Check the link for an overview of the dataset. SWAG is a dataset about commonsense reasoning, where each example describes a situation and then proposes four options that could apply for it.\n",
        "Let's start by installing the necessary packages."
      ]
    },
    {
      "cell_type": "code",
      "execution_count": null,
      "id": "RYb57u4CHnZ7",
      "metadata": {
        "id": "RYb57u4CHnZ7",
        "outputId": "86fc224c-0a5f-4c52-9e6a-2a65664328cf"
      },
      "outputs": [
        {
          "name": "stdout",
          "output_type": "stream",
          "text": [
            "Requirement already satisfied: transformers in d:\\heidelberg computer science\\3\\idsta\\medimind-inlpt-ws2023\\.venv\\lib\\site-packages (4.36.2)\n",
            "Requirement already satisfied: filelock in d:\\heidelberg computer science\\3\\idsta\\medimind-inlpt-ws2023\\.venv\\lib\\site-packages (from transformers) (3.13.1)\n",
            "Requirement already satisfied: huggingface-hub<1.0,>=0.19.3 in d:\\heidelberg computer science\\3\\idsta\\medimind-inlpt-ws2023\\.venv\\lib\\site-packages (from transformers) (0.20.2)\n",
            "Requirement already satisfied: numpy>=1.17 in d:\\heidelberg computer science\\3\\idsta\\medimind-inlpt-ws2023\\.venv\\lib\\site-packages (from transformers) (1.26.2)\n",
            "Requirement already satisfied: packaging>=20.0 in d:\\heidelberg computer science\\3\\idsta\\medimind-inlpt-ws2023\\.venv\\lib\\site-packages (from transformers) (23.2)\n",
            "Requirement already satisfied: pyyaml>=5.1 in d:\\heidelberg computer science\\3\\idsta\\medimind-inlpt-ws2023\\.venv\\lib\\site-packages (from transformers) (6.0.1)\n",
            "Requirement already satisfied: regex!=2019.12.17 in d:\\heidelberg computer science\\3\\idsta\\medimind-inlpt-ws2023\\.venv\\lib\\site-packages (from transformers) (2023.12.25)\n",
            "Requirement already satisfied: requests in d:\\heidelberg computer science\\3\\idsta\\medimind-inlpt-ws2023\\.venv\\lib\\site-packages (from transformers) (2.31.0)\n",
            "Requirement already satisfied: tokenizers<0.19,>=0.14 in d:\\heidelberg computer science\\3\\idsta\\medimind-inlpt-ws2023\\.venv\\lib\\site-packages (from transformers) (0.15.0)\n",
            "Requirement already satisfied: safetensors>=0.3.1 in d:\\heidelberg computer science\\3\\idsta\\medimind-inlpt-ws2023\\.venv\\lib\\site-packages (from transformers) (0.4.1)\n",
            "Requirement already satisfied: tqdm>=4.27 in d:\\heidelberg computer science\\3\\idsta\\medimind-inlpt-ws2023\\.venv\\lib\\site-packages (from transformers) (4.66.1)\n",
            "Requirement already satisfied: fsspec>=2023.5.0 in d:\\heidelberg computer science\\3\\idsta\\medimind-inlpt-ws2023\\.venv\\lib\\site-packages (from huggingface-hub<1.0,>=0.19.3->transformers) (2023.10.0)\n",
            "Requirement already satisfied: typing-extensions>=3.7.4.3 in d:\\heidelberg computer science\\3\\idsta\\medimind-inlpt-ws2023\\.venv\\lib\\site-packages (from huggingface-hub<1.0,>=0.19.3->transformers) (4.8.0)\n",
            "Requirement already satisfied: colorama in d:\\heidelberg computer science\\3\\idsta\\medimind-inlpt-ws2023\\.venv\\lib\\site-packages (from tqdm>=4.27->transformers) (0.4.6)\n",
            "Requirement already satisfied: charset-normalizer<4,>=2 in d:\\heidelberg computer science\\3\\idsta\\medimind-inlpt-ws2023\\.venv\\lib\\site-packages (from requests->transformers) (3.3.2)\n",
            "Requirement already satisfied: idna<4,>=2.5 in d:\\heidelberg computer science\\3\\idsta\\medimind-inlpt-ws2023\\.venv\\lib\\site-packages (from requests->transformers) (3.4)\n",
            "Requirement already satisfied: urllib3<3,>=1.21.1 in d:\\heidelberg computer science\\3\\idsta\\medimind-inlpt-ws2023\\.venv\\lib\\site-packages (from requests->transformers) (2.0.7)\n",
            "Requirement already satisfied: certifi>=2017.4.17 in d:\\heidelberg computer science\\3\\idsta\\medimind-inlpt-ws2023\\.venv\\lib\\site-packages (from requests->transformers) (2023.7.22)\n",
            "Note: you may need to restart the kernel to use updated packages.\n",
            "Requirement already satisfied: datasets in d:\\heidelberg computer science\\3\\idsta\\medimind-inlpt-ws2023\\.venv\\lib\\site-packages (2.16.1)\n",
            "Requirement already satisfied: filelock in d:\\heidelberg computer science\\3\\idsta\\medimind-inlpt-ws2023\\.venv\\lib\\site-packages (from datasets) (3.13.1)\n",
            "Requirement already satisfied: numpy>=1.17 in d:\\heidelberg computer science\\3\\idsta\\medimind-inlpt-ws2023\\.venv\\lib\\site-packages (from datasets) (1.26.2)\n",
            "Requirement already satisfied: pyarrow>=8.0.0 in d:\\heidelberg computer science\\3\\idsta\\medimind-inlpt-ws2023\\.venv\\lib\\site-packages (from datasets) (14.0.2)\n",
            "Requirement already satisfied: pyarrow-hotfix in d:\\heidelberg computer science\\3\\idsta\\medimind-inlpt-ws2023\\.venv\\lib\\site-packages (from datasets) (0.6)\n",
            "Requirement already satisfied: dill<0.3.8,>=0.3.0 in d:\\heidelberg computer science\\3\\idsta\\medimind-inlpt-ws2023\\.venv\\lib\\site-packages (from datasets) (0.3.7)\n",
            "Requirement already satisfied: pandas in d:\\heidelberg computer science\\3\\idsta\\medimind-inlpt-ws2023\\.venv\\lib\\site-packages (from datasets) (2.1.3)\n",
            "Requirement already satisfied: requests>=2.19.0 in d:\\heidelberg computer science\\3\\idsta\\medimind-inlpt-ws2023\\.venv\\lib\\site-packages (from datasets) (2.31.0)\n",
            "Requirement already satisfied: tqdm>=4.62.1 in d:\\heidelberg computer science\\3\\idsta\\medimind-inlpt-ws2023\\.venv\\lib\\site-packages (from datasets) (4.66.1)\n",
            "Requirement already satisfied: xxhash in d:\\heidelberg computer science\\3\\idsta\\medimind-inlpt-ws2023\\.venv\\lib\\site-packages (from datasets) (3.4.1)\n",
            "Requirement already satisfied: multiprocess in d:\\heidelberg computer science\\3\\idsta\\medimind-inlpt-ws2023\\.venv\\lib\\site-packages (from datasets) (0.70.15)\n",
            "Requirement already satisfied: fsspec<=2023.10.0,>=2023.1.0 in d:\\heidelberg computer science\\3\\idsta\\medimind-inlpt-ws2023\\.venv\\lib\\site-packages (from fsspec[http]<=2023.10.0,>=2023.1.0->datasets) (2023.10.0)\n",
            "Requirement already satisfied: aiohttp in d:\\heidelberg computer science\\3\\idsta\\medimind-inlpt-ws2023\\.venv\\lib\\site-packages (from datasets) (3.9.1)\n",
            "Requirement already satisfied: huggingface-hub>=0.19.4 in d:\\heidelberg computer science\\3\\idsta\\medimind-inlpt-ws2023\\.venv\\lib\\site-packages (from datasets) (0.20.2)\n",
            "Requirement already satisfied: packaging in d:\\heidelberg computer science\\3\\idsta\\medimind-inlpt-ws2023\\.venv\\lib\\site-packages (from datasets) (23.2)\n",
            "Requirement already satisfied: pyyaml>=5.1 in d:\\heidelberg computer science\\3\\idsta\\medimind-inlpt-ws2023\\.venv\\lib\\site-packages (from datasets) (6.0.1)\n",
            "Requirement already satisfied: attrs>=17.3.0 in d:\\heidelberg computer science\\3\\idsta\\medimind-inlpt-ws2023\\.venv\\lib\\site-packages (from aiohttp->datasets) (23.1.0)\n",
            "Requirement already satisfied: multidict<7.0,>=4.5 in d:\\heidelberg computer science\\3\\idsta\\medimind-inlpt-ws2023\\.venv\\lib\\site-packages (from aiohttp->datasets) (6.0.4)\n",
            "Requirement already satisfied: yarl<2.0,>=1.0 in d:\\heidelberg computer science\\3\\idsta\\medimind-inlpt-ws2023\\.venv\\lib\\site-packages (from aiohttp->datasets) (1.9.4)\n",
            "Requirement already satisfied: frozenlist>=1.1.1 in d:\\heidelberg computer science\\3\\idsta\\medimind-inlpt-ws2023\\.venv\\lib\\site-packages (from aiohttp->datasets) (1.4.1)\n",
            "Requirement already satisfied: aiosignal>=1.1.2 in d:\\heidelberg computer science\\3\\idsta\\medimind-inlpt-ws2023\\.venv\\lib\\site-packages (from aiohttp->datasets) (1.3.1)\n",
            "Requirement already satisfied: typing-extensions>=3.7.4.3 in d:\\heidelberg computer science\\3\\idsta\\medimind-inlpt-ws2023\\.venv\\lib\\site-packages (from huggingface-hub>=0.19.4->datasets) (4.8.0)\n",
            "Requirement already satisfied: charset-normalizer<4,>=2 in d:\\heidelberg computer science\\3\\idsta\\medimind-inlpt-ws2023\\.venv\\lib\\site-packages (from requests>=2.19.0->datasets) (3.3.2)\n",
            "Requirement already satisfied: idna<4,>=2.5 in d:\\heidelberg computer science\\3\\idsta\\medimind-inlpt-ws2023\\.venv\\lib\\site-packages (from requests>=2.19.0->datasets) (3.4)\n",
            "Requirement already satisfied: urllib3<3,>=1.21.1 in d:\\heidelberg computer science\\3\\idsta\\medimind-inlpt-ws2023\\.venv\\lib\\site-packages (from requests>=2.19.0->datasets) (2.0.7)\n",
            "Requirement already satisfied: certifi>=2017.4.17 in d:\\heidelberg computer science\\3\\idsta\\medimind-inlpt-ws2023\\.venv\\lib\\site-packages (from requests>=2.19.0->datasets) (2023.7.22)\n",
            "Requirement already satisfied: colorama in d:\\heidelberg computer science\\3\\idsta\\medimind-inlpt-ws2023\\.venv\\lib\\site-packages (from tqdm>=4.62.1->datasets) (0.4.6)\n",
            "Requirement already satisfied: python-dateutil>=2.8.2 in d:\\heidelberg computer science\\3\\idsta\\medimind-inlpt-ws2023\\.venv\\lib\\site-packages (from pandas->datasets) (2.8.2)\n",
            "Requirement already satisfied: pytz>=2020.1 in d:\\heidelberg computer science\\3\\idsta\\medimind-inlpt-ws2023\\.venv\\lib\\site-packages (from pandas->datasets) (2023.3.post1)\n",
            "Requirement already satisfied: tzdata>=2022.1 in d:\\heidelberg computer science\\3\\idsta\\medimind-inlpt-ws2023\\.venv\\lib\\site-packages (from pandas->datasets) (2023.3)\n",
            "Requirement already satisfied: six>=1.5 in d:\\heidelberg computer science\\3\\idsta\\medimind-inlpt-ws2023\\.venv\\lib\\site-packages (from python-dateutil>=2.8.2->pandas->datasets) (1.16.0)\n",
            "Note: you may need to restart the kernel to use updated packages.\n",
            "Requirement already satisfied: evaluate in d:\\heidelberg computer science\\3\\idsta\\medimind-inlpt-ws2023\\.venv\\lib\\site-packages (0.4.1)\n",
            "Requirement already satisfied: datasets>=2.0.0 in d:\\heidelberg computer science\\3\\idsta\\medimind-inlpt-ws2023\\.venv\\lib\\site-packages (from evaluate) (2.16.1)\n",
            "Requirement already satisfied: numpy>=1.17 in d:\\heidelberg computer science\\3\\idsta\\medimind-inlpt-ws2023\\.venv\\lib\\site-packages (from evaluate) (1.26.2)\n",
            "Requirement already satisfied: dill in d:\\heidelberg computer science\\3\\idsta\\medimind-inlpt-ws2023\\.venv\\lib\\site-packages (from evaluate) (0.3.7)\n",
            "Requirement already satisfied: pandas in d:\\heidelberg computer science\\3\\idsta\\medimind-inlpt-ws2023\\.venv\\lib\\site-packages (from evaluate) (2.1.3)\n",
            "Requirement already satisfied: requests>=2.19.0 in d:\\heidelberg computer science\\3\\idsta\\medimind-inlpt-ws2023\\.venv\\lib\\site-packages (from evaluate) (2.31.0)\n",
            "Requirement already satisfied: tqdm>=4.62.1 in d:\\heidelberg computer science\\3\\idsta\\medimind-inlpt-ws2023\\.venv\\lib\\site-packages (from evaluate) (4.66.1)\n",
            "Requirement already satisfied: xxhash in d:\\heidelberg computer science\\3\\idsta\\medimind-inlpt-ws2023\\.venv\\lib\\site-packages (from evaluate) (3.4.1)\n",
            "Requirement already satisfied: multiprocess in d:\\heidelberg computer science\\3\\idsta\\medimind-inlpt-ws2023\\.venv\\lib\\site-packages (from evaluate) (0.70.15)\n",
            "Requirement already satisfied: fsspec>=2021.05.0 in d:\\heidelberg computer science\\3\\idsta\\medimind-inlpt-ws2023\\.venv\\lib\\site-packages (from fsspec[http]>=2021.05.0->evaluate) (2023.10.0)\n",
            "Requirement already satisfied: huggingface-hub>=0.7.0 in d:\\heidelberg computer science\\3\\idsta\\medimind-inlpt-ws2023\\.venv\\lib\\site-packages (from evaluate) (0.20.2)\n",
            "Requirement already satisfied: packaging in d:\\heidelberg computer science\\3\\idsta\\medimind-inlpt-ws2023\\.venv\\lib\\site-packages (from evaluate) (23.2)\n",
            "Requirement already satisfied: responses<0.19 in d:\\heidelberg computer science\\3\\idsta\\medimind-inlpt-ws2023\\.venv\\lib\\site-packages (from evaluate) (0.18.0)\n",
            "Requirement already satisfied: filelock in d:\\heidelberg computer science\\3\\idsta\\medimind-inlpt-ws2023\\.venv\\lib\\site-packages (from datasets>=2.0.0->evaluate) (3.13.1)\n",
            "Requirement already satisfied: pyarrow>=8.0.0 in d:\\heidelberg computer science\\3\\idsta\\medimind-inlpt-ws2023\\.venv\\lib\\site-packages (from datasets>=2.0.0->evaluate) (14.0.2)\n",
            "Requirement already satisfied: pyarrow-hotfix in d:\\heidelberg computer science\\3\\idsta\\medimind-inlpt-ws2023\\.venv\\lib\\site-packages (from datasets>=2.0.0->evaluate) (0.6)\n",
            "Requirement already satisfied: aiohttp in d:\\heidelberg computer science\\3\\idsta\\medimind-inlpt-ws2023\\.venv\\lib\\site-packages (from datasets>=2.0.0->evaluate) (3.9.1)\n",
            "Requirement already satisfied: pyyaml>=5.1 in d:\\heidelberg computer science\\3\\idsta\\medimind-inlpt-ws2023\\.venv\\lib\\site-packages (from datasets>=2.0.0->evaluate) (6.0.1)\n",
            "Requirement already satisfied: typing-extensions>=3.7.4.3 in d:\\heidelberg computer science\\3\\idsta\\medimind-inlpt-ws2023\\.venv\\lib\\site-packages (from huggingface-hub>=0.7.0->evaluate) (4.8.0)\n",
            "Requirement already satisfied: charset-normalizer<4,>=2 in d:\\heidelberg computer science\\3\\idsta\\medimind-inlpt-ws2023\\.venv\\lib\\site-packages (from requests>=2.19.0->evaluate) (3.3.2)\n",
            "Requirement already satisfied: idna<4,>=2.5 in d:\\heidelberg computer science\\3\\idsta\\medimind-inlpt-ws2023\\.venv\\lib\\site-packages (from requests>=2.19.0->evaluate) (3.4)\n",
            "Requirement already satisfied: urllib3<3,>=1.21.1 in d:\\heidelberg computer science\\3\\idsta\\medimind-inlpt-ws2023\\.venv\\lib\\site-packages (from requests>=2.19.0->evaluate) (2.0.7)\n",
            "Requirement already satisfied: certifi>=2017.4.17 in d:\\heidelberg computer science\\3\\idsta\\medimind-inlpt-ws2023\\.venv\\lib\\site-packages (from requests>=2.19.0->evaluate) (2023.7.22)\n",
            "Requirement already satisfied: colorama in d:\\heidelberg computer science\\3\\idsta\\medimind-inlpt-ws2023\\.venv\\lib\\site-packages (from tqdm>=4.62.1->evaluate) (0.4.6)\n",
            "Requirement already satisfied: python-dateutil>=2.8.2 in d:\\heidelberg computer science\\3\\idsta\\medimind-inlpt-ws2023\\.venv\\lib\\site-packages (from pandas->evaluate) (2.8.2)\n",
            "Requirement already satisfied: pytz>=2020.1 in d:\\heidelberg computer science\\3\\idsta\\medimind-inlpt-ws2023\\.venv\\lib\\site-packages (from pandas->evaluate) (2023.3.post1)\n",
            "Requirement already satisfied: tzdata>=2022.1 in d:\\heidelberg computer science\\3\\idsta\\medimind-inlpt-ws2023\\.venv\\lib\\site-packages (from pandas->evaluate) (2023.3)\n",
            "Requirement already satisfied: attrs>=17.3.0 in d:\\heidelberg computer science\\3\\idsta\\medimind-inlpt-ws2023\\.venv\\lib\\site-packages (from aiohttp->datasets>=2.0.0->evaluate) (23.1.0)\n",
            "Requirement already satisfied: multidict<7.0,>=4.5 in d:\\heidelberg computer science\\3\\idsta\\medimind-inlpt-ws2023\\.venv\\lib\\site-packages (from aiohttp->datasets>=2.0.0->evaluate) (6.0.4)\n",
            "Requirement already satisfied: yarl<2.0,>=1.0 in d:\\heidelberg computer science\\3\\idsta\\medimind-inlpt-ws2023\\.venv\\lib\\site-packages (from aiohttp->datasets>=2.0.0->evaluate) (1.9.4)\n",
            "Requirement already satisfied: frozenlist>=1.1.1 in d:\\heidelberg computer science\\3\\idsta\\medimind-inlpt-ws2023\\.venv\\lib\\site-packages (from aiohttp->datasets>=2.0.0->evaluate) (1.4.1)\n",
            "Requirement already satisfied: aiosignal>=1.1.2 in d:\\heidelberg computer science\\3\\idsta\\medimind-inlpt-ws2023\\.venv\\lib\\site-packages (from aiohttp->datasets>=2.0.0->evaluate) (1.3.1)\n",
            "Requirement already satisfied: six>=1.5 in d:\\heidelberg computer science\\3\\idsta\\medimind-inlpt-ws2023\\.venv\\lib\\site-packages (from python-dateutil>=2.8.2->pandas->evaluate) (1.16.0)\n",
            "Note: you may need to restart the kernel to use updated packages.\n",
            "Requirement already satisfied: accelerate in d:\\heidelberg computer science\\3\\idsta\\medimind-inlpt-ws2023\\.venv\\lib\\site-packages (0.25.0)\n",
            "Requirement already satisfied: numpy>=1.17 in d:\\heidelberg computer science\\3\\idsta\\medimind-inlpt-ws2023\\.venv\\lib\\site-packages (from accelerate) (1.26.2)\n",
            "Requirement already satisfied: packaging>=20.0 in d:\\heidelberg computer science\\3\\idsta\\medimind-inlpt-ws2023\\.venv\\lib\\site-packages (from accelerate) (23.2)\n",
            "Requirement already satisfied: psutil in d:\\heidelberg computer science\\3\\idsta\\medimind-inlpt-ws2023\\.venv\\lib\\site-packages (from accelerate) (5.9.6)\n",
            "Requirement already satisfied: pyyaml in d:\\heidelberg computer science\\3\\idsta\\medimind-inlpt-ws2023\\.venv\\lib\\site-packages (from accelerate) (6.0.1)\n",
            "Requirement already satisfied: torch>=1.10.0 in d:\\heidelberg computer science\\3\\idsta\\medimind-inlpt-ws2023\\.venv\\lib\\site-packages (from accelerate) (2.1.1)\n",
            "Requirement already satisfied: huggingface-hub in d:\\heidelberg computer science\\3\\idsta\\medimind-inlpt-ws2023\\.venv\\lib\\site-packages (from accelerate) (0.20.2)\n",
            "Requirement already satisfied: safetensors>=0.3.1 in d:\\heidelberg computer science\\3\\idsta\\medimind-inlpt-ws2023\\.venv\\lib\\site-packages (from accelerate) (0.4.1)\n",
            "Requirement already satisfied: filelock in d:\\heidelberg computer science\\3\\idsta\\medimind-inlpt-ws2023\\.venv\\lib\\site-packages (from torch>=1.10.0->accelerate) (3.13.1)\n",
            "Requirement already satisfied: typing-extensions in d:\\heidelberg computer science\\3\\idsta\\medimind-inlpt-ws2023\\.venv\\lib\\site-packages (from torch>=1.10.0->accelerate) (4.8.0)\n",
            "Requirement already satisfied: sympy in d:\\heidelberg computer science\\3\\idsta\\medimind-inlpt-ws2023\\.venv\\lib\\site-packages (from torch>=1.10.0->accelerate) (1.12)\n",
            "Requirement already satisfied: networkx in d:\\heidelberg computer science\\3\\idsta\\medimind-inlpt-ws2023\\.venv\\lib\\site-packages (from torch>=1.10.0->accelerate) (3.2.1)\n",
            "Requirement already satisfied: jinja2 in d:\\heidelberg computer science\\3\\idsta\\medimind-inlpt-ws2023\\.venv\\lib\\site-packages (from torch>=1.10.0->accelerate) (3.1.2)\n",
            "Requirement already satisfied: fsspec in d:\\heidelberg computer science\\3\\idsta\\medimind-inlpt-ws2023\\.venv\\lib\\site-packages (from torch>=1.10.0->accelerate) (2023.10.0)\n",
            "Requirement already satisfied: requests in d:\\heidelberg computer science\\3\\idsta\\medimind-inlpt-ws2023\\.venv\\lib\\site-packages (from huggingface-hub->accelerate) (2.31.0)\n",
            "Requirement already satisfied: tqdm>=4.42.1 in d:\\heidelberg computer science\\3\\idsta\\medimind-inlpt-ws2023\\.venv\\lib\\site-packages (from huggingface-hub->accelerate) (4.66.1)\n",
            "Requirement already satisfied: colorama in d:\\heidelberg computer science\\3\\idsta\\medimind-inlpt-ws2023\\.venv\\lib\\site-packages (from tqdm>=4.42.1->huggingface-hub->accelerate) (0.4.6)\n",
            "Requirement already satisfied: MarkupSafe>=2.0 in d:\\heidelberg computer science\\3\\idsta\\medimind-inlpt-ws2023\\.venv\\lib\\site-packages (from jinja2->torch>=1.10.0->accelerate) (2.1.3)\n",
            "Requirement already satisfied: charset-normalizer<4,>=2 in d:\\heidelberg computer science\\3\\idsta\\medimind-inlpt-ws2023\\.venv\\lib\\site-packages (from requests->huggingface-hub->accelerate) (3.3.2)\n",
            "Requirement already satisfied: idna<4,>=2.5 in d:\\heidelberg computer science\\3\\idsta\\medimind-inlpt-ws2023\\.venv\\lib\\site-packages (from requests->huggingface-hub->accelerate) (3.4)\n",
            "Requirement already satisfied: urllib3<3,>=1.21.1 in d:\\heidelberg computer science\\3\\idsta\\medimind-inlpt-ws2023\\.venv\\lib\\site-packages (from requests->huggingface-hub->accelerate) (2.0.7)\n",
            "Requirement already satisfied: certifi>=2017.4.17 in d:\\heidelberg computer science\\3\\idsta\\medimind-inlpt-ws2023\\.venv\\lib\\site-packages (from requests->huggingface-hub->accelerate) (2023.7.22)\n",
            "Requirement already satisfied: mpmath>=0.19 in d:\\heidelberg computer science\\3\\idsta\\medimind-inlpt-ws2023\\.venv\\lib\\site-packages (from sympy->torch>=1.10.0->accelerate) (1.3.0)\n",
            "Note: you may need to restart the kernel to use updated packages.\n",
            "Requirement already satisfied: sentencepiece in d:\\heidelberg computer science\\3\\idsta\\medimind-inlpt-ws2023\\.venv\\lib\\site-packages (0.1.99)\n",
            "Note: you may need to restart the kernel to use updated packages.\n"
          ]
        }
      ],
      "source": [
        "%pip install transformers\n",
        "%pip install datasets\n",
        "%pip install evaluate\n",
        "%pip install accelerate -U\n",
        "%pip install sentencepiece"
      ]
    },
    {
      "cell_type": "markdown",
      "id": "oLwC5naF8KzV",
      "metadata": {
        "id": "oLwC5naF8KzV"
      },
      "source": [
        "In this task, you will use a BERT model with a `MultipleChoice` head from the Hugging Face library and then create your custom model.   Recall from the class that the BERT model has an auxiliary next sentence prediction task, in which two sentences are given to BERT separated by a `[SEP]` token and a classifier head decides if the second sentence logically follows the first one. Hugging Face has\n",
        " a `*ForMultipleChoice` architecture that uses the representation of the `[CLS]` token and a linear layer to classify if one sentence follows the other. We first start with this default architecture and then build a more complicated one in a later subtask."
      ]
    },
    {
      "cell_type": "markdown",
      "id": "FJ7H6SSk1DqI",
      "metadata": {
        "id": "FJ7H6SSk1DqI"
      },
      "source": [
        "### Subtask 1: Loading and Processing the Data"
      ]
    },
    {
      "cell_type": "markdown",
      "id": "KvvYhCtW1kI3",
      "metadata": {
        "id": "KvvYhCtW1kI3"
      },
      "source": [
        "We use the `dataset` library to download the SWAG dataset, which already contains train, validation, and test splits."
      ]
    },
    {
      "cell_type": "code",
      "execution_count": 21,
      "id": "-cLxQBhq0Rmo",
      "metadata": {
        "id": "-cLxQBhq0Rmo",
        "colab": {
          "base_uri": "https://localhost:8080/"
        },
        "outputId": "53bcd292-ec11-42e9-8e05-a0629c02f73a"
      },
      "outputs": [
        {
          "output_type": "execute_result",
          "data": {
            "text/plain": [
              "DatasetDict({\n",
              "    train: Dataset({\n",
              "        features: ['video-id', 'fold-ind', 'startphrase', 'sent1', 'sent2', 'gold-source', 'ending0', 'ending1', 'ending2', 'ending3', 'label'],\n",
              "        num_rows: 73546\n",
              "    })\n",
              "    validation: Dataset({\n",
              "        features: ['video-id', 'fold-ind', 'startphrase', 'sent1', 'sent2', 'gold-source', 'ending0', 'ending1', 'ending2', 'ending3', 'label'],\n",
              "        num_rows: 20006\n",
              "    })\n",
              "    test: Dataset({\n",
              "        features: ['video-id', 'fold-ind', 'startphrase', 'sent1', 'sent2', 'gold-source', 'ending0', 'ending1', 'ending2', 'ending3', 'label'],\n",
              "        num_rows: 20005\n",
              "    })\n",
              "})"
            ]
          },
          "metadata": {},
          "execution_count": 21
        }
      ],
      "source": [
        "import os\n",
        "os.environ['CUDA_LAUNCH_BLOCKING'] = \"1\"\n",
        "from datasets import load_dataset, load_metric\n",
        "datasets = load_dataset(\"swag\", \"regular\")\n",
        "datasets"
      ]
    },
    {
      "cell_type": "markdown",
      "id": "DHkkMD3v4bs3",
      "metadata": {
        "id": "DHkkMD3v4bs3"
      },
      "source": [
        "Lets look at the first item to see how the data looks like:"
      ]
    },
    {
      "cell_type": "code",
      "execution_count": 22,
      "id": "vN6p1Mt84ZW_",
      "metadata": {
        "id": "vN6p1Mt84ZW_",
        "colab": {
          "base_uri": "https://localhost:8080/"
        },
        "outputId": "73eb0eaa-48b3-4871-be32-666002d1c28c"
      },
      "outputs": [
        {
          "output_type": "execute_result",
          "data": {
            "text/plain": [
              "{'video-id': 'anetv_jkn6uvmqwh4',\n",
              " 'fold-ind': '3416',\n",
              " 'startphrase': 'Members of the procession walk down the street holding small horn brass instruments. A drum line',\n",
              " 'sent1': 'Members of the procession walk down the street holding small horn brass instruments.',\n",
              " 'sent2': 'A drum line',\n",
              " 'gold-source': 'gold',\n",
              " 'ending0': 'passes by walking down the street playing their instruments.',\n",
              " 'ending1': 'has heard approaching them.',\n",
              " 'ending2': \"arrives and they're outside dancing and asleep.\",\n",
              " 'ending3': 'turns the lead singer watches the performance.',\n",
              " 'label': 0}"
            ]
          },
          "metadata": {},
          "execution_count": 22
        }
      ],
      "source": [
        "datasets[\"train\"][0]"
      ]
    },
    {
      "cell_type": "markdown",
      "id": "xOxxXEdbTF8l",
      "metadata": {
        "id": "xOxxXEdbTF8l"
      },
      "source": [
        "**Question:**\n",
        "Look at the dataset card on the Hugging Face hub and define what each of these fields means, with respect to the task:\n",
        "\n",
        "*   `sent1`:\n",
        "*   `sent2`:\n",
        "*    `ending0`, `ending1`, `ending2` and `ending3`:\n",
        "*   `label`:\n",
        "\n",
        "\n"
      ]
    },
    {
      "cell_type": "markdown",
      "id": "2FfOTODlURAY",
      "metadata": {
        "id": "2FfOTODlURAY"
      },
      "source": [
        "**Answer**\n",
        "\n",
        "`\n",
        "*   `sent1`: these fields show how a sentence starts, and if you put the two together, you get the startphrase field.\n",
        "*   `sent2`:these fields show how a sentence starts, and if you put the two together, you get the startphrase field.\n",
        "*    `ending0`, `ending1`, `ending2` and `ending3`: suggests a possible ending for how a sentence can end, but only one of them is correct.\n",
        "*   `label`: identifies the correct sentence ending.\n",
        "`"
      ]
    },
    {
      "cell_type": "markdown",
      "id": "D9TcSWfiU2m-",
      "metadata": {
        "id": "D9TcSWfiU2m-"
      },
      "source": [
        "Write a function that displays the context and each of the four choices, following the format\n",
        "\n",
        "\n",
        "```\n",
        "Context:...\n",
        "A-\n",
        "B-\n",
        "C-\n",
        "D-\n",
        "Ground truth: option ...\n",
        "```\n",
        "\n",
        "How you display the results is not important. You should be able to extract different parts of the data correctly and know what each field represents."
      ]
    },
    {
      "cell_type": "code",
      "execution_count": 23,
      "id": "jVOf4b2r4gDq",
      "metadata": {
        "id": "jVOf4b2r4gDq"
      },
      "outputs": [],
      "source": [
        "def explain_example(examples):\n",
        "  ### your code ###\n",
        "    startphrase = examples[\"startphrase\"]\n",
        "    ground_truth = \"ending\" + str(examples[\"label\"])\n",
        "\n",
        "    return examples[\"ending0\"],examples[\"ending1\"],examples[\"ending2\"],examples[\"ending3\"], examples[ground_truth]\n",
        "  ### your code ###\n"
      ]
    },
    {
      "cell_type": "code",
      "execution_count": 24,
      "id": "BlTFSjmR5QrP",
      "metadata": {
        "id": "BlTFSjmR5QrP",
        "colab": {
          "base_uri": "https://localhost:8080/"
        },
        "outputId": "45d68ae5-4dc6-488f-e375-edf76ab3b81a"
      },
      "outputs": [
        {
          "output_type": "execute_result",
          "data": {
            "text/plain": [
              "('passes by walking down the street playing their instruments.',\n",
              " 'has heard approaching them.',\n",
              " \"arrives and they're outside dancing and asleep.\",\n",
              " 'turns the lead singer watches the performance.',\n",
              " 'passes by walking down the street playing their instruments.')"
            ]
          },
          "metadata": {},
          "execution_count": 24
        }
      ],
      "source": [
        "explain_example(datasets[\"train\"][0])"
      ]
    },
    {
      "cell_type": "markdown",
      "id": "lXnX0E915qbb",
      "metadata": {
        "id": "lXnX0E915qbb"
      },
      "source": [
        "Before feeding the data into the model, we need to preprocess the text using `Tokenizer` to tokenize the inputs into tokens and put it in a format that the model expects. The tokenizer specific to the model we want to use for this task is `distilbert-base-uncased`. Complete the code below to load a fast tokenizer for this model. DistilBERT is similar to the BERT model, and we only use this particular architecture for faster training.\n"
      ]
    },
    {
      "cell_type": "code",
      "execution_count": 25,
      "id": "fd4BkVDc5RdO",
      "metadata": {
        "id": "fd4BkVDc5RdO"
      },
      "outputs": [],
      "source": [
        "from transformers import AutoTokenizer\n",
        "\n",
        "###your code###\n",
        "tokenizer = AutoTokenizer.from_pretrained(\"distilbert-base-uncased\")\n",
        "###your code###"
      ]
    },
    {
      "cell_type": "code",
      "execution_count": 26,
      "id": "BbtOfQ4T7AQV",
      "metadata": {
        "id": "BbtOfQ4T7AQV",
        "colab": {
          "base_uri": "https://localhost:8080/"
        },
        "outputId": "bfa3f6ef-e138-4fc7-e561-721af87f682c"
      },
      "outputs": [
        {
          "output_type": "execute_result",
          "data": {
            "text/plain": [
              "{'input_ids': [101, 2023, 2003, 1996, 2034, 6251, 999, 102, 1998, 2023, 2003, 1996, 2117, 2028, 1012, 102], 'attention_mask': [1, 1, 1, 1, 1, 1, 1, 1, 1, 1, 1, 1, 1, 1, 1, 1]}"
            ]
          },
          "metadata": {},
          "execution_count": 26
        }
      ],
      "source": [
        "tokenizer(\"This is the first sentence!\", \"And this is the second one.\")"
      ]
    },
    {
      "cell_type": "markdown",
      "id": "4LMdG45b7Yop",
      "metadata": {
        "id": "4LMdG45b7Yop"
      },
      "source": [
        "Write a function that preprocesses the samples.\n",
        "The tricky part is to put all the possible pairs of sentences in two big lists before passing them to the tokenizer.\n",
        "Each **first** sentence has to be repeated 4 times to go with different ending options.\n",
        "There should be a separator token between the first and second sentence, to follow the BERT input logic.\n",
        "The final output is a list of 4 elements, one for each choice, where the input is transformed by the tokenizer.\n",
        "For example, with a list of 2 training examples, the output includes 2 lists, where each contains 4 elements. Each of those elements is the converted input ID of the first sentence followed by the second sentence with different endings.\n",
        "When calling the `tokenizer`, we use the argument `truncation=True`. This will ensure that an input longer than what the model selected can handle will be truncated to the maximum length accepted by the model.\n",
        "\n",
        "**Hint:** Flatten the lists (all choices are flattened into a single list) before feeding them into the tokenizer and unflatten them once again for the final output."
      ]
    },
    {
      "cell_type": "code",
      "execution_count": 27,
      "id": "uEBvuUSm7FD_",
      "metadata": {
        "id": "uEBvuUSm7FD_"
      },
      "outputs": [],
      "source": [
        "### your code ###\n",
        "ending_names = [\"ending0\", \"ending1\", \"ending2\", \"ending3\"]\n",
        "### your code ###\n",
        "def preprocess_function(examples):\n",
        "  ### your code ###\n",
        "    # repeat each first sentence four times\n",
        "    first_sentences = [[context] * 4 for context in examples[\"sent1\"]]\n",
        "    # second sentences possible are combination of header and ending\n",
        "    question_headers = examples[\"sent2\"]\n",
        "    second_sentences = [\n",
        "\n",
        "        [f\"{header} {examples[end][i]}\" for end in ending_names] for i, header in enumerate(question_headers)\n",
        "\n",
        "    ]\n",
        "\n",
        "    # flatten everything\n",
        "    first_sentences = sum(first_sentences, [])\n",
        "    second_sentences = sum(second_sentences, [])\n",
        "\n",
        "    # tokenize\n",
        "    tokenized_examples = tokenizer(first_sentences, second_sentences, truncation=True)\n",
        "    # un-flatten\n",
        "\n",
        "\n",
        "    return {k: [v[i : i + 4] for i in range(0, len(v), 4)] for k, v in tokenized_examples.items()}\n",
        "    ### your code ###"
      ]
    },
    {
      "cell_type": "code",
      "execution_count": 28,
      "id": "9Q25z-jQ-rMu",
      "metadata": {
        "id": "9Q25z-jQ-rMu",
        "colab": {
          "base_uri": "https://localhost:8080/"
        },
        "outputId": "f7b031d1-987b-4da9-894b-2068f3201851"
      },
      "outputs": [
        {
          "output_type": "stream",
          "name": "stdout",
          "text": [
            "2 4 [30, 25, 30, 28]\n"
          ]
        }
      ],
      "source": [
        "examples = datasets[\"train\"][:2]\n",
        "features = preprocess_function(examples)\n",
        "print(len(features[\"input_ids\"]), len(features[\"input_ids\"][0]), [len(x) for x in features[\"input_ids\"][0]])# output should be 2 4 [30, 25, 30, 28]"
      ]
    },
    {
      "cell_type": "markdown",
      "id": "hKizHUiGXgj-",
      "metadata": {
        "id": "hKizHUiGXgj-"
      },
      "source": [
        "We can now apply our function to all the examples in the dataset. We use the `map` method to apply the function on all the elements of all the splits in the dataset (training, validation, and testing).\n",
        "Note that we passed `batched=True` to leverage the fast tokenizer and use multi-threading to process the texts in batches concurrently."
      ]
    },
    {
      "cell_type": "code",
      "execution_count": 29,
      "id": "9Wau4GZsXcvE",
      "metadata": {
        "id": "9Wau4GZsXcvE",
        "colab": {
          "base_uri": "https://localhost:8080/",
          "height": 113,
          "referenced_widgets": [
            "0ddbe53c24144a29b5c1ec1603736124",
            "648025eae7c548448cb97c195fc0a4b5",
            "eb4e3dc38b3b4adda0a3b7232c681f48",
            "12e0089a60234c2d852d4390868467b3",
            "e3c6041f7d854f44bd7a3d722cc88445",
            "2a8fa5a5a2a24d9bb2ed2d574c75dcf9",
            "67e59ade4a4a4813a51e245f0c8cfa76",
            "a05e5279d21b4e7e9d7af64f2119e4a8",
            "36b1533182904385a49df86f2cfdbe5d",
            "94f5b5f1a3fa424db0a64f4894020c44",
            "a3ca69e88c6c48c085f6b2cfa8f700e0",
            "282da8db243b419197aa648e1173942d",
            "d5bac9ee0367433aa7353835117200db",
            "e958ad636fdd4c5793d6de22d80074c9",
            "5f67a08fd47c41b6a43e10e327be1b1e",
            "6bbef393584f468089b16433df37a6e5",
            "18685cfaf6ef4e98b8b19a780b8c77a6",
            "96e41eb494d946d9b1f4a88cb9c1d01a",
            "9211b349215d40c2b1d1f51891e1d62d",
            "060a4e7852a940d4af4b504a98444108",
            "829bec64496a44dfbed2ee96909c3eb6",
            "9873da2bb504441c9024cc0ad7a77ec6",
            "5453ea8961b14ce9b952e13d05f7d35c",
            "190f8ce39d8d4697b01a19f995178182",
            "61605a1de00b410381d1fc28828ece4a",
            "39121334186142eb8649c65274f36ff0",
            "835320b6c47849cabe38bfb885b8b9e0",
            "5e813829e3464c1ea24c3f416808fdbd",
            "130fb6a41ac944f282c319e551fa23d7",
            "b79adfeba7854a8e8f85849c3e491396",
            "4d41121c33124c6fb1df3fdcc3bfbddf",
            "068ff194504d4f22b63bb46baa25490a",
            "c490a8bf53c44d47bdeda7d52e673dfa"
          ]
        },
        "outputId": "b5eb9eb4-456e-43a1-8a28-7811b312cf91"
      },
      "outputs": [
        {
          "output_type": "display_data",
          "data": {
            "text/plain": [
              "Map:   0%|          | 0/73546 [00:00<?, ? examples/s]"
            ],
            "application/vnd.jupyter.widget-view+json": {
              "version_major": 2,
              "version_minor": 0,
              "model_id": "0ddbe53c24144a29b5c1ec1603736124"
            }
          },
          "metadata": {}
        },
        {
          "output_type": "display_data",
          "data": {
            "text/plain": [
              "Map:   0%|          | 0/20006 [00:00<?, ? examples/s]"
            ],
            "application/vnd.jupyter.widget-view+json": {
              "version_major": 2,
              "version_minor": 0,
              "model_id": "282da8db243b419197aa648e1173942d"
            }
          },
          "metadata": {}
        },
        {
          "output_type": "display_data",
          "data": {
            "text/plain": [
              "Map:   0%|          | 0/20005 [00:00<?, ? examples/s]"
            ],
            "application/vnd.jupyter.widget-view+json": {
              "version_major": 2,
              "version_minor": 0,
              "model_id": "5453ea8961b14ce9b952e13d05f7d35c"
            }
          },
          "metadata": {}
        }
      ],
      "source": [
        "encoded_datasets = datasets.map(preprocess_function, batched=True)"
      ]
    },
    {
      "cell_type": "markdown",
      "id": "G69L2vtPR8uV",
      "metadata": {
        "id": "G69L2vtPR8uV"
      },
      "source": [
        "Our dataset is still not converted to tensors and not padded. This is the job of the `data collator`. A data collator takes a list of examples and converts them to a batch.\n",
        "There is no data collator in the Hugging Face default library that works on our specific problem. We thus need to write our own one. In this collator:\n",
        "\n",
        "*  All the inputs/attention masks are flattened.\n",
        "* A flattened list is passed to the `tokenizer.pad ` method to apply dynamic padding to pad inputs to the maximum length in the batch. Output will be the size of `(batch_size * 4) x seq_length`.\n",
        "* Everything needs to be unflattened for the output of the data collator.\n",
        "* `input_ids` and `labels` should be returned as tensors.\n",
        "* The output is a dictionary called `batch` that contains features needed for training (`input_ids`, `attention_mask`, `label`).\n",
        "\n"
      ]
    },
    {
      "cell_type": "code",
      "execution_count": 30,
      "id": "r_3SvkBOSgZx",
      "metadata": {
        "id": "r_3SvkBOSgZx"
      },
      "outputs": [],
      "source": [
        "from dataclasses import dataclass\n",
        "from transformers.tokenization_utils_base import PreTrainedTokenizerBase, PaddingStrategy\n",
        "from typing import Optional, Union\n",
        "import torch\n",
        "\n",
        "@dataclass\n",
        "class MultipleChoiceDataCollator:\n",
        "    tokenizer: PreTrainedTokenizerBase\n",
        "    padding: Union[bool, str, PaddingStrategy] = True\n",
        "    max_length: Optional[int] = None\n",
        "    pad_to_multiple_of: Optional[int] = None\n",
        "\n",
        "    def __call__(self, features):\n",
        "        accepted_keys = [\"input_ids\", \"attention_mask\", \"label\"]\n",
        "        if len(features[0])>len(accepted_keys):\n",
        "          features=[{k: v for k, v in i.items() if k in accepted_keys} for i in features]\n",
        "      ### your code ###\n",
        "        label_name = \"label\" if \"label\" in features[0].keys() else \"labels\"\n",
        "\n",
        "        labels = [feature.pop(label_name) for feature in features]\n",
        "\n",
        "        batch_size = len(features)\n",
        "\n",
        "        num_choices = len(features[0][\"input_ids\"])\n",
        "\n",
        "        flattened_features = [\n",
        "\n",
        "            [{k: v[i] for k, v in feature.items()} for i in range(num_choices)] for feature in features\n",
        "\n",
        "        ]\n",
        "\n",
        "        flattened_features = sum(flattened_features, [])\n",
        "\n",
        "        batch = self.tokenizer.pad(\n",
        "\n",
        "            flattened_features,\n",
        "\n",
        "            padding=self.padding,\n",
        "\n",
        "            max_length=self.max_length,\n",
        "\n",
        "            pad_to_multiple_of=self.pad_to_multiple_of,\n",
        "\n",
        "            return_tensors=\"pt\",\n",
        "\n",
        "        )\n",
        "\n",
        "        batch = {k: v.view(batch_size, num_choices, -1) for k, v in batch.items()}\n",
        "\n",
        "        batch[\"labels\"] = torch.tensor(labels, dtype=torch.int64)\n",
        "\n",
        "        return batch"
      ]
    },
    {
      "cell_type": "code",
      "execution_count": 31,
      "id": "-oKeJUr_UBUV",
      "metadata": {
        "id": "-oKeJUr_UBUV",
        "colab": {
          "base_uri": "https://localhost:8080/"
        },
        "outputId": "c630dcfc-fea6-44f7-fd37-1af1739aead9"
      },
      "outputs": [
        {
          "output_type": "stream",
          "name": "stderr",
          "text": [
            "You're using a DistilBertTokenizerFast tokenizer. Please note that with a fast tokenizer, using the `__call__` method is faster than using a method to encode the text followed by a call to the `pad` method to get a padded encoding.\n"
          ]
        },
        {
          "output_type": "stream",
          "name": "stdout",
          "text": [
            "torch.Size([2, 4, 35])\n",
            "torch.Size([2, 4, 35])\n",
            "torch.Size([2])\n"
          ]
        }
      ],
      "source": [
        "accepted_keys = [\"input_ids\", \"attention_mask\", \"label\"]\n",
        "features = [{k: v for k, v in encoded_datasets[\"train\"][i].items() if k in accepted_keys} for i in range(2)]\n",
        "batch=MultipleChoiceDataCollator(tokenizer)(features)\n",
        "print(batch[\"input_ids\"].shape)\n",
        "print(batch[\"attention_mask\"].shape)\n",
        "print(batch[\"labels\"].shape)"
      ]
    },
    {
      "cell_type": "code",
      "execution_count": 32,
      "id": "glDO1KfaVXoX",
      "metadata": {
        "id": "glDO1KfaVXoX",
        "colab": {
          "base_uri": "https://localhost:8080/"
        },
        "outputId": "04be102e-0fc7-4a4a-e405-bba947c4da34"
      },
      "outputs": [
        {
          "output_type": "stream",
          "name": "stdout",
          "text": [
            "tensor([  101,  2372,  1997,  1996, 14385,  3328,  2091,  1996,  2395,  3173,\n",
            "         2235,  7109,  8782,  5693,  1012,   102,  1037,  6943,  2240,  5235,\n",
            "         2011,  3788,  2091,  1996,  2395,  2652,  2037,  5693,  1012,   102,\n",
            "            0,     0,     0,     0,     0])\n",
            "[CLS] members of the procession walk down the street holding small horn brass instruments. [SEP] a drum line passes by walking down the street playing their instruments. [SEP] [PAD] [PAD] [PAD] [PAD] [PAD]\n",
            "tensor([  101,  2372,  1997,  1996, 14385,  3328,  2091,  1996,  2395,  3173,\n",
            "         2235,  7109,  8782,  5693,  1012,   102,  1037,  6943,  2240,  2038,\n",
            "         2657,  8455,  2068,  1012,   102,     0,     0,     0,     0,     0,\n",
            "            0,     0,     0,     0,     0])\n",
            "[CLS] members of the procession walk down the street holding small horn brass instruments. [SEP] a drum line has heard approaching them. [SEP] [PAD] [PAD] [PAD] [PAD] [PAD] [PAD] [PAD] [PAD] [PAD] [PAD]\n",
            "tensor([  101,  2372,  1997,  1996, 14385,  3328,  2091,  1996,  2395,  3173,\n",
            "         2235,  7109,  8782,  5693,  1012,   102,  1037,  6943,  2240,  8480,\n",
            "         1998,  2027,  1005,  2128,  2648,  5613,  1998,  6680,  1012,   102,\n",
            "            0,     0,     0,     0,     0])\n",
            "[CLS] members of the procession walk down the street holding small horn brass instruments. [SEP] a drum line arrives and they're outside dancing and asleep. [SEP] [PAD] [PAD] [PAD] [PAD] [PAD]\n",
            "tensor([  101,  2372,  1997,  1996, 14385,  3328,  2091,  1996,  2395,  3173,\n",
            "         2235,  7109,  8782,  5693,  1012,   102,  1037,  6943,  2240,  4332,\n",
            "         1996,  2599,  3220, 12197,  1996,  2836,  1012,   102,     0,     0,\n",
            "            0,     0,     0,     0,     0])\n",
            "[CLS] members of the procession walk down the street holding small horn brass instruments. [SEP] a drum line turns the lead singer watches the performance. [SEP] [PAD] [PAD] [PAD] [PAD] [PAD] [PAD] [PAD]\n"
          ]
        }
      ],
      "source": [
        "for i in range(4):\n",
        "  print(batch[\"input_ids\"][0][i])\n",
        "  print(tokenizer.decode(batch[\"input_ids\"][0][i]))"
      ]
    },
    {
      "cell_type": "markdown",
      "id": "WD4IjgtLYCLa",
      "metadata": {
        "id": "WD4IjgtLYCLa"
      },
      "source": [
        "#### ${\\color{red}{Comments\\ 2.1}}$\n",
        "\n",
        "${\\color{red}{⚠️Comments\\ begin⚠️}}$\n",
        "\n",
        "\n",
        "```\n",
        "cross-feedback comment section\n",
        "```\n",
        "\n",
        "\n",
        "${\\color{red}{⚠️Comments\\ end⚠️}}$"
      ]
    },
    {
      "cell_type": "markdown",
      "id": "mZZDaB9LXSB4",
      "metadata": {
        "id": "mZZDaB9LXSB4"
      },
      "source": [
        "### Subtask 2: Fine-tuning a Hugging Face Model"
      ]
    },
    {
      "cell_type": "markdown",
      "id": "toXHZtX7XSEs",
      "metadata": {
        "id": "toXHZtX7XSEs"
      },
      "source": [
        "To fine-tune our model, we first need to download the correct architecture from Hugging Face. Import the correct class for this task and download the pre-trained checkpoint for the base class from `distilbert-base-uncased`. Note that the weights in the classification head are initialized at random."
      ]
    },
    {
      "cell_type": "code",
      "execution_count": 33,
      "id": "NONtYIrE-w6p",
      "metadata": {
        "id": "NONtYIrE-w6p",
        "colab": {
          "base_uri": "https://localhost:8080/",
          "height": 240,
          "referenced_widgets": [
            "149f47fe4786435fb3111be219183ce2",
            "818e334efce44ea8843f666128f13bab",
            "0bc5207be4ec49069508d9e308b19b36",
            "05378e1dfbf943f8b745acd131dc0317",
            "c78120d21cb940aa814961607febab03",
            "a8267003892b426d81f1daf755986b4d",
            "6eb6e6b2939b45cf8627ce760c870ac4",
            "e685675a27ba4668b5262c8e43f1384f",
            "fc975c99385a49e9ae98601c36ed3368",
            "7993b066b4dc4acab8611bc526a1981d",
            "0626622d7d9b451eb8e2f15d127f1a0c",
            "23df8e090581484aa805c5bdb8a0d369",
            "b4859fb0ec4f4d37ac906a2a27656ea5",
            "10cb3869c75c4dc680eab74ea581f9cf",
            "4e485055ef8e4392b6abc77a6adb254a",
            "3847da611cd44081ba11066783df2d35",
            "2e74ade5238143acbbf66ae19a050ae1",
            "1e0d8dc15d1c4faa8de0861aed371f03",
            "ce65e0bf329242679693f9c8e6331e52",
            "1625cbabd7ce439ca75101de61526bd0",
            "b63c7e847a264a419064098d401b0165",
            "d0ea14d334f04d9fba4abd79a0c5c995"
          ]
        },
        "outputId": "5cba59d8-ed3a-4818-89d9-6ae0009e6291"
      },
      "outputs": [
        {
          "output_type": "stream",
          "name": "stderr",
          "text": [
            "/usr/local/lib/python3.10/dist-packages/huggingface_hub/utils/_token.py:72: UserWarning: \n",
            "The secret `HF_TOKEN` does not exist in your Colab secrets.\n",
            "To authenticate with the Hugging Face Hub, create a token in your settings tab (https://huggingface.co/settings/tokens), set it as secret in your Google Colab and restart your session.\n",
            "You will be able to reuse this secret in all of your notebooks.\n",
            "Please note that authentication is recommended but still optional to access public models or datasets.\n",
            "  warnings.warn(\n"
          ]
        },
        {
          "output_type": "display_data",
          "data": {
            "text/plain": [
              "config.json:   0%|          | 0.00/570 [00:00<?, ?B/s]"
            ],
            "application/vnd.jupyter.widget-view+json": {
              "version_major": 2,
              "version_minor": 0,
              "model_id": "149f47fe4786435fb3111be219183ce2"
            }
          },
          "metadata": {}
        },
        {
          "output_type": "display_data",
          "data": {
            "text/plain": [
              "model.safetensors:   0%|          | 0.00/440M [00:00<?, ?B/s]"
            ],
            "application/vnd.jupyter.widget-view+json": {
              "version_major": 2,
              "version_minor": 0,
              "model_id": "23df8e090581484aa805c5bdb8a0d369"
            }
          },
          "metadata": {}
        },
        {
          "output_type": "stream",
          "name": "stderr",
          "text": [
            "Some weights of BertForMultipleChoice were not initialized from the model checkpoint at bert-base-uncased and are newly initialized: ['classifier.weight', 'classifier.bias']\n",
            "You should probably TRAIN this model on a down-stream task to be able to use it for predictions and inference.\n"
          ]
        }
      ],
      "source": [
        "### your code ###\n",
        "from transformers import AutoModelForMultipleChoice, TrainingArguments, Trainer\n",
        "model_hf = AutoModelForMultipleChoice.from_pretrained(\"bert-base-uncased\")\n",
        "\n",
        "### your code ###"
      ]
    },
    {
      "cell_type": "code",
      "execution_count": 33,
      "metadata": {
        "id": "rQrF3PHMASDb"
      },
      "outputs": [],
      "source": [],
      "id": "rQrF3PHMASDb"
    },
    {
      "cell_type": "markdown",
      "id": "f4C8rBosXSVi",
      "metadata": {
        "id": "f4C8rBosXSVi"
      },
      "source": [
        "Next, we need to define our `Trainer` and pass in the correct `TrainingArguments` (a class that contains all the attributes to customize the training). Define a `TrainingArguments` that\n",
        "\n",
        "\n",
        "* creates an output directory `distilbert-base-uncased-swag` to save the checkpoints and logs.\n",
        "*   evaluates the model on the validation set after the `300` steps.\n",
        "* a checkpoint should be saved after each `600` step and no more than 2 checkpoints should be saved in total.\n",
        "* the random seed for training is `77`.\n",
        "* batch size for training and evaluation: `48` (if you are running out of memory, feel free to change this setting but indicate it as a comment in your notebook, on a T4 GPU from google colab this takes about `13.2GB` of `15.0GB`).\n",
        "* train for `1800` steps with a learning rate of `5e-5`, and add weight decay of `0.01` to the optimizer.\n",
        "* the trainer should remove the columns from the data that are not used by the model.\n",
        "* The final checkpoint should be the checkpoint that had the best overall validation metric not necessarily the last checkpoint.\n",
        "\n",
        "**Note:** Please use GPU for to train your model. If on colab, you can use T4 GPU for free."
      ]
    },
    {
      "cell_type": "code",
      "execution_count": 34,
      "id": "DXLTm2Ed-1CI",
      "metadata": {
        "id": "DXLTm2Ed-1CI",
        "colab": {
          "base_uri": "https://localhost:8080/",
          "height": 113,
          "referenced_widgets": [
            "76fd6d4e36ae4e079eba5e9262b638ea",
            "43f05d1c0e2e45df93e7d1af1fbfa21f",
            "ef316eaefba844418aa8a6b99de15bdd",
            "d1b63fb8b53848c0861d71e686b6008f",
            "605edc11fb0d42f2b473250801902aa1",
            "e4157b6781ba44d190c91fc294650bbd",
            "dead01f449fe4888a0c960240477847e",
            "653c3ef5a91442558789eb7ea6978ad3",
            "c2e5cb839a364d3391b02a49ece6cfda",
            "508f30b6eeff475f8b3abc3fb1945135",
            "4f55b3bd5118412db18756aa816825f5",
            "ec05a95b1103400eb4b8e3d065b4922f",
            "352228d04abe40caa0278b5fe022b103",
            "29a5827ad4af4e2a87b47f415622f013",
            "971806df7e0c49a18f335265289f025d",
            "d010f8d5d9f049709b018237ef964aba",
            "24b6fd79acb24624823393c1d3de546f",
            "68784e51c801400bb8d12ed2a555d523",
            "84d638b0b5764b679e2564689f2d78e6",
            "d062ba2e12aa4a5fb67aa223b9ab79a3",
            "14b7a9b0a2564741b45d440a9ee913a1",
            "4a8427ba025147898bb5ef0221bb7f4a",
            "f8cbbc10ff3b4a86a42b41802e323c24",
            "522118c73b65467bbe8ebf3860c60cfb",
            "c6ed98edded140d0804d3bb919b646c9",
            "96a166c6e81749a7a766869349f19670",
            "587e1adb66b64ac6bbfd9604f61cbf18",
            "33d16af4661e4cc99e5591fabf648c9b",
            "fd4ac4e5ce074ed4bb18388f4afea470",
            "43ef5f4ed25c4814a110d0190217e2ce",
            "47e57cf4b02349ddbf1e1744d82f0b26",
            "3f3765cd32e6404f9a69152e96538027",
            "be01f076e24747b0b6a2f1df3800b111"
          ]
        },
        "outputId": "07498c96-2360-45c9-9b70-62d88c2b6af8"
      },
      "outputs": [
        {
          "output_type": "display_data",
          "data": {
            "text/plain": [
              "Map:   0%|          | 0/73546 [00:00<?, ? examples/s]"
            ],
            "application/vnd.jupyter.widget-view+json": {
              "version_major": 2,
              "version_minor": 0,
              "model_id": "76fd6d4e36ae4e079eba5e9262b638ea"
            }
          },
          "metadata": {}
        },
        {
          "output_type": "display_data",
          "data": {
            "text/plain": [
              "Map:   0%|          | 0/20006 [00:00<?, ? examples/s]"
            ],
            "application/vnd.jupyter.widget-view+json": {
              "version_major": 2,
              "version_minor": 0,
              "model_id": "ec05a95b1103400eb4b8e3d065b4922f"
            }
          },
          "metadata": {}
        },
        {
          "output_type": "display_data",
          "data": {
            "text/plain": [
              "Map:   0%|          | 0/20005 [00:00<?, ? examples/s]"
            ],
            "application/vnd.jupyter.widget-view+json": {
              "version_major": 2,
              "version_minor": 0,
              "model_id": "f8cbbc10ff3b4a86a42b41802e323c24"
            }
          },
          "metadata": {}
        }
      ],
      "source": [
        "tokenized_swag = datasets.map(preprocess_function, batched=True)\n",
        "\n",
        "training_args = TrainingArguments(\n",
        "    seed=77,\n",
        "    output_dir=\"distilbert-base-uncased-swag\",\n",
        "    evaluation_strategy=\"epoch\",\n",
        "    save_strategy=\"epoch\",\n",
        "    load_best_model_at_end=True,\n",
        "    learning_rate=5e-5,\n",
        "    per_device_train_batch_size=16, #changed because local training\n",
        "    per_device_eval_batch_size=16,  #local training\n",
        "    num_train_epochs=3,\n",
        "    weight_decay=0.01,\n",
        "    max_steps=1800,\n",
        "    save_steps=600\n",
        ")\n",
        "\n",
        "\n",
        "\n"
      ]
    },
    {
      "cell_type": "markdown",
      "id": "8w1tE975ZGS9",
      "metadata": {
        "id": "8w1tE975ZGS9"
      },
      "source": [
        "Before we initialize the `Trainer`, we create a function that tells the trainer how to compute the metrics from the predictions. Fill the `compute_metrics` function to compute the accuracy based on the `predictions`. This object contains the prediction of the model, as well as the ground truth labels.\n",
        "\n",
        "**Hint 1:** Keep in mind that the output of this function should be a dictionary containing the metric name and value.\n",
        "\n",
        "**Hint 2:** Consider the shape of the example input. This is similar to the logits produced by the model."
      ]
    },
    {
      "cell_type": "code",
      "execution_count": 35,
      "id": "gilWMRNJXsBq",
      "metadata": {
        "id": "gilWMRNJXsBq"
      },
      "outputs": [],
      "source": [
        "import numpy as np\n",
        "def compute_metrics(predictions):\n",
        "  ### your code ###\n",
        "  preds, label_ids = predictions\n",
        "\n",
        "  return_dict= np.argmax(preds, axis=1)\n",
        "  ### your code ###\n",
        "  return return_dict\n"
      ]
    },
    {
      "cell_type": "code",
      "execution_count": 36,
      "id": "SAC4DktAAt8y",
      "metadata": {
        "id": "SAC4DktAAt8y",
        "colab": {
          "base_uri": "https://localhost:8080/"
        },
        "outputId": "c099a9c4-9638-4a31-a14e-da1551d20791"
      },
      "outputs": [
        {
          "output_type": "execute_result",
          "data": {
            "text/plain": [
              "array([0, 2, 1, 2, 0, 1, 1, 0, 2, 3])"
            ]
          },
          "metadata": {},
          "execution_count": 36
        }
      ],
      "source": [
        "preds=np.array([[0.9,0.2,0,0],\n",
        "                [0.2,0.2,0.9,0.1],\n",
        "                [0.2,0.9,0,0],\n",
        "                [0.2,0.1,0.8,0],\n",
        "                [0.9,0.1,0.8,0],\n",
        "                [0.2,1,0.4,0],\n",
        "                [0.2,1,0.4,0.9],\n",
        "                [1,0.1,0.4,0.3],\n",
        "                [0.1,0.1,0.9,0.3],\n",
        "                [0.1,0.1,0.2,1]])\n",
        "label_ids=np.array([0,3,1,2,0,1,3,0,2,3])\n",
        "compute_metrics((preds,label_ids))"
      ]
    },
    {
      "cell_type": "markdown",
      "id": "koPEX6UmAvTp",
      "metadata": {
        "id": "koPEX6UmAvTp"
      },
      "source": [
        "Now it's time to pass everything to a `Trainer` object to start the training process. Initialize a `Trainer` object and pass all the necessary information, keep in mind that we also have the optional metric computation and that we tend to run an evaluation on the validation set during training. The training should take around 30 min on Google Colab T4 GPU."
      ]
    },
    {
      "cell_type": "code",
      "execution_count": 37,
      "id": "38Xrwx4OSUIe",
      "metadata": {
        "id": "38Xrwx4OSUIe",
        "colab": {
          "base_uri": "https://localhost:8080/"
        },
        "outputId": "fa1eb63e-cbb8-4abc-eec5-4b2b398d6caf"
      },
      "outputs": [
        {
          "output_type": "execute_result",
          "data": {
            "text/plain": [
              "device(type='cuda')"
            ]
          },
          "metadata": {},
          "execution_count": 37
        }
      ],
      "source": [
        "device = torch.device(\"cuda\") if torch.cuda.is_available() else torch.device(\"cpu\")\n",
        "device"
      ]
    },
    {
      "cell_type": "code",
      "execution_count": 38,
      "id": "ybmjWr1gFoR9",
      "metadata": {
        "id": "ybmjWr1gFoR9"
      },
      "outputs": [],
      "source": [
        "### your code ###\n",
        "trainer = Trainer(\n",
        "    model=model_hf,\n",
        "    args=training_args,\n",
        "    train_dataset=tokenized_swag[\"train\"],\n",
        "    eval_dataset=tokenized_swag[\"validation\"],\n",
        "    tokenizer=tokenizer,\n",
        "    data_collator= MultipleChoiceDataCollator(tokenizer=tokenizer),\n",
        ")\n",
        "### your code ###"
      ]
    },
    {
      "cell_type": "code",
      "execution_count": 39,
      "id": "UFcB9_hCF8Kx",
      "metadata": {
        "id": "UFcB9_hCF8Kx",
        "colab": {
          "base_uri": "https://localhost:8080/",
          "height": 141
        },
        "outputId": "3f2136cd-9b46-4daa-c1b2-4eb5f0c8f32a"
      },
      "outputs": [
        {
          "output_type": "display_data",
          "data": {
            "text/plain": [
              "<IPython.core.display.HTML object>"
            ],
            "text/html": [
              "\n",
              "    <div>\n",
              "      \n",
              "      <progress value='1800' max='1800' style='width:300px; height:20px; vertical-align: middle;'></progress>\n",
              "      [1800/1800 22:10, Epoch 0/1]\n",
              "    </div>\n",
              "    <table border=\"1\" class=\"dataframe\">\n",
              "  <thead>\n",
              " <tr style=\"text-align: left;\">\n",
              "      <th>Epoch</th>\n",
              "      <th>Training Loss</th>\n",
              "      <th>Validation Loss</th>\n",
              "    </tr>\n",
              "  </thead>\n",
              "  <tbody>\n",
              "    <tr>\n",
              "      <td>0</td>\n",
              "      <td>0.822900</td>\n",
              "      <td>0.599845</td>\n",
              "    </tr>\n",
              "  </tbody>\n",
              "</table><p>"
            ]
          },
          "metadata": {}
        },
        {
          "output_type": "execute_result",
          "data": {
            "text/plain": [
              "TrainOutput(global_step=1800, training_loss=0.8736728583441841, metrics={'train_runtime': 1333.0222, 'train_samples_per_second': 21.605, 'train_steps_per_second': 1.35, 'total_flos': 3229132989090816.0, 'train_loss': 0.8736728583441841, 'epoch': 0.39})"
            ]
          },
          "metadata": {},
          "execution_count": 39
        }
      ],
      "source": [
        "trainer.train()# should take around 30 min on Google Colab T4 GPU"
      ]
    },
    {
      "cell_type": "markdown",
      "id": "nLXcPADKi73j",
      "metadata": {
        "id": "nLXcPADKi73j"
      },
      "source": [
        "Save the model in `distilbert-base-uncased-swag/final_model`."
      ]
    },
    {
      "cell_type": "code",
      "execution_count": 43,
      "id": "tlHd67J2qBdA",
      "metadata": {
        "id": "tlHd67J2qBdA"
      },
      "outputs": [],
      "source": [
        "### your code ###\n",
        "torch.save(model_hf, \"distilbert-base-uncased-swag/final_model\")\n",
        "### your code ###"
      ]
    },
    {
      "cell_type": "markdown",
      "id": "of7b-SkFne_J",
      "metadata": {
        "id": "of7b-SkFne_J"
      },
      "source": [
        "Look at the saved files and answer the following questions (it is possible to answer these questions by writing some code, but we want you to explore the saved files):\n",
        "\n",
        "**Question:**\n",
        "\n",
        "\n",
        "1.   What is the vocabulary id for the `[CLS]` and `[MASK]` tokens?\n",
        "2.   What is the dropout probability for the attention layer?\n",
        "\n",
        "**Dropout:** With dropout, certain nodes are set to the value zero in a training run, i.e. removed from the network. Thus, they have no influence on the prediction and also in the backpropagation. Thus, a new, slightly modified network architecture is built in each run and the network learns to produce good predictions without certain inputs. Read more [here](https://databasecamp.de/en/ml/dropout-layer-en).\n",
        "\n"
      ]
    },
    {
      "cell_type": "markdown",
      "id": "eZ74Uaouno6L",
      "metadata": {
        "id": "eZ74Uaouno6L"
      },
      "source": [
        "**Answer**\n",
        "\n",
        "`\n",
        "Enter your answer here\n",
        "`"
      ]
    },
    {
      "cell_type": "markdown",
      "id": "Auvva-EkGcRR",
      "metadata": {
        "id": "Auvva-EkGcRR"
      },
      "source": [
        "#### ${\\color{red}{Comments\\ 2.2}}$\n",
        "\n",
        "${\\color{red}{⚠️Comments\\ begin⚠️}}$\n",
        "\n",
        "\n",
        "```\n",
        "cross-feedback comment section\n",
        "```\n",
        "\n",
        "\n",
        "${\\color{red}{⚠️Comments\\ end⚠️}}$"
      ]
    },
    {
      "cell_type": "markdown",
      "id": "vAcJQfpHAvbR",
      "metadata": {
        "id": "vAcJQfpHAvbR"
      },
      "source": [
        "### Subtask 3: Fine-tune a Custom Model\n"
      ]
    },
    {
      "cell_type": "markdown",
      "id": "QT3cbQO-wnio",
      "metadata": {
        "id": "QT3cbQO-wnio"
      },
      "source": [
        "In this case, we were lucky that Hugging Face had a pre-implemented architecture available for us to use. However, that is not always the case. Moreover, we might want to experiment beyond the default architectures to find a suitable one for a task. Therefore, it is important to learn to extend the Hugging Face models and train a custom model. The good news is that except for the model architecture the rest of the code can remain as it is."
      ]
    },
    {
      "cell_type": "markdown",
      "id": "G2RtNQewxG2O",
      "metadata": {
        "id": "G2RtNQewxG2O"
      },
      "source": [
        "Design a model for multiple choice model as follows:\n",
        "\n",
        "\n",
        "1.   the config file for a feature extractor (must be a distilbert type) is  passed during initialization. The config file determines which model is used for feature extraction.\n",
        "2.   From the `last_hidden_state` of the feature extractor, choose the `[CLS]` embedding (first one). This embedding is used as the compressed representation of first and second sentences. During pre-training it is used  for classifying whether these two sentences follow one another, making it a good candidate for our task.\n",
        "3. `[CLS]` embedding is passed through a linear layer **that does not change the size of the embedding** and is passed through a tanh nonlinearity.\n",
        "4. The output of tanh is passed through a dropout layer, where the dropout probability is the same as the dropout probability used for the `distilbert` model used as feature extractor.\n",
        "5. The output of the previous stage is fed into another linear layer that shrinks the size of the embedding dimension to a quarter of the original size, e.g., if the embedding size is 12, the new embedding dimension is 3.\n",
        "6. The output is followed by another dropout layer (you can use the one from stage 4).\n",
        "7. Finally, a binary classifier is applied to determine the probability of sentence 1 being followed by sentence 2.\n",
        "8. the cross-entropy loss is used to compute the loss.\n",
        "\n",
        "**Hint:** Keep in mind that for a 4 choice system, you classify each of the four solutions independently. However, the final output should group the four logits together. For example, if input ids have the shape `[2, 4, 35]` (batch size=2, num choices=4, seq len=35), then the logits have the `[2, 4]` and labels have the dimension `[2, 1]`.\n",
        "\n"
      ]
    },
    {
      "cell_type": "code",
      "execution_count": 44,
      "id": "KUZOp8o1Pb9X",
      "metadata": {
        "id": "KUZOp8o1Pb9X"
      },
      "outputs": [],
      "source": [
        "from transformers import DistilBertModel,BertConfig,DistilBertConfig,PretrainedConfig,PreTrainedModel,DistilBertPreTrainedModel\n",
        "from torch import nn\n",
        "\n",
        "class CustomMultipleChoice(DistilBertPreTrainedModel):\n",
        "    def __init__(self, config: PretrainedConfig):\n",
        "        super().__init__(config)\n",
        "        ###your code ###\n",
        "        self.distilbert = DistilBertModel(config)\n",
        "        self.dense = nn.Linear(config.dim, config.dim)\n",
        "        self.activation = nn.Tanh()\n",
        "        self.dropout = nn.Dropout(config.seq_classif_dropout)\n",
        "        self.dense2 = nn.Linear(config.dim, config.dim // 4)\n",
        "        self.classifier = nn.Linear(config.dim // 4, 1)\n",
        "        ###your code ###\n",
        "\n",
        "\n",
        "    def forward(\n",
        "        self,\n",
        "        input_ids: Optional[torch.Tensor] = None,\n",
        "        attention_mask: Optional[torch.Tensor] = None,\n",
        "        labels: Optional[torch.Tensor] = None,\n",
        "    ):\n",
        "        \"\"\"\n",
        "        input_ids: input sentences converted to ids\n",
        "        attention_mask: the attention mask\n",
        "        labels:  Labels for computing the multiple choice classification loss. Indices should be in `[0, ...,num_choices-1]` where `num_choices` is the size of the second dimension of the input tensors.\n",
        "        \"\"\"\n",
        "\n",
        "        num_choices = input_ids.shape[1]\n",
        "\n",
        "        ###your code ###\n",
        "        input_ids = input_ids.view(-1, input_ids.size(-1))\n",
        "        attention_mask = attention_mask.view(-1, attention_mask.size(-1))\n",
        "\n",
        "        outputs = self.distilbert(input_ids, attention_mask=attention_mask)\n",
        "        pooled_output = outputs[0][:, 0]\n",
        "        pooled_output = self.dense(pooled_output)\n",
        "        pooled_output = self.activation(pooled_output)\n",
        "        pooled_output = self.dropout(pooled_output)\n",
        "        pooled_output = self.dense2(pooled_output)\n",
        "        pooled_output = self.dropout(pooled_output)\n",
        "        logits = self.classifier(pooled_output)\n",
        "        reshaped_logits = logits.view(-1, num_choices)\n",
        "\n",
        "\n",
        "        loss = None\n",
        "        if labels is not None:\n",
        "            loss_fct = nn.CrossEntropyLoss()\n",
        "            loss = loss_fct(reshaped_logits, labels)\n",
        "\n",
        "        return {\"loss\":loss,\"logits\":reshaped_logits}"
      ]
    },
    {
      "cell_type": "markdown",
      "id": "IXFcGJQPgjil",
      "metadata": {
        "id": "IXFcGJQPgjil"
      },
      "source": [
        "Initialize the feature extractor with `distilbert-base-uncased` and create your custome model."
      ]
    },
    {
      "cell_type": "code",
      "execution_count": 45,
      "id": "GHCT0HdYKk5p",
      "metadata": {
        "id": "GHCT0HdYKk5p",
        "colab": {
          "base_uri": "https://localhost:8080/"
        },
        "outputId": "dccdba66-1761-4ae2-8893-e50ae0412f2b"
      },
      "outputs": [
        {
          "output_type": "stream",
          "name": "stderr",
          "text": [
            "/usr/local/lib/python3.10/dist-packages/huggingface_hub/utils/_token.py:72: UserWarning: \n",
            "The secret `HF_TOKEN` does not exist in your Colab secrets.\n",
            "To authenticate with the Hugging Face Hub, create a token in your settings tab (https://huggingface.co/settings/tokens), set it as secret in your Google Colab and restart your session.\n",
            "You will be able to reuse this secret in all of your notebooks.\n",
            "Please note that authentication is recommended but still optional to access public models or datasets.\n",
            "  warnings.warn(\n"
          ]
        }
      ],
      "source": [
        "from transformers import AutoConfig\n",
        "###your code ###\n",
        "config= DistilBertConfig.from_pretrained('distilbert-base-uncased')\n",
        "model_custom = CustomMultipleChoice(config)\n",
        "###your code ###"
      ]
    },
    {
      "cell_type": "code",
      "execution_count": 46,
      "id": "_genDEZbgsJd",
      "metadata": {
        "id": "_genDEZbgsJd",
        "colab": {
          "base_uri": "https://localhost:8080/"
        },
        "outputId": "a4ae1ef6-eae5-4c0d-8378-54b2d84ef28d"
      },
      "outputs": [
        {
          "output_type": "stream",
          "name": "stdout",
          "text": [
            "dense.weight torch.Size([768, 768])\n",
            "dense.bias torch.Size([768])\n",
            "dense2.weight torch.Size([192, 768])\n",
            "dense2.bias torch.Size([192])\n",
            "classifier.weight torch.Size([1, 192])\n",
            "classifier.bias torch.Size([1])\n"
          ]
        }
      ],
      "source": [
        "for name, param in model_custom.named_parameters():\n",
        "    if param.requires_grad and not name.startswith(\"distilbert.\"):\n",
        "        print(name, param.data.shape)"
      ]
    },
    {
      "cell_type": "markdown",
      "id": "yyD-ivMzh5P7",
      "metadata": {
        "id": "yyD-ivMzh5P7"
      },
      "source": [
        "We keep the same training arguments but change the directory in which we save the model logs, the directory in which we save the model output and the name of the run, to `custom_model`.\n",
        "\n"
      ]
    },
    {
      "cell_type": "code",
      "execution_count": 47,
      "id": "aX5Jw-Eubo56",
      "metadata": {
        "id": "aX5Jw-Eubo56"
      },
      "outputs": [],
      "source": [
        "###your code ###\n",
        "\n",
        "training_args = TrainingArguments(\n",
        "    seed=77,\n",
        "    output_dir=\"custom_model\",\n",
        "    evaluation_strategy=\"epoch\",\n",
        "    save_strategy=\"epoch\",\n",
        "    load_best_model_at_end=True,\n",
        "    learning_rate=5e-5,\n",
        "    per_device_train_batch_size=16, #changed because local training\n",
        "    per_device_eval_batch_size=16,  #local training\n",
        "    num_train_epochs=3,\n",
        "    weight_decay=0.01,\n",
        "    max_steps=1800,\n",
        "    save_steps=600\n",
        ")\n",
        "\n",
        "###your code ###"
      ]
    },
    {
      "cell_type": "markdown",
      "id": "0sCoDrINiO0j",
      "metadata": {
        "id": "0sCoDrINiO0j"
      },
      "source": [
        "Initialize the trainer for training the custom model.The training should take around 30 min on Google Colab T4 GPU.\n"
      ]
    },
    {
      "cell_type": "code",
      "execution_count": 48,
      "id": "s1_2hwKabo8p",
      "metadata": {
        "id": "s1_2hwKabo8p"
      },
      "outputs": [],
      "source": [
        "trainer = Trainer(\n",
        "    model=model_hf,\n",
        "    args=training_args,\n",
        "    train_dataset=tokenized_swag[\"train\"],\n",
        "    eval_dataset=tokenized_swag[\"validation\"],\n",
        "    tokenizer=tokenizer,\n",
        "    data_collator= MultipleChoiceDataCollator(tokenizer=tokenizer),\n",
        ")\n",
        "###your code ###\n",
        "\n",
        "###your code ###\n"
      ]
    },
    {
      "cell_type": "code",
      "execution_count": 49,
      "id": "btobBRSZbo_O",
      "metadata": {
        "id": "btobBRSZbo_O",
        "colab": {
          "base_uri": "https://localhost:8080/",
          "height": 141
        },
        "outputId": "9381831d-c66e-435e-84fe-fe5cc0e59e9f"
      },
      "outputs": [
        {
          "output_type": "display_data",
          "data": {
            "text/plain": [
              "<IPython.core.display.HTML object>"
            ],
            "text/html": [
              "\n",
              "    <div>\n",
              "      \n",
              "      <progress value='1800' max='1800' style='width:300px; height:20px; vertical-align: middle;'></progress>\n",
              "      [1800/1800 22:25, Epoch 0/1]\n",
              "    </div>\n",
              "    <table border=\"1\" class=\"dataframe\">\n",
              "  <thead>\n",
              " <tr style=\"text-align: left;\">\n",
              "      <th>Epoch</th>\n",
              "      <th>Training Loss</th>\n",
              "      <th>Validation Loss</th>\n",
              "    </tr>\n",
              "  </thead>\n",
              "  <tbody>\n",
              "    <tr>\n",
              "      <td>0</td>\n",
              "      <td>0.295300</td>\n",
              "      <td>0.637191</td>\n",
              "    </tr>\n",
              "  </tbody>\n",
              "</table><p>"
            ]
          },
          "metadata": {}
        },
        {
          "output_type": "execute_result",
          "data": {
            "text/plain": [
              "TrainOutput(global_step=1800, training_loss=0.26892711427476673, metrics={'train_runtime': 1346.0764, 'train_samples_per_second': 21.396, 'train_steps_per_second': 1.337, 'total_flos': 3229132989090816.0, 'train_loss': 0.26892711427476673, 'epoch': 0.39})"
            ]
          },
          "metadata": {},
          "execution_count": 49
        }
      ],
      "source": [
        "trainer.train()# should take around 30 min on Colab T4 GPU"
      ]
    },
    {
      "cell_type": "markdown",
      "id": "B9Fi0ZZYjIdJ",
      "metadata": {
        "id": "B9Fi0ZZYjIdJ"
      },
      "source": [
        "Save the model in `custom_model/final_model`. Note that with the custom model, you need to save it without the help of the trainer. The trainer would save the configuration but since this model is not a registered Hugging Face model only the base model would be saved. Loading the model weights is also effected by this."
      ]
    },
    {
      "cell_type": "code",
      "execution_count": 51,
      "id": "rvb3xo-ibpB9",
      "metadata": {
        "id": "rvb3xo-ibpB9"
      },
      "outputs": [],
      "source": [
        "###your code ###\n",
        "torch.save(model_custom, \"custom_model/final_model\")\n",
        "###your code ###"
      ]
    },
    {
      "cell_type": "markdown",
      "id": "UxU3fivlihOX",
      "metadata": {
        "id": "UxU3fivlihOX"
      },
      "source": [
        "#### ${\\color{red}{Comments\\ 2.3}}$\n",
        "\n",
        "${\\color{red}{⚠️Comments\\ begin⚠️}}$\n",
        "\n",
        "\n",
        "```\n",
        "cross-feedback comment section\n",
        "```\n",
        "\n",
        "\n",
        "${\\color{red}{⚠️Comments\\ end⚠️}}$"
      ]
    },
    {
      "cell_type": "markdown",
      "id": "A_M4MSb0kcBP",
      "metadata": {
        "id": "A_M4MSb0kcBP"
      },
      "source": [
        "### Subtask 4: Evaluation and Model Comparison"
      ]
    },
    {
      "cell_type": "markdown",
      "id": "4oO0XKbbmzzW",
      "metadata": {
        "id": "4oO0XKbbmzzW"
      },
      "source": [
        "Many times you do not perform the final evaluation right after training, but load the checkpoints and evaluate them on the fly. To this end, load the two models from  disk."
      ]
    },
    {
      "cell_type": "code",
      "execution_count": 53,
      "id": "ptE1gxKwa843",
      "metadata": {
        "id": "ptE1gxKwa843"
      },
      "outputs": [],
      "source": [
        "from transformers import AutoModelForMultipleChoice,AutoConfig\n",
        "### your code ###\n",
        "model_hf = torch.load(\"distilbert-base-uncased-swag/final_model\")\n",
        "model_custom = torch.load(\"custom_model/final_model\")\n",
        "### your code ###"
      ]
    },
    {
      "cell_type": "markdown",
      "id": "Am9mUOXHbwC9",
      "metadata": {
        "id": "Am9mUOXHbwC9"
      },
      "source": [
        "To evaluate the data we load the validation split using a data loader and our previously defined data collator. Note that although we had a test split we cannot use it, since there are no labels available for this split (you can check the data to confirm this)."
      ]
    },
    {
      "cell_type": "code",
      "execution_count": 54,
      "id": "jhBq38xadGvA",
      "metadata": {
        "id": "jhBq38xadGvA"
      },
      "outputs": [],
      "source": [
        "from torch.utils.data import DataLoader\n",
        "import evaluate\n",
        "\n",
        "eval_dataloader = DataLoader(encoded_datasets[\"validation\"], batch_size=64, collate_fn=MultipleChoiceDataCollator(tokenizer))"
      ]
    },
    {
      "cell_type": "markdown",
      "id": "ctcpVXXrl8Wd",
      "metadata": {
        "id": "ctcpVXXrl8Wd"
      },
      "source": [
        "To make things easier, let's use the `evaluate` library from Hugging Face to compute the accuracy metric. Here we load `accuracy` from the `evaluate` library two times, one for the custom model and one for the Hugging Face model. Further, we put the models on eval mode. Complete the code for evaluation using the capabilities of the `evaluate` library to simultaneously compute the metric for both models.\n"
      ]
    },
    {
      "cell_type": "code",
      "execution_count": 55,
      "id": "1AZcv5RQbfwq",
      "metadata": {
        "id": "1AZcv5RQbfwq",
        "colab": {
          "base_uri": "https://localhost:8080/",
          "height": 140
        },
        "outputId": "fbfa9a0c-c4dd-44b9-dcb4-de268089d83c"
      },
      "outputs": [
        {
          "output_type": "error",
          "ename": "IndentationError",
          "evalue": "expected an indented block after 'for' statement on line 10 (<ipython-input-55-af45f945ff50>, line 14)",
          "traceback": [
            "\u001b[0;36m  File \u001b[0;32m\"<ipython-input-55-af45f945ff50>\"\u001b[0;36m, line \u001b[0;32m14\u001b[0m\n\u001b[0;31m    acc_hf=\u001b[0m\n\u001b[0m    ^\u001b[0m\n\u001b[0;31mIndentationError\u001b[0m\u001b[0;31m:\u001b[0m expected an indented block after 'for' statement on line 10\n"
          ]
        }
      ],
      "source": [
        "from tqdm import tqdm\n",
        "device = torch.device(\"cuda\") if torch.cuda.is_available() else torch.device(\"cpu\")\n",
        "metric_dict={\"custom\":evaluate.load(\"accuracy\"),\"hf\":evaluate.load(\"accuracy\")} #use to compute accuracy\n",
        "models_dict= {\"custom\":model_custom,\"hf\":model_hf}# use to access models\n",
        "\n",
        "for name, model in models_dict.items():\n",
        "  model.to(device)\n",
        "  model.eval()\n",
        "\n",
        "for i,batch in tqdm(enumerate(eval_dataloader), total=len(eval_dataloader)):\n",
        "  ### your code ###\n",
        "  #evaluate on both model on each batch\n",
        "\n",
        "acc_hf=\n",
        "acc_custom =\n",
        "  ### your code ###\n",
        "print(\"Hugging Face Model :\",acc_hf)\n",
        "print(\"Custom Model :\",acc_custom)"
      ]
    },
    {
      "cell_type": "markdown",
      "id": "HQC6grKnuSgZ",
      "metadata": {
        "id": "HQC6grKnuSgZ"
      },
      "source": [
        "#### ${\\color{red}{Comments\\ 2.4}}$\n",
        "\n",
        "${\\color{red}{⚠️Comments\\ begin⚠️}}$\n",
        "\n",
        "\n",
        "```\n",
        "cross-feedback comment section\n",
        "```\n",
        "\n",
        "\n",
        "${\\color{red}{⚠️Comments\\ end⚠️}}$"
      ]
    },
    {
      "cell_type": "markdown",
      "id": "_sO-H1PVMSsp",
      "metadata": {
        "id": "_sO-H1PVMSsp"
      },
      "source": [
        "## **Task 3: Encoder-Decoder Architecture** (5 + 2 + 2 + 5 = 14 points)"
      ]
    },
    {
      "cell_type": "markdown",
      "id": "W42O89DrMZNj",
      "metadata": {
        "id": "W42O89DrMZNj"
      },
      "source": [
        "We explored an encoder-based model (BERT) in the previous exercise. In this task, we look at another family of transformer architectures, the encoder-decoder. We use the [T5](https://arxiv.org/pdf/1910.10683.pdf) model, presented by Raffel et al.  T5 is an encoder-decoder architecture pre-trained on a multi-task mixture of unsupervised and supervised tasks. In this task, we set up a fine-tuning example for question answering using the [SQUAD](https://huggingface.co/datasets/squad) dataset. Since the actual fine-tuning is time-consuming and computational intensive for inference, we use an already pre-trained model. The main goal is to introduce you to the structure of the fine-tuning and its simplicity with the Hugging Face framework."
      ]
    },
    {
      "cell_type": "markdown",
      "id": "c-oSCvS6wwef",
      "metadata": {
        "id": "c-oSCvS6wwef"
      },
      "source": [
        "To fine-tune the BERT-based models, we usually add a task-specific head. On the other hand, T5 converts all NLP problems into a text-to-text format.  \n",
        "It is trained using teacher forcing, meaning that we require an input sequence and a corresponding target sequence.\n",
        "\n",
        "\n",
        "1.   The input sequence is fed to the model using `input_ids` from the tokenizer.\n",
        "2.   The target sequence is shifted to the right, i.e., prepended by a start-sequence token and fed to the decoder using the `decoder_input_ids` (input_ids of the encoded target sequence). The target sequence is appended by EOS (end of the sentence) to denote the end of a generation and corresponds to the `labels`.\n",
        "3. The task prefix defines what task is expected of T5. For example, we prepend the input sequence with `translate English to German: ` before encoding the input to tell the model to translate. T5 already has a set of pre-defined task prefixes, and it is best to stick to those since they were used during pre-training. With enough training data, you can also introduce your own custom task.\n"
      ]
    },
    {
      "cell_type": "markdown",
      "id": "sg6jO_SeznX3",
      "metadata": {
        "id": "sg6jO_SeznX3"
      },
      "source": [
        "In contrast to the encoder model, where only a single `max_length` is required, for encoder-decoder architectures, one typically defines a `max_source_length` and `max_target_length`, which determine the maximum length of the input and output sequences, respectively. We must also ensure that the padding ID of the `labels` is not taken into account by the loss function. This can be done by replacing them with `-100`, which is the `ignore_index` of the `CrossEntropyLoss`."
      ]
    },
    {
      "cell_type": "markdown",
      "id": "0zLQjAxlNzJ_",
      "metadata": {
        "id": "0zLQjAxlNzJ_"
      },
      "source": [
        "### Subtask 1: Data Processing"
      ]
    },
    {
      "cell_type": "markdown",
      "id": "7hx8LCNjBlvi",
      "metadata": {
        "id": "7hx8LCNjBlvi"
      },
      "source": [
        "We first start by loading the dataset from Hugging Face hub:"
      ]
    },
    {
      "cell_type": "code",
      "execution_count": null,
      "id": "FjujP1xsuQGX",
      "metadata": {
        "id": "FjujP1xsuQGX"
      },
      "outputs": [],
      "source": [
        "from datasets import load_dataset\n",
        "\n",
        "datasets_squad = load_dataset(\"squad\")\n",
        "datasets_squad"
      ]
    },
    {
      "cell_type": "code",
      "execution_count": null,
      "id": "x7VEY66uEEeY",
      "metadata": {
        "id": "x7VEY66uEEeY"
      },
      "outputs": [],
      "source": [
        "print(\"context ---->\" ,datasets_squad[\"train\"][0][\"context\"])\n",
        "print(\"question ---->\",datasets_squad[\"train\"][0][\"question\"])\n",
        "print(\"answers ---->\",datasets_squad[\"train\"][0][\"answers\"])"
      ]
    },
    {
      "cell_type": "markdown",
      "id": "5OrYB9xBByvj",
      "metadata": {
        "id": "5OrYB9xBByvj"
      },
      "source": [
        "Now let's load the needed pre-trained tokenizer for `t5-small`, which is the smallest T5 model. Set the maximum sequence length to `512`."
      ]
    },
    {
      "cell_type": "code",
      "execution_count": null,
      "id": "WwYjYXASMg_z",
      "metadata": {
        "id": "WwYjYXASMg_z"
      },
      "outputs": [],
      "source": [
        "import torch\n",
        "### your code ###\n",
        "from transformers import T5Tokenizer\n",
        "t5_tokenizer = T5Tokenizer.from_pretrained(\"t5-small\", max_len=512)\n",
        "### your code ###"
      ]
    },
    {
      "cell_type": "markdown",
      "id": "FvN50codiJXR",
      "metadata": {
        "id": "FvN50codiJXR"
      },
      "source": [
        "The next step is to pre-process the dataset using the tokenizer to convert the sequences to IDs and add the special tokens.\n",
        "T5 is based on the SentencePiece tokenizer, and the end of sentence token is denoted by `</s>`.\n",
        "Complete the function `add_eos_to_examples` to format the input and target sequence. Your input as `input_text` should have the format `question:{question_text} context:{context_text} <EOS_Token>` and your target as `target_text` should have the format `{answer_text} <EOS_Token>`."
      ]
    },
    {
      "cell_type": "code",
      "execution_count": null,
      "id": "xbisNi2-MYC2",
      "metadata": {
        "id": "xbisNi2-MYC2"
      },
      "outputs": [],
      "source": [
        "def add_eos_to_examples(example, tokenizer):\n",
        "    # Format input sequence\n",
        "    example['input_text'] = f\"question:{example['question']} context:{example['context']} </s>\"\n",
        "\n",
        "    # Format target sequence\n",
        "    example['target_text'] = f\"{example['answers']['text'][0]} </s>\"\n",
        "\n",
        "    # Tokenize input and target sequences\n",
        "    example['input_ids'] = tokenizer.encode(example['input_text'], return_tensors=\"pt\")\n",
        "    example['target_ids'] = tokenizer.encode(example['target_text'], return_tensors=\"pt\")\n",
        "\n",
        "    return example"
      ]
    },
    {
      "cell_type": "markdown",
      "id": "l1cI8qcCIcXM",
      "metadata": {
        "id": "l1cI8qcCIcXM"
      },
      "source": [
        "Use the `map` function to process the data, and do not set the `batched` argument."
      ]
    },
    {
      "cell_type": "code",
      "execution_count": null,
      "id": "Z7Q2TH_AIJDp",
      "metadata": {
        "id": "Z7Q2TH_AIJDp"
      },
      "outputs": [],
      "source": [
        "### your code ###\n",
        "encoded_squad = datasets_squad.map(lambda example: add_eos_to_examples(example, t5_tokenizer))\n",
        "### your code ###"
      ]
    },
    {
      "cell_type": "code",
      "execution_count": null,
      "id": "FgqckdGNDWNp",
      "metadata": {
        "id": "FgqckdGNDWNp"
      },
      "outputs": [],
      "source": [
        "print(encoded_squad[\"train\"][0][\"input_text\"])\n",
        "print(encoded_squad[\"train\"][0][\"target_text\"])"
      ]
    },
    {
      "cell_type": "markdown",
      "id": "UqK9_TtLFZrU",
      "metadata": {
        "id": "UqK9_TtLFZrU"
      },
      "source": [
        "Complete the function `convert_to_features` that takes in the examples from the dataset and tokenizes them using the T5 tokenizer. However, our answers in this dataset are relatively short and do not require `512` tokens, in contrast to the input sequence which is a combination of question and context paragraphs and is usually long. To this end, we want to truncate the input sequence at `512` and the target sequence at `16`. If any input or target is smaller than the specified length, make sure you pad them. Finally, convert everything to PyTorch tensors to be easily used by the data collator and place them in the dictionary `encodings`."
      ]
    },
    {
      "cell_type": "code",
      "execution_count": null,
      "id": "4yPglRvTEg_p",
      "metadata": {
        "id": "4yPglRvTEg_p"
      },
      "outputs": [],
      "source": [
        "import torch\n",
        "\n",
        "def convert_to_features(examples):\n",
        "    # Concatenate question and context, and truncate to 512 tokens\n",
        "    input_text = f\"question: {examples['question']} context: {examples['context']}\"\n",
        "    input_encodings = t5_tokenizer(\n",
        "        input_text,\n",
        "        truncation=True,\n",
        "        padding='max_length',\n",
        "        max_length=512,\n",
        "        return_tensors='pt'\n",
        "    )\n",
        "\n",
        "    # Extract answer text and truncate to 16 tokens\n",
        "    target_text = examples['answers']['text'][0]\n",
        "    target_encodings = t5_tokenizer(\n",
        "        target_text,\n",
        "        truncation=True,\n",
        "        padding='max_length',\n",
        "        max_length=16,\n",
        "        return_tensors='pt'\n",
        "    )\n",
        "\n",
        "    # Create the 'encodings' dictionary\n",
        "    encodings = {\n",
        "        'input_ids': input_encodings['input_ids'].squeeze(),  # Remove batch dimension\n",
        "        'attention_mask': input_encodings['attention_mask'].squeeze(),\n",
        "        'target_ids': target_encodings['input_ids'].squeeze(),  # Remove batch dimension\n",
        "    }\n",
        "\n",
        "    return encodings"
      ]
    },
    {
      "cell_type": "markdown",
      "id": "UI_tQfeNIgi7",
      "metadata": {
        "id": "UI_tQfeNIgi7"
      },
      "source": [
        "Use the `map` function to process the data."
      ]
    },
    {
      "cell_type": "code",
      "execution_count": null,
      "id": "gYm6RZGF19xY",
      "metadata": {
        "id": "gYm6RZGF19xY"
      },
      "outputs": [],
      "source": [
        "### your code ###\n",
        "encoded_squad = datasets_squad.map(convert_to_features)\n",
        "### your code ###"
      ]
    },
    {
      "cell_type": "code",
      "execution_count": null,
      "id": "gaIppB0A2sxX",
      "metadata": {
        "id": "gaIppB0A2sxX"
      },
      "outputs": [],
      "source": [
        "encoded_squad #new columns are added"
      ]
    },
    {
      "cell_type": "markdown",
      "id": "iMhQ6_vpIlUC",
      "metadata": {
        "id": "iMhQ6_vpIlUC"
      },
      "source": [
        "Interestingly, although we specified PyTorch tensors as output, the type of the `input_ids` is still a list. To remedy this problem, you need to explicitly set the type of the column that contains PyTorch tensors."
      ]
    },
    {
      "cell_type": "code",
      "execution_count": null,
      "id": "gaU31GYeIlsH",
      "metadata": {
        "id": "gaU31GYeIlsH",
        "scrolled": true
      },
      "outputs": [],
      "source": [
        "type(encoded_squad[\"train\"][0][\"input_ids\"])"
      ]
    },
    {
      "cell_type": "code",
      "execution_count": null,
      "id": "depIPwgSIntY",
      "metadata": {
        "id": "depIPwgSIntY"
      },
      "outputs": [],
      "source": [
        "### your code ###\n",
        "encoded_squad.set_format(type='torch', columns=['input_ids', 'attention_mask', 'target_ids'])\n",
        "### your code ###\n",
        "type(encoded_squad[\"train\"][0][\"input_ids\"])"
      ]
    },
    {
      "cell_type": "code",
      "execution_count": null,
      "id": "kcZ1Jg8kI9UN",
      "metadata": {
        "id": "kcZ1Jg8kI9UN"
      },
      "outputs": [],
      "source": [
        "print(\"Shape of the input_ids:\",encoded_squad[\"train\"][0][\"input_ids\"].shape)\n",
        "print(\"Shape of the target_ids:\",encoded_squad[\"train\"][0][\"target_ids\"].shape)"
      ]
    },
    {
      "cell_type": "markdown",
      "id": "XpYHaNlpOCMd",
      "metadata": {
        "id": "XpYHaNlpOCMd"
      },
      "source": [
        "The final step in the data processing is the creation of the data collator to\n",
        "prepare `labels` from `target_ids` and return examples with keys as expected by the forward method of T5.\n",
        "This is necessary because the trainer directly passes this dict as argument to the model so you need to check the input of T5 and rename the column based on that.\n",
        "`input_ids`, `target_ids`, `attention_mask`, and `target_attention_mask` need to be stacked in a batch and the pad tokens in the target need to be set to `-100` to avoid loss computation."
      ]
    },
    {
      "cell_type": "code",
      "execution_count": null,
      "id": "RQzQ50R326cL",
      "metadata": {
        "id": "RQzQ50R326cL"
      },
      "outputs": [],
      "source": [
        "from dataclasses import dataclass\n",
        "from transformers import DataCollator\n",
        "from transformers.tokenization_utils_base import PreTrainedTokenizerBase, PaddingStrategy\n",
        "from typing import Optional, Union\n",
        "@dataclass\n",
        "class T2TDataCollator:\n",
        "    tokenizer: PreTrainedTokenizerBase\n",
        "    padding: Union[bool, str, PaddingStrategy] = True\n",
        "    max_length: Optional[int] = None\n",
        "    pad_to_multiple_of: Optional[int] = None\n",
        "\n",
        "    def __call__(self, batch):\n",
        "        # Pad sequences to the specified max length\n",
        "        batch = self.tokenizer.pad(\n",
        "            batch,\n",
        "            padding=self.padding,\n",
        "            max_length=self.max_length,\n",
        "            pad_to_multiple_of=self.pad_to_multiple_of,\n",
        "            return_tensors=\"pt\",\n",
        "        )\n",
        "\n",
        "        # Set pad tokens in target to -100\n",
        "        batch[\"labels\"] = batch[\"target_ids\"].clone()\n",
        "        batch[\"labels\"][batch[\"labels\"] == self.tokenizer.pad_token_id] = -100\n",
        "\n",
        "        # Prepare feature dictionary for the forward method of T5\n",
        "        feature_dict = {\n",
        "            \"input_ids\": batch[\"input_ids\"],\n",
        "            \"attention_mask\": batch[\"attention_mask\"],\n",
        "            \"labels\": batch[\"labels\"],\n",
        "        }\n",
        "\n",
        "        return feature_dict"
      ]
    },
    {
      "cell_type": "code",
      "execution_count": null,
      "id": "zXOwBe1bPCRJ",
      "metadata": {
        "id": "zXOwBe1bPCRJ"
      },
      "outputs": [],
      "source": [
        "accepted_keys = ['input_text', 'target_text', 'input_ids', 'attention_mask', 'target_ids', 'target_attention_mask']\n",
        "features = [{k: v for k, v in encoded_squad[\"train\"][i].items() if k in accepted_keys} for i in range(2)]\n",
        "batch=T2TDataCollator(t5_tokenizer)(features)\n",
        "print(batch[\"input_ids\"].shape)\n",
        "print(batch[\"attention_mask\"].shape)\n",
        "print(batch[\"labels\"].shape)"
      ]
    },
    {
      "cell_type": "markdown",
      "id": "gb9KZjhsu_5N",
      "metadata": {
        "id": "gb9KZjhsu_5N"
      },
      "source": [
        "#### ${\\color{red}{Comments\\ 3.1}}$\n",
        "\n",
        "${\\color{red}{⚠️Comments\\ begin⚠️}}$\n",
        "\n",
        "\n",
        "```\n",
        "cross-feedback comment section\n",
        "```\n",
        "\n",
        "\n",
        "${\\color{red}{⚠️Comments\\ end⚠️}}$"
      ]
    },
    {
      "cell_type": "markdown",
      "id": "ktvtcVh1N6l0",
      "metadata": {
        "id": "ktvtcVh1N6l0"
      },
      "source": [
        "### Subtask 2: Training"
      ]
    },
    {
      "cell_type": "markdown",
      "id": "mnMvSwtbV2GC",
      "metadata": {
        "id": "mnMvSwtbV2GC"
      },
      "source": [
        "For training and inference, we can use `T5ForConditionalGeneration`, which includes the language modeling head on top of the decoder. Load the `t5-small` model."
      ]
    },
    {
      "cell_type": "code",
      "execution_count": null,
      "id": "aO4NNyEFKXap",
      "metadata": {
        "id": "aO4NNyEFKXap"
      },
      "outputs": [],
      "source": [
        "### your code ###\n",
        "from transformers import T5ForConditionalGeneration, T5Tokenizer\n",
        "t5 = T5ForConditionalGeneration.from_pretrained(\"t5-small\")\n",
        "### your code ###"
      ]
    },
    {
      "cell_type": "markdown",
      "id": "rE9j5o_iBLOL",
      "metadata": {
        "id": "rE9j5o_iBLOL"
      },
      "source": [
        "Next, similar to the previous task we initiate training arguments. Note that this time we are using a `Seq2SeqTrainingArguments` for a `Seq2SeqTrainer`. Set the parameters for training as follows:\n",
        "\n",
        "\n",
        "*   T5 doesn't support GPU and TPU evaluation for now, so we only focus on training. You do not need to pass any parameters for evaluation setup.\n",
        "*   The output directory should be named `t5-squad`.\n",
        "* The T5 models need a slightly higher learning rate than the default one set in the `Trainer` when using the `AdamW` optimizer. Set the learning rate to `1e-4` and the regularization parameter to `0.01`.\n",
        "* Random seed should be `77`, and we train for a maximum of `200` steps and save a checkpoint every `100` steps. A complete training of the T5 model requires far more than `200` steps, however, that is beyond the scope of this assignment.\n",
        "* T5 models require a large batch size. The default model was trained with a batch size of `128`. However, we cannot fit that into a single GPU, therefore we use gradient accumulation. Set the batch size to `32` and choose the gradient accumulation step to reach the effective batch size of `128`.\n",
        "* Make sure that your trainer does not remove unused columns during training, as this will cause a runtime error later on.\n",
        "\n",
        "\n",
        "**Gradient accumulation:** is a technique that simulates a larger batch size by accumulating gradients from multiple small batches before performing a weight update.\n",
        "\n"
      ]
    },
    {
      "cell_type": "code",
      "execution_count": null,
      "id": "UiWbhXjk5Mr0",
      "metadata": {
        "id": "UiWbhXjk5Mr0"
      },
      "outputs": [],
      "source": [
        "from transformers import Seq2SeqTrainingArguments\n",
        "\n",
        "training_args = Seq2SeqTrainingArguments(\n",
        "    output_dir=\"t5-squad\",\n",
        "    per_device_train_batch_size=32,\n",
        "    gradient_accumulation_steps=4,  # Effective batch size = per_device_train_batch_size * gradient_accumulation_steps\n",
        "    save_total_limit=2,\n",
        "    save_steps=100,\n",
        "    num_train_epochs=200,\n",
        "    learning_rate=1e-4,\n",
        "    weight_decay=0.01,\n",
        "    seed=77,\n",
        "    logging_steps=10,\n",
        "    logging_dir=\"logs\",\n",
        "    push_to_hub=False,\n",
        "    remove_unused_columns=False,\n",
        ")"
      ]
    },
    {
      "cell_type": "markdown",
      "id": "AEOvujcduYjG",
      "metadata": {
        "id": "AEOvujcduYjG"
      },
      "source": [
        "Once again make sure that you are using GPU before running the cell below.\n",
        "Initilize your `Seq2SeqTrainer` with inputs necessary for training. The training should take around 15 min on Google Colab T4 GPU.\n"
      ]
    },
    {
      "cell_type": "code",
      "execution_count": null,
      "id": "J_Vb3za_4kBo",
      "metadata": {
        "id": "J_Vb3za_4kBo"
      },
      "outputs": [],
      "source": [
        "# Initialize our Trainer\n",
        "from transformers import Seq2SeqTrainer, Seq2SeqTrainingArguments, T5ForConditionalGeneration\n",
        "\n",
        "\n",
        "# Initialize the Seq2SeqTrainer\n",
        "trainer = Seq2SeqTrainer(\n",
        "    model=t5,\n",
        "    args=training_args,\n",
        "    data_collator=T2TDataCollator(tokenizer=t5_tokenizer),\n",
        "    train_dataset=encoded_squad[\"train\"],\n",
        ")"
      ]
    },
    {
      "cell_type": "code",
      "execution_count": null,
      "id": "8GDPeyPiBIEX",
      "metadata": {
        "id": "8GDPeyPiBIEX"
      },
      "outputs": [],
      "source": [
        "trainer.train()"
      ]
    },
    {
      "cell_type": "markdown",
      "id": "1-gKhqSpu7Uz",
      "metadata": {
        "id": "1-gKhqSpu7Uz"
      },
      "source": [
        "#### ${\\color{red}{Comments\\ 3.2}}$\n",
        "\n",
        "${\\color{red}{⚠️Comments\\ begin⚠️}}$\n",
        "\n",
        "\n",
        "```\n",
        "cross-feedback comment section\n",
        "```\n",
        "\n",
        "\n",
        "${\\color{red}{⚠️Comments\\ end⚠️}}$"
      ]
    },
    {
      "cell_type": "markdown",
      "id": "AQ9jj65UvER1",
      "metadata": {
        "id": "AQ9jj65UvER1"
      },
      "source": [
        "### Subtask 3: Inference"
      ]
    },
    {
      "cell_type": "markdown",
      "id": "bkDgQponWOs4",
      "metadata": {
        "id": "bkDgQponWOs4"
      },
      "source": [
        "Our trained model has seen far too few instances to make a coherent prediction. To this end, we load an already trained checkpoint from Hugging Face and perform inference. Load this [model](https://huggingface.co/mrm8488/t5-base-finetuned-squadv2) and the respective tokenizer. Note that we are loading a `base` model that is slightly larger than `t5-small`."
      ]
    },
    {
      "cell_type": "code",
      "execution_count": null,
      "id": "lW8Wss36vV20",
      "metadata": {
        "id": "lW8Wss36vV20"
      },
      "outputs": [],
      "source": [
        "from transformers import AutoModelForSeq2SeqLM, AutoTokenizer\n",
        "### your code ###\n",
        "t5_tokenizer = AutoTokenizer.from_pretrained(\"t5-base\")\n",
        "t5_model = AutoModelForSeq2SeqLM.from_pretrained(\"t5-base\")\n",
        "### your code ###"
      ]
    },
    {
      "cell_type": "markdown",
      "id": "azC95xxzxj84",
      "metadata": {
        "id": "azC95xxzxj84"
      },
      "source": [
        "At inference time for T5, it is recommended to use the `generate()` function. This auto-regressively generates the decoder output. Complete the code for the `get_answer` function, which gives a model, a tokenizer, and a question and context pair, and generates the answer from the context given. The output should be the answer to the given question in natural text (without the special tokens).\n",
        "\n",
        "**Hint:** Many of the steps are similar to how you prepared your input data for the model."
      ]
    },
    {
      "cell_type": "code",
      "execution_count": null,
      "id": "_Run50fvWPcv",
      "metadata": {
        "id": "_Run50fvWPcv"
      },
      "outputs": [],
      "source": [
        "def get_answer(tokenizer, model, question, context):\n",
        "    # Format input text\n",
        "    input_text = f\"question: {question} context: {context}\"\n",
        "\n",
        "    # Tokenize the input\n",
        "    inputs = tokenizer(input_text, return_tensors=\"pt\", max_length=512, truncation=True)\n",
        "\n",
        "    # Generate the answer using the model\n",
        "    outputs = model.generate(**inputs, max_length=32, num_beams=1, length_penalty=1.0, no_repeat_ngram_size=2)\n",
        "    answer = tokenizer.decode(outputs[0], skip_special_tokens=True)\n",
        "\n",
        "    return answer\n"
      ]
    },
    {
      "cell_type": "markdown",
      "id": "F6Fq37I3yMeQ",
      "metadata": {
        "id": "F6Fq37I3yMeQ"
      },
      "source": [
        "Let's try it with an example."
      ]
    },
    {
      "cell_type": "code",
      "execution_count": null,
      "id": "09znSykkdkk0",
      "metadata": {
        "id": "09znSykkdkk0"
      },
      "outputs": [],
      "source": [
        "context = \"Sarah has joined NLP for transformers class and is working on her research project with the support of Harry.\"\n",
        "question = \"Who is supporting Sarah?\"\n",
        "\n",
        "get_answer(t5_tokenizer,t5_model,question, context)###your answer should be \"Harry\""
      ]
    },
    {
      "cell_type": "code",
      "execution_count": null,
      "id": "LQNpgTyazjge",
      "metadata": {
        "id": "LQNpgTyazjge"
      },
      "outputs": [],
      "source": [
        "context = \"TPUs are more power efficient in comparison to GPUs making them a better choice for machine learning projects.\"\n",
        "question = \"What is better for machine learning projects?\"\n",
        "\n",
        "get_answer(t5_tokenizer,t5_model,question, context)###your answer should be \"TPUs\""
      ]
    },
    {
      "cell_type": "markdown",
      "id": "sIz0JuwzGEFN",
      "metadata": {
        "id": "sIz0JuwzGEFN"
      },
      "source": [
        "#### ${\\color{red}{Comments\\ 3.3}}$\n",
        "\n",
        "${\\color{red}{⚠️Comments\\ begin⚠️}}$\n",
        "\n",
        "\n",
        "```\n",
        "cross-feedback comment section\n",
        "```\n",
        "\n",
        "\n",
        "${\\color{red}{⚠️Comments\\ end⚠️}}$"
      ]
    },
    {
      "cell_type": "markdown",
      "id": "i9LfBp2eKqYc",
      "metadata": {
        "id": "i9LfBp2eKqYc"
      },
      "source": [
        "### Subtask 4: T5 Paper"
      ]
    },
    {
      "cell_type": "markdown",
      "id": "NRVp_0KaKvN4",
      "metadata": {
        "id": "NRVp_0KaKvN4"
      },
      "source": [
        "To answer questions of the final subtask you need to have a general overview of the [T5 paper](https://arxiv.org/pdf/1910.10683.pdf)."
      ]
    },
    {
      "cell_type": "markdown",
      "id": "EwoEHJ1eMSVr",
      "metadata": {
        "id": "EwoEHJ1eMSVr"
      },
      "source": [
        "\n",
        "\n",
        "1.   Describe what a “text-to-text format\" is and how T5 processes input and output for text classification tasks? What are the possible complications with a predefined set of classes?\n",
        "2.   Describe the \"masked language modeling\" and \"word dropout\" unsupervised objective with sentinel tokens. Give an example of how this would look in a single sentence.\n",
        "3. Explain \"fully-visible\", \"causal\" and \"causal masking with prefix\" masking.\n",
        "4. Briefly describe \"adapter layers\" and \"gradual unfreezing\" as methods for fine-tuning on fewer parameters.\n",
        "\n"
      ]
    },
    {
      "cell_type": "markdown",
      "id": "gIi_WZuvMWUb",
      "metadata": {
        "id": "gIi_WZuvMWUb"
      },
      "source": [
        "**Answer**\n",
        "\n",
        "`\n",
        "Text-to-Text Format:\n",
        "In the context of T5, the \"text-to-text format\" refers to the approach of framing all natural language processing tasks as a text generation problem. Both input and output are treated as text sequences. For text classification tasks, the input is a textual description or prompt, and the output is the class label or category.\n",
        "\n",
        "Processing Input and Output for Text Classification in T5:\n",
        "In text classification tasks, T5 takes a textual input, which is a prompt describing the content to be classified. The model then generates a textual output representing the predicted class or label. During training, the model is fine-tuned using labeled examples, where the input is a description of the text, and the output is the corresponding class label. This way, T5 can be used for a range of classification tasks by providing task-specific prompts during fine-tuning.\n",
        "\n",
        "Complications with a Predefined Set of Classes:\n",
        "A challenge with a predefined set of classes is that the model needs to be trained on a representative dataset that includes all possible classes. If new classes emerge or if the classification task requires a more dynamic set of categories, the model might struggle to generalize effectively.\n",
        "`"
      ]
    },
    {
      "cell_type": "markdown",
      "id": "rIf7G01tkc4u",
      "metadata": {
        "id": "rIf7G01tkc4u"
      },
      "source": [
        "**Answer**\n",
        "\n",
        "`\n",
        "Masked Language Modeling (MLM):\n",
        "In MLM, random tokens in the input sequence are masked, and the model is trained to predict these masked tokens based on the surrounding context. T5 uses MLM as part of its unsupervised pretraining to learn contextualized representations.\n",
        "\n",
        "Word Dropout with Sentinel Tokens:\n",
        "Word dropout involves randomly dropping out words from the input sequence during training. T5 introduces the concept of sentinel tokens to handle word dropout. Sentinel tokens are used to indicate when a word has been dropped during training.\n",
        "\n",
        "Example Sentence:\n",
        "Original: \"The quick brown fox jumps over the lazy dog.\"\n",
        "With Word Dropout: \"[SENT] quick brown [DROP] jumps over [SENT] lazy [DROP].\"\n",
        "`"
      ]
    },
    {
      "cell_type": "markdown",
      "id": "iC-WBUKQkf6r",
      "metadata": {
        "id": "iC-WBUKQkf6r"
      },
      "source": [
        "**Answer**\n",
        "\n",
        "`\n",
        "Fully-Visible Masking:\n",
        "All positions in the input sequence are visible to the model during training. No tokens are masked, and the model can attend to the entire input.\n",
        "\n",
        "Causal Masking:\n",
        "In causal masking, tokens are masked based on their position in the sequence, preventing the model from attending to future positions during training.\n",
        "\n",
        "Causal Masking with Prefix:\n",
        "This masking technique involves masking the future tokens and also a specified prefix length. It allows the model to attend to some future context while still providing some limitation.\n",
        "`"
      ]
    },
    {
      "cell_type": "markdown",
      "id": "L2Mo5YElkhtI",
      "metadata": {
        "id": "L2Mo5YElkhtI"
      },
      "source": [
        "**Answer**\n",
        "\n",
        "`\n",
        "Adapter Layers:\n",
        "Adapter layers are additional small neural network modules added to the pre-trained model. They allow for task-specific modifications without changing the entire architecture, facilitating easier transfer learning.\n",
        "\n",
        "Gradual Unfreezing:\n",
        "Gradual unfreezing involves training the model in a layer-wise manner. Initially, only the task-specific layers are trained, and then gradually, lower layers are unfrozen and fine-tuned. This helps preserve knowledge from pretraining.\n",
        "\n",
        "These techniques in fine-tuning make it possible to adapt T5 to specific tasks efficiently while leveraging the knowledge gained during pretraining.\n",
        "`"
      ]
    },
    {
      "cell_type": "markdown",
      "id": "WiYns91wr2P5",
      "metadata": {
        "id": "WiYns91wr2P5"
      },
      "source": [
        "#### ${\\color{red}{Comments\\ 3.4}}$\n",
        "\n",
        "${\\color{red}{⚠️Comments\\ begin⚠️}}$\n",
        "\n",
        "\n",
        "```\n",
        "cross-feedback comment section\n",
        "```\n",
        "\n",
        "\n",
        "${\\color{red}{⚠️Comments\\ end⚠️}}$"
      ]
    }
  ],
  "metadata": {
    "accelerator": "GPU",
    "colab": {
      "gpuType": "T4",
      "provenance": []
    },
    "kernelspec": {
      "display_name": "Python 3 (ipykernel)",
      "language": "python",
      "name": "python3"
    },
    "language_info": {
      "codemirror_mode": {
        "name": "ipython",
        "version": 3
      },
      "file_extension": ".py",
      "mimetype": "text/x-python",
      "name": "python",
      "nbconvert_exporter": "python",
      "pygments_lexer": "ipython3",
      "version": "3.11.5"
    },
    "widgets": {
      "application/vnd.jupyter.widget-state+json": {
        "0ddbe53c24144a29b5c1ec1603736124": {
          "model_module": "@jupyter-widgets/controls",
          "model_name": "HBoxModel",
          "model_module_version": "1.5.0",
          "state": {
            "_dom_classes": [],
            "_model_module": "@jupyter-widgets/controls",
            "_model_module_version": "1.5.0",
            "_model_name": "HBoxModel",
            "_view_count": null,
            "_view_module": "@jupyter-widgets/controls",
            "_view_module_version": "1.5.0",
            "_view_name": "HBoxView",
            "box_style": "",
            "children": [
              "IPY_MODEL_648025eae7c548448cb97c195fc0a4b5",
              "IPY_MODEL_eb4e3dc38b3b4adda0a3b7232c681f48",
              "IPY_MODEL_12e0089a60234c2d852d4390868467b3"
            ],
            "layout": "IPY_MODEL_e3c6041f7d854f44bd7a3d722cc88445"
          }
        },
        "648025eae7c548448cb97c195fc0a4b5": {
          "model_module": "@jupyter-widgets/controls",
          "model_name": "HTMLModel",
          "model_module_version": "1.5.0",
          "state": {
            "_dom_classes": [],
            "_model_module": "@jupyter-widgets/controls",
            "_model_module_version": "1.5.0",
            "_model_name": "HTMLModel",
            "_view_count": null,
            "_view_module": "@jupyter-widgets/controls",
            "_view_module_version": "1.5.0",
            "_view_name": "HTMLView",
            "description": "",
            "description_tooltip": null,
            "layout": "IPY_MODEL_2a8fa5a5a2a24d9bb2ed2d574c75dcf9",
            "placeholder": "​",
            "style": "IPY_MODEL_67e59ade4a4a4813a51e245f0c8cfa76",
            "value": "Map: 100%"
          }
        },
        "eb4e3dc38b3b4adda0a3b7232c681f48": {
          "model_module": "@jupyter-widgets/controls",
          "model_name": "FloatProgressModel",
          "model_module_version": "1.5.0",
          "state": {
            "_dom_classes": [],
            "_model_module": "@jupyter-widgets/controls",
            "_model_module_version": "1.5.0",
            "_model_name": "FloatProgressModel",
            "_view_count": null,
            "_view_module": "@jupyter-widgets/controls",
            "_view_module_version": "1.5.0",
            "_view_name": "ProgressView",
            "bar_style": "success",
            "description": "",
            "description_tooltip": null,
            "layout": "IPY_MODEL_a05e5279d21b4e7e9d7af64f2119e4a8",
            "max": 73546,
            "min": 0,
            "orientation": "horizontal",
            "style": "IPY_MODEL_36b1533182904385a49df86f2cfdbe5d",
            "value": 73546
          }
        },
        "12e0089a60234c2d852d4390868467b3": {
          "model_module": "@jupyter-widgets/controls",
          "model_name": "HTMLModel",
          "model_module_version": "1.5.0",
          "state": {
            "_dom_classes": [],
            "_model_module": "@jupyter-widgets/controls",
            "_model_module_version": "1.5.0",
            "_model_name": "HTMLModel",
            "_view_count": null,
            "_view_module": "@jupyter-widgets/controls",
            "_view_module_version": "1.5.0",
            "_view_name": "HTMLView",
            "description": "",
            "description_tooltip": null,
            "layout": "IPY_MODEL_94f5b5f1a3fa424db0a64f4894020c44",
            "placeholder": "​",
            "style": "IPY_MODEL_a3ca69e88c6c48c085f6b2cfa8f700e0",
            "value": " 73546/73546 [00:41&lt;00:00, 1762.23 examples/s]"
          }
        },
        "e3c6041f7d854f44bd7a3d722cc88445": {
          "model_module": "@jupyter-widgets/base",
          "model_name": "LayoutModel",
          "model_module_version": "1.2.0",
          "state": {
            "_model_module": "@jupyter-widgets/base",
            "_model_module_version": "1.2.0",
            "_model_name": "LayoutModel",
            "_view_count": null,
            "_view_module": "@jupyter-widgets/base",
            "_view_module_version": "1.2.0",
            "_view_name": "LayoutView",
            "align_content": null,
            "align_items": null,
            "align_self": null,
            "border": null,
            "bottom": null,
            "display": null,
            "flex": null,
            "flex_flow": null,
            "grid_area": null,
            "grid_auto_columns": null,
            "grid_auto_flow": null,
            "grid_auto_rows": null,
            "grid_column": null,
            "grid_gap": null,
            "grid_row": null,
            "grid_template_areas": null,
            "grid_template_columns": null,
            "grid_template_rows": null,
            "height": null,
            "justify_content": null,
            "justify_items": null,
            "left": null,
            "margin": null,
            "max_height": null,
            "max_width": null,
            "min_height": null,
            "min_width": null,
            "object_fit": null,
            "object_position": null,
            "order": null,
            "overflow": null,
            "overflow_x": null,
            "overflow_y": null,
            "padding": null,
            "right": null,
            "top": null,
            "visibility": null,
            "width": null
          }
        },
        "2a8fa5a5a2a24d9bb2ed2d574c75dcf9": {
          "model_module": "@jupyter-widgets/base",
          "model_name": "LayoutModel",
          "model_module_version": "1.2.0",
          "state": {
            "_model_module": "@jupyter-widgets/base",
            "_model_module_version": "1.2.0",
            "_model_name": "LayoutModel",
            "_view_count": null,
            "_view_module": "@jupyter-widgets/base",
            "_view_module_version": "1.2.0",
            "_view_name": "LayoutView",
            "align_content": null,
            "align_items": null,
            "align_self": null,
            "border": null,
            "bottom": null,
            "display": null,
            "flex": null,
            "flex_flow": null,
            "grid_area": null,
            "grid_auto_columns": null,
            "grid_auto_flow": null,
            "grid_auto_rows": null,
            "grid_column": null,
            "grid_gap": null,
            "grid_row": null,
            "grid_template_areas": null,
            "grid_template_columns": null,
            "grid_template_rows": null,
            "height": null,
            "justify_content": null,
            "justify_items": null,
            "left": null,
            "margin": null,
            "max_height": null,
            "max_width": null,
            "min_height": null,
            "min_width": null,
            "object_fit": null,
            "object_position": null,
            "order": null,
            "overflow": null,
            "overflow_x": null,
            "overflow_y": null,
            "padding": null,
            "right": null,
            "top": null,
            "visibility": null,
            "width": null
          }
        },
        "67e59ade4a4a4813a51e245f0c8cfa76": {
          "model_module": "@jupyter-widgets/controls",
          "model_name": "DescriptionStyleModel",
          "model_module_version": "1.5.0",
          "state": {
            "_model_module": "@jupyter-widgets/controls",
            "_model_module_version": "1.5.0",
            "_model_name": "DescriptionStyleModel",
            "_view_count": null,
            "_view_module": "@jupyter-widgets/base",
            "_view_module_version": "1.2.0",
            "_view_name": "StyleView",
            "description_width": ""
          }
        },
        "a05e5279d21b4e7e9d7af64f2119e4a8": {
          "model_module": "@jupyter-widgets/base",
          "model_name": "LayoutModel",
          "model_module_version": "1.2.0",
          "state": {
            "_model_module": "@jupyter-widgets/base",
            "_model_module_version": "1.2.0",
            "_model_name": "LayoutModel",
            "_view_count": null,
            "_view_module": "@jupyter-widgets/base",
            "_view_module_version": "1.2.0",
            "_view_name": "LayoutView",
            "align_content": null,
            "align_items": null,
            "align_self": null,
            "border": null,
            "bottom": null,
            "display": null,
            "flex": null,
            "flex_flow": null,
            "grid_area": null,
            "grid_auto_columns": null,
            "grid_auto_flow": null,
            "grid_auto_rows": null,
            "grid_column": null,
            "grid_gap": null,
            "grid_row": null,
            "grid_template_areas": null,
            "grid_template_columns": null,
            "grid_template_rows": null,
            "height": null,
            "justify_content": null,
            "justify_items": null,
            "left": null,
            "margin": null,
            "max_height": null,
            "max_width": null,
            "min_height": null,
            "min_width": null,
            "object_fit": null,
            "object_position": null,
            "order": null,
            "overflow": null,
            "overflow_x": null,
            "overflow_y": null,
            "padding": null,
            "right": null,
            "top": null,
            "visibility": null,
            "width": null
          }
        },
        "36b1533182904385a49df86f2cfdbe5d": {
          "model_module": "@jupyter-widgets/controls",
          "model_name": "ProgressStyleModel",
          "model_module_version": "1.5.0",
          "state": {
            "_model_module": "@jupyter-widgets/controls",
            "_model_module_version": "1.5.0",
            "_model_name": "ProgressStyleModel",
            "_view_count": null,
            "_view_module": "@jupyter-widgets/base",
            "_view_module_version": "1.2.0",
            "_view_name": "StyleView",
            "bar_color": null,
            "description_width": ""
          }
        },
        "94f5b5f1a3fa424db0a64f4894020c44": {
          "model_module": "@jupyter-widgets/base",
          "model_name": "LayoutModel",
          "model_module_version": "1.2.0",
          "state": {
            "_model_module": "@jupyter-widgets/base",
            "_model_module_version": "1.2.0",
            "_model_name": "LayoutModel",
            "_view_count": null,
            "_view_module": "@jupyter-widgets/base",
            "_view_module_version": "1.2.0",
            "_view_name": "LayoutView",
            "align_content": null,
            "align_items": null,
            "align_self": null,
            "border": null,
            "bottom": null,
            "display": null,
            "flex": null,
            "flex_flow": null,
            "grid_area": null,
            "grid_auto_columns": null,
            "grid_auto_flow": null,
            "grid_auto_rows": null,
            "grid_column": null,
            "grid_gap": null,
            "grid_row": null,
            "grid_template_areas": null,
            "grid_template_columns": null,
            "grid_template_rows": null,
            "height": null,
            "justify_content": null,
            "justify_items": null,
            "left": null,
            "margin": null,
            "max_height": null,
            "max_width": null,
            "min_height": null,
            "min_width": null,
            "object_fit": null,
            "object_position": null,
            "order": null,
            "overflow": null,
            "overflow_x": null,
            "overflow_y": null,
            "padding": null,
            "right": null,
            "top": null,
            "visibility": null,
            "width": null
          }
        },
        "a3ca69e88c6c48c085f6b2cfa8f700e0": {
          "model_module": "@jupyter-widgets/controls",
          "model_name": "DescriptionStyleModel",
          "model_module_version": "1.5.0",
          "state": {
            "_model_module": "@jupyter-widgets/controls",
            "_model_module_version": "1.5.0",
            "_model_name": "DescriptionStyleModel",
            "_view_count": null,
            "_view_module": "@jupyter-widgets/base",
            "_view_module_version": "1.2.0",
            "_view_name": "StyleView",
            "description_width": ""
          }
        },
        "282da8db243b419197aa648e1173942d": {
          "model_module": "@jupyter-widgets/controls",
          "model_name": "HBoxModel",
          "model_module_version": "1.5.0",
          "state": {
            "_dom_classes": [],
            "_model_module": "@jupyter-widgets/controls",
            "_model_module_version": "1.5.0",
            "_model_name": "HBoxModel",
            "_view_count": null,
            "_view_module": "@jupyter-widgets/controls",
            "_view_module_version": "1.5.0",
            "_view_name": "HBoxView",
            "box_style": "",
            "children": [
              "IPY_MODEL_d5bac9ee0367433aa7353835117200db",
              "IPY_MODEL_e958ad636fdd4c5793d6de22d80074c9",
              "IPY_MODEL_5f67a08fd47c41b6a43e10e327be1b1e"
            ],
            "layout": "IPY_MODEL_6bbef393584f468089b16433df37a6e5"
          }
        },
        "d5bac9ee0367433aa7353835117200db": {
          "model_module": "@jupyter-widgets/controls",
          "model_name": "HTMLModel",
          "model_module_version": "1.5.0",
          "state": {
            "_dom_classes": [],
            "_model_module": "@jupyter-widgets/controls",
            "_model_module_version": "1.5.0",
            "_model_name": "HTMLModel",
            "_view_count": null,
            "_view_module": "@jupyter-widgets/controls",
            "_view_module_version": "1.5.0",
            "_view_name": "HTMLView",
            "description": "",
            "description_tooltip": null,
            "layout": "IPY_MODEL_18685cfaf6ef4e98b8b19a780b8c77a6",
            "placeholder": "​",
            "style": "IPY_MODEL_96e41eb494d946d9b1f4a88cb9c1d01a",
            "value": "Map: 100%"
          }
        },
        "e958ad636fdd4c5793d6de22d80074c9": {
          "model_module": "@jupyter-widgets/controls",
          "model_name": "FloatProgressModel",
          "model_module_version": "1.5.0",
          "state": {
            "_dom_classes": [],
            "_model_module": "@jupyter-widgets/controls",
            "_model_module_version": "1.5.0",
            "_model_name": "FloatProgressModel",
            "_view_count": null,
            "_view_module": "@jupyter-widgets/controls",
            "_view_module_version": "1.5.0",
            "_view_name": "ProgressView",
            "bar_style": "success",
            "description": "",
            "description_tooltip": null,
            "layout": "IPY_MODEL_9211b349215d40c2b1d1f51891e1d62d",
            "max": 20006,
            "min": 0,
            "orientation": "horizontal",
            "style": "IPY_MODEL_060a4e7852a940d4af4b504a98444108",
            "value": 20006
          }
        },
        "5f67a08fd47c41b6a43e10e327be1b1e": {
          "model_module": "@jupyter-widgets/controls",
          "model_name": "HTMLModel",
          "model_module_version": "1.5.0",
          "state": {
            "_dom_classes": [],
            "_model_module": "@jupyter-widgets/controls",
            "_model_module_version": "1.5.0",
            "_model_name": "HTMLModel",
            "_view_count": null,
            "_view_module": "@jupyter-widgets/controls",
            "_view_module_version": "1.5.0",
            "_view_name": "HTMLView",
            "description": "",
            "description_tooltip": null,
            "layout": "IPY_MODEL_829bec64496a44dfbed2ee96909c3eb6",
            "placeholder": "​",
            "style": "IPY_MODEL_9873da2bb504441c9024cc0ad7a77ec6",
            "value": " 20006/20006 [00:10&lt;00:00, 1366.61 examples/s]"
          }
        },
        "6bbef393584f468089b16433df37a6e5": {
          "model_module": "@jupyter-widgets/base",
          "model_name": "LayoutModel",
          "model_module_version": "1.2.0",
          "state": {
            "_model_module": "@jupyter-widgets/base",
            "_model_module_version": "1.2.0",
            "_model_name": "LayoutModel",
            "_view_count": null,
            "_view_module": "@jupyter-widgets/base",
            "_view_module_version": "1.2.0",
            "_view_name": "LayoutView",
            "align_content": null,
            "align_items": null,
            "align_self": null,
            "border": null,
            "bottom": null,
            "display": null,
            "flex": null,
            "flex_flow": null,
            "grid_area": null,
            "grid_auto_columns": null,
            "grid_auto_flow": null,
            "grid_auto_rows": null,
            "grid_column": null,
            "grid_gap": null,
            "grid_row": null,
            "grid_template_areas": null,
            "grid_template_columns": null,
            "grid_template_rows": null,
            "height": null,
            "justify_content": null,
            "justify_items": null,
            "left": null,
            "margin": null,
            "max_height": null,
            "max_width": null,
            "min_height": null,
            "min_width": null,
            "object_fit": null,
            "object_position": null,
            "order": null,
            "overflow": null,
            "overflow_x": null,
            "overflow_y": null,
            "padding": null,
            "right": null,
            "top": null,
            "visibility": null,
            "width": null
          }
        },
        "18685cfaf6ef4e98b8b19a780b8c77a6": {
          "model_module": "@jupyter-widgets/base",
          "model_name": "LayoutModel",
          "model_module_version": "1.2.0",
          "state": {
            "_model_module": "@jupyter-widgets/base",
            "_model_module_version": "1.2.0",
            "_model_name": "LayoutModel",
            "_view_count": null,
            "_view_module": "@jupyter-widgets/base",
            "_view_module_version": "1.2.0",
            "_view_name": "LayoutView",
            "align_content": null,
            "align_items": null,
            "align_self": null,
            "border": null,
            "bottom": null,
            "display": null,
            "flex": null,
            "flex_flow": null,
            "grid_area": null,
            "grid_auto_columns": null,
            "grid_auto_flow": null,
            "grid_auto_rows": null,
            "grid_column": null,
            "grid_gap": null,
            "grid_row": null,
            "grid_template_areas": null,
            "grid_template_columns": null,
            "grid_template_rows": null,
            "height": null,
            "justify_content": null,
            "justify_items": null,
            "left": null,
            "margin": null,
            "max_height": null,
            "max_width": null,
            "min_height": null,
            "min_width": null,
            "object_fit": null,
            "object_position": null,
            "order": null,
            "overflow": null,
            "overflow_x": null,
            "overflow_y": null,
            "padding": null,
            "right": null,
            "top": null,
            "visibility": null,
            "width": null
          }
        },
        "96e41eb494d946d9b1f4a88cb9c1d01a": {
          "model_module": "@jupyter-widgets/controls",
          "model_name": "DescriptionStyleModel",
          "model_module_version": "1.5.0",
          "state": {
            "_model_module": "@jupyter-widgets/controls",
            "_model_module_version": "1.5.0",
            "_model_name": "DescriptionStyleModel",
            "_view_count": null,
            "_view_module": "@jupyter-widgets/base",
            "_view_module_version": "1.2.0",
            "_view_name": "StyleView",
            "description_width": ""
          }
        },
        "9211b349215d40c2b1d1f51891e1d62d": {
          "model_module": "@jupyter-widgets/base",
          "model_name": "LayoutModel",
          "model_module_version": "1.2.0",
          "state": {
            "_model_module": "@jupyter-widgets/base",
            "_model_module_version": "1.2.0",
            "_model_name": "LayoutModel",
            "_view_count": null,
            "_view_module": "@jupyter-widgets/base",
            "_view_module_version": "1.2.0",
            "_view_name": "LayoutView",
            "align_content": null,
            "align_items": null,
            "align_self": null,
            "border": null,
            "bottom": null,
            "display": null,
            "flex": null,
            "flex_flow": null,
            "grid_area": null,
            "grid_auto_columns": null,
            "grid_auto_flow": null,
            "grid_auto_rows": null,
            "grid_column": null,
            "grid_gap": null,
            "grid_row": null,
            "grid_template_areas": null,
            "grid_template_columns": null,
            "grid_template_rows": null,
            "height": null,
            "justify_content": null,
            "justify_items": null,
            "left": null,
            "margin": null,
            "max_height": null,
            "max_width": null,
            "min_height": null,
            "min_width": null,
            "object_fit": null,
            "object_position": null,
            "order": null,
            "overflow": null,
            "overflow_x": null,
            "overflow_y": null,
            "padding": null,
            "right": null,
            "top": null,
            "visibility": null,
            "width": null
          }
        },
        "060a4e7852a940d4af4b504a98444108": {
          "model_module": "@jupyter-widgets/controls",
          "model_name": "ProgressStyleModel",
          "model_module_version": "1.5.0",
          "state": {
            "_model_module": "@jupyter-widgets/controls",
            "_model_module_version": "1.5.0",
            "_model_name": "ProgressStyleModel",
            "_view_count": null,
            "_view_module": "@jupyter-widgets/base",
            "_view_module_version": "1.2.0",
            "_view_name": "StyleView",
            "bar_color": null,
            "description_width": ""
          }
        },
        "829bec64496a44dfbed2ee96909c3eb6": {
          "model_module": "@jupyter-widgets/base",
          "model_name": "LayoutModel",
          "model_module_version": "1.2.0",
          "state": {
            "_model_module": "@jupyter-widgets/base",
            "_model_module_version": "1.2.0",
            "_model_name": "LayoutModel",
            "_view_count": null,
            "_view_module": "@jupyter-widgets/base",
            "_view_module_version": "1.2.0",
            "_view_name": "LayoutView",
            "align_content": null,
            "align_items": null,
            "align_self": null,
            "border": null,
            "bottom": null,
            "display": null,
            "flex": null,
            "flex_flow": null,
            "grid_area": null,
            "grid_auto_columns": null,
            "grid_auto_flow": null,
            "grid_auto_rows": null,
            "grid_column": null,
            "grid_gap": null,
            "grid_row": null,
            "grid_template_areas": null,
            "grid_template_columns": null,
            "grid_template_rows": null,
            "height": null,
            "justify_content": null,
            "justify_items": null,
            "left": null,
            "margin": null,
            "max_height": null,
            "max_width": null,
            "min_height": null,
            "min_width": null,
            "object_fit": null,
            "object_position": null,
            "order": null,
            "overflow": null,
            "overflow_x": null,
            "overflow_y": null,
            "padding": null,
            "right": null,
            "top": null,
            "visibility": null,
            "width": null
          }
        },
        "9873da2bb504441c9024cc0ad7a77ec6": {
          "model_module": "@jupyter-widgets/controls",
          "model_name": "DescriptionStyleModel",
          "model_module_version": "1.5.0",
          "state": {
            "_model_module": "@jupyter-widgets/controls",
            "_model_module_version": "1.5.0",
            "_model_name": "DescriptionStyleModel",
            "_view_count": null,
            "_view_module": "@jupyter-widgets/base",
            "_view_module_version": "1.2.0",
            "_view_name": "StyleView",
            "description_width": ""
          }
        },
        "5453ea8961b14ce9b952e13d05f7d35c": {
          "model_module": "@jupyter-widgets/controls",
          "model_name": "HBoxModel",
          "model_module_version": "1.5.0",
          "state": {
            "_dom_classes": [],
            "_model_module": "@jupyter-widgets/controls",
            "_model_module_version": "1.5.0",
            "_model_name": "HBoxModel",
            "_view_count": null,
            "_view_module": "@jupyter-widgets/controls",
            "_view_module_version": "1.5.0",
            "_view_name": "HBoxView",
            "box_style": "",
            "children": [
              "IPY_MODEL_190f8ce39d8d4697b01a19f995178182",
              "IPY_MODEL_61605a1de00b410381d1fc28828ece4a",
              "IPY_MODEL_39121334186142eb8649c65274f36ff0"
            ],
            "layout": "IPY_MODEL_835320b6c47849cabe38bfb885b8b9e0"
          }
        },
        "190f8ce39d8d4697b01a19f995178182": {
          "model_module": "@jupyter-widgets/controls",
          "model_name": "HTMLModel",
          "model_module_version": "1.5.0",
          "state": {
            "_dom_classes": [],
            "_model_module": "@jupyter-widgets/controls",
            "_model_module_version": "1.5.0",
            "_model_name": "HTMLModel",
            "_view_count": null,
            "_view_module": "@jupyter-widgets/controls",
            "_view_module_version": "1.5.0",
            "_view_name": "HTMLView",
            "description": "",
            "description_tooltip": null,
            "layout": "IPY_MODEL_5e813829e3464c1ea24c3f416808fdbd",
            "placeholder": "​",
            "style": "IPY_MODEL_130fb6a41ac944f282c319e551fa23d7",
            "value": "Map: 100%"
          }
        },
        "61605a1de00b410381d1fc28828ece4a": {
          "model_module": "@jupyter-widgets/controls",
          "model_name": "FloatProgressModel",
          "model_module_version": "1.5.0",
          "state": {
            "_dom_classes": [],
            "_model_module": "@jupyter-widgets/controls",
            "_model_module_version": "1.5.0",
            "_model_name": "FloatProgressModel",
            "_view_count": null,
            "_view_module": "@jupyter-widgets/controls",
            "_view_module_version": "1.5.0",
            "_view_name": "ProgressView",
            "bar_style": "success",
            "description": "",
            "description_tooltip": null,
            "layout": "IPY_MODEL_b79adfeba7854a8e8f85849c3e491396",
            "max": 20005,
            "min": 0,
            "orientation": "horizontal",
            "style": "IPY_MODEL_4d41121c33124c6fb1df3fdcc3bfbddf",
            "value": 20005
          }
        },
        "39121334186142eb8649c65274f36ff0": {
          "model_module": "@jupyter-widgets/controls",
          "model_name": "HTMLModel",
          "model_module_version": "1.5.0",
          "state": {
            "_dom_classes": [],
            "_model_module": "@jupyter-widgets/controls",
            "_model_module_version": "1.5.0",
            "_model_name": "HTMLModel",
            "_view_count": null,
            "_view_module": "@jupyter-widgets/controls",
            "_view_module_version": "1.5.0",
            "_view_name": "HTMLView",
            "description": "",
            "description_tooltip": null,
            "layout": "IPY_MODEL_068ff194504d4f22b63bb46baa25490a",
            "placeholder": "​",
            "style": "IPY_MODEL_c490a8bf53c44d47bdeda7d52e673dfa",
            "value": " 20005/20005 [00:09&lt;00:00, 2142.07 examples/s]"
          }
        },
        "835320b6c47849cabe38bfb885b8b9e0": {
          "model_module": "@jupyter-widgets/base",
          "model_name": "LayoutModel",
          "model_module_version": "1.2.0",
          "state": {
            "_model_module": "@jupyter-widgets/base",
            "_model_module_version": "1.2.0",
            "_model_name": "LayoutModel",
            "_view_count": null,
            "_view_module": "@jupyter-widgets/base",
            "_view_module_version": "1.2.0",
            "_view_name": "LayoutView",
            "align_content": null,
            "align_items": null,
            "align_self": null,
            "border": null,
            "bottom": null,
            "display": null,
            "flex": null,
            "flex_flow": null,
            "grid_area": null,
            "grid_auto_columns": null,
            "grid_auto_flow": null,
            "grid_auto_rows": null,
            "grid_column": null,
            "grid_gap": null,
            "grid_row": null,
            "grid_template_areas": null,
            "grid_template_columns": null,
            "grid_template_rows": null,
            "height": null,
            "justify_content": null,
            "justify_items": null,
            "left": null,
            "margin": null,
            "max_height": null,
            "max_width": null,
            "min_height": null,
            "min_width": null,
            "object_fit": null,
            "object_position": null,
            "order": null,
            "overflow": null,
            "overflow_x": null,
            "overflow_y": null,
            "padding": null,
            "right": null,
            "top": null,
            "visibility": null,
            "width": null
          }
        },
        "5e813829e3464c1ea24c3f416808fdbd": {
          "model_module": "@jupyter-widgets/base",
          "model_name": "LayoutModel",
          "model_module_version": "1.2.0",
          "state": {
            "_model_module": "@jupyter-widgets/base",
            "_model_module_version": "1.2.0",
            "_model_name": "LayoutModel",
            "_view_count": null,
            "_view_module": "@jupyter-widgets/base",
            "_view_module_version": "1.2.0",
            "_view_name": "LayoutView",
            "align_content": null,
            "align_items": null,
            "align_self": null,
            "border": null,
            "bottom": null,
            "display": null,
            "flex": null,
            "flex_flow": null,
            "grid_area": null,
            "grid_auto_columns": null,
            "grid_auto_flow": null,
            "grid_auto_rows": null,
            "grid_column": null,
            "grid_gap": null,
            "grid_row": null,
            "grid_template_areas": null,
            "grid_template_columns": null,
            "grid_template_rows": null,
            "height": null,
            "justify_content": null,
            "justify_items": null,
            "left": null,
            "margin": null,
            "max_height": null,
            "max_width": null,
            "min_height": null,
            "min_width": null,
            "object_fit": null,
            "object_position": null,
            "order": null,
            "overflow": null,
            "overflow_x": null,
            "overflow_y": null,
            "padding": null,
            "right": null,
            "top": null,
            "visibility": null,
            "width": null
          }
        },
        "130fb6a41ac944f282c319e551fa23d7": {
          "model_module": "@jupyter-widgets/controls",
          "model_name": "DescriptionStyleModel",
          "model_module_version": "1.5.0",
          "state": {
            "_model_module": "@jupyter-widgets/controls",
            "_model_module_version": "1.5.0",
            "_model_name": "DescriptionStyleModel",
            "_view_count": null,
            "_view_module": "@jupyter-widgets/base",
            "_view_module_version": "1.2.0",
            "_view_name": "StyleView",
            "description_width": ""
          }
        },
        "b79adfeba7854a8e8f85849c3e491396": {
          "model_module": "@jupyter-widgets/base",
          "model_name": "LayoutModel",
          "model_module_version": "1.2.0",
          "state": {
            "_model_module": "@jupyter-widgets/base",
            "_model_module_version": "1.2.0",
            "_model_name": "LayoutModel",
            "_view_count": null,
            "_view_module": "@jupyter-widgets/base",
            "_view_module_version": "1.2.0",
            "_view_name": "LayoutView",
            "align_content": null,
            "align_items": null,
            "align_self": null,
            "border": null,
            "bottom": null,
            "display": null,
            "flex": null,
            "flex_flow": null,
            "grid_area": null,
            "grid_auto_columns": null,
            "grid_auto_flow": null,
            "grid_auto_rows": null,
            "grid_column": null,
            "grid_gap": null,
            "grid_row": null,
            "grid_template_areas": null,
            "grid_template_columns": null,
            "grid_template_rows": null,
            "height": null,
            "justify_content": null,
            "justify_items": null,
            "left": null,
            "margin": null,
            "max_height": null,
            "max_width": null,
            "min_height": null,
            "min_width": null,
            "object_fit": null,
            "object_position": null,
            "order": null,
            "overflow": null,
            "overflow_x": null,
            "overflow_y": null,
            "padding": null,
            "right": null,
            "top": null,
            "visibility": null,
            "width": null
          }
        },
        "4d41121c33124c6fb1df3fdcc3bfbddf": {
          "model_module": "@jupyter-widgets/controls",
          "model_name": "ProgressStyleModel",
          "model_module_version": "1.5.0",
          "state": {
            "_model_module": "@jupyter-widgets/controls",
            "_model_module_version": "1.5.0",
            "_model_name": "ProgressStyleModel",
            "_view_count": null,
            "_view_module": "@jupyter-widgets/base",
            "_view_module_version": "1.2.0",
            "_view_name": "StyleView",
            "bar_color": null,
            "description_width": ""
          }
        },
        "068ff194504d4f22b63bb46baa25490a": {
          "model_module": "@jupyter-widgets/base",
          "model_name": "LayoutModel",
          "model_module_version": "1.2.0",
          "state": {
            "_model_module": "@jupyter-widgets/base",
            "_model_module_version": "1.2.0",
            "_model_name": "LayoutModel",
            "_view_count": null,
            "_view_module": "@jupyter-widgets/base",
            "_view_module_version": "1.2.0",
            "_view_name": "LayoutView",
            "align_content": null,
            "align_items": null,
            "align_self": null,
            "border": null,
            "bottom": null,
            "display": null,
            "flex": null,
            "flex_flow": null,
            "grid_area": null,
            "grid_auto_columns": null,
            "grid_auto_flow": null,
            "grid_auto_rows": null,
            "grid_column": null,
            "grid_gap": null,
            "grid_row": null,
            "grid_template_areas": null,
            "grid_template_columns": null,
            "grid_template_rows": null,
            "height": null,
            "justify_content": null,
            "justify_items": null,
            "left": null,
            "margin": null,
            "max_height": null,
            "max_width": null,
            "min_height": null,
            "min_width": null,
            "object_fit": null,
            "object_position": null,
            "order": null,
            "overflow": null,
            "overflow_x": null,
            "overflow_y": null,
            "padding": null,
            "right": null,
            "top": null,
            "visibility": null,
            "width": null
          }
        },
        "c490a8bf53c44d47bdeda7d52e673dfa": {
          "model_module": "@jupyter-widgets/controls",
          "model_name": "DescriptionStyleModel",
          "model_module_version": "1.5.0",
          "state": {
            "_model_module": "@jupyter-widgets/controls",
            "_model_module_version": "1.5.0",
            "_model_name": "DescriptionStyleModel",
            "_view_count": null,
            "_view_module": "@jupyter-widgets/base",
            "_view_module_version": "1.2.0",
            "_view_name": "StyleView",
            "description_width": ""
          }
        },
        "149f47fe4786435fb3111be219183ce2": {
          "model_module": "@jupyter-widgets/controls",
          "model_name": "HBoxModel",
          "model_module_version": "1.5.0",
          "state": {
            "_dom_classes": [],
            "_model_module": "@jupyter-widgets/controls",
            "_model_module_version": "1.5.0",
            "_model_name": "HBoxModel",
            "_view_count": null,
            "_view_module": "@jupyter-widgets/controls",
            "_view_module_version": "1.5.0",
            "_view_name": "HBoxView",
            "box_style": "",
            "children": [
              "IPY_MODEL_818e334efce44ea8843f666128f13bab",
              "IPY_MODEL_0bc5207be4ec49069508d9e308b19b36",
              "IPY_MODEL_05378e1dfbf943f8b745acd131dc0317"
            ],
            "layout": "IPY_MODEL_c78120d21cb940aa814961607febab03"
          }
        },
        "818e334efce44ea8843f666128f13bab": {
          "model_module": "@jupyter-widgets/controls",
          "model_name": "HTMLModel",
          "model_module_version": "1.5.0",
          "state": {
            "_dom_classes": [],
            "_model_module": "@jupyter-widgets/controls",
            "_model_module_version": "1.5.0",
            "_model_name": "HTMLModel",
            "_view_count": null,
            "_view_module": "@jupyter-widgets/controls",
            "_view_module_version": "1.5.0",
            "_view_name": "HTMLView",
            "description": "",
            "description_tooltip": null,
            "layout": "IPY_MODEL_a8267003892b426d81f1daf755986b4d",
            "placeholder": "​",
            "style": "IPY_MODEL_6eb6e6b2939b45cf8627ce760c870ac4",
            "value": "config.json: 100%"
          }
        },
        "0bc5207be4ec49069508d9e308b19b36": {
          "model_module": "@jupyter-widgets/controls",
          "model_name": "FloatProgressModel",
          "model_module_version": "1.5.0",
          "state": {
            "_dom_classes": [],
            "_model_module": "@jupyter-widgets/controls",
            "_model_module_version": "1.5.0",
            "_model_name": "FloatProgressModel",
            "_view_count": null,
            "_view_module": "@jupyter-widgets/controls",
            "_view_module_version": "1.5.0",
            "_view_name": "ProgressView",
            "bar_style": "success",
            "description": "",
            "description_tooltip": null,
            "layout": "IPY_MODEL_e685675a27ba4668b5262c8e43f1384f",
            "max": 570,
            "min": 0,
            "orientation": "horizontal",
            "style": "IPY_MODEL_fc975c99385a49e9ae98601c36ed3368",
            "value": 570
          }
        },
        "05378e1dfbf943f8b745acd131dc0317": {
          "model_module": "@jupyter-widgets/controls",
          "model_name": "HTMLModel",
          "model_module_version": "1.5.0",
          "state": {
            "_dom_classes": [],
            "_model_module": "@jupyter-widgets/controls",
            "_model_module_version": "1.5.0",
            "_model_name": "HTMLModel",
            "_view_count": null,
            "_view_module": "@jupyter-widgets/controls",
            "_view_module_version": "1.5.0",
            "_view_name": "HTMLView",
            "description": "",
            "description_tooltip": null,
            "layout": "IPY_MODEL_7993b066b4dc4acab8611bc526a1981d",
            "placeholder": "​",
            "style": "IPY_MODEL_0626622d7d9b451eb8e2f15d127f1a0c",
            "value": " 570/570 [00:00&lt;00:00, 34.1kB/s]"
          }
        },
        "c78120d21cb940aa814961607febab03": {
          "model_module": "@jupyter-widgets/base",
          "model_name": "LayoutModel",
          "model_module_version": "1.2.0",
          "state": {
            "_model_module": "@jupyter-widgets/base",
            "_model_module_version": "1.2.0",
            "_model_name": "LayoutModel",
            "_view_count": null,
            "_view_module": "@jupyter-widgets/base",
            "_view_module_version": "1.2.0",
            "_view_name": "LayoutView",
            "align_content": null,
            "align_items": null,
            "align_self": null,
            "border": null,
            "bottom": null,
            "display": null,
            "flex": null,
            "flex_flow": null,
            "grid_area": null,
            "grid_auto_columns": null,
            "grid_auto_flow": null,
            "grid_auto_rows": null,
            "grid_column": null,
            "grid_gap": null,
            "grid_row": null,
            "grid_template_areas": null,
            "grid_template_columns": null,
            "grid_template_rows": null,
            "height": null,
            "justify_content": null,
            "justify_items": null,
            "left": null,
            "margin": null,
            "max_height": null,
            "max_width": null,
            "min_height": null,
            "min_width": null,
            "object_fit": null,
            "object_position": null,
            "order": null,
            "overflow": null,
            "overflow_x": null,
            "overflow_y": null,
            "padding": null,
            "right": null,
            "top": null,
            "visibility": null,
            "width": null
          }
        },
        "a8267003892b426d81f1daf755986b4d": {
          "model_module": "@jupyter-widgets/base",
          "model_name": "LayoutModel",
          "model_module_version": "1.2.0",
          "state": {
            "_model_module": "@jupyter-widgets/base",
            "_model_module_version": "1.2.0",
            "_model_name": "LayoutModel",
            "_view_count": null,
            "_view_module": "@jupyter-widgets/base",
            "_view_module_version": "1.2.0",
            "_view_name": "LayoutView",
            "align_content": null,
            "align_items": null,
            "align_self": null,
            "border": null,
            "bottom": null,
            "display": null,
            "flex": null,
            "flex_flow": null,
            "grid_area": null,
            "grid_auto_columns": null,
            "grid_auto_flow": null,
            "grid_auto_rows": null,
            "grid_column": null,
            "grid_gap": null,
            "grid_row": null,
            "grid_template_areas": null,
            "grid_template_columns": null,
            "grid_template_rows": null,
            "height": null,
            "justify_content": null,
            "justify_items": null,
            "left": null,
            "margin": null,
            "max_height": null,
            "max_width": null,
            "min_height": null,
            "min_width": null,
            "object_fit": null,
            "object_position": null,
            "order": null,
            "overflow": null,
            "overflow_x": null,
            "overflow_y": null,
            "padding": null,
            "right": null,
            "top": null,
            "visibility": null,
            "width": null
          }
        },
        "6eb6e6b2939b45cf8627ce760c870ac4": {
          "model_module": "@jupyter-widgets/controls",
          "model_name": "DescriptionStyleModel",
          "model_module_version": "1.5.0",
          "state": {
            "_model_module": "@jupyter-widgets/controls",
            "_model_module_version": "1.5.0",
            "_model_name": "DescriptionStyleModel",
            "_view_count": null,
            "_view_module": "@jupyter-widgets/base",
            "_view_module_version": "1.2.0",
            "_view_name": "StyleView",
            "description_width": ""
          }
        },
        "e685675a27ba4668b5262c8e43f1384f": {
          "model_module": "@jupyter-widgets/base",
          "model_name": "LayoutModel",
          "model_module_version": "1.2.0",
          "state": {
            "_model_module": "@jupyter-widgets/base",
            "_model_module_version": "1.2.0",
            "_model_name": "LayoutModel",
            "_view_count": null,
            "_view_module": "@jupyter-widgets/base",
            "_view_module_version": "1.2.0",
            "_view_name": "LayoutView",
            "align_content": null,
            "align_items": null,
            "align_self": null,
            "border": null,
            "bottom": null,
            "display": null,
            "flex": null,
            "flex_flow": null,
            "grid_area": null,
            "grid_auto_columns": null,
            "grid_auto_flow": null,
            "grid_auto_rows": null,
            "grid_column": null,
            "grid_gap": null,
            "grid_row": null,
            "grid_template_areas": null,
            "grid_template_columns": null,
            "grid_template_rows": null,
            "height": null,
            "justify_content": null,
            "justify_items": null,
            "left": null,
            "margin": null,
            "max_height": null,
            "max_width": null,
            "min_height": null,
            "min_width": null,
            "object_fit": null,
            "object_position": null,
            "order": null,
            "overflow": null,
            "overflow_x": null,
            "overflow_y": null,
            "padding": null,
            "right": null,
            "top": null,
            "visibility": null,
            "width": null
          }
        },
        "fc975c99385a49e9ae98601c36ed3368": {
          "model_module": "@jupyter-widgets/controls",
          "model_name": "ProgressStyleModel",
          "model_module_version": "1.5.0",
          "state": {
            "_model_module": "@jupyter-widgets/controls",
            "_model_module_version": "1.5.0",
            "_model_name": "ProgressStyleModel",
            "_view_count": null,
            "_view_module": "@jupyter-widgets/base",
            "_view_module_version": "1.2.0",
            "_view_name": "StyleView",
            "bar_color": null,
            "description_width": ""
          }
        },
        "7993b066b4dc4acab8611bc526a1981d": {
          "model_module": "@jupyter-widgets/base",
          "model_name": "LayoutModel",
          "model_module_version": "1.2.0",
          "state": {
            "_model_module": "@jupyter-widgets/base",
            "_model_module_version": "1.2.0",
            "_model_name": "LayoutModel",
            "_view_count": null,
            "_view_module": "@jupyter-widgets/base",
            "_view_module_version": "1.2.0",
            "_view_name": "LayoutView",
            "align_content": null,
            "align_items": null,
            "align_self": null,
            "border": null,
            "bottom": null,
            "display": null,
            "flex": null,
            "flex_flow": null,
            "grid_area": null,
            "grid_auto_columns": null,
            "grid_auto_flow": null,
            "grid_auto_rows": null,
            "grid_column": null,
            "grid_gap": null,
            "grid_row": null,
            "grid_template_areas": null,
            "grid_template_columns": null,
            "grid_template_rows": null,
            "height": null,
            "justify_content": null,
            "justify_items": null,
            "left": null,
            "margin": null,
            "max_height": null,
            "max_width": null,
            "min_height": null,
            "min_width": null,
            "object_fit": null,
            "object_position": null,
            "order": null,
            "overflow": null,
            "overflow_x": null,
            "overflow_y": null,
            "padding": null,
            "right": null,
            "top": null,
            "visibility": null,
            "width": null
          }
        },
        "0626622d7d9b451eb8e2f15d127f1a0c": {
          "model_module": "@jupyter-widgets/controls",
          "model_name": "DescriptionStyleModel",
          "model_module_version": "1.5.0",
          "state": {
            "_model_module": "@jupyter-widgets/controls",
            "_model_module_version": "1.5.0",
            "_model_name": "DescriptionStyleModel",
            "_view_count": null,
            "_view_module": "@jupyter-widgets/base",
            "_view_module_version": "1.2.0",
            "_view_name": "StyleView",
            "description_width": ""
          }
        },
        "23df8e090581484aa805c5bdb8a0d369": {
          "model_module": "@jupyter-widgets/controls",
          "model_name": "HBoxModel",
          "model_module_version": "1.5.0",
          "state": {
            "_dom_classes": [],
            "_model_module": "@jupyter-widgets/controls",
            "_model_module_version": "1.5.0",
            "_model_name": "HBoxModel",
            "_view_count": null,
            "_view_module": "@jupyter-widgets/controls",
            "_view_module_version": "1.5.0",
            "_view_name": "HBoxView",
            "box_style": "",
            "children": [
              "IPY_MODEL_b4859fb0ec4f4d37ac906a2a27656ea5",
              "IPY_MODEL_10cb3869c75c4dc680eab74ea581f9cf",
              "IPY_MODEL_4e485055ef8e4392b6abc77a6adb254a"
            ],
            "layout": "IPY_MODEL_3847da611cd44081ba11066783df2d35"
          }
        },
        "b4859fb0ec4f4d37ac906a2a27656ea5": {
          "model_module": "@jupyter-widgets/controls",
          "model_name": "HTMLModel",
          "model_module_version": "1.5.0",
          "state": {
            "_dom_classes": [],
            "_model_module": "@jupyter-widgets/controls",
            "_model_module_version": "1.5.0",
            "_model_name": "HTMLModel",
            "_view_count": null,
            "_view_module": "@jupyter-widgets/controls",
            "_view_module_version": "1.5.0",
            "_view_name": "HTMLView",
            "description": "",
            "description_tooltip": null,
            "layout": "IPY_MODEL_2e74ade5238143acbbf66ae19a050ae1",
            "placeholder": "​",
            "style": "IPY_MODEL_1e0d8dc15d1c4faa8de0861aed371f03",
            "value": "model.safetensors: 100%"
          }
        },
        "10cb3869c75c4dc680eab74ea581f9cf": {
          "model_module": "@jupyter-widgets/controls",
          "model_name": "FloatProgressModel",
          "model_module_version": "1.5.0",
          "state": {
            "_dom_classes": [],
            "_model_module": "@jupyter-widgets/controls",
            "_model_module_version": "1.5.0",
            "_model_name": "FloatProgressModel",
            "_view_count": null,
            "_view_module": "@jupyter-widgets/controls",
            "_view_module_version": "1.5.0",
            "_view_name": "ProgressView",
            "bar_style": "success",
            "description": "",
            "description_tooltip": null,
            "layout": "IPY_MODEL_ce65e0bf329242679693f9c8e6331e52",
            "max": 440449768,
            "min": 0,
            "orientation": "horizontal",
            "style": "IPY_MODEL_1625cbabd7ce439ca75101de61526bd0",
            "value": 440449768
          }
        },
        "4e485055ef8e4392b6abc77a6adb254a": {
          "model_module": "@jupyter-widgets/controls",
          "model_name": "HTMLModel",
          "model_module_version": "1.5.0",
          "state": {
            "_dom_classes": [],
            "_model_module": "@jupyter-widgets/controls",
            "_model_module_version": "1.5.0",
            "_model_name": "HTMLModel",
            "_view_count": null,
            "_view_module": "@jupyter-widgets/controls",
            "_view_module_version": "1.5.0",
            "_view_name": "HTMLView",
            "description": "",
            "description_tooltip": null,
            "layout": "IPY_MODEL_b63c7e847a264a419064098d401b0165",
            "placeholder": "​",
            "style": "IPY_MODEL_d0ea14d334f04d9fba4abd79a0c5c995",
            "value": " 440M/440M [00:01&lt;00:00, 275MB/s]"
          }
        },
        "3847da611cd44081ba11066783df2d35": {
          "model_module": "@jupyter-widgets/base",
          "model_name": "LayoutModel",
          "model_module_version": "1.2.0",
          "state": {
            "_model_module": "@jupyter-widgets/base",
            "_model_module_version": "1.2.0",
            "_model_name": "LayoutModel",
            "_view_count": null,
            "_view_module": "@jupyter-widgets/base",
            "_view_module_version": "1.2.0",
            "_view_name": "LayoutView",
            "align_content": null,
            "align_items": null,
            "align_self": null,
            "border": null,
            "bottom": null,
            "display": null,
            "flex": null,
            "flex_flow": null,
            "grid_area": null,
            "grid_auto_columns": null,
            "grid_auto_flow": null,
            "grid_auto_rows": null,
            "grid_column": null,
            "grid_gap": null,
            "grid_row": null,
            "grid_template_areas": null,
            "grid_template_columns": null,
            "grid_template_rows": null,
            "height": null,
            "justify_content": null,
            "justify_items": null,
            "left": null,
            "margin": null,
            "max_height": null,
            "max_width": null,
            "min_height": null,
            "min_width": null,
            "object_fit": null,
            "object_position": null,
            "order": null,
            "overflow": null,
            "overflow_x": null,
            "overflow_y": null,
            "padding": null,
            "right": null,
            "top": null,
            "visibility": null,
            "width": null
          }
        },
        "2e74ade5238143acbbf66ae19a050ae1": {
          "model_module": "@jupyter-widgets/base",
          "model_name": "LayoutModel",
          "model_module_version": "1.2.0",
          "state": {
            "_model_module": "@jupyter-widgets/base",
            "_model_module_version": "1.2.0",
            "_model_name": "LayoutModel",
            "_view_count": null,
            "_view_module": "@jupyter-widgets/base",
            "_view_module_version": "1.2.0",
            "_view_name": "LayoutView",
            "align_content": null,
            "align_items": null,
            "align_self": null,
            "border": null,
            "bottom": null,
            "display": null,
            "flex": null,
            "flex_flow": null,
            "grid_area": null,
            "grid_auto_columns": null,
            "grid_auto_flow": null,
            "grid_auto_rows": null,
            "grid_column": null,
            "grid_gap": null,
            "grid_row": null,
            "grid_template_areas": null,
            "grid_template_columns": null,
            "grid_template_rows": null,
            "height": null,
            "justify_content": null,
            "justify_items": null,
            "left": null,
            "margin": null,
            "max_height": null,
            "max_width": null,
            "min_height": null,
            "min_width": null,
            "object_fit": null,
            "object_position": null,
            "order": null,
            "overflow": null,
            "overflow_x": null,
            "overflow_y": null,
            "padding": null,
            "right": null,
            "top": null,
            "visibility": null,
            "width": null
          }
        },
        "1e0d8dc15d1c4faa8de0861aed371f03": {
          "model_module": "@jupyter-widgets/controls",
          "model_name": "DescriptionStyleModel",
          "model_module_version": "1.5.0",
          "state": {
            "_model_module": "@jupyter-widgets/controls",
            "_model_module_version": "1.5.0",
            "_model_name": "DescriptionStyleModel",
            "_view_count": null,
            "_view_module": "@jupyter-widgets/base",
            "_view_module_version": "1.2.0",
            "_view_name": "StyleView",
            "description_width": ""
          }
        },
        "ce65e0bf329242679693f9c8e6331e52": {
          "model_module": "@jupyter-widgets/base",
          "model_name": "LayoutModel",
          "model_module_version": "1.2.0",
          "state": {
            "_model_module": "@jupyter-widgets/base",
            "_model_module_version": "1.2.0",
            "_model_name": "LayoutModel",
            "_view_count": null,
            "_view_module": "@jupyter-widgets/base",
            "_view_module_version": "1.2.0",
            "_view_name": "LayoutView",
            "align_content": null,
            "align_items": null,
            "align_self": null,
            "border": null,
            "bottom": null,
            "display": null,
            "flex": null,
            "flex_flow": null,
            "grid_area": null,
            "grid_auto_columns": null,
            "grid_auto_flow": null,
            "grid_auto_rows": null,
            "grid_column": null,
            "grid_gap": null,
            "grid_row": null,
            "grid_template_areas": null,
            "grid_template_columns": null,
            "grid_template_rows": null,
            "height": null,
            "justify_content": null,
            "justify_items": null,
            "left": null,
            "margin": null,
            "max_height": null,
            "max_width": null,
            "min_height": null,
            "min_width": null,
            "object_fit": null,
            "object_position": null,
            "order": null,
            "overflow": null,
            "overflow_x": null,
            "overflow_y": null,
            "padding": null,
            "right": null,
            "top": null,
            "visibility": null,
            "width": null
          }
        },
        "1625cbabd7ce439ca75101de61526bd0": {
          "model_module": "@jupyter-widgets/controls",
          "model_name": "ProgressStyleModel",
          "model_module_version": "1.5.0",
          "state": {
            "_model_module": "@jupyter-widgets/controls",
            "_model_module_version": "1.5.0",
            "_model_name": "ProgressStyleModel",
            "_view_count": null,
            "_view_module": "@jupyter-widgets/base",
            "_view_module_version": "1.2.0",
            "_view_name": "StyleView",
            "bar_color": null,
            "description_width": ""
          }
        },
        "b63c7e847a264a419064098d401b0165": {
          "model_module": "@jupyter-widgets/base",
          "model_name": "LayoutModel",
          "model_module_version": "1.2.0",
          "state": {
            "_model_module": "@jupyter-widgets/base",
            "_model_module_version": "1.2.0",
            "_model_name": "LayoutModel",
            "_view_count": null,
            "_view_module": "@jupyter-widgets/base",
            "_view_module_version": "1.2.0",
            "_view_name": "LayoutView",
            "align_content": null,
            "align_items": null,
            "align_self": null,
            "border": null,
            "bottom": null,
            "display": null,
            "flex": null,
            "flex_flow": null,
            "grid_area": null,
            "grid_auto_columns": null,
            "grid_auto_flow": null,
            "grid_auto_rows": null,
            "grid_column": null,
            "grid_gap": null,
            "grid_row": null,
            "grid_template_areas": null,
            "grid_template_columns": null,
            "grid_template_rows": null,
            "height": null,
            "justify_content": null,
            "justify_items": null,
            "left": null,
            "margin": null,
            "max_height": null,
            "max_width": null,
            "min_height": null,
            "min_width": null,
            "object_fit": null,
            "object_position": null,
            "order": null,
            "overflow": null,
            "overflow_x": null,
            "overflow_y": null,
            "padding": null,
            "right": null,
            "top": null,
            "visibility": null,
            "width": null
          }
        },
        "d0ea14d334f04d9fba4abd79a0c5c995": {
          "model_module": "@jupyter-widgets/controls",
          "model_name": "DescriptionStyleModel",
          "model_module_version": "1.5.0",
          "state": {
            "_model_module": "@jupyter-widgets/controls",
            "_model_module_version": "1.5.0",
            "_model_name": "DescriptionStyleModel",
            "_view_count": null,
            "_view_module": "@jupyter-widgets/base",
            "_view_module_version": "1.2.0",
            "_view_name": "StyleView",
            "description_width": ""
          }
        },
        "76fd6d4e36ae4e079eba5e9262b638ea": {
          "model_module": "@jupyter-widgets/controls",
          "model_name": "HBoxModel",
          "model_module_version": "1.5.0",
          "state": {
            "_dom_classes": [],
            "_model_module": "@jupyter-widgets/controls",
            "_model_module_version": "1.5.0",
            "_model_name": "HBoxModel",
            "_view_count": null,
            "_view_module": "@jupyter-widgets/controls",
            "_view_module_version": "1.5.0",
            "_view_name": "HBoxView",
            "box_style": "",
            "children": [
              "IPY_MODEL_43f05d1c0e2e45df93e7d1af1fbfa21f",
              "IPY_MODEL_ef316eaefba844418aa8a6b99de15bdd",
              "IPY_MODEL_d1b63fb8b53848c0861d71e686b6008f"
            ],
            "layout": "IPY_MODEL_605edc11fb0d42f2b473250801902aa1"
          }
        },
        "43f05d1c0e2e45df93e7d1af1fbfa21f": {
          "model_module": "@jupyter-widgets/controls",
          "model_name": "HTMLModel",
          "model_module_version": "1.5.0",
          "state": {
            "_dom_classes": [],
            "_model_module": "@jupyter-widgets/controls",
            "_model_module_version": "1.5.0",
            "_model_name": "HTMLModel",
            "_view_count": null,
            "_view_module": "@jupyter-widgets/controls",
            "_view_module_version": "1.5.0",
            "_view_name": "HTMLView",
            "description": "",
            "description_tooltip": null,
            "layout": "IPY_MODEL_e4157b6781ba44d190c91fc294650bbd",
            "placeholder": "​",
            "style": "IPY_MODEL_dead01f449fe4888a0c960240477847e",
            "value": "Map: 100%"
          }
        },
        "ef316eaefba844418aa8a6b99de15bdd": {
          "model_module": "@jupyter-widgets/controls",
          "model_name": "FloatProgressModel",
          "model_module_version": "1.5.0",
          "state": {
            "_dom_classes": [],
            "_model_module": "@jupyter-widgets/controls",
            "_model_module_version": "1.5.0",
            "_model_name": "FloatProgressModel",
            "_view_count": null,
            "_view_module": "@jupyter-widgets/controls",
            "_view_module_version": "1.5.0",
            "_view_name": "ProgressView",
            "bar_style": "success",
            "description": "",
            "description_tooltip": null,
            "layout": "IPY_MODEL_653c3ef5a91442558789eb7ea6978ad3",
            "max": 73546,
            "min": 0,
            "orientation": "horizontal",
            "style": "IPY_MODEL_c2e5cb839a364d3391b02a49ece6cfda",
            "value": 73546
          }
        },
        "d1b63fb8b53848c0861d71e686b6008f": {
          "model_module": "@jupyter-widgets/controls",
          "model_name": "HTMLModel",
          "model_module_version": "1.5.0",
          "state": {
            "_dom_classes": [],
            "_model_module": "@jupyter-widgets/controls",
            "_model_module_version": "1.5.0",
            "_model_name": "HTMLModel",
            "_view_count": null,
            "_view_module": "@jupyter-widgets/controls",
            "_view_module_version": "1.5.0",
            "_view_name": "HTMLView",
            "description": "",
            "description_tooltip": null,
            "layout": "IPY_MODEL_508f30b6eeff475f8b3abc3fb1945135",
            "placeholder": "​",
            "style": "IPY_MODEL_4f55b3bd5118412db18756aa816825f5",
            "value": " 73546/73546 [00:39&lt;00:00, 2113.11 examples/s]"
          }
        },
        "605edc11fb0d42f2b473250801902aa1": {
          "model_module": "@jupyter-widgets/base",
          "model_name": "LayoutModel",
          "model_module_version": "1.2.0",
          "state": {
            "_model_module": "@jupyter-widgets/base",
            "_model_module_version": "1.2.0",
            "_model_name": "LayoutModel",
            "_view_count": null,
            "_view_module": "@jupyter-widgets/base",
            "_view_module_version": "1.2.0",
            "_view_name": "LayoutView",
            "align_content": null,
            "align_items": null,
            "align_self": null,
            "border": null,
            "bottom": null,
            "display": null,
            "flex": null,
            "flex_flow": null,
            "grid_area": null,
            "grid_auto_columns": null,
            "grid_auto_flow": null,
            "grid_auto_rows": null,
            "grid_column": null,
            "grid_gap": null,
            "grid_row": null,
            "grid_template_areas": null,
            "grid_template_columns": null,
            "grid_template_rows": null,
            "height": null,
            "justify_content": null,
            "justify_items": null,
            "left": null,
            "margin": null,
            "max_height": null,
            "max_width": null,
            "min_height": null,
            "min_width": null,
            "object_fit": null,
            "object_position": null,
            "order": null,
            "overflow": null,
            "overflow_x": null,
            "overflow_y": null,
            "padding": null,
            "right": null,
            "top": null,
            "visibility": null,
            "width": null
          }
        },
        "e4157b6781ba44d190c91fc294650bbd": {
          "model_module": "@jupyter-widgets/base",
          "model_name": "LayoutModel",
          "model_module_version": "1.2.0",
          "state": {
            "_model_module": "@jupyter-widgets/base",
            "_model_module_version": "1.2.0",
            "_model_name": "LayoutModel",
            "_view_count": null,
            "_view_module": "@jupyter-widgets/base",
            "_view_module_version": "1.2.0",
            "_view_name": "LayoutView",
            "align_content": null,
            "align_items": null,
            "align_self": null,
            "border": null,
            "bottom": null,
            "display": null,
            "flex": null,
            "flex_flow": null,
            "grid_area": null,
            "grid_auto_columns": null,
            "grid_auto_flow": null,
            "grid_auto_rows": null,
            "grid_column": null,
            "grid_gap": null,
            "grid_row": null,
            "grid_template_areas": null,
            "grid_template_columns": null,
            "grid_template_rows": null,
            "height": null,
            "justify_content": null,
            "justify_items": null,
            "left": null,
            "margin": null,
            "max_height": null,
            "max_width": null,
            "min_height": null,
            "min_width": null,
            "object_fit": null,
            "object_position": null,
            "order": null,
            "overflow": null,
            "overflow_x": null,
            "overflow_y": null,
            "padding": null,
            "right": null,
            "top": null,
            "visibility": null,
            "width": null
          }
        },
        "dead01f449fe4888a0c960240477847e": {
          "model_module": "@jupyter-widgets/controls",
          "model_name": "DescriptionStyleModel",
          "model_module_version": "1.5.0",
          "state": {
            "_model_module": "@jupyter-widgets/controls",
            "_model_module_version": "1.5.0",
            "_model_name": "DescriptionStyleModel",
            "_view_count": null,
            "_view_module": "@jupyter-widgets/base",
            "_view_module_version": "1.2.0",
            "_view_name": "StyleView",
            "description_width": ""
          }
        },
        "653c3ef5a91442558789eb7ea6978ad3": {
          "model_module": "@jupyter-widgets/base",
          "model_name": "LayoutModel",
          "model_module_version": "1.2.0",
          "state": {
            "_model_module": "@jupyter-widgets/base",
            "_model_module_version": "1.2.0",
            "_model_name": "LayoutModel",
            "_view_count": null,
            "_view_module": "@jupyter-widgets/base",
            "_view_module_version": "1.2.0",
            "_view_name": "LayoutView",
            "align_content": null,
            "align_items": null,
            "align_self": null,
            "border": null,
            "bottom": null,
            "display": null,
            "flex": null,
            "flex_flow": null,
            "grid_area": null,
            "grid_auto_columns": null,
            "grid_auto_flow": null,
            "grid_auto_rows": null,
            "grid_column": null,
            "grid_gap": null,
            "grid_row": null,
            "grid_template_areas": null,
            "grid_template_columns": null,
            "grid_template_rows": null,
            "height": null,
            "justify_content": null,
            "justify_items": null,
            "left": null,
            "margin": null,
            "max_height": null,
            "max_width": null,
            "min_height": null,
            "min_width": null,
            "object_fit": null,
            "object_position": null,
            "order": null,
            "overflow": null,
            "overflow_x": null,
            "overflow_y": null,
            "padding": null,
            "right": null,
            "top": null,
            "visibility": null,
            "width": null
          }
        },
        "c2e5cb839a364d3391b02a49ece6cfda": {
          "model_module": "@jupyter-widgets/controls",
          "model_name": "ProgressStyleModel",
          "model_module_version": "1.5.0",
          "state": {
            "_model_module": "@jupyter-widgets/controls",
            "_model_module_version": "1.5.0",
            "_model_name": "ProgressStyleModel",
            "_view_count": null,
            "_view_module": "@jupyter-widgets/base",
            "_view_module_version": "1.2.0",
            "_view_name": "StyleView",
            "bar_color": null,
            "description_width": ""
          }
        },
        "508f30b6eeff475f8b3abc3fb1945135": {
          "model_module": "@jupyter-widgets/base",
          "model_name": "LayoutModel",
          "model_module_version": "1.2.0",
          "state": {
            "_model_module": "@jupyter-widgets/base",
            "_model_module_version": "1.2.0",
            "_model_name": "LayoutModel",
            "_view_count": null,
            "_view_module": "@jupyter-widgets/base",
            "_view_module_version": "1.2.0",
            "_view_name": "LayoutView",
            "align_content": null,
            "align_items": null,
            "align_self": null,
            "border": null,
            "bottom": null,
            "display": null,
            "flex": null,
            "flex_flow": null,
            "grid_area": null,
            "grid_auto_columns": null,
            "grid_auto_flow": null,
            "grid_auto_rows": null,
            "grid_column": null,
            "grid_gap": null,
            "grid_row": null,
            "grid_template_areas": null,
            "grid_template_columns": null,
            "grid_template_rows": null,
            "height": null,
            "justify_content": null,
            "justify_items": null,
            "left": null,
            "margin": null,
            "max_height": null,
            "max_width": null,
            "min_height": null,
            "min_width": null,
            "object_fit": null,
            "object_position": null,
            "order": null,
            "overflow": null,
            "overflow_x": null,
            "overflow_y": null,
            "padding": null,
            "right": null,
            "top": null,
            "visibility": null,
            "width": null
          }
        },
        "4f55b3bd5118412db18756aa816825f5": {
          "model_module": "@jupyter-widgets/controls",
          "model_name": "DescriptionStyleModel",
          "model_module_version": "1.5.0",
          "state": {
            "_model_module": "@jupyter-widgets/controls",
            "_model_module_version": "1.5.0",
            "_model_name": "DescriptionStyleModel",
            "_view_count": null,
            "_view_module": "@jupyter-widgets/base",
            "_view_module_version": "1.2.0",
            "_view_name": "StyleView",
            "description_width": ""
          }
        },
        "ec05a95b1103400eb4b8e3d065b4922f": {
          "model_module": "@jupyter-widgets/controls",
          "model_name": "HBoxModel",
          "model_module_version": "1.5.0",
          "state": {
            "_dom_classes": [],
            "_model_module": "@jupyter-widgets/controls",
            "_model_module_version": "1.5.0",
            "_model_name": "HBoxModel",
            "_view_count": null,
            "_view_module": "@jupyter-widgets/controls",
            "_view_module_version": "1.5.0",
            "_view_name": "HBoxView",
            "box_style": "",
            "children": [
              "IPY_MODEL_352228d04abe40caa0278b5fe022b103",
              "IPY_MODEL_29a5827ad4af4e2a87b47f415622f013",
              "IPY_MODEL_971806df7e0c49a18f335265289f025d"
            ],
            "layout": "IPY_MODEL_d010f8d5d9f049709b018237ef964aba"
          }
        },
        "352228d04abe40caa0278b5fe022b103": {
          "model_module": "@jupyter-widgets/controls",
          "model_name": "HTMLModel",
          "model_module_version": "1.5.0",
          "state": {
            "_dom_classes": [],
            "_model_module": "@jupyter-widgets/controls",
            "_model_module_version": "1.5.0",
            "_model_name": "HTMLModel",
            "_view_count": null,
            "_view_module": "@jupyter-widgets/controls",
            "_view_module_version": "1.5.0",
            "_view_name": "HTMLView",
            "description": "",
            "description_tooltip": null,
            "layout": "IPY_MODEL_24b6fd79acb24624823393c1d3de546f",
            "placeholder": "​",
            "style": "IPY_MODEL_68784e51c801400bb8d12ed2a555d523",
            "value": "Map: 100%"
          }
        },
        "29a5827ad4af4e2a87b47f415622f013": {
          "model_module": "@jupyter-widgets/controls",
          "model_name": "FloatProgressModel",
          "model_module_version": "1.5.0",
          "state": {
            "_dom_classes": [],
            "_model_module": "@jupyter-widgets/controls",
            "_model_module_version": "1.5.0",
            "_model_name": "FloatProgressModel",
            "_view_count": null,
            "_view_module": "@jupyter-widgets/controls",
            "_view_module_version": "1.5.0",
            "_view_name": "ProgressView",
            "bar_style": "success",
            "description": "",
            "description_tooltip": null,
            "layout": "IPY_MODEL_84d638b0b5764b679e2564689f2d78e6",
            "max": 20006,
            "min": 0,
            "orientation": "horizontal",
            "style": "IPY_MODEL_d062ba2e12aa4a5fb67aa223b9ab79a3",
            "value": 20006
          }
        },
        "971806df7e0c49a18f335265289f025d": {
          "model_module": "@jupyter-widgets/controls",
          "model_name": "HTMLModel",
          "model_module_version": "1.5.0",
          "state": {
            "_dom_classes": [],
            "_model_module": "@jupyter-widgets/controls",
            "_model_module_version": "1.5.0",
            "_model_name": "HTMLModel",
            "_view_count": null,
            "_view_module": "@jupyter-widgets/controls",
            "_view_module_version": "1.5.0",
            "_view_name": "HTMLView",
            "description": "",
            "description_tooltip": null,
            "layout": "IPY_MODEL_14b7a9b0a2564741b45d440a9ee913a1",
            "placeholder": "​",
            "style": "IPY_MODEL_4a8427ba025147898bb5ef0221bb7f4a",
            "value": " 20006/20006 [00:11&lt;00:00, 1840.66 examples/s]"
          }
        },
        "d010f8d5d9f049709b018237ef964aba": {
          "model_module": "@jupyter-widgets/base",
          "model_name": "LayoutModel",
          "model_module_version": "1.2.0",
          "state": {
            "_model_module": "@jupyter-widgets/base",
            "_model_module_version": "1.2.0",
            "_model_name": "LayoutModel",
            "_view_count": null,
            "_view_module": "@jupyter-widgets/base",
            "_view_module_version": "1.2.0",
            "_view_name": "LayoutView",
            "align_content": null,
            "align_items": null,
            "align_self": null,
            "border": null,
            "bottom": null,
            "display": null,
            "flex": null,
            "flex_flow": null,
            "grid_area": null,
            "grid_auto_columns": null,
            "grid_auto_flow": null,
            "grid_auto_rows": null,
            "grid_column": null,
            "grid_gap": null,
            "grid_row": null,
            "grid_template_areas": null,
            "grid_template_columns": null,
            "grid_template_rows": null,
            "height": null,
            "justify_content": null,
            "justify_items": null,
            "left": null,
            "margin": null,
            "max_height": null,
            "max_width": null,
            "min_height": null,
            "min_width": null,
            "object_fit": null,
            "object_position": null,
            "order": null,
            "overflow": null,
            "overflow_x": null,
            "overflow_y": null,
            "padding": null,
            "right": null,
            "top": null,
            "visibility": null,
            "width": null
          }
        },
        "24b6fd79acb24624823393c1d3de546f": {
          "model_module": "@jupyter-widgets/base",
          "model_name": "LayoutModel",
          "model_module_version": "1.2.0",
          "state": {
            "_model_module": "@jupyter-widgets/base",
            "_model_module_version": "1.2.0",
            "_model_name": "LayoutModel",
            "_view_count": null,
            "_view_module": "@jupyter-widgets/base",
            "_view_module_version": "1.2.0",
            "_view_name": "LayoutView",
            "align_content": null,
            "align_items": null,
            "align_self": null,
            "border": null,
            "bottom": null,
            "display": null,
            "flex": null,
            "flex_flow": null,
            "grid_area": null,
            "grid_auto_columns": null,
            "grid_auto_flow": null,
            "grid_auto_rows": null,
            "grid_column": null,
            "grid_gap": null,
            "grid_row": null,
            "grid_template_areas": null,
            "grid_template_columns": null,
            "grid_template_rows": null,
            "height": null,
            "justify_content": null,
            "justify_items": null,
            "left": null,
            "margin": null,
            "max_height": null,
            "max_width": null,
            "min_height": null,
            "min_width": null,
            "object_fit": null,
            "object_position": null,
            "order": null,
            "overflow": null,
            "overflow_x": null,
            "overflow_y": null,
            "padding": null,
            "right": null,
            "top": null,
            "visibility": null,
            "width": null
          }
        },
        "68784e51c801400bb8d12ed2a555d523": {
          "model_module": "@jupyter-widgets/controls",
          "model_name": "DescriptionStyleModel",
          "model_module_version": "1.5.0",
          "state": {
            "_model_module": "@jupyter-widgets/controls",
            "_model_module_version": "1.5.0",
            "_model_name": "DescriptionStyleModel",
            "_view_count": null,
            "_view_module": "@jupyter-widgets/base",
            "_view_module_version": "1.2.0",
            "_view_name": "StyleView",
            "description_width": ""
          }
        },
        "84d638b0b5764b679e2564689f2d78e6": {
          "model_module": "@jupyter-widgets/base",
          "model_name": "LayoutModel",
          "model_module_version": "1.2.0",
          "state": {
            "_model_module": "@jupyter-widgets/base",
            "_model_module_version": "1.2.0",
            "_model_name": "LayoutModel",
            "_view_count": null,
            "_view_module": "@jupyter-widgets/base",
            "_view_module_version": "1.2.0",
            "_view_name": "LayoutView",
            "align_content": null,
            "align_items": null,
            "align_self": null,
            "border": null,
            "bottom": null,
            "display": null,
            "flex": null,
            "flex_flow": null,
            "grid_area": null,
            "grid_auto_columns": null,
            "grid_auto_flow": null,
            "grid_auto_rows": null,
            "grid_column": null,
            "grid_gap": null,
            "grid_row": null,
            "grid_template_areas": null,
            "grid_template_columns": null,
            "grid_template_rows": null,
            "height": null,
            "justify_content": null,
            "justify_items": null,
            "left": null,
            "margin": null,
            "max_height": null,
            "max_width": null,
            "min_height": null,
            "min_width": null,
            "object_fit": null,
            "object_position": null,
            "order": null,
            "overflow": null,
            "overflow_x": null,
            "overflow_y": null,
            "padding": null,
            "right": null,
            "top": null,
            "visibility": null,
            "width": null
          }
        },
        "d062ba2e12aa4a5fb67aa223b9ab79a3": {
          "model_module": "@jupyter-widgets/controls",
          "model_name": "ProgressStyleModel",
          "model_module_version": "1.5.0",
          "state": {
            "_model_module": "@jupyter-widgets/controls",
            "_model_module_version": "1.5.0",
            "_model_name": "ProgressStyleModel",
            "_view_count": null,
            "_view_module": "@jupyter-widgets/base",
            "_view_module_version": "1.2.0",
            "_view_name": "StyleView",
            "bar_color": null,
            "description_width": ""
          }
        },
        "14b7a9b0a2564741b45d440a9ee913a1": {
          "model_module": "@jupyter-widgets/base",
          "model_name": "LayoutModel",
          "model_module_version": "1.2.0",
          "state": {
            "_model_module": "@jupyter-widgets/base",
            "_model_module_version": "1.2.0",
            "_model_name": "LayoutModel",
            "_view_count": null,
            "_view_module": "@jupyter-widgets/base",
            "_view_module_version": "1.2.0",
            "_view_name": "LayoutView",
            "align_content": null,
            "align_items": null,
            "align_self": null,
            "border": null,
            "bottom": null,
            "display": null,
            "flex": null,
            "flex_flow": null,
            "grid_area": null,
            "grid_auto_columns": null,
            "grid_auto_flow": null,
            "grid_auto_rows": null,
            "grid_column": null,
            "grid_gap": null,
            "grid_row": null,
            "grid_template_areas": null,
            "grid_template_columns": null,
            "grid_template_rows": null,
            "height": null,
            "justify_content": null,
            "justify_items": null,
            "left": null,
            "margin": null,
            "max_height": null,
            "max_width": null,
            "min_height": null,
            "min_width": null,
            "object_fit": null,
            "object_position": null,
            "order": null,
            "overflow": null,
            "overflow_x": null,
            "overflow_y": null,
            "padding": null,
            "right": null,
            "top": null,
            "visibility": null,
            "width": null
          }
        },
        "4a8427ba025147898bb5ef0221bb7f4a": {
          "model_module": "@jupyter-widgets/controls",
          "model_name": "DescriptionStyleModel",
          "model_module_version": "1.5.0",
          "state": {
            "_model_module": "@jupyter-widgets/controls",
            "_model_module_version": "1.5.0",
            "_model_name": "DescriptionStyleModel",
            "_view_count": null,
            "_view_module": "@jupyter-widgets/base",
            "_view_module_version": "1.2.0",
            "_view_name": "StyleView",
            "description_width": ""
          }
        },
        "f8cbbc10ff3b4a86a42b41802e323c24": {
          "model_module": "@jupyter-widgets/controls",
          "model_name": "HBoxModel",
          "model_module_version": "1.5.0",
          "state": {
            "_dom_classes": [],
            "_model_module": "@jupyter-widgets/controls",
            "_model_module_version": "1.5.0",
            "_model_name": "HBoxModel",
            "_view_count": null,
            "_view_module": "@jupyter-widgets/controls",
            "_view_module_version": "1.5.0",
            "_view_name": "HBoxView",
            "box_style": "",
            "children": [
              "IPY_MODEL_522118c73b65467bbe8ebf3860c60cfb",
              "IPY_MODEL_c6ed98edded140d0804d3bb919b646c9",
              "IPY_MODEL_96a166c6e81749a7a766869349f19670"
            ],
            "layout": "IPY_MODEL_587e1adb66b64ac6bbfd9604f61cbf18"
          }
        },
        "522118c73b65467bbe8ebf3860c60cfb": {
          "model_module": "@jupyter-widgets/controls",
          "model_name": "HTMLModel",
          "model_module_version": "1.5.0",
          "state": {
            "_dom_classes": [],
            "_model_module": "@jupyter-widgets/controls",
            "_model_module_version": "1.5.0",
            "_model_name": "HTMLModel",
            "_view_count": null,
            "_view_module": "@jupyter-widgets/controls",
            "_view_module_version": "1.5.0",
            "_view_name": "HTMLView",
            "description": "",
            "description_tooltip": null,
            "layout": "IPY_MODEL_33d16af4661e4cc99e5591fabf648c9b",
            "placeholder": "​",
            "style": "IPY_MODEL_fd4ac4e5ce074ed4bb18388f4afea470",
            "value": "Map: 100%"
          }
        },
        "c6ed98edded140d0804d3bb919b646c9": {
          "model_module": "@jupyter-widgets/controls",
          "model_name": "FloatProgressModel",
          "model_module_version": "1.5.0",
          "state": {
            "_dom_classes": [],
            "_model_module": "@jupyter-widgets/controls",
            "_model_module_version": "1.5.0",
            "_model_name": "FloatProgressModel",
            "_view_count": null,
            "_view_module": "@jupyter-widgets/controls",
            "_view_module_version": "1.5.0",
            "_view_name": "ProgressView",
            "bar_style": "success",
            "description": "",
            "description_tooltip": null,
            "layout": "IPY_MODEL_43ef5f4ed25c4814a110d0190217e2ce",
            "max": 20005,
            "min": 0,
            "orientation": "horizontal",
            "style": "IPY_MODEL_47e57cf4b02349ddbf1e1744d82f0b26",
            "value": 20005
          }
        },
        "96a166c6e81749a7a766869349f19670": {
          "model_module": "@jupyter-widgets/controls",
          "model_name": "HTMLModel",
          "model_module_version": "1.5.0",
          "state": {
            "_dom_classes": [],
            "_model_module": "@jupyter-widgets/controls",
            "_model_module_version": "1.5.0",
            "_model_name": "HTMLModel",
            "_view_count": null,
            "_view_module": "@jupyter-widgets/controls",
            "_view_module_version": "1.5.0",
            "_view_name": "HTMLView",
            "description": "",
            "description_tooltip": null,
            "layout": "IPY_MODEL_3f3765cd32e6404f9a69152e96538027",
            "placeholder": "​",
            "style": "IPY_MODEL_be01f076e24747b0b6a2f1df3800b111",
            "value": " 20005/20005 [00:10&lt;00:00, 2041.54 examples/s]"
          }
        },
        "587e1adb66b64ac6bbfd9604f61cbf18": {
          "model_module": "@jupyter-widgets/base",
          "model_name": "LayoutModel",
          "model_module_version": "1.2.0",
          "state": {
            "_model_module": "@jupyter-widgets/base",
            "_model_module_version": "1.2.0",
            "_model_name": "LayoutModel",
            "_view_count": null,
            "_view_module": "@jupyter-widgets/base",
            "_view_module_version": "1.2.0",
            "_view_name": "LayoutView",
            "align_content": null,
            "align_items": null,
            "align_self": null,
            "border": null,
            "bottom": null,
            "display": null,
            "flex": null,
            "flex_flow": null,
            "grid_area": null,
            "grid_auto_columns": null,
            "grid_auto_flow": null,
            "grid_auto_rows": null,
            "grid_column": null,
            "grid_gap": null,
            "grid_row": null,
            "grid_template_areas": null,
            "grid_template_columns": null,
            "grid_template_rows": null,
            "height": null,
            "justify_content": null,
            "justify_items": null,
            "left": null,
            "margin": null,
            "max_height": null,
            "max_width": null,
            "min_height": null,
            "min_width": null,
            "object_fit": null,
            "object_position": null,
            "order": null,
            "overflow": null,
            "overflow_x": null,
            "overflow_y": null,
            "padding": null,
            "right": null,
            "top": null,
            "visibility": null,
            "width": null
          }
        },
        "33d16af4661e4cc99e5591fabf648c9b": {
          "model_module": "@jupyter-widgets/base",
          "model_name": "LayoutModel",
          "model_module_version": "1.2.0",
          "state": {
            "_model_module": "@jupyter-widgets/base",
            "_model_module_version": "1.2.0",
            "_model_name": "LayoutModel",
            "_view_count": null,
            "_view_module": "@jupyter-widgets/base",
            "_view_module_version": "1.2.0",
            "_view_name": "LayoutView",
            "align_content": null,
            "align_items": null,
            "align_self": null,
            "border": null,
            "bottom": null,
            "display": null,
            "flex": null,
            "flex_flow": null,
            "grid_area": null,
            "grid_auto_columns": null,
            "grid_auto_flow": null,
            "grid_auto_rows": null,
            "grid_column": null,
            "grid_gap": null,
            "grid_row": null,
            "grid_template_areas": null,
            "grid_template_columns": null,
            "grid_template_rows": null,
            "height": null,
            "justify_content": null,
            "justify_items": null,
            "left": null,
            "margin": null,
            "max_height": null,
            "max_width": null,
            "min_height": null,
            "min_width": null,
            "object_fit": null,
            "object_position": null,
            "order": null,
            "overflow": null,
            "overflow_x": null,
            "overflow_y": null,
            "padding": null,
            "right": null,
            "top": null,
            "visibility": null,
            "width": null
          }
        },
        "fd4ac4e5ce074ed4bb18388f4afea470": {
          "model_module": "@jupyter-widgets/controls",
          "model_name": "DescriptionStyleModel",
          "model_module_version": "1.5.0",
          "state": {
            "_model_module": "@jupyter-widgets/controls",
            "_model_module_version": "1.5.0",
            "_model_name": "DescriptionStyleModel",
            "_view_count": null,
            "_view_module": "@jupyter-widgets/base",
            "_view_module_version": "1.2.0",
            "_view_name": "StyleView",
            "description_width": ""
          }
        },
        "43ef5f4ed25c4814a110d0190217e2ce": {
          "model_module": "@jupyter-widgets/base",
          "model_name": "LayoutModel",
          "model_module_version": "1.2.0",
          "state": {
            "_model_module": "@jupyter-widgets/base",
            "_model_module_version": "1.2.0",
            "_model_name": "LayoutModel",
            "_view_count": null,
            "_view_module": "@jupyter-widgets/base",
            "_view_module_version": "1.2.0",
            "_view_name": "LayoutView",
            "align_content": null,
            "align_items": null,
            "align_self": null,
            "border": null,
            "bottom": null,
            "display": null,
            "flex": null,
            "flex_flow": null,
            "grid_area": null,
            "grid_auto_columns": null,
            "grid_auto_flow": null,
            "grid_auto_rows": null,
            "grid_column": null,
            "grid_gap": null,
            "grid_row": null,
            "grid_template_areas": null,
            "grid_template_columns": null,
            "grid_template_rows": null,
            "height": null,
            "justify_content": null,
            "justify_items": null,
            "left": null,
            "margin": null,
            "max_height": null,
            "max_width": null,
            "min_height": null,
            "min_width": null,
            "object_fit": null,
            "object_position": null,
            "order": null,
            "overflow": null,
            "overflow_x": null,
            "overflow_y": null,
            "padding": null,
            "right": null,
            "top": null,
            "visibility": null,
            "width": null
          }
        },
        "47e57cf4b02349ddbf1e1744d82f0b26": {
          "model_module": "@jupyter-widgets/controls",
          "model_name": "ProgressStyleModel",
          "model_module_version": "1.5.0",
          "state": {
            "_model_module": "@jupyter-widgets/controls",
            "_model_module_version": "1.5.0",
            "_model_name": "ProgressStyleModel",
            "_view_count": null,
            "_view_module": "@jupyter-widgets/base",
            "_view_module_version": "1.2.0",
            "_view_name": "StyleView",
            "bar_color": null,
            "description_width": ""
          }
        },
        "3f3765cd32e6404f9a69152e96538027": {
          "model_module": "@jupyter-widgets/base",
          "model_name": "LayoutModel",
          "model_module_version": "1.2.0",
          "state": {
            "_model_module": "@jupyter-widgets/base",
            "_model_module_version": "1.2.0",
            "_model_name": "LayoutModel",
            "_view_count": null,
            "_view_module": "@jupyter-widgets/base",
            "_view_module_version": "1.2.0",
            "_view_name": "LayoutView",
            "align_content": null,
            "align_items": null,
            "align_self": null,
            "border": null,
            "bottom": null,
            "display": null,
            "flex": null,
            "flex_flow": null,
            "grid_area": null,
            "grid_auto_columns": null,
            "grid_auto_flow": null,
            "grid_auto_rows": null,
            "grid_column": null,
            "grid_gap": null,
            "grid_row": null,
            "grid_template_areas": null,
            "grid_template_columns": null,
            "grid_template_rows": null,
            "height": null,
            "justify_content": null,
            "justify_items": null,
            "left": null,
            "margin": null,
            "max_height": null,
            "max_width": null,
            "min_height": null,
            "min_width": null,
            "object_fit": null,
            "object_position": null,
            "order": null,
            "overflow": null,
            "overflow_x": null,
            "overflow_y": null,
            "padding": null,
            "right": null,
            "top": null,
            "visibility": null,
            "width": null
          }
        },
        "be01f076e24747b0b6a2f1df3800b111": {
          "model_module": "@jupyter-widgets/controls",
          "model_name": "DescriptionStyleModel",
          "model_module_version": "1.5.0",
          "state": {
            "_model_module": "@jupyter-widgets/controls",
            "_model_module_version": "1.5.0",
            "_model_name": "DescriptionStyleModel",
            "_view_count": null,
            "_view_module": "@jupyter-widgets/base",
            "_view_module_version": "1.2.0",
            "_view_name": "StyleView",
            "description_width": ""
          }
        }
      }
    }
  },
  "nbformat": 4,
  "nbformat_minor": 5
}