{
 "cells": [
  {
   "cell_type": "code",
   "execution_count": null,
   "metadata": {},
   "outputs": [],
   "source": [
    "'''\n",
    "pip install -U ipywidgets\n",
    "pip install pyarrow\n",
    "'''"
   ]
  },
  {
   "cell_type": "markdown",
   "metadata": {},
   "source": [
    "# Loading PubMed text files"
   ]
  },
  {
   "cell_type": "code",
   "execution_count": 1,
   "metadata": {},
   "outputs": [
    {
     "name": "stderr",
     "output_type": "stream",
     "text": [
      "Processing raw_pubmed_intelligence_abstracts_2024.txt: 100%|██████████| 4240/4240 [00:00<00:00, 18103.00it/s]\n",
      "Processing raw_pubmed_intelligence_abstracts_2018.txt: 100%|██████████| 3341/3341 [00:00<00:00, 18878.47it/s]\n",
      "Processing raw_pubmed_intelligence_abstracts_2019.txt: 100%|██████████| 4951/4951 [00:00<00:00, 18784.53it/s]\n",
      "Processing raw_pubmed_intelligence_abstracts_2021.txt: 100%|██████████| 15221/15221 [00:00<00:00, 18181.32it/s]\n",
      "Processing raw_pubmed_intelligence_abstracts_2020.txt: 100%|██████████| 7875/7875 [00:00<00:00, 18199.60it/s]\n",
      "Processing raw_pubmed_intelligence_abstracts_2022.txt: 100%|██████████| 20748/20748 [00:01<00:00, 18192.72it/s]\n",
      "Processing raw_pubmed_intelligence_abstracts_2023.txt: 100%|██████████| 25276/25276 [00:01<00:00, 18434.16it/s]\n",
      "Processing raw_pubmed_intelligence_abstracts_2013.txt: 100%|██████████| 1660/1660 [00:00<00:00, 19909.54it/s]\n",
      "Processing raw_pubmed_intelligence_abstracts_2014.txt: 100%|██████████| 1798/1798 [00:00<00:00, 19529.00it/s]\n",
      "Processing raw_pubmed_intelligence_abstracts_2015.txt: 100%|██████████| 1974/1974 [00:00<00:00, 19198.57it/s]\n",
      "Processing raw_pubmed_intelligence_abstracts_2017.txt: 100%|██████████| 2359/2359 [00:00<00:00, 18916.92it/s]\n",
      "Processing raw_pubmed_intelligence_abstracts_2016.txt: 100%|██████████| 2011/2011 [00:00<00:00, 18366.11it/s]\n"
     ]
    }
   ],
   "source": [
    "import os\n",
    "import pandas as pd\n",
    "from tqdm import tqdm\n",
    "import glob  # Import glob module\n",
    "\n",
    "# Define the project directory\n",
    "project_dir = os.path.dirname(os.getcwd())\n",
    "data_dir = os.path.join(project_dir, 'data', 'PubMed_Format')\n",
    "\n",
    "# Define articles dictionary keys\n",
    "articles_dict_keys = ['PMID', 'OWN', 'STAT', 'DCOM', 'LR', 'IS', 'VI', 'IP', 'DP', 'TI', 'PG', 'LID', 'AB', 'FAU', 'AU', 'AD', 'LA', 'GR', 'PT', 'DEP', 'PL', 'TA', 'JT', 'JID', 'SB', 'MH', 'PMC', 'MID', 'COIS', 'EDAT', 'MHDA', 'CRDT', 'PHST', 'AID', 'PST', 'SO', 'AUID', 'CIN', 'CI', 'OTO', 'OT']\n",
    "articles_dict = {key: [] for key in articles_dict_keys}\n",
    "\n",
    "# Pattern to match all relevant files\n",
    "file_pattern = os.path.join(data_dir, 'raw_pubmed_intelligence_abstracts_*.txt')\n",
    "\n",
    "# Use glob to find all files matching the pattern\n",
    "for file_path in glob.glob(file_pattern):\n",
    "    with open(file_path, 'r', encoding=\"utf-8\") as f:\n",
    "        text = f.read()\n",
    "    \n",
    "    articles = text.split(\"\\n\\n\")\n",
    "\n",
    "    for article in tqdm(articles, desc=f\"Processing {os.path.basename(file_path)}\"):\n",
    "        lines = article.split(\"\\n\")\n",
    "        dictionary = {key: [] for key in articles_dict_keys}  # Use lists to handle multiple entries\n",
    "        current_key = None  # Track the current key for lines without a new key\n",
    "\n",
    "        for line in lines:\n",
    "            if len(line) > 4 and line[4] == '-':\n",
    "                key, value = line.split(\"-\", 1)\n",
    "                key = key.strip()\n",
    "                value = value.strip()\n",
    "                if key in dictionary:\n",
    "                    dictionary[key].append(value)  # Append new values to the list\n",
    "                    current_key = key\n",
    "            elif current_key:  # Append continuation lines to the last value of the current key\n",
    "                dictionary[current_key][-1] += ' ' + line.strip()\n",
    "\n",
    "        # Flatten lists with a single value for compatibility\n",
    "        for key in articles_dict_keys:\n",
    "            articles_dict[key].append(' '.join(dictionary[key]) if dictionary[key] else None)\n",
    "\n",
    "# Create DataFrame from the aggregated data\n",
    "df = pd.DataFrame(articles_dict, columns=articles_dict_keys)"
   ]
  },
  {
   "cell_type": "markdown",
   "metadata": {},
   "source": [
    "# Data Exploration"
   ]
  },
  {
   "cell_type": "code",
   "execution_count": 2,
   "metadata": {},
   "outputs": [
    {
     "data": {
      "text/html": [
       "<div>\n",
       "<style scoped>\n",
       "    .dataframe tbody tr th:only-of-type {\n",
       "        vertical-align: middle;\n",
       "    }\n",
       "\n",
       "    .dataframe tbody tr th {\n",
       "        vertical-align: top;\n",
       "    }\n",
       "\n",
       "    .dataframe thead th {\n",
       "        text-align: right;\n",
       "    }\n",
       "</style>\n",
       "<table border=\"1\" class=\"dataframe\">\n",
       "  <thead>\n",
       "    <tr style=\"text-align: right;\">\n",
       "      <th></th>\n",
       "      <th>PMID</th>\n",
       "      <th>OWN</th>\n",
       "      <th>STAT</th>\n",
       "      <th>DCOM</th>\n",
       "      <th>LR</th>\n",
       "      <th>IS</th>\n",
       "      <th>VI</th>\n",
       "      <th>IP</th>\n",
       "      <th>DP</th>\n",
       "      <th>TI</th>\n",
       "      <th>...</th>\n",
       "      <th>CRDT</th>\n",
       "      <th>PHST</th>\n",
       "      <th>AID</th>\n",
       "      <th>PST</th>\n",
       "      <th>SO</th>\n",
       "      <th>AUID</th>\n",
       "      <th>CIN</th>\n",
       "      <th>CI</th>\n",
       "      <th>OTO</th>\n",
       "      <th>OT</th>\n",
       "    </tr>\n",
       "  </thead>\n",
       "  <tbody>\n",
       "    <tr>\n",
       "      <th>0</th>\n",
       "      <td>38421690</td>\n",
       "      <td>NLM</td>\n",
       "      <td>Publisher</td>\n",
       "      <td>None</td>\n",
       "      <td>20240229</td>\n",
       "      <td>1438-8871 (Electronic) 1438-8871 (Linking)</td>\n",
       "      <td>26</td>\n",
       "      <td>None</td>\n",
       "      <td>2024 Feb 29</td>\n",
       "      <td>Promises, Pitfalls, and Clinical Applications ...</td>\n",
       "      <td>...</td>\n",
       "      <td>2024/02/29 11:53</td>\n",
       "      <td>2024/02/29 12:46 [medline] 2024/02/29 12:46 [p...</td>\n",
       "      <td>v26i1e49022 [pii] 10.2196/49022 [doi]</td>\n",
       "      <td>epublish</td>\n",
       "      <td>J Med Internet Res. 2024 Feb 29;26:e49022. doi...</td>\n",
       "      <td>ORCID: 0009-0001-2785-3930 ORCID: 0000-0003-26...</td>\n",
       "      <td>None</td>\n",
       "      <td>(c)Hansa Bhargava, Carmela Salomon, Srinivasan...</td>\n",
       "      <td>NOTNLM</td>\n",
       "      <td>ASD CME artificial intelligence autism autism ...</td>\n",
       "    </tr>\n",
       "    <tr>\n",
       "      <th>1</th>\n",
       "      <td>38421670</td>\n",
       "      <td>NLM</td>\n",
       "      <td>Publisher</td>\n",
       "      <td>None</td>\n",
       "      <td>20240229</td>\n",
       "      <td>2168-6173 (Electronic) 2168-6165 (Linking)</td>\n",
       "      <td>None</td>\n",
       "      <td>None</td>\n",
       "      <td>2024 Feb 29</td>\n",
       "      <td>Accuracy of an Artificial Intelligence Chatbot...</td>\n",
       "      <td>...</td>\n",
       "      <td>2024/02/29 11:33</td>\n",
       "      <td>2024/02/29 12:43 [medline] 2024/02/29 12:43 [p...</td>\n",
       "      <td>2815697 [pii] 10.1001/jamaophthalmol.2024.0017...</td>\n",
       "      <td>aheadofprint</td>\n",
       "      <td>JAMA Ophthalmol. 2024 Feb 29. doi: 10.1001/jam...</td>\n",
       "      <td>None</td>\n",
       "      <td>None</td>\n",
       "      <td>None</td>\n",
       "      <td>None</td>\n",
       "      <td>None</td>\n",
       "    </tr>\n",
       "    <tr>\n",
       "      <th>2</th>\n",
       "      <td>38421439</td>\n",
       "      <td>NLM</td>\n",
       "      <td>Publisher</td>\n",
       "      <td>None</td>\n",
       "      <td>20240229</td>\n",
       "      <td>1436-2813 (Electronic) 0941-1291 (Linking)</td>\n",
       "      <td>None</td>\n",
       "      <td>None</td>\n",
       "      <td>2024 Feb 29</td>\n",
       "      <td>ChatGPT in surgery: a revolutionary innovation?</td>\n",
       "      <td>...</td>\n",
       "      <td>2024/02/29 11:07</td>\n",
       "      <td>2024/02/29 12:46 [medline] 2024/02/29 12:46 [p...</td>\n",
       "      <td>10.1007/s00595-024-02800-6 [pii] 10.1007/s0059...</td>\n",
       "      <td>aheadofprint</td>\n",
       "      <td>Surg Today. 2024 Feb 29. doi: 10.1007/s00595-0...</td>\n",
       "      <td>None</td>\n",
       "      <td>None</td>\n",
       "      <td>(c) 2024. The Author(s).</td>\n",
       "      <td>NOTNLM</td>\n",
       "      <td>Artificial intelligence ChatGPT Surgery</td>\n",
       "    </tr>\n",
       "    <tr>\n",
       "      <th>3</th>\n",
       "      <td>38421392</td>\n",
       "      <td>NLM</td>\n",
       "      <td>Publisher</td>\n",
       "      <td>None</td>\n",
       "      <td>20240229</td>\n",
       "      <td>1434-4726 (Electronic) 0937-4477 (Linking)</td>\n",
       "      <td>None</td>\n",
       "      <td>None</td>\n",
       "      <td>2024 Feb 29</td>\n",
       "      <td>Exploring the landscape of AI-assisted decisio...</td>\n",
       "      <td>...</td>\n",
       "      <td>2024/02/29 11:05</td>\n",
       "      <td>2024/02/29 12:42 [medline] 2024/02/29 12:42 [p...</td>\n",
       "      <td>10.1007/s00405-024-08525-z [pii] 10.1007/s0040...</td>\n",
       "      <td>aheadofprint</td>\n",
       "      <td>Eur Arch Otorhinolaryngol. 2024 Feb 29. doi: 1...</td>\n",
       "      <td>ORCID: 0000-0003-0957-8354</td>\n",
       "      <td>None</td>\n",
       "      <td>(c) 2024. The Author(s), under exclusive licen...</td>\n",
       "      <td>NOTNLM</td>\n",
       "      <td>Artificial intelligence (AI) models Cancer car...</td>\n",
       "    </tr>\n",
       "    <tr>\n",
       "      <th>4</th>\n",
       "      <td>38421272</td>\n",
       "      <td>NLM</td>\n",
       "      <td>In-Process</td>\n",
       "      <td>None</td>\n",
       "      <td>20240229</td>\n",
       "      <td>1661-4917 (Electronic) 0004-069X (Linking)</td>\n",
       "      <td>72</td>\n",
       "      <td>1</td>\n",
       "      <td>2024 Jan 1</td>\n",
       "      <td>Artificial Intelligence, Big Data, and Regulat...</td>\n",
       "      <td>...</td>\n",
       "      <td>2024/02/29 09:53</td>\n",
       "      <td>2024/02/29 12:45 [medline] 2024/02/29 12:45 [p...</td>\n",
       "      <td>aite-2024-0006 [pii] 10.2478/aite-2024-0006 [doi]</td>\n",
       "      <td>epublish</td>\n",
       "      <td>Arch Immunol Ther Exp (Warsz). 2024 Feb 29;72(...</td>\n",
       "      <td>ORCID: 0000-0002-9792-8694 ORCID: 0000-0002-33...</td>\n",
       "      <td>None</td>\n",
       "      <td>(c) 2024 Bhagirath Singh et al., published by ...</td>\n",
       "      <td>NOTNLM</td>\n",
       "      <td>Artificial intelligence Big data Ethics of imm...</td>\n",
       "    </tr>\n",
       "  </tbody>\n",
       "</table>\n",
       "<p>5 rows × 41 columns</p>\n",
       "</div>"
      ],
      "text/plain": [
       "       PMID  OWN        STAT  DCOM        LR  \\\n",
       "0  38421690  NLM   Publisher  None  20240229   \n",
       "1  38421670  NLM   Publisher  None  20240229   \n",
       "2  38421439  NLM   Publisher  None  20240229   \n",
       "3  38421392  NLM   Publisher  None  20240229   \n",
       "4  38421272  NLM  In-Process  None  20240229   \n",
       "\n",
       "                                           IS    VI    IP           DP  \\\n",
       "0  1438-8871 (Electronic) 1438-8871 (Linking)    26  None  2024 Feb 29   \n",
       "1  2168-6173 (Electronic) 2168-6165 (Linking)  None  None  2024 Feb 29   \n",
       "2  1436-2813 (Electronic) 0941-1291 (Linking)  None  None  2024 Feb 29   \n",
       "3  1434-4726 (Electronic) 0937-4477 (Linking)  None  None  2024 Feb 29   \n",
       "4  1661-4917 (Electronic) 0004-069X (Linking)    72     1   2024 Jan 1   \n",
       "\n",
       "                                                  TI  ...              CRDT  \\\n",
       "0  Promises, Pitfalls, and Clinical Applications ...  ...  2024/02/29 11:53   \n",
       "1  Accuracy of an Artificial Intelligence Chatbot...  ...  2024/02/29 11:33   \n",
       "2    ChatGPT in surgery: a revolutionary innovation?  ...  2024/02/29 11:07   \n",
       "3  Exploring the landscape of AI-assisted decisio...  ...  2024/02/29 11:05   \n",
       "4  Artificial Intelligence, Big Data, and Regulat...  ...  2024/02/29 09:53   \n",
       "\n",
       "                                                PHST  \\\n",
       "0  2024/02/29 12:46 [medline] 2024/02/29 12:46 [p...   \n",
       "1  2024/02/29 12:43 [medline] 2024/02/29 12:43 [p...   \n",
       "2  2024/02/29 12:46 [medline] 2024/02/29 12:46 [p...   \n",
       "3  2024/02/29 12:42 [medline] 2024/02/29 12:42 [p...   \n",
       "4  2024/02/29 12:45 [medline] 2024/02/29 12:45 [p...   \n",
       "\n",
       "                                                 AID           PST  \\\n",
       "0              v26i1e49022 [pii] 10.2196/49022 [doi]      epublish   \n",
       "1  2815697 [pii] 10.1001/jamaophthalmol.2024.0017...  aheadofprint   \n",
       "2  10.1007/s00595-024-02800-6 [pii] 10.1007/s0059...  aheadofprint   \n",
       "3  10.1007/s00405-024-08525-z [pii] 10.1007/s0040...  aheadofprint   \n",
       "4  aite-2024-0006 [pii] 10.2478/aite-2024-0006 [doi]      epublish   \n",
       "\n",
       "                                                  SO  \\\n",
       "0  J Med Internet Res. 2024 Feb 29;26:e49022. doi...   \n",
       "1  JAMA Ophthalmol. 2024 Feb 29. doi: 10.1001/jam...   \n",
       "2  Surg Today. 2024 Feb 29. doi: 10.1007/s00595-0...   \n",
       "3  Eur Arch Otorhinolaryngol. 2024 Feb 29. doi: 1...   \n",
       "4  Arch Immunol Ther Exp (Warsz). 2024 Feb 29;72(...   \n",
       "\n",
       "                                                AUID   CIN  \\\n",
       "0  ORCID: 0009-0001-2785-3930 ORCID: 0000-0003-26...  None   \n",
       "1                                               None  None   \n",
       "2                                               None  None   \n",
       "3                         ORCID: 0000-0003-0957-8354  None   \n",
       "4  ORCID: 0000-0002-9792-8694 ORCID: 0000-0002-33...  None   \n",
       "\n",
       "                                                  CI     OTO  \\\n",
       "0  (c)Hansa Bhargava, Carmela Salomon, Srinivasan...  NOTNLM   \n",
       "1                                               None    None   \n",
       "2                           (c) 2024. The Author(s).  NOTNLM   \n",
       "3  (c) 2024. The Author(s), under exclusive licen...  NOTNLM   \n",
       "4  (c) 2024 Bhagirath Singh et al., published by ...  NOTNLM   \n",
       "\n",
       "                                                  OT  \n",
       "0  ASD CME artificial intelligence autism autism ...  \n",
       "1                                               None  \n",
       "2            Artificial intelligence ChatGPT Surgery  \n",
       "3  Artificial intelligence (AI) models Cancer car...  \n",
       "4  Artificial intelligence Big data Ethics of imm...  \n",
       "\n",
       "[5 rows x 41 columns]"
      ]
     },
     "execution_count": 2,
     "metadata": {},
     "output_type": "execute_result"
    }
   ],
   "source": [
    "df.head(5)"
   ]
  },
  {
   "cell_type": "code",
   "execution_count": 3,
   "metadata": {},
   "outputs": [
    {
     "name": "stdout",
     "output_type": "stream",
     "text": [
      "Total number of rows: 91454 x 41\n"
     ]
    }
   ],
   "source": [
    "# print the total number of rows and columns\n",
    "print(f\"Total number of rows: {df.shape[0]} x {df.shape[1]}\")"
   ]
  },
  {
   "cell_type": "code",
   "execution_count": 4,
   "metadata": {},
   "outputs": [
    {
     "data": {
      "text/plain": [
       "PMID    object\n",
       "OWN     object\n",
       "STAT    object\n",
       "DCOM    object\n",
       "LR      object\n",
       "IS      object\n",
       "VI      object\n",
       "IP      object\n",
       "DP      object\n",
       "TI      object\n",
       "PG      object\n",
       "LID     object\n",
       "AB      object\n",
       "FAU     object\n",
       "AU      object\n",
       "AD      object\n",
       "LA      object\n",
       "GR      object\n",
       "PT      object\n",
       "DEP     object\n",
       "PL      object\n",
       "TA      object\n",
       "JT      object\n",
       "JID     object\n",
       "SB      object\n",
       "MH      object\n",
       "PMC     object\n",
       "MID     object\n",
       "COIS    object\n",
       "EDAT    object\n",
       "MHDA    object\n",
       "CRDT    object\n",
       "PHST    object\n",
       "AID     object\n",
       "PST     object\n",
       "SO      object\n",
       "AUID    object\n",
       "CIN     object\n",
       "CI      object\n",
       "OTO     object\n",
       "OT      object\n",
       "dtype: object"
      ]
     },
     "execution_count": 4,
     "metadata": {},
     "output_type": "execute_result"
    }
   ],
   "source": [
    "# display columns data types\n",
    "df.dtypes"
   ]
  },
  {
   "cell_type": "code",
   "execution_count": 5,
   "metadata": {},
   "outputs": [
    {
     "name": "stdout",
     "output_type": "stream",
     "text": [
      "Number of missing values in AB column: 6371\n",
      "Number of articles after dropping missing values in AB column: 85083\n",
      "Number of duplicate PMIDs: 23074\n",
      "Number of articles after dropping duplicates: 62009\n"
     ]
    }
   ],
   "source": [
    "# check for missing values in AB column\n",
    "print(f\"Number of missing values in AB column: {df['AB'].isnull().sum()}\")\n",
    "\n",
    "# drop rows with missing values in AB column\n",
    "df = df.dropna(subset=['AB'])\n",
    "print(f\"Number of articles after dropping missing values in AB column: {df.shape[0]}\")\n",
    "\n",
    "# find total number of duplicates in PMID column\n",
    "print(f\"Number of duplicate PMIDs: {df['PMID'].duplicated().sum()}\")\n",
    "\n",
    "# drop duplicates\n",
    "df = df.drop_duplicates(subset=['PMID'])\n",
    "print(f\"Number of articles after dropping duplicates: {df.shape[0]}\")\n",
    "\n",
    "# df = df.reset_index(drop=True)"
   ]
  },
  {
   "cell_type": "markdown",
   "metadata": {},
   "source": [
    "# Convert columns data type"
   ]
  },
  {
   "cell_type": "code",
   "execution_count": 6,
   "metadata": {},
   "outputs": [],
   "source": [
    "# Convert PMID to string\n",
    "df['PMID'] = df['PMID'].astype(str)\n",
    "\n",
    "\n",
    "# convert Titles, Abstracts to string\n",
    "df['TI'] = df['TI'].astype(str)\n",
    "df['AB'] = df['AB'].astype(str)\n",
    "\n",
    "# Full Author Names and Abbreviated Author Names to string\n",
    "df['FAU'] = df['FAU'].astype(str)\n",
    "df['AU'] = df['AU'].astype(str)\n",
    "\n",
    "# MeSH Terms and Other Terms (OT) to string\n",
    "df['MH'] = df['MH'].astype(str)\n",
    "df['OT'] = df['OT'].astype(str)\n",
    "\n",
    "# Place of Publication to string\n",
    "df['PL'] = df['PL'].astype(str) \n",
    "\n",
    "# Journal Title to string\n",
    "df['JT'] = df['JT'].astype(str)\n",
    "\n",
    "# PubMed Central ID\n",
    "df['PMC'] = df['PMC'].astype(str)\n",
    "\n",
    "# Convert DP, EDAT, and MHDA to datetime64\n",
    "df['DP'] = pd.to_datetime(df['DP'], errors='coerce')  # Coerce errors in case of invalid dates\n",
    "df['EDAT'] = pd.to_datetime(df['EDAT'], format='%Y/%m/%d', errors='coerce')\n",
    "df['MHDA'] = pd.to_datetime(df['MHDA'], format='%Y/%m/%d', errors='coerce')"
   ]
  },
  {
   "cell_type": "code",
   "execution_count": 7,
   "metadata": {},
   "outputs": [
    {
     "data": {
      "text/plain": [
       "PMID\n",
       "38421690    1\n",
       "37255522    1\n",
       "37274299    1\n",
       "37274276    1\n",
       "37274142    1\n",
       "           ..\n",
       "34773485    1\n",
       "34773465    1\n",
       "34773361    1\n",
       "34773156    1\n",
       "25308198    1\n",
       "Name: count, Length: 62009, dtype: int64"
      ]
     },
     "execution_count": 7,
     "metadata": {},
     "output_type": "execute_result"
    }
   ],
   "source": [
    "df['PMID'].value_counts()"
   ]
  },
  {
   "cell_type": "code",
   "execution_count": 8,
   "metadata": {},
   "outputs": [
    {
     "data": {
      "text/html": [
       "<div>\n",
       "<style scoped>\n",
       "    .dataframe tbody tr th:only-of-type {\n",
       "        vertical-align: middle;\n",
       "    }\n",
       "\n",
       "    .dataframe tbody tr th {\n",
       "        vertical-align: top;\n",
       "    }\n",
       "\n",
       "    .dataframe thead th {\n",
       "        text-align: right;\n",
       "    }\n",
       "</style>\n",
       "<table border=\"1\" class=\"dataframe\">\n",
       "  <thead>\n",
       "    <tr style=\"text-align: right;\">\n",
       "      <th></th>\n",
       "      <th>PMID</th>\n",
       "      <th>TI</th>\n",
       "      <th>AB</th>\n",
       "      <th>FAU</th>\n",
       "      <th>AU</th>\n",
       "      <th>DP</th>\n",
       "      <th>MH</th>\n",
       "      <th>OT</th>\n",
       "      <th>PL</th>\n",
       "      <th>JT</th>\n",
       "      <th>PMC</th>\n",
       "      <th>EDAT</th>\n",
       "      <th>MHDA</th>\n",
       "      <th>STAT</th>\n",
       "    </tr>\n",
       "  </thead>\n",
       "  <tbody>\n",
       "    <tr>\n",
       "      <th>0</th>\n",
       "      <td>38421690</td>\n",
       "      <td>Promises, Pitfalls, and Clinical Applications ...</td>\n",
       "      <td>Artificial intelligence (AI) broadly describes...</td>\n",
       "      <td>Bhargava, Hansa Salomon, Carmela Suresh, Srini...</td>\n",
       "      <td>Bhargava H Salomon C Suresh S Chang A Kilian R...</td>\n",
       "      <td>2024-02-29</td>\n",
       "      <td>None</td>\n",
       "      <td>ASD CME artificial intelligence autism autism ...</td>\n",
       "      <td>Canada</td>\n",
       "      <td>Journal of medical Internet research</td>\n",
       "      <td>None</td>\n",
       "      <td>NaT</td>\n",
       "      <td>NaT</td>\n",
       "      <td>Publisher</td>\n",
       "    </tr>\n",
       "    <tr>\n",
       "      <th>1</th>\n",
       "      <td>38421670</td>\n",
       "      <td>Accuracy of an Artificial Intelligence Chatbot...</td>\n",
       "      <td>IMPORTANCE: Ophthalmology is reliant on effect...</td>\n",
       "      <td>Mihalache, Andrew Huang, Ryan S Popovic, Marko...</td>\n",
       "      <td>Mihalache A Huang RS Popovic MM Patil NS Pandy...</td>\n",
       "      <td>2024-02-29</td>\n",
       "      <td>None</td>\n",
       "      <td>None</td>\n",
       "      <td>United States</td>\n",
       "      <td>JAMA ophthalmology</td>\n",
       "      <td>None</td>\n",
       "      <td>NaT</td>\n",
       "      <td>NaT</td>\n",
       "      <td>Publisher</td>\n",
       "    </tr>\n",
       "    <tr>\n",
       "      <th>2</th>\n",
       "      <td>38421439</td>\n",
       "      <td>ChatGPT in surgery: a revolutionary innovation?</td>\n",
       "      <td>ChatGPT has brought about a new era of digital...</td>\n",
       "      <td>Bektas, Mustafa Pereira, Jaime Ken Daams, Free...</td>\n",
       "      <td>Bektas M Pereira JK Daams F van der Peet DL</td>\n",
       "      <td>2024-02-29</td>\n",
       "      <td>None</td>\n",
       "      <td>Artificial intelligence ChatGPT Surgery</td>\n",
       "      <td>Japan</td>\n",
       "      <td>Surgery today</td>\n",
       "      <td>None</td>\n",
       "      <td>NaT</td>\n",
       "      <td>NaT</td>\n",
       "      <td>Publisher</td>\n",
       "    </tr>\n",
       "    <tr>\n",
       "      <th>3</th>\n",
       "      <td>38421392</td>\n",
       "      <td>Exploring the landscape of AI-assisted decisio...</td>\n",
       "      <td>PURPOSE: Recent breakthroughs in natural langu...</td>\n",
       "      <td>Marchi, Filippo Bellini, Elisa Iandelli, Andre...</td>\n",
       "      <td>Marchi F Bellini E Iandelli A Sampieri C Peret...</td>\n",
       "      <td>2024-02-29</td>\n",
       "      <td>None</td>\n",
       "      <td>Artificial intelligence (AI) models Cancer car...</td>\n",
       "      <td>Germany</td>\n",
       "      <td>European archives of oto-rhino-laryngology : o...</td>\n",
       "      <td>None</td>\n",
       "      <td>NaT</td>\n",
       "      <td>NaT</td>\n",
       "      <td>Publisher</td>\n",
       "    </tr>\n",
       "    <tr>\n",
       "      <th>4</th>\n",
       "      <td>38421272</td>\n",
       "      <td>Artificial Intelligence, Big Data, and Regulat...</td>\n",
       "      <td>The immune system is regulated by a complex se...</td>\n",
       "      <td>Singh, Bhagirath Jevnikar, Anthony M Desjardin...</td>\n",
       "      <td>Singh B Jevnikar AM Desjardins E</td>\n",
       "      <td>2024-01-01</td>\n",
       "      <td>None</td>\n",
       "      <td>Artificial intelligence Big data Ethics of imm...</td>\n",
       "      <td>Switzerland</td>\n",
       "      <td>Archivum immunologiae et therapiae experimentalis</td>\n",
       "      <td>None</td>\n",
       "      <td>NaT</td>\n",
       "      <td>NaT</td>\n",
       "      <td>In-Process</td>\n",
       "    </tr>\n",
       "  </tbody>\n",
       "</table>\n",
       "</div>"
      ],
      "text/plain": [
       "       PMID                                                 TI  \\\n",
       "0  38421690  Promises, Pitfalls, and Clinical Applications ...   \n",
       "1  38421670  Accuracy of an Artificial Intelligence Chatbot...   \n",
       "2  38421439    ChatGPT in surgery: a revolutionary innovation?   \n",
       "3  38421392  Exploring the landscape of AI-assisted decisio...   \n",
       "4  38421272  Artificial Intelligence, Big Data, and Regulat...   \n",
       "\n",
       "                                                  AB  \\\n",
       "0  Artificial intelligence (AI) broadly describes...   \n",
       "1  IMPORTANCE: Ophthalmology is reliant on effect...   \n",
       "2  ChatGPT has brought about a new era of digital...   \n",
       "3  PURPOSE: Recent breakthroughs in natural langu...   \n",
       "4  The immune system is regulated by a complex se...   \n",
       "\n",
       "                                                 FAU  \\\n",
       "0  Bhargava, Hansa Salomon, Carmela Suresh, Srini...   \n",
       "1  Mihalache, Andrew Huang, Ryan S Popovic, Marko...   \n",
       "2  Bektas, Mustafa Pereira, Jaime Ken Daams, Free...   \n",
       "3  Marchi, Filippo Bellini, Elisa Iandelli, Andre...   \n",
       "4  Singh, Bhagirath Jevnikar, Anthony M Desjardin...   \n",
       "\n",
       "                                                  AU         DP    MH  \\\n",
       "0  Bhargava H Salomon C Suresh S Chang A Kilian R... 2024-02-29  None   \n",
       "1  Mihalache A Huang RS Popovic MM Patil NS Pandy... 2024-02-29  None   \n",
       "2        Bektas M Pereira JK Daams F van der Peet DL 2024-02-29  None   \n",
       "3  Marchi F Bellini E Iandelli A Sampieri C Peret... 2024-02-29  None   \n",
       "4                   Singh B Jevnikar AM Desjardins E 2024-01-01  None   \n",
       "\n",
       "                                                  OT             PL  \\\n",
       "0  ASD CME artificial intelligence autism autism ...         Canada   \n",
       "1                                               None  United States   \n",
       "2            Artificial intelligence ChatGPT Surgery          Japan   \n",
       "3  Artificial intelligence (AI) models Cancer car...        Germany   \n",
       "4  Artificial intelligence Big data Ethics of imm...    Switzerland   \n",
       "\n",
       "                                                  JT   PMC EDAT MHDA  \\\n",
       "0               Journal of medical Internet research  None  NaT  NaT   \n",
       "1                                 JAMA ophthalmology  None  NaT  NaT   \n",
       "2                                      Surgery today  None  NaT  NaT   \n",
       "3  European archives of oto-rhino-laryngology : o...  None  NaT  NaT   \n",
       "4  Archivum immunologiae et therapiae experimentalis  None  NaT  NaT   \n",
       "\n",
       "         STAT  \n",
       "0   Publisher  \n",
       "1   Publisher  \n",
       "2   Publisher  \n",
       "3   Publisher  \n",
       "4  In-Process  "
      ]
     },
     "execution_count": 8,
     "metadata": {},
     "output_type": "execute_result"
    }
   ],
   "source": [
    "# List of important keys based on the explanation provided\n",
    "important_keys = [\n",
    "    'PMID', 'TI', 'AB', 'FAU', 'AU', 'DP', 'MH','OT','PL', 'JT', 'PMC', \n",
    "    'EDAT', 'MHDA', 'STAT'\n",
    "]\n",
    "# Select only the columns with the important keys\n",
    "df_important = df[important_keys]\n",
    "df_important.head(5)"
   ]
  },
  {
   "cell_type": "markdown",
   "metadata": {},
   "source": []
  },
  {
   "cell_type": "markdown",
   "metadata": {},
   "source": [
    "## Parquet File (.parquet) <br>Use Case: Excellent for storing large datasets. <br> Parquet is a columnar storage file format optimized for fast retrieval of columns and efficient compression."
   ]
  },
  {
   "cell_type": "code",
   "execution_count": 9,
   "metadata": {},
   "outputs": [],
   "source": [
    "import pyarrow as pa\n",
    "file_path = os.path.join(project_dir,'data','cleanData','pubmed_intelligence_abstracts_cleaned.parquet')\n",
    "df_important.to_parquet(file_path, index=False)"
   ]
  },
  {
   "cell_type": "markdown",
   "metadata": {},
   "source": [
    "## Data loader"
   ]
  },
  {
   "cell_type": "code",
   "execution_count": 14,
   "metadata": {},
   "outputs": [
    {
     "data": {
      "text/plain": [
       "[Document(page_content='Artificial intelligence (AI) broadly describes a branch of computer science focused on developing machines capable of performing tasks typically associated with human intelligence. Those who connect AI with the world of science fiction may meet its growing rise with hesitancy or outright skepticism. However, AI is becoming increasingly pervasive in our society, from algorithms helping to sift through airline fares to substituting words in emails and SMS text messages based on user choices. Data collection is ongoing and is being leveraged by software platforms to analyze patterns and make predictions across multiple industries. Health care is gradually becoming part of this technological transformation, as advancements in computational power and storage converge with the rapid expansion of digitized medical information. Given the growing and inevitable integration of AI into health care systems, it is our viewpoint that pediatricians urgently require training and orientation to the uses, promises, and pitfalls of AI in medicine. AI is unlikely to solve the full array of complex challenges confronting pediatricians today; however, if used responsibly, it holds great potential to improve many aspects of care for providers, children, and families. Our aim in this viewpoint is to provide clinicians with a targeted introduction to the field of AI in pediatrics, including key promises, pitfalls, and clinical applications, so they can play a more active role in shaping the future impact of AI in medicine.', metadata={'PMID': '38421690', 'TI': 'Promises, Pitfalls, and Clinical Applications of Artificial Intelligence in Pediatrics.', 'FAU': 'Bhargava, Hansa Salomon, Carmela Suresh, Srinivasan Chang, Anthony Kilian, Rachel Stijn, Diana van Oriol, Albert Low, Daniel Knebel, Ashley Taraman, Sharief', 'AU': 'Bhargava H Salomon C Suresh S Chang A Kilian R Stijn DV Oriol A Low D Knebel A Taraman S', 'DP': Timestamp('2024-02-29 00:00:00'), 'MH': 'None', 'OT': 'ASD CME artificial intelligence autism autism spectrum disorder autistic barrier barriers child children clinical application clinical applications continuing education continuing medical education disparities implementation pediatric pediatrics professional development youth', 'PL': 'Canada', 'JT': 'Journal of medical Internet research', 'PMC': 'None', 'EDAT': NaT, 'MHDA': NaT, 'STAT': 'Publisher'}),\n",
       " Document(page_content=\"IMPORTANCE: Ophthalmology is reliant on effective interpretation of multimodal imaging to ensure diagnostic accuracy. The new ability of ChatGPT-4 (OpenAI) to interpret ophthalmic images has not yet been explored. OBJECTIVE: To evaluate the performance of the novel release of an artificial intelligence chatbot that is capable of processing imaging data. DESIGN, SETTING, AND PARTICIPANTS: This cross-sectional study used a publicly available dataset of ophthalmic cases from OCTCases, a medical education platform based out of the Department of Ophthalmology and Vision Sciences at the University of Toronto, with accompanying clinical multimodal imaging and multiple-choice questions. Across 137 available cases, 136 contained multiple-choice questions (99%). EXPOSURES: The chatbot answered questions requiring multimodal input from October 16 to October 23, 2023. MAIN OUTCOMES AND MEASURES: The primary outcome was the accuracy of the chatbot in answering multiple-choice questions pertaining to image recognition in ophthalmic cases, measured as the proportion of correct responses. chi2 Tests were conducted to compare the proportion of correct responses across different ophthalmic subspecialties. RESULTS: A total of 429 multiple-choice questions from 136 ophthalmic cases and 448 images were included in the analysis. The chatbot answered 299 of multiple-choice questions correctly across all cases (70%). The chatbot's performance was better on retina questions than neuro-ophthalmology questions (77% vs 58%; difference = 18%; 95% CI, 7.5%-29.4%; chi21 = 11.4; P < .001). The chatbot achieved a better performance on nonimage-based questions compared with image-based questions (82% vs 65%; difference = 17%; 95% CI, 7.8%-25.1%; chi21 = 12.2; P < .001).The chatbot performed best on questions in the retina category (77% correct) and poorest in the neuro-ophthalmology category (58% correct). The chatbot demonstrated intermediate performance on questions from the ocular oncology (72% correct), pediatric ophthalmology (68% correct), uveitis (67% correct), and glaucoma (61% correct) categories. CONCLUSIONS AND RELEVANCE: In this study, the recent version of the chatbot accurately responded to approximately two-thirds of multiple-choice questions pertaining to ophthalmic cases based on imaging interpretation. The multimodal chatbot performed better on questions that did not rely on the interpretation of imaging modalities. As the use of multimodal chatbots becomes increasingly widespread, it is imperative to stress their appropriate integration within medical contexts.\", metadata={'PMID': '38421670', 'TI': \"Accuracy of an Artificial Intelligence Chatbot's Interpretation of Clinical Ophthalmic Images.\", 'FAU': 'Mihalache, Andrew Huang, Ryan S Popovic, Marko M Patil, Nikhil S Pandya, Bhadra U Shor, Reut Pereira, Austin Kwok, Jason M Yan, Peng Wong, David T Kertes, Peter J Muni, Rajeev H', 'AU': 'Mihalache A Huang RS Popovic MM Patil NS Pandya BU Shor R Pereira A Kwok JM Yan P Wong DT Kertes PJ Muni RH', 'DP': Timestamp('2024-02-29 00:00:00'), 'MH': 'None', 'OT': 'None', 'PL': 'United States', 'JT': 'JAMA ophthalmology', 'PMC': 'None', 'EDAT': NaT, 'MHDA': NaT, 'STAT': 'Publisher'}),\n",
       " Document(page_content='ChatGPT has brought about a new era of digital health, as this model has become prominent and been rapidly developing since its release. ChatGPT may be able to facilitate improvements in surgery as well; however, the influence of ChatGPT on surgery is largely unknown at present. Therefore, the present study reports on the current applications of ChatGPT in the field of surgery, evaluating its workflow, practical implementations, limitations, and future perspectives. A literature search was performed using the PubMed and Embase databases. The initial search was performed from its inception until July 2023. This study revealed that ChatGPT has promising capabilities in areas of surgical research, education, training, and practice. In daily practice, surgeons and surgical residents can be aided in performing logistics and administrative tasks, and patients can be more efficiently informed about the details of their condition. However, priority should be given to establishing proper policies and protocols to ensure the safe and reliable use of this model.', metadata={'PMID': '38421439', 'TI': 'ChatGPT in surgery: a revolutionary innovation?', 'FAU': 'Bektas, Mustafa Pereira, Jaime Ken Daams, Freek van der Peet, Donald L', 'AU': 'Bektas M Pereira JK Daams F van der Peet DL', 'DP': Timestamp('2024-02-29 00:00:00'), 'MH': 'None', 'OT': 'Artificial intelligence ChatGPT Surgery', 'PL': 'Japan', 'JT': 'Surgery today', 'PMC': 'None', 'EDAT': NaT, 'MHDA': NaT, 'STAT': 'Publisher'}),\n",
       " Document(page_content=\"PURPOSE: Recent breakthroughs in natural language processing and machine learning, exemplified by ChatGPT, have spurred a paradigm shift in healthcare. Released by OpenAI in November 2022, ChatGPT rapidly gained global attention. Trained on massive text datasets, this large language model holds immense potential to revolutionize healthcare. However, existing literature often overlooks the need for rigorous validation and real-world applicability. METHODS: This head-to-head comparative study assesses ChatGPT's capabilities in providing therapeutic recommendations for head and neck cancers. Simulating every NCCN Guidelines scenarios. ChatGPT is queried on primary treatments, adjuvant treatment, and follow-up, with responses compared to the NCCN Guidelines. Performance metrics, including sensitivity, specificity, and F1 score, are employed for assessment. RESULTS: The study includes 68 hypothetical cases and 204 clinical scenarios. ChatGPT exhibits promising capabilities in addressing NCCN-related queries, achieving high sensitivity and overall accuracy across primary treatment, adjuvant treatment, and follow-up. The study's metrics showcase robustness in providing relevant suggestions. However, a few inaccuracies are noted, especially in primary treatment scenarios. CONCLUSION: Our study highlights the proficiency of ChatGPT in providing treatment suggestions. The model's alignment with the NCCN Guidelines sets the stage for a nuanced exploration of AI's evolving role in oncological decision support. However, challenges related to the interpretability of AI in clinical decision-making and the importance of clinicians understanding the underlying principles of AI models remain unexplored. As AI continues to advance, collaborative efforts between models and medical experts are deemed essential for unlocking new frontiers in personalized cancer care.\", metadata={'PMID': '38421392', 'TI': 'Exploring the landscape of AI-assisted decision-making in head and neck cancer treatment: a comparative analysis of NCCN guidelines and ChatGPT responses.', 'FAU': 'Marchi, Filippo Bellini, Elisa Iandelli, Andrea Sampieri, Claudio Peretti, Giorgio', 'AU': 'Marchi F Bellini E Iandelli A Sampieri C Peretti G', 'DP': Timestamp('2024-02-29 00:00:00'), 'MH': 'None', 'OT': 'Artificial intelligence (AI) models Cancer care ChatGPT Head and neck cancers Machine learning National Comprehensive Cancer Network (NCCN) Guidelines', 'PL': 'Germany', 'JT': 'European archives of oto-rhino-laryngology : official journal of the European Federation of Oto-Rhino-Laryngological Societies (EUFOS) : affiliated with the German Society for Oto-Rhino-Laryngology - Head and Neck Surgery', 'PMC': 'None', 'EDAT': NaT, 'MHDA': NaT, 'STAT': 'Publisher'}),\n",
       " Document(page_content='The immune system is regulated by a complex set of genetic, molecular, and cellular interactions. Rapid advances in the study of immunity and its network of interactions have been boosted by a spectrum of \"omics\" technologies that have generated huge amounts of data that have reached the status of big data (BD). With recent developments in artificial intelligence (AI), theoretical and clinical breakthroughs could emerge. Analyses of large data sets with AI tools will allow the formulation of new testable hypotheses open new research avenues and provide innovative strategies for regulating immunity and treating immunological diseases. This includes diagnosis and identification of rare diseases, prevention and treatment of autoimmune diseases, allergic disorders, infectious diseases, metabolomic disorders, cancer, and organ transplantation. However, ethical and regulatory challenges remain as to how these studies will be used to advance our understanding of basic immunology and how immunity might be regulated in health and disease. This will be particularly important for entities in which the complexity of interactions occurring at the same time and multiple cellular pathways have eluded conventional approaches to understanding and treatment. The analyses of BD by AI are likely to be complicated as both positive and negative outcomes of regulating immunity may have important ethical ramifications that need to be considered. We suggest there is an immediate need to develop guidelines as to how the analyses of immunological BD by AI tools should guide immune-based interventions to treat various diseases, prevent infections, and maintain health within an ethical framework.', metadata={'PMID': '38421272', 'TI': 'Artificial Intelligence, Big Data, and Regulation of Immunity: Challenges and Opportunities.', 'FAU': 'Singh, Bhagirath Jevnikar, Anthony M Desjardins, Eric', 'AU': 'Singh B Jevnikar AM Desjardins E', 'DP': Timestamp('2024-01-01 00:00:00'), 'MH': 'None', 'OT': 'Artificial intelligence Big data Ethics of immunotherapy Omics Precision medicine Regulation of immunity', 'PL': 'Switzerland', 'JT': 'Archivum immunologiae et therapiae experimentalis', 'PMC': 'None', 'EDAT': NaT, 'MHDA': NaT, 'STAT': 'In-Process'})]"
      ]
     },
     "execution_count": 14,
     "metadata": {},
     "output_type": "execute_result"
    }
   ],
   "source": [
    "from langchain_community.document_loaders import DataFrameLoader\n",
    "from langchain_community.embeddings import GPT4AllEmbeddings\n",
    "from langchain_community.vectorstores import FAISS\n",
    "from langchain.text_splitter import RecursiveCharacterTextSplitter\n",
    "from langchain_community.llms import Ollama\n",
    "from langchain_core.prompts import ChatPromptTemplate\n",
    "loader = DataFrameLoader(df_important, page_content_column=\"AB\")\n",
    "docs = loader.load()\n",
    "docs[0:5]"
   ]
  },
  {
   "cell_type": "code",
   "execution_count": 11,
   "metadata": {},
   "outputs": [],
   "source": [
    "#%pip install --upgrade --quiet  gpt4all > /dev/null"
   ]
  },
  {
   "cell_type": "markdown",
   "metadata": {},
   "source": [
    "## Generating Embeddings"
   ]
  },
  {
   "cell_type": "code",
   "execution_count": 15,
   "metadata": {},
   "outputs": [
    {
     "name": "stdout",
     "output_type": "stream",
     "text": [
      "bert_load_from_file: gguf version     = 2\n",
      "bert_load_from_file: gguf alignment   = 32\n",
      "bert_load_from_file: gguf data offset = 695552\n",
      "bert_load_from_file: model name           = BERT\n",
      "bert_load_from_file: model architecture   = bert\n",
      "bert_load_from_file: model file type      = 1\n",
      "bert_load_from_file: bert tokenizer vocab = 30522\n",
      "client=<gpt4all.gpt4all.Embed4All object at 0x2d31c78e0>\n"
     ]
    }
   ],
   "source": [
    "embeddings = GPT4AllEmbeddings()\n",
    "print(embeddings)"
   ]
  },
  {
   "cell_type": "markdown",
   "metadata": {},
   "source": []
  },
  {
   "cell_type": "markdown",
   "metadata": {},
   "source": [
    "## Create a vector store"
   ]
  },
  {
   "cell_type": "code",
   "execution_count": 16,
   "metadata": {},
   "outputs": [
    {
     "name": "stdout",
     "output_type": "stream",
     "text": [
      "Number of documents: 62158\n"
     ]
    }
   ],
   "source": [
    "text_splitter = RecursiveCharacterTextSplitter()\n",
    "documents = text_splitter.split_documents(docs)\n",
    "print(f\"Number of documents: {len(documents)}\")\n",
    "# Number of documents: 62158"
   ]
  },
  {
   "cell_type": "code",
   "execution_count": null,
   "metadata": {},
   "outputs": [],
   "source": [
    "vector = FAISS.from_documents(documents, embeddings)"
   ]
  },
  {
   "cell_type": "code",
   "execution_count": null,
   "metadata": {},
   "outputs": [],
   "source": [
    "# Save the index to disk\n",
    "vector.save_local(os.path.join(project_dir,'vectorStore'))"
   ]
  },
  {
   "cell_type": "code",
   "execution_count": 17,
   "metadata": {},
   "outputs": [],
   "source": [
    "vector = FAISS.load_local(os.path.join(project_dir,'vectorStore'), embeddings)"
   ]
  },
  {
   "cell_type": "code",
   "execution_count": 18,
   "metadata": {},
   "outputs": [
    {
     "name": "stdout",
     "output_type": "stream",
     "text": [
      "Number of vectors in the index: 62158\n",
      "Vector dimensionality: 384\n"
     ]
    }
   ],
   "source": [
    "import faiss\n",
    "# Load the FAISS index\n",
    "index = faiss.read_index(os.path.join(project_dir,'vectorStore','index.faiss'))\n",
    "\n",
    "# Print the number of vectors and their dimensionality\n",
    "print(f\"Number of vectors in the index: {index.ntotal}\")\n",
    "print(f\"Vector dimensionality: {index.d}\")"
   ]
  },
  {
   "cell_type": "markdown",
   "metadata": {},
   "source": [
    "## Load LLM Model"
   ]
  },
  {
   "cell_type": "code",
   "execution_count": 19,
   "metadata": {},
   "outputs": [],
   "source": [
    "llm = Ollama(model=\"llama2\")"
   ]
  },
  {
   "cell_type": "code",
   "execution_count": null,
   "metadata": {},
   "outputs": [],
   "source": [
    "from langchain.chains import create_retrieval_chain\n",
    "from langchain_core.documents import Document\n",
    "\n",
    "retriever = vector.as_retriever()"
   ]
  },
  {
   "cell_type": "code",
   "execution_count": 21,
   "metadata": {},
   "outputs": [],
   "source": [
    "from langchain.chains.combine_documents import create_stuff_documents_chain\n",
    "\n",
    "prompt = ChatPromptTemplate.from_template(\"\"\"Answer the following question based only on the provided context and metadata:\n",
    "\n",
    "<context>\n",
    "{context}\n",
    "</context>\n",
    "<metadata>\n",
    "{metadata}\n",
    "<metadata>\n",
    "Question: {input}\"\"\")\n",
    "\n",
    "document_chain = create_stuff_documents_chain(llm, prompt)\n",
    "\n",
    "query = \"how artificial intelligence can predict the occurrence of progressive immunoglobulin A nephropathy?\"\n",
    "documents = retriever.get_relevant_documents(query)"
   ]
  },
  {
   "cell_type": "code",
   "execution_count": 24,
   "metadata": {},
   "outputs": [
    {
     "data": {
      "text/plain": [
       "[Document(page_content='BACKGROUND: Artificial intelligence (AI) now plays a critical role in almost every area of our daily lives and academic disciplines due to the growth of computing power, advances in methods and techniques, and the explosion of the amount of data; medicine is not an exception. Rather than replacing clinicians, AI is augmenting the intelligence of clinicians in diagnosis, prognosis, and treatment decisions. SUMMARY: Kidney disease is a substantial medical and public health burden globally, with both acute kidney injury and chronic kidney disease bringing about high morbidity and mortality as well as a huge economic burden. Even though the existing research and applied works have made certain contributions to more accurate prediction and better understanding of histologic pathology, there is a lot more work to be done and problems to solve. KEY MESSAGES: AI applications of diagnostics and prognostics for high-prevalence and high-morbidity types of nephropathy in medical-resource-inadequate areas need special attention; high-volume and high-quality data need to be collected and prepared; a consensus on ethics and safety in the use of AI technologies needs to be built.', metadata={'PMID': '32021868', 'TI': \"Artificial Intelligence in Nephrology: How Can Artificial Intelligence Augment Nephrologists' Intelligence?\", 'FAU': 'Xie, Guotong Chen, Tiange Li, Yingxue Chen, Tingyu Li, Xiang Liu, Zhihong', 'AU': 'Xie G Chen T Li Y Chen T Li X Liu Z', 'DP': NaT, 'MH': 'None', 'OT': 'Artificial intelligence Big data Diagnostics and prognostics Kidney disease Treatment', 'PL': 'Switzerland', 'JT': 'Kidney diseases (Basel, Switzerland)', 'PMC': 'PMC6995978', 'EDAT': NaT, 'MHDA': NaT, 'STAT': 'PubMed-not-MEDLINE'}),\n",
       " Document(page_content='The rapid development of artificial intelligence (AI) technology, especially the progress in deep learning methods and computing power of hardware, has greatly promoted the application of AI in the field of biomedicine and nephrology. AI can predict the occurrence of acute kidney injury, identify chronic kidney disease, and assist in the analysis of kidney disease pathology, prognosis prediction and decision-making. The application of AI in the field of nephrology depends on the coordinated development of nephrology and artificial intelligence, and requires close interdisciplinary cooperation between multiple disciplines. This article describes the application and research progress of AI in nephrology and provides insights for future directions.', metadata={'PMID': '37150686', 'TI': '[Artificial intelligence: a new journey in nephrology].', 'FAU': 'Liu, Z S', 'AU': 'Liu ZS', 'DP': Timestamp('2023-05-16 00:00:00'), 'MH': 'Humans *Nephrology Artificial Intelligence *Acute Kidney Injury *Renal Insufficiency, Chronic Technology', 'OT': 'None', 'PL': 'China', 'JT': 'Zhonghua yi xue za zhi', 'PMC': 'None', 'EDAT': NaT, 'MHDA': NaT, 'STAT': 'MEDLINE'}),\n",
       " Document(page_content='Artificial intelligence is increasingly being used to improve diagnosis and prognostication for acute and chronic kidney diseases. Studies published in 2019 relied on a variety of available data sources towards this objective, including electronic health records, intraoperative physiological signals, kidney ultrasound imaging, and digitized biopsy specimens.', metadata={'PMID': '31873197', 'TI': 'Artificial intelligence approaches to improve kidney care.', 'FAU': 'Rashidi, Parisa Bihorac, Azra', 'AU': 'Rashidi P Bihorac A', 'DP': NaT, 'MH': 'Acute Kidney Injury/*epidemiology *Artificial Intelligence Biopsy Deep Learning Electronic Health Records Humans Image Interpretation, Computer-Assisted Kidney/*diagnostic imaging/*pathology Kidney Transplantation Nephrectomy Postoperative Complications/*epidemiology Renal Insufficiency, Chronic/classification/*diagnostic imaging/metabolism Transplants/pathology Ultrasonography', 'OT': 'None', 'PL': 'England', 'JT': 'Nature reviews. Nephrology', 'PMC': 'PMC7591106', 'EDAT': NaT, 'MHDA': NaT, 'STAT': 'MEDLINE'}),\n",
       " Document(page_content=\"BACKGROUND: Kidney disease progression rates vary among patients. Rapid and accurate prediction of kidney disease outcomes is crucial for disease management. In recent years, various prediction models using Machine Learning (ML) algorithms have been established in nephrology. However, their accuracy have been inconsistent. Therefore, we conducted a systematic review and meta-analysis to investigate the diagnostic accuracy of ML algorithms for kidney disease progression. METHODS: We searched PubMed, EMBASE, Cochrane Central Register of Controlled Trials, the Chinese Biomedicine Literature Database, Chinese National Knowledge Infrastructure, Wanfang Database, and the VIP Database for diagnostic studies on ML algorithms' accuracy in predicting kidney disease prognosis, from the establishment of these databases until October 2020. Two investigators independently evaluate study quality by QUADAS-2 tool and extracted data from single ML algorithm for data synthesis using the bivariate model and the hierarchical summary receiver operating characteristic (HSROC) model. RESULTS: Fifteen studies were left after screening, only 6 studies were eligible for data synthesis. The sample size of these 6 studies was 12,534, and the kidney disease types could be divided into chronic kidney disease (CKD) and Immunoglobulin A Nephropathy, with 5 articles using end-stage renal diseases occurrence as the primary outcome. The main results indicated that the area under curve (AUC) of the HSROC was 0.87 (0.84-0.90) and ML algorithm exhibited a strong specificity, 95% confidence interval and heterogeneity (I(2)) of (0.87, 0.84-0.90, [I(2) 99.0%]) and a weak sensitivity of (0.68, 0.58-0.77, [I(2) 99.7%]) in predicting kidney disease deterioration. And the the results of subgroup analysis indicated that ML algorithm's AUC for predicting CKD prognosis was 0.82 (0.79-0.85), with the pool sensitivity of (0.64, 0.49-0.77, [I(2) 99.20%]) and pool specificity of (0.84, 0.74-0.91, [I(2) 99.84%]). The ML algorithm's AUC for predicting IgA nephropathy prognosis was 0.78 (0.74-0.81), with the pool sensitivity of (0.74, 0.71-0.77, [I(2) 7.10%]) and pool specificity of (0.93, 0.91-0.95, [I(2) 83.92%]). CONCLUSION: Taking advantage of big data, ML algorithm-based prediction models have high accuracy in predicting kidney disease progression, we recommend ML algorithms as an auxiliary tool for clinicians to determine proper treatment and disease management strategies.\", metadata={'PMID': '35915457', 'TI': \"Machine learning algorithms' accuracy in predicting kidney disease progression: a systematic review and meta-analysis.\", 'FAU': 'Lei, Nuo Zhang, Xianlong Wei, Mengting Lao, Beini Xu, Xueyi Zhang, Min Chen, Huifen Xu, Yanmin Xia, Bingqing Zhang, Dingjun Dong, Chendi Fu, Lizhe Tang, Fang Wu, Yifan', 'AU': 'Lei N Zhang X Wei M Lao B Xu X Zhang M Chen H Xu Y Xia B Zhang D Dong C Fu L Tang F Wu Y', 'DP': Timestamp('2022-08-01 00:00:00'), 'MH': 'Algorithms Disease Progression Humans Kidney *Machine Learning *Renal Insufficiency, Chronic/diagnosis', 'OT': 'Artificial intelligence CKD progression Chronic kidney disease Immunoglobulin A nephropathy Machine learning algorithm Prediction models', 'PL': 'England', 'JT': 'BMC medical informatics and decision making', 'PMC': 'PMC9341041', 'EDAT': NaT, 'MHDA': NaT, 'STAT': 'MEDLINE'})]"
      ]
     },
     "execution_count": 24,
     "metadata": {},
     "output_type": "execute_result"
    }
   ],
   "source": [
    "documents"
   ]
  },
  {
   "cell_type": "code",
   "execution_count": 25,
   "metadata": {},
   "outputs": [
    {
     "name": "stdout",
     "output_type": "stream",
     "text": [
      "page_content='BACKGROUND: Artificial intelligence (AI) now plays a critical role in almost every area of our daily lives and academic disciplines due to the growth of computing power, advances in methods and techniques, and the explosion of the amount of data; medicine is not an exception. Rather than replacing clinicians, AI is augmenting the intelligence of clinicians in diagnosis, prognosis, and treatment decisions. SUMMARY: Kidney disease is a substantial medical and public health burden globally, with both acute kidney injury and chronic kidney disease bringing about high morbidity and mortality as well as a huge economic burden. Even though the existing research and applied works have made certain contributions to more accurate prediction and better understanding of histologic pathology, there is a lot more work to be done and problems to solve. KEY MESSAGES: AI applications of diagnostics and prognostics for high-prevalence and high-morbidity types of nephropathy in medical-resource-inadequate areas need special attention; high-volume and high-quality data need to be collected and prepared; a consensus on ethics and safety in the use of AI technologies needs to be built.' metadata={'PMID': '32021868', 'TI': \"Artificial Intelligence in Nephrology: How Can Artificial Intelligence Augment Nephrologists' Intelligence?\", 'FAU': 'Xie, Guotong Chen, Tiange Li, Yingxue Chen, Tingyu Li, Xiang Liu, Zhihong', 'AU': 'Xie G Chen T Li Y Chen T Li X Liu Z', 'DP': NaT, 'MH': 'None', 'OT': 'Artificial intelligence Big data Diagnostics and prognostics Kidney disease Treatment', 'PL': 'Switzerland', 'JT': 'Kidney diseases (Basel, Switzerland)', 'PMC': 'PMC6995978', 'EDAT': NaT, 'MHDA': NaT, 'STAT': 'PubMed-not-MEDLINE'}\n"
     ]
    },
    {
     "data": {
      "text/plain": [
       "{'PMID': '32021868',\n",
       " 'TI': \"Artificial Intelligence in Nephrology: How Can Artificial Intelligence Augment Nephrologists' Intelligence?\",\n",
       " 'FAU': 'Xie, Guotong Chen, Tiange Li, Yingxue Chen, Tingyu Li, Xiang Liu, Zhihong',\n",
       " 'AU': 'Xie G Chen T Li Y Chen T Li X Liu Z',\n",
       " 'DP': NaT,\n",
       " 'MH': 'None',\n",
       " 'OT': 'Artificial intelligence Big data Diagnostics and prognostics Kidney disease Treatment',\n",
       " 'PL': 'Switzerland',\n",
       " 'JT': 'Kidney diseases (Basel, Switzerland)',\n",
       " 'PMC': 'PMC6995978',\n",
       " 'EDAT': NaT,\n",
       " 'MHDA': NaT,\n",
       " 'STAT': 'PubMed-not-MEDLINE'}"
      ]
     },
     "execution_count": 25,
     "metadata": {},
     "output_type": "execute_result"
    }
   ],
   "source": [
    "context = documents[0]\n",
    "metadata = documents[0].metadata\n",
    "print(context)\n",
    "metadata"
   ]
  },
  {
   "cell_type": "code",
   "execution_count": 26,
   "metadata": {},
   "outputs": [
    {
     "data": {
      "text/plain": [
       "'Based on the provided context and metadata, the answer to the question is not explicitly mentioned. However, we can infer from the information provided that AI has the potential to predict the occurrence of progressive immunoglobulin A nephropathy through various means:\\n\\n1. Analysis of large datasets: With the growth of computing power and the explosion of data, AI algorithms can analyze vast amounts of data related to kidney disease, including demographic information, medical history, laboratory results, and imaging studies. By identifying patterns and correlations within these datasets, AI can help predict the likelihood of developing progressive immunoglobulin A nephropathy.\\n2. Machine learning techniques: Machine learning algorithms, such as decision trees, random forests, and neural networks, can learn from historical data and identify potential risk factors for progressive immunoglobulin A nephropathy. These algorithms can then be used to predict the likelihood of developing the disease based on new data inputs.\\n3. Deep learning models: Deep learning models, such as convolutional neural networks (CNNs) and recurrent neural networks (RNNs), can be trained on large datasets of medical images and clinical data to identify subtle patterns and features that may indicate the presence of progressive immunoglobulin A nephropathy.\\n4. Natural language processing: Natural language processing (NLP) techniques can be used to analyze electronic health records (EHRs), radiology reports, and other medical texts to extract relevant information related to kidney disease and predict the likelihood of developing progressive immunoglobulin A nephropathy.\\n5. Hybrid approaches: Combining different AI techniques, such as machine learning and deep learning models, can lead to more accurate predictions of progressive immunoglobulin A nephropathy. For example, a hybrid approach could use EHRs and medical imaging data to identify patients at high risk of developing the disease.\\n\\nIn summary, AI has the potential to predict the occurrence of progressive immunoglobulin A nephropathy through various means, including analyzing large datasets, using machine learning techniques, deep learning models, NLP, and hybrid approaches. However, further research is needed to validate these predictions and improve their accuracy.'"
      ]
     },
     "execution_count": 26,
     "metadata": {},
     "output_type": "execute_result"
    }
   ],
   "source": [
    "document_chain.invoke({\n",
    "    \"input\": query,\n",
    "    \"context\": [context],\n",
    "    \"metadata\": [metadata]\n",
    "})"
   ]
  },
  {
   "cell_type": "code",
   "execution_count": 46,
   "metadata": {},
   "outputs": [],
   "source": [
    "from langchain.chains import create_history_aware_retriever\n",
    "from langchain_core.prompts import MessagesPlaceholder\n",
    "from langchain_core.messages import HumanMessage, AIMessage\n",
    "\n",
    "# First we need a prompt that we can pass into an LLM to generate this search query\n",
    "\n",
    "prompt = ChatPromptTemplate.from_messages([\n",
    "    MessagesPlaceholder(variable_name=\"chat_history\"),\n",
    "    (\"system\", \"Act as Expert in Medical field by providing refrences and scientifc conclusions for user's questions based on the below context:\\n\\n{context} and metadata\"),\n",
    "    (\"user\", \"{input}\"),\n",
    "    (\"user\", '''Given the above conversation, generate a search query to look up\n",
    "      in order to get information relevant to the conversation''')\n",
    "])\n",
    "retriever_chain = create_history_aware_retriever(llm, retriever, prompt)\n",
    "\n",
    "document_chain = create_stuff_documents_chain(llm, prompt)\n",
    "\n",
    "retrieval_chain = create_retrieval_chain(retriever_chain, document_chain)"
   ]
  },
  {
   "cell_type": "code",
   "execution_count": 47,
   "metadata": {},
   "outputs": [
    {
     "data": {
      "text/plain": [
       "{'chat_history': [HumanMessage(content=''), AIMessage(content='Yes!')],\n",
       " 'input': 'where was the articles published (place of publication PL)?',\n",
       " 'context': [Document(page_content=\"INTRODUCTION: The rapid advancement of artificial intelligence and big data analytics, including descriptive, diagnostic, predictive, and prescriptive analytics, has the potential to revolutionize many areas of medicine, including nephrology and dialysis. Artificial intelligence and big data analytics can be used to analyze large amounts of patient medical records, including laboratory results and imaging studies, to improve the accuracy of diagnosis, enhance early detection, identify patterns and trends, and personalize treatment plans for patients with kidney disease. Additionally, artificial intelligence and big data analytics can be used to identify patients' treatment who are not receiving adequate care, highlighting care inefficiencies in the dialysis provider, optimizing patient outcomes, reducing healthcare costs, and consequently creating values for all the involved stakeholders. OBJECTIVES: We present the results of a comprehensive survey aimed at exploring the attitudes of European physicians from eight countries working within a major hemodialysis network (Fresenius Medical Care NephroCare) toward the application of artificial intelligence in clinical practice. METHODS: An electronic survey on the implementation of artificial intelligence in hemodialysis clinics was distributed to 1,067 physicians. Of the 1,067 individuals invited to participate in the study, 404 (37.9%) professionals agreed to participate in the survey. RESULTS: The survey showed that a substantial proportion of respondents believe that artificial intelligence has the potential to support physicians in reducing medical malpractice or mistakes. CONCLUSION: While artificial intelligence's potential benefits are recognized in reducing medical errors and improving decision-making, concerns about treatment plan consistency, personalization, privacy, and the human aspects of patient care persist. Addressing these concerns will be crucial for successfully integrating artificial intelligence solutions in nephrology practice.\", metadata={'PMID': '38008072', 'TI': \"European Nephrologists' Attitudes toward the Application of Artificial Intelligence in Clinical Practice: A Comprehensive Survey.\", 'FAU': 'Savoia, Matteo Tripepi, Giovanni Goethel-Paal, Berit Baro Salvador, Maria Eva Ponce, Pedro Voiculescu, Daniela Pachmann, Martin Jirka, Tomas Koc, Serkan Kubilay Marcinkowski, Wojciech Cioffi, Mario Neri, Luca Usvyat, Len Hymes, Jeffrey L Maddux, Franklin W Zoccali, Carmine Stuard, Stefano', 'AU': 'Savoia M Tripepi G Goethel-Paal B Baro Salvador ME Ponce P Voiculescu D Pachmann M Jirka T Koc SK Marcinkowski W Cioffi M Neri L Usvyat L Hymes JL Maddux FW Zoccali C Stuard S', 'DP': NaT, 'MH': 'Humans *Artificial Intelligence Nephrologists Renal Dialysis Surveys and Questionnaires *Nephrology', 'OT': 'Artificial intelligence Dialysis Nephrologists Survey', 'PL': 'Switzerland', 'JT': 'Blood purification', 'PMC': 'PMC10836740', 'EDAT': NaT, 'MHDA': NaT, 'STAT': 'MEDLINE'}),\n",
       "  Document(page_content='BACKGROUND: Artificial intelligence (AI) has had a significant impact on our lives and plays many roles in various fields. By analyzing the past 30 years of AI trends in the field of nephrology, using a bibliography, we wanted to know the areas of interest and future direction of AI in research related to the kidney. METHODS: Using the Institute for Scientific Information Web of Knowledge database, we searched for articles published from 1990 to 2019 in January 2020 using the keywords AI; deep learning; machine learning; and kidney (or renal). The selected articles were reviewed manually at the points of citation analysis. RESULTS: From 218 related articles, we selected the top fifty with 1188 citations in total. The most-cited article was cited 84 times and the least-cited one was cited 12 times. These articles were published in 40 journals. Expert Systems with Applications (three articles) and Kidney International (three articles) were the most cited journals. Forty articles were published in the 2010s, and seven articles were published in the 2000s. The top-fifty most cited articles originated from 17 countries; the USA contributed 16 articles, followed by Turkey with four articles. The main topics in the top fifty consisted of tumors (11), acute kidney injury (10), dialysis-related (5), kidney-transplant related (4), nephrotoxicity (4), glomerular disease (4), chronic kidney disease (3), polycystic kidney disease (2), kidney stone (2), kidney image (2), renal pathology (2), and glomerular filtration rate measure (1). CONCLUSIONS: After 2010, the interest in AI and its achievements increased enormously. To date, AIs have been investigated using data that are relatively easy to access, for example, radiologic images and laboratory results in the fields of tumor and acute kidney injury. In the near future, a deeper and wider range of information, such as genetic and personalized database, will help enrich nephrology fields with AI technology.', metadata={'PMID': '33832141', 'TI': 'Artificial intelligence with kidney disease: A scoping review with bibliometric analysis, PRISMA-ScR.', 'FAU': 'Park, Sihyung Park, Bong Soo Lee, Yoo Jin Kim, Il Hwan Park, Jin Han Ko, Junghae Kim, Yang Wook Park, Kang Min', 'AU': 'Park S Park BS Lee YJ Kim IH Park JH Ko J Kim YW Park KM', 'DP': Timestamp('2021-04-09 00:00:00'), 'MH': '*Artificial Intelligence *Bibliometrics Humans Kidney Diseases/*diagnosis/*therapy Nephrology/*methods', 'OT': 'None', 'PL': 'United States', 'JT': 'Medicine', 'PMC': 'PMC8036048', 'EDAT': NaT, 'MHDA': NaT, 'STAT': 'MEDLINE'}),\n",
       "  Document(page_content='BACKGROUND: Artificial intelligence (AI) now plays a critical role in almost every area of our daily lives and academic disciplines due to the growth of computing power, advances in methods and techniques, and the explosion of the amount of data; medicine is not an exception. Rather than replacing clinicians, AI is augmenting the intelligence of clinicians in diagnosis, prognosis, and treatment decisions. SUMMARY: Kidney disease is a substantial medical and public health burden globally, with both acute kidney injury and chronic kidney disease bringing about high morbidity and mortality as well as a huge economic burden. Even though the existing research and applied works have made certain contributions to more accurate prediction and better understanding of histologic pathology, there is a lot more work to be done and problems to solve. KEY MESSAGES: AI applications of diagnostics and prognostics for high-prevalence and high-morbidity types of nephropathy in medical-resource-inadequate areas need special attention; high-volume and high-quality data need to be collected and prepared; a consensus on ethics and safety in the use of AI technologies needs to be built.', metadata={'PMID': '32021868', 'TI': \"Artificial Intelligence in Nephrology: How Can Artificial Intelligence Augment Nephrologists' Intelligence?\", 'FAU': 'Xie, Guotong Chen, Tiange Li, Yingxue Chen, Tingyu Li, Xiang Liu, Zhihong', 'AU': 'Xie G Chen T Li Y Chen T Li X Liu Z', 'DP': NaT, 'MH': 'None', 'OT': 'Artificial intelligence Big data Diagnostics and prognostics Kidney disease Treatment', 'PL': 'Switzerland', 'JT': 'Kidney diseases (Basel, Switzerland)', 'PMC': 'PMC6995978', 'EDAT': NaT, 'MHDA': NaT, 'STAT': 'PubMed-not-MEDLINE'}),\n",
       "  Document(page_content=\"Artificial intelligence (AI) is a science that involves creating machines that can imitate human intelligence and learn. AI is ubiquitous in our daily lives, from search engines like Google to home assistants like Alexa and, more recently, OpenAI with its chatbot. AI can improve clinical care and research, but its use requires a solid understanding of its fundamentals, the promises and perils of algorithmic fairness, the barriers and solutions to its clinical implementation, and the pathways to developing an AI-competent workforce. The potential of AI in the field of nephrology is vast, particularly in the areas of diagnosis, treatment and prediction. One of the most significant advantages of AI is the ability to improve diagnostic accuracy. Machine learning algorithms can be trained to recognize patterns in patient data, including lab results, imaging and medical history, in order to identify early signs of kidney disease and thereby allow timely diagnoses and prompt initiation of treatment plans that can improve outcomes for patients. In short, AI holds the promise of advancing personalized medicine to new levels. While AI has tremendous potential, there are also significant challenges to its implementation, including data access and quality, data privacy and security, bias, trustworthiness, computing power, AI integration and legal issues. The European Commission's proposed regulatory framework for AI technology will play a significant role in ensuring the safe and ethical implementation of these technologies in the healthcare industry. Training nephrologists in the fundamentals of AI is imperative because traditionally, decision-making pertaining to the diagnosis, prognosis and treatment of renal patients has relied on ingrained practices, whereas AI serves as a powerful tool for swiftly and confidently synthesizing this information.\", metadata={'PMID': '38046016', 'TI': 'Artificial intelligence: a new field of knowledge for nephrologists?', 'FAU': 'Fayos De Arizon, Leonor Viera, Elizabeth R Pilco, Melissa Perera, Alexandre De Maeztu, Gabriel Nicolau, Anna Furlano, Monica Torra, Roser', 'AU': 'Fayos De Arizon L Viera ER Pilco M Perera A De Maeztu G Nicolau A Furlano M Torra R', 'DP': NaT, 'MH': 'None', 'OT': 'artificial intelligence kidney machine learning natural language processing nephrology', 'PL': 'England', 'JT': 'Clinical kidney journal', 'PMC': 'PMC10689169', 'EDAT': NaT, 'MHDA': NaT, 'STAT': 'PubMed-not-MEDLINE'})],\n",
       " 'answer': 'AI: The top-cited articles were published in 40 journals, with Expert Systems with Applications and Kidney International being the most cited. The USA contributed 16 articles, followed by Turkey with four articles. The main topics in the top fifty consisted of tumors (11), acute kidney injury (10), dialysis-related (5), kidney-transplant related (4), nephrotoxicity (4), glomerular disease (4), chronic kidney disease (3), polycystic kidney disease (2), kidney stone (2), kidney image (2), renal pathology (2), and glomerular filtration rate measure (1).\\n\\nBased on the conversation, you are interested in finding articles related to the use of AI in nephrology. Here is a search query you can use:\\n\\n\"AI AND NEPHROLOGY\" OR \"ARTIFICIAL INTELLIGENCE AND KIDNEY DISEASE\"\\n\\nThis should retrieve articles that discuss the application of AI in nephrology, including those related to diagnosis, treatment, and prediction.'}"
      ]
     },
     "execution_count": 47,
     "metadata": {},
     "output_type": "execute_result"
    }
   ],
   "source": [
    "query = \"where was the articles published (place of publication PL)?\"\n",
    "retriever.get_relevant_documents(query)\n",
    "chat_history = [HumanMessage(content=\"\"), AIMessage(content=\"Yes!\")]\n",
    "retrieval_chain.invoke({\n",
    "    \"chat_history\": chat_history,\n",
    "    \"input\": query,\n",
    "    \"context\": context,\n",
    "})"
   ]
  },
  {
   "cell_type": "code",
   "execution_count": null,
   "metadata": {},
   "outputs": [],
   "source": []
  }
 ],
 "metadata": {
  "kernelspec": {
   "display_name": ".venv",
   "language": "python",
   "name": "python3"
  },
  "language_info": {
   "codemirror_mode": {
    "name": "ipython",
    "version": 3
   },
   "file_extension": ".py",
   "mimetype": "text/x-python",
   "name": "python",
   "nbconvert_exporter": "python",
   "pygments_lexer": "ipython3",
   "version": "3.10.13"
  }
 },
 "nbformat": 4,
 "nbformat_minor": 2
}
