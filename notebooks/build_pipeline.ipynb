{
 "cells": [
  {
   "cell_type": "code",
   "execution_count": null,
   "metadata": {},
   "outputs": [],
   "source": [
    "'''\n",
    "pip install -U ipywidgets\n",
    "pip install pyarrow\n",
    "'''"
   ]
  },
  {
   "cell_type": "markdown",
   "metadata": {},
   "source": [
    "# Loading PubMed text files"
   ]
  },
  {
   "cell_type": "code",
   "execution_count": 1,
   "metadata": {},
   "outputs": [],
   "source": [
    "import os\n",
    "import pandas as pd\n",
    "from tqdm import tqdm\n",
    "import glob  # Import glob module\n",
    "import pyarrow.parquet as pq\n",
    "import ipywidgets as widgets\n"
   ]
  },
  {
   "cell_type": "code",
   "execution_count": 1,
   "metadata": {},
   "outputs": [
    {
     "name": "stderr",
     "output_type": "stream",
     "text": [
      "Processing raw_pubmed_intelligence_abstracts_2024.txt: 100%|██████████| 4240/4240 [00:00<00:00, 18103.00it/s]\n",
      "Processing raw_pubmed_intelligence_abstracts_2018.txt: 100%|██████████| 3341/3341 [00:00<00:00, 18878.47it/s]\n",
      "Processing raw_pubmed_intelligence_abstracts_2019.txt: 100%|██████████| 4951/4951 [00:00<00:00, 18784.53it/s]\n",
      "Processing raw_pubmed_intelligence_abstracts_2021.txt: 100%|██████████| 15221/15221 [00:00<00:00, 18181.32it/s]\n",
      "Processing raw_pubmed_intelligence_abstracts_2020.txt: 100%|██████████| 7875/7875 [00:00<00:00, 18199.60it/s]\n",
      "Processing raw_pubmed_intelligence_abstracts_2022.txt: 100%|██████████| 20748/20748 [00:01<00:00, 18192.72it/s]\n",
      "Processing raw_pubmed_intelligence_abstracts_2023.txt: 100%|██████████| 25276/25276 [00:01<00:00, 18434.16it/s]\n",
      "Processing raw_pubmed_intelligence_abstracts_2013.txt: 100%|██████████| 1660/1660 [00:00<00:00, 19909.54it/s]\n",
      "Processing raw_pubmed_intelligence_abstracts_2014.txt: 100%|██████████| 1798/1798 [00:00<00:00, 19529.00it/s]\n",
      "Processing raw_pubmed_intelligence_abstracts_2015.txt: 100%|██████████| 1974/1974 [00:00<00:00, 19198.57it/s]\n",
      "Processing raw_pubmed_intelligence_abstracts_2017.txt: 100%|██████████| 2359/2359 [00:00<00:00, 18916.92it/s]\n",
      "Processing raw_pubmed_intelligence_abstracts_2016.txt: 100%|██████████| 2011/2011 [00:00<00:00, 18366.11it/s]\n"
     ]
    }
   ],
   "source": [
    "\n",
    "# Define the project directory\n",
    "project_dir = os.path.dirname(os.getcwd())\n",
    "data_dir = os.path.join(project_dir, 'data', 'PubMed_Format')\n",
    "\n",
    "# Define articles dictionary keys\n",
    "articles_dict_keys = ['PMID', 'OWN', 'STAT', 'DCOM', 'LR', 'IS', 'VI', 'IP', 'DP', 'TI', 'PG', 'LID', 'AB', 'FAU', 'AU', 'AD', 'LA', 'GR', 'PT', 'DEP', 'PL', 'TA', 'JT', 'JID', 'SB', 'MH', 'PMC', 'MID', 'COIS', 'EDAT', 'MHDA', 'CRDT', 'PHST', 'AID', 'PST', 'SO', 'AUID', 'CIN', 'CI', 'OTO', 'OT']\n",
    "articles_dict = {key: [] for key in articles_dict_keys}\n",
    "\n",
    "# Pattern to match all relevant files\n",
    "file_pattern = os.path.join(data_dir, 'raw_pubmed_intelligence_abstracts_*.txt')\n",
    "\n",
    "# Use glob to find all files matching the pattern\n",
    "for file_path in glob.glob(file_pattern):\n",
    "    with open(file_path, 'r', encoding=\"utf-8\") as f:\n",
    "        text = f.read()\n",
    "    \n",
    "    articles = text.split(\"\\n\\n\")\n",
    "\n",
    "    for article in tqdm(articles, desc=f\"Processing {os.path.basename(file_path)}\"):\n",
    "        lines = article.split(\"\\n\")\n",
    "        dictionary = {key: [] for key in articles_dict_keys}  # Use lists to handle multiple entries\n",
    "        current_key = None  # Track the current key for lines without a new key\n",
    "\n",
    "        for line in lines:\n",
    "            if len(line) > 4 and line[4] == '-':\n",
    "                key, value = line.split(\"-\", 1)\n",
    "                key = key.strip()\n",
    "                value = value.strip()\n",
    "                if key in dictionary:\n",
    "                    dictionary[key].append(value)  # Append new values to the list\n",
    "                    current_key = key\n",
    "            elif current_key:  # Append continuation lines to the last value of the current key\n",
    "                dictionary[current_key][-1] += ' ' + line.strip()\n",
    "\n",
    "        # Flatten lists with a single value for compatibility\n",
    "        for key in articles_dict_keys:\n",
    "            articles_dict[key].append(' '.join(dictionary[key]) if dictionary[key] else None)\n",
    "\n",
    "# Create DataFrame from the aggregated data\n",
    "df = pd.DataFrame(articles_dict, columns=articles_dict_keys)"
   ]
  },
  {
   "cell_type": "markdown",
   "metadata": {},
   "source": [
    "# Data Exploration"
   ]
  },
  {
   "cell_type": "code",
   "execution_count": 2,
   "metadata": {},
   "outputs": [
    {
     "data": {
      "text/html": [
       "<div>\n",
       "<style scoped>\n",
       "    .dataframe tbody tr th:only-of-type {\n",
       "        vertical-align: middle;\n",
       "    }\n",
       "\n",
       "    .dataframe tbody tr th {\n",
       "        vertical-align: top;\n",
       "    }\n",
       "\n",
       "    .dataframe thead th {\n",
       "        text-align: right;\n",
       "    }\n",
       "</style>\n",
       "<table border=\"1\" class=\"dataframe\">\n",
       "  <thead>\n",
       "    <tr style=\"text-align: right;\">\n",
       "      <th></th>\n",
       "      <th>PMID</th>\n",
       "      <th>OWN</th>\n",
       "      <th>STAT</th>\n",
       "      <th>DCOM</th>\n",
       "      <th>LR</th>\n",
       "      <th>IS</th>\n",
       "      <th>VI</th>\n",
       "      <th>IP</th>\n",
       "      <th>DP</th>\n",
       "      <th>TI</th>\n",
       "      <th>...</th>\n",
       "      <th>CRDT</th>\n",
       "      <th>PHST</th>\n",
       "      <th>AID</th>\n",
       "      <th>PST</th>\n",
       "      <th>SO</th>\n",
       "      <th>AUID</th>\n",
       "      <th>CIN</th>\n",
       "      <th>CI</th>\n",
       "      <th>OTO</th>\n",
       "      <th>OT</th>\n",
       "    </tr>\n",
       "  </thead>\n",
       "  <tbody>\n",
       "    <tr>\n",
       "      <th>0</th>\n",
       "      <td>38421690</td>\n",
       "      <td>NLM</td>\n",
       "      <td>Publisher</td>\n",
       "      <td>None</td>\n",
       "      <td>20240229</td>\n",
       "      <td>1438-8871 (Electronic) 1438-8871 (Linking)</td>\n",
       "      <td>26</td>\n",
       "      <td>None</td>\n",
       "      <td>2024 Feb 29</td>\n",
       "      <td>Promises, Pitfalls, and Clinical Applications ...</td>\n",
       "      <td>...</td>\n",
       "      <td>2024/02/29 11:53</td>\n",
       "      <td>2024/02/29 12:46 [medline] 2024/02/29 12:46 [p...</td>\n",
       "      <td>v26i1e49022 [pii] 10.2196/49022 [doi]</td>\n",
       "      <td>epublish</td>\n",
       "      <td>J Med Internet Res. 2024 Feb 29;26:e49022. doi...</td>\n",
       "      <td>ORCID: 0009-0001-2785-3930 ORCID: 0000-0003-26...</td>\n",
       "      <td>None</td>\n",
       "      <td>(c)Hansa Bhargava, Carmela Salomon, Srinivasan...</td>\n",
       "      <td>NOTNLM</td>\n",
       "      <td>ASD CME artificial intelligence autism autism ...</td>\n",
       "    </tr>\n",
       "    <tr>\n",
       "      <th>1</th>\n",
       "      <td>38421670</td>\n",
       "      <td>NLM</td>\n",
       "      <td>Publisher</td>\n",
       "      <td>None</td>\n",
       "      <td>20240229</td>\n",
       "      <td>2168-6173 (Electronic) 2168-6165 (Linking)</td>\n",
       "      <td>None</td>\n",
       "      <td>None</td>\n",
       "      <td>2024 Feb 29</td>\n",
       "      <td>Accuracy of an Artificial Intelligence Chatbot...</td>\n",
       "      <td>...</td>\n",
       "      <td>2024/02/29 11:33</td>\n",
       "      <td>2024/02/29 12:43 [medline] 2024/02/29 12:43 [p...</td>\n",
       "      <td>2815697 [pii] 10.1001/jamaophthalmol.2024.0017...</td>\n",
       "      <td>aheadofprint</td>\n",
       "      <td>JAMA Ophthalmol. 2024 Feb 29. doi: 10.1001/jam...</td>\n",
       "      <td>None</td>\n",
       "      <td>None</td>\n",
       "      <td>None</td>\n",
       "      <td>None</td>\n",
       "      <td>None</td>\n",
       "    </tr>\n",
       "    <tr>\n",
       "      <th>2</th>\n",
       "      <td>38421439</td>\n",
       "      <td>NLM</td>\n",
       "      <td>Publisher</td>\n",
       "      <td>None</td>\n",
       "      <td>20240229</td>\n",
       "      <td>1436-2813 (Electronic) 0941-1291 (Linking)</td>\n",
       "      <td>None</td>\n",
       "      <td>None</td>\n",
       "      <td>2024 Feb 29</td>\n",
       "      <td>ChatGPT in surgery: a revolutionary innovation?</td>\n",
       "      <td>...</td>\n",
       "      <td>2024/02/29 11:07</td>\n",
       "      <td>2024/02/29 12:46 [medline] 2024/02/29 12:46 [p...</td>\n",
       "      <td>10.1007/s00595-024-02800-6 [pii] 10.1007/s0059...</td>\n",
       "      <td>aheadofprint</td>\n",
       "      <td>Surg Today. 2024 Feb 29. doi: 10.1007/s00595-0...</td>\n",
       "      <td>None</td>\n",
       "      <td>None</td>\n",
       "      <td>(c) 2024. The Author(s).</td>\n",
       "      <td>NOTNLM</td>\n",
       "      <td>Artificial intelligence ChatGPT Surgery</td>\n",
       "    </tr>\n",
       "    <tr>\n",
       "      <th>3</th>\n",
       "      <td>38421392</td>\n",
       "      <td>NLM</td>\n",
       "      <td>Publisher</td>\n",
       "      <td>None</td>\n",
       "      <td>20240229</td>\n",
       "      <td>1434-4726 (Electronic) 0937-4477 (Linking)</td>\n",
       "      <td>None</td>\n",
       "      <td>None</td>\n",
       "      <td>2024 Feb 29</td>\n",
       "      <td>Exploring the landscape of AI-assisted decisio...</td>\n",
       "      <td>...</td>\n",
       "      <td>2024/02/29 11:05</td>\n",
       "      <td>2024/02/29 12:42 [medline] 2024/02/29 12:42 [p...</td>\n",
       "      <td>10.1007/s00405-024-08525-z [pii] 10.1007/s0040...</td>\n",
       "      <td>aheadofprint</td>\n",
       "      <td>Eur Arch Otorhinolaryngol. 2024 Feb 29. doi: 1...</td>\n",
       "      <td>ORCID: 0000-0003-0957-8354</td>\n",
       "      <td>None</td>\n",
       "      <td>(c) 2024. The Author(s), under exclusive licen...</td>\n",
       "      <td>NOTNLM</td>\n",
       "      <td>Artificial intelligence (AI) models Cancer car...</td>\n",
       "    </tr>\n",
       "    <tr>\n",
       "      <th>4</th>\n",
       "      <td>38421272</td>\n",
       "      <td>NLM</td>\n",
       "      <td>In-Process</td>\n",
       "      <td>None</td>\n",
       "      <td>20240229</td>\n",
       "      <td>1661-4917 (Electronic) 0004-069X (Linking)</td>\n",
       "      <td>72</td>\n",
       "      <td>1</td>\n",
       "      <td>2024 Jan 1</td>\n",
       "      <td>Artificial Intelligence, Big Data, and Regulat...</td>\n",
       "      <td>...</td>\n",
       "      <td>2024/02/29 09:53</td>\n",
       "      <td>2024/02/29 12:45 [medline] 2024/02/29 12:45 [p...</td>\n",
       "      <td>aite-2024-0006 [pii] 10.2478/aite-2024-0006 [doi]</td>\n",
       "      <td>epublish</td>\n",
       "      <td>Arch Immunol Ther Exp (Warsz). 2024 Feb 29;72(...</td>\n",
       "      <td>ORCID: 0000-0002-9792-8694 ORCID: 0000-0002-33...</td>\n",
       "      <td>None</td>\n",
       "      <td>(c) 2024 Bhagirath Singh et al., published by ...</td>\n",
       "      <td>NOTNLM</td>\n",
       "      <td>Artificial intelligence Big data Ethics of imm...</td>\n",
       "    </tr>\n",
       "  </tbody>\n",
       "</table>\n",
       "<p>5 rows × 41 columns</p>\n",
       "</div>"
      ],
      "text/plain": [
       "       PMID  OWN        STAT  DCOM        LR  \\\n",
       "0  38421690  NLM   Publisher  None  20240229   \n",
       "1  38421670  NLM   Publisher  None  20240229   \n",
       "2  38421439  NLM   Publisher  None  20240229   \n",
       "3  38421392  NLM   Publisher  None  20240229   \n",
       "4  38421272  NLM  In-Process  None  20240229   \n",
       "\n",
       "                                           IS    VI    IP           DP  \\\n",
       "0  1438-8871 (Electronic) 1438-8871 (Linking)    26  None  2024 Feb 29   \n",
       "1  2168-6173 (Electronic) 2168-6165 (Linking)  None  None  2024 Feb 29   \n",
       "2  1436-2813 (Electronic) 0941-1291 (Linking)  None  None  2024 Feb 29   \n",
       "3  1434-4726 (Electronic) 0937-4477 (Linking)  None  None  2024 Feb 29   \n",
       "4  1661-4917 (Electronic) 0004-069X (Linking)    72     1   2024 Jan 1   \n",
       "\n",
       "                                                  TI  ...              CRDT  \\\n",
       "0  Promises, Pitfalls, and Clinical Applications ...  ...  2024/02/29 11:53   \n",
       "1  Accuracy of an Artificial Intelligence Chatbot...  ...  2024/02/29 11:33   \n",
       "2    ChatGPT in surgery: a revolutionary innovation?  ...  2024/02/29 11:07   \n",
       "3  Exploring the landscape of AI-assisted decisio...  ...  2024/02/29 11:05   \n",
       "4  Artificial Intelligence, Big Data, and Regulat...  ...  2024/02/29 09:53   \n",
       "\n",
       "                                                PHST  \\\n",
       "0  2024/02/29 12:46 [medline] 2024/02/29 12:46 [p...   \n",
       "1  2024/02/29 12:43 [medline] 2024/02/29 12:43 [p...   \n",
       "2  2024/02/29 12:46 [medline] 2024/02/29 12:46 [p...   \n",
       "3  2024/02/29 12:42 [medline] 2024/02/29 12:42 [p...   \n",
       "4  2024/02/29 12:45 [medline] 2024/02/29 12:45 [p...   \n",
       "\n",
       "                                                 AID           PST  \\\n",
       "0              v26i1e49022 [pii] 10.2196/49022 [doi]      epublish   \n",
       "1  2815697 [pii] 10.1001/jamaophthalmol.2024.0017...  aheadofprint   \n",
       "2  10.1007/s00595-024-02800-6 [pii] 10.1007/s0059...  aheadofprint   \n",
       "3  10.1007/s00405-024-08525-z [pii] 10.1007/s0040...  aheadofprint   \n",
       "4  aite-2024-0006 [pii] 10.2478/aite-2024-0006 [doi]      epublish   \n",
       "\n",
       "                                                  SO  \\\n",
       "0  J Med Internet Res. 2024 Feb 29;26:e49022. doi...   \n",
       "1  JAMA Ophthalmol. 2024 Feb 29. doi: 10.1001/jam...   \n",
       "2  Surg Today. 2024 Feb 29. doi: 10.1007/s00595-0...   \n",
       "3  Eur Arch Otorhinolaryngol. 2024 Feb 29. doi: 1...   \n",
       "4  Arch Immunol Ther Exp (Warsz). 2024 Feb 29;72(...   \n",
       "\n",
       "                                                AUID   CIN  \\\n",
       "0  ORCID: 0009-0001-2785-3930 ORCID: 0000-0003-26...  None   \n",
       "1                                               None  None   \n",
       "2                                               None  None   \n",
       "3                         ORCID: 0000-0003-0957-8354  None   \n",
       "4  ORCID: 0000-0002-9792-8694 ORCID: 0000-0002-33...  None   \n",
       "\n",
       "                                                  CI     OTO  \\\n",
       "0  (c)Hansa Bhargava, Carmela Salomon, Srinivasan...  NOTNLM   \n",
       "1                                               None    None   \n",
       "2                           (c) 2024. The Author(s).  NOTNLM   \n",
       "3  (c) 2024. The Author(s), under exclusive licen...  NOTNLM   \n",
       "4  (c) 2024 Bhagirath Singh et al., published by ...  NOTNLM   \n",
       "\n",
       "                                                  OT  \n",
       "0  ASD CME artificial intelligence autism autism ...  \n",
       "1                                               None  \n",
       "2            Artificial intelligence ChatGPT Surgery  \n",
       "3  Artificial intelligence (AI) models Cancer car...  \n",
       "4  Artificial intelligence Big data Ethics of imm...  \n",
       "\n",
       "[5 rows x 41 columns]"
      ]
     },
     "execution_count": 2,
     "metadata": {},
     "output_type": "execute_result"
    }
   ],
   "source": [
    "df.head(5)"
   ]
  },
  {
   "cell_type": "code",
   "execution_count": 3,
   "metadata": {},
   "outputs": [
    {
     "name": "stdout",
     "output_type": "stream",
     "text": [
      "Total number of rows: 91454 x 41\n"
     ]
    }
   ],
   "source": [
    "# print the total number of rows and columns\n",
    "print(f\"Total number of rows: {df.shape[0]} x {df.shape[1]}\")"
   ]
  },
  {
   "cell_type": "code",
   "execution_count": 4,
   "metadata": {},
   "outputs": [
    {
     "data": {
      "text/plain": [
       "PMID    object\n",
       "OWN     object\n",
       "STAT    object\n",
       "DCOM    object\n",
       "LR      object\n",
       "IS      object\n",
       "VI      object\n",
       "IP      object\n",
       "DP      object\n",
       "TI      object\n",
       "PG      object\n",
       "LID     object\n",
       "AB      object\n",
       "FAU     object\n",
       "AU      object\n",
       "AD      object\n",
       "LA      object\n",
       "GR      object\n",
       "PT      object\n",
       "DEP     object\n",
       "PL      object\n",
       "TA      object\n",
       "JT      object\n",
       "JID     object\n",
       "SB      object\n",
       "MH      object\n",
       "PMC     object\n",
       "MID     object\n",
       "COIS    object\n",
       "EDAT    object\n",
       "MHDA    object\n",
       "CRDT    object\n",
       "PHST    object\n",
       "AID     object\n",
       "PST     object\n",
       "SO      object\n",
       "AUID    object\n",
       "CIN     object\n",
       "CI      object\n",
       "OTO     object\n",
       "OT      object\n",
       "dtype: object"
      ]
     },
     "execution_count": 4,
     "metadata": {},
     "output_type": "execute_result"
    }
   ],
   "source": [
    "# display columns data types\n",
    "df.dtypes"
   ]
  },
  {
   "cell_type": "code",
   "execution_count": 5,
   "metadata": {},
   "outputs": [
    {
     "name": "stdout",
     "output_type": "stream",
     "text": [
      "Number of missing values in AB column: 6371\n",
      "Number of articles after dropping missing values in AB column: 85083\n",
      "Number of duplicate PMIDs: 23074\n",
      "Number of articles after dropping duplicates: 62009\n"
     ]
    }
   ],
   "source": [
    "# check for missing values in AB column\n",
    "print(f\"Number of missing values in AB column: {df['AB'].isnull().sum()}\")\n",
    "\n",
    "# drop rows with missing values in AB column\n",
    "df = df.dropna(subset=['AB'])\n",
    "print(f\"Number of articles after dropping missing values in AB column: {df.shape[0]}\")\n",
    "\n",
    "# find total number of duplicates in PMID column\n",
    "print(f\"Number of duplicate PMIDs: {df['PMID'].duplicated().sum()}\")\n",
    "\n",
    "# drop duplicates\n",
    "df = df.drop_duplicates(subset=['PMID'])\n",
    "print(f\"Number of articles after dropping duplicates: {df.shape[0]}\")\n",
    "\n",
    "# df = df.reset_index(drop=True)"
   ]
  },
  {
   "cell_type": "markdown",
   "metadata": {},
   "source": [
    "# Convert columns data type"
   ]
  },
  {
   "cell_type": "code",
   "execution_count": 6,
   "metadata": {},
   "outputs": [],
   "source": [
    "# Convert PMID to string\n",
    "df['PMID'] = df['PMID'].astype(str)\n",
    "\n",
    "\n",
    "# convert Titles, Abstracts to string\n",
    "df['TI'] = df['TI'].astype(str)\n",
    "df['AB'] = df['AB'].astype(str)\n",
    "\n",
    "# Full Author Names and Abbreviated Author Names to string\n",
    "df['FAU'] = df['FAU'].astype(str)\n",
    "df['AU'] = df['AU'].astype(str)\n",
    "\n",
    "# MeSH Terms and Other Terms (OT) to string\n",
    "df['MH'] = df['MH'].astype(str)\n",
    "df['OT'] = df['OT'].astype(str)\n",
    "\n",
    "# Place of Publication to string\n",
    "df['PL'] = df['PL'].astype(str) \n",
    "\n",
    "# Journal Title to string\n",
    "df['JT'] = df['JT'].astype(str)\n",
    "\n",
    "# PubMed Central ID\n",
    "df['PMC'] = df['PMC'].astype(str)\n",
    "\n",
    "# Convert DP, EDAT, and MHDA to datetime64\n",
    "df['DP'] = pd.to_datetime(df['DP'], errors='coerce')  # Coerce errors in case of invalid dates\n",
    "df['EDAT'] = pd.to_datetime(df['EDAT'], format='%Y/%m/%d', errors='coerce')\n",
    "df['MHDA'] = pd.to_datetime(df['MHDA'], format='%Y/%m/%d', errors='coerce')"
   ]
  },
  {
   "cell_type": "code",
   "execution_count": 7,
   "metadata": {},
   "outputs": [
    {
     "data": {
      "text/plain": [
       "PMID\n",
       "38421690    1\n",
       "37255522    1\n",
       "37274299    1\n",
       "37274276    1\n",
       "37274142    1\n",
       "           ..\n",
       "34773485    1\n",
       "34773465    1\n",
       "34773361    1\n",
       "34773156    1\n",
       "25308198    1\n",
       "Name: count, Length: 62009, dtype: int64"
      ]
     },
     "execution_count": 7,
     "metadata": {},
     "output_type": "execute_result"
    }
   ],
   "source": [
    "df['PMID'].value_counts()"
   ]
  },
  {
   "cell_type": "code",
   "execution_count": 8,
   "metadata": {},
   "outputs": [
    {
     "data": {
      "text/html": [
       "<div>\n",
       "<style scoped>\n",
       "    .dataframe tbody tr th:only-of-type {\n",
       "        vertical-align: middle;\n",
       "    }\n",
       "\n",
       "    .dataframe tbody tr th {\n",
       "        vertical-align: top;\n",
       "    }\n",
       "\n",
       "    .dataframe thead th {\n",
       "        text-align: right;\n",
       "    }\n",
       "</style>\n",
       "<table border=\"1\" class=\"dataframe\">\n",
       "  <thead>\n",
       "    <tr style=\"text-align: right;\">\n",
       "      <th></th>\n",
       "      <th>PMID</th>\n",
       "      <th>TI</th>\n",
       "      <th>AB</th>\n",
       "      <th>FAU</th>\n",
       "      <th>AU</th>\n",
       "      <th>DP</th>\n",
       "      <th>MH</th>\n",
       "      <th>OT</th>\n",
       "      <th>PL</th>\n",
       "      <th>JT</th>\n",
       "      <th>PMC</th>\n",
       "      <th>EDAT</th>\n",
       "      <th>MHDA</th>\n",
       "      <th>STAT</th>\n",
       "    </tr>\n",
       "  </thead>\n",
       "  <tbody>\n",
       "    <tr>\n",
       "      <th>0</th>\n",
       "      <td>38421690</td>\n",
       "      <td>Promises, Pitfalls, and Clinical Applications ...</td>\n",
       "      <td>Artificial intelligence (AI) broadly describes...</td>\n",
       "      <td>Bhargava, Hansa Salomon, Carmela Suresh, Srini...</td>\n",
       "      <td>Bhargava H Salomon C Suresh S Chang A Kilian R...</td>\n",
       "      <td>2024-02-29</td>\n",
       "      <td>None</td>\n",
       "      <td>ASD CME artificial intelligence autism autism ...</td>\n",
       "      <td>Canada</td>\n",
       "      <td>Journal of medical Internet research</td>\n",
       "      <td>None</td>\n",
       "      <td>NaT</td>\n",
       "      <td>NaT</td>\n",
       "      <td>Publisher</td>\n",
       "    </tr>\n",
       "    <tr>\n",
       "      <th>1</th>\n",
       "      <td>38421670</td>\n",
       "      <td>Accuracy of an Artificial Intelligence Chatbot...</td>\n",
       "      <td>IMPORTANCE: Ophthalmology is reliant on effect...</td>\n",
       "      <td>Mihalache, Andrew Huang, Ryan S Popovic, Marko...</td>\n",
       "      <td>Mihalache A Huang RS Popovic MM Patil NS Pandy...</td>\n",
       "      <td>2024-02-29</td>\n",
       "      <td>None</td>\n",
       "      <td>None</td>\n",
       "      <td>United States</td>\n",
       "      <td>JAMA ophthalmology</td>\n",
       "      <td>None</td>\n",
       "      <td>NaT</td>\n",
       "      <td>NaT</td>\n",
       "      <td>Publisher</td>\n",
       "    </tr>\n",
       "    <tr>\n",
       "      <th>2</th>\n",
       "      <td>38421439</td>\n",
       "      <td>ChatGPT in surgery: a revolutionary innovation?</td>\n",
       "      <td>ChatGPT has brought about a new era of digital...</td>\n",
       "      <td>Bektas, Mustafa Pereira, Jaime Ken Daams, Free...</td>\n",
       "      <td>Bektas M Pereira JK Daams F van der Peet DL</td>\n",
       "      <td>2024-02-29</td>\n",
       "      <td>None</td>\n",
       "      <td>Artificial intelligence ChatGPT Surgery</td>\n",
       "      <td>Japan</td>\n",
       "      <td>Surgery today</td>\n",
       "      <td>None</td>\n",
       "      <td>NaT</td>\n",
       "      <td>NaT</td>\n",
       "      <td>Publisher</td>\n",
       "    </tr>\n",
       "    <tr>\n",
       "      <th>3</th>\n",
       "      <td>38421392</td>\n",
       "      <td>Exploring the landscape of AI-assisted decisio...</td>\n",
       "      <td>PURPOSE: Recent breakthroughs in natural langu...</td>\n",
       "      <td>Marchi, Filippo Bellini, Elisa Iandelli, Andre...</td>\n",
       "      <td>Marchi F Bellini E Iandelli A Sampieri C Peret...</td>\n",
       "      <td>2024-02-29</td>\n",
       "      <td>None</td>\n",
       "      <td>Artificial intelligence (AI) models Cancer car...</td>\n",
       "      <td>Germany</td>\n",
       "      <td>European archives of oto-rhino-laryngology : o...</td>\n",
       "      <td>None</td>\n",
       "      <td>NaT</td>\n",
       "      <td>NaT</td>\n",
       "      <td>Publisher</td>\n",
       "    </tr>\n",
       "    <tr>\n",
       "      <th>4</th>\n",
       "      <td>38421272</td>\n",
       "      <td>Artificial Intelligence, Big Data, and Regulat...</td>\n",
       "      <td>The immune system is regulated by a complex se...</td>\n",
       "      <td>Singh, Bhagirath Jevnikar, Anthony M Desjardin...</td>\n",
       "      <td>Singh B Jevnikar AM Desjardins E</td>\n",
       "      <td>2024-01-01</td>\n",
       "      <td>None</td>\n",
       "      <td>Artificial intelligence Big data Ethics of imm...</td>\n",
       "      <td>Switzerland</td>\n",
       "      <td>Archivum immunologiae et therapiae experimentalis</td>\n",
       "      <td>None</td>\n",
       "      <td>NaT</td>\n",
       "      <td>NaT</td>\n",
       "      <td>In-Process</td>\n",
       "    </tr>\n",
       "  </tbody>\n",
       "</table>\n",
       "</div>"
      ],
      "text/plain": [
       "       PMID                                                 TI  \\\n",
       "0  38421690  Promises, Pitfalls, and Clinical Applications ...   \n",
       "1  38421670  Accuracy of an Artificial Intelligence Chatbot...   \n",
       "2  38421439    ChatGPT in surgery: a revolutionary innovation?   \n",
       "3  38421392  Exploring the landscape of AI-assisted decisio...   \n",
       "4  38421272  Artificial Intelligence, Big Data, and Regulat...   \n",
       "\n",
       "                                                  AB  \\\n",
       "0  Artificial intelligence (AI) broadly describes...   \n",
       "1  IMPORTANCE: Ophthalmology is reliant on effect...   \n",
       "2  ChatGPT has brought about a new era of digital...   \n",
       "3  PURPOSE: Recent breakthroughs in natural langu...   \n",
       "4  The immune system is regulated by a complex se...   \n",
       "\n",
       "                                                 FAU  \\\n",
       "0  Bhargava, Hansa Salomon, Carmela Suresh, Srini...   \n",
       "1  Mihalache, Andrew Huang, Ryan S Popovic, Marko...   \n",
       "2  Bektas, Mustafa Pereira, Jaime Ken Daams, Free...   \n",
       "3  Marchi, Filippo Bellini, Elisa Iandelli, Andre...   \n",
       "4  Singh, Bhagirath Jevnikar, Anthony M Desjardin...   \n",
       "\n",
       "                                                  AU         DP    MH  \\\n",
       "0  Bhargava H Salomon C Suresh S Chang A Kilian R... 2024-02-29  None   \n",
       "1  Mihalache A Huang RS Popovic MM Patil NS Pandy... 2024-02-29  None   \n",
       "2        Bektas M Pereira JK Daams F van der Peet DL 2024-02-29  None   \n",
       "3  Marchi F Bellini E Iandelli A Sampieri C Peret... 2024-02-29  None   \n",
       "4                   Singh B Jevnikar AM Desjardins E 2024-01-01  None   \n",
       "\n",
       "                                                  OT             PL  \\\n",
       "0  ASD CME artificial intelligence autism autism ...         Canada   \n",
       "1                                               None  United States   \n",
       "2            Artificial intelligence ChatGPT Surgery          Japan   \n",
       "3  Artificial intelligence (AI) models Cancer car...        Germany   \n",
       "4  Artificial intelligence Big data Ethics of imm...    Switzerland   \n",
       "\n",
       "                                                  JT   PMC EDAT MHDA  \\\n",
       "0               Journal of medical Internet research  None  NaT  NaT   \n",
       "1                                 JAMA ophthalmology  None  NaT  NaT   \n",
       "2                                      Surgery today  None  NaT  NaT   \n",
       "3  European archives of oto-rhino-laryngology : o...  None  NaT  NaT   \n",
       "4  Archivum immunologiae et therapiae experimentalis  None  NaT  NaT   \n",
       "\n",
       "         STAT  \n",
       "0   Publisher  \n",
       "1   Publisher  \n",
       "2   Publisher  \n",
       "3   Publisher  \n",
       "4  In-Process  "
      ]
     },
     "execution_count": 8,
     "metadata": {},
     "output_type": "execute_result"
    }
   ],
   "source": [
    "# List of important keys based on the explanation provided\n",
    "important_keys = [\n",
    "    'PMID', 'TI', 'AB', 'FAU', 'AU', 'DP', 'MH','OT','PL', 'JT', 'PMC', \n",
    "    'EDAT', 'MHDA', 'STAT'\n",
    "]\n",
    "# Select only the columns with the important keys\n",
    "df_important = df[important_keys]\n",
    "df_important.head(5)"
   ]
  },
  {
   "cell_type": "markdown",
   "metadata": {},
   "source": []
  },
  {
   "cell_type": "markdown",
   "metadata": {},
   "source": [
    " Parquet File (.parquet) <br>Use Case: Excellent for storing large datasets. <br> Parquet is a columnar storage file format optimized for fast retrieval of columns and efficient compression."
   ]
  },
  {
   "cell_type": "code",
   "execution_count": 9,
   "metadata": {},
   "outputs": [],
   "source": [
    "import pyarrow as pa\n",
    "file_path = os.path.join(project_dir,'data','cleanData','pubmed_intelligence_abstracts_cleaned.parquet')\n",
    "df_important.to_parquet(file_path, index=False)"
   ]
  },
  {
   "cell_type": "markdown",
   "metadata": {},
   "source": [
    "## Data loader"
   ]
  },
  {
   "cell_type": "code",
   "execution_count": 2,
   "metadata": {},
   "outputs": [],
   "source": [
    "from langchain_community.document_loaders import DataFrameLoader\n",
    "from langchain_community.embeddings import GPT4AllEmbeddings\n",
    "from langchain_community.vectorstores import FAISS\n",
    "from langchain.text_splitter import RecursiveCharacterTextSplitter\n",
    "from langchain_community.llms import Ollama\n",
    "from langchain_core.prompts import ChatPromptTemplate\n",
    "import os\n",
    "from langchain.chains import create_retrieval_chain\n",
    "from langchain_core.documents import Document\n",
    "from langchain.chains.combine_documents import create_stuff_documents_chain\n"
   ]
  },
  {
   "cell_type": "code",
   "execution_count": 11,
   "metadata": {},
   "outputs": [],
   "source": [
    "#%pip install --upgrade --quiet  gpt4all > /dev/null"
   ]
  },
  {
   "cell_type": "code",
   "execution_count": null,
   "metadata": {},
   "outputs": [],
   "source": [
    "loader = DataFrameLoader(df_important, page_content_column=\"AB\")\n",
    "docs = loader.load()\n",
    "docs[0:5]\n"
   ]
  },
  {
   "cell_type": "markdown",
   "metadata": {},
   "source": [
    "## Generating Embeddings"
   ]
  },
  {
   "cell_type": "code",
   "execution_count": 64,
   "metadata": {},
   "outputs": [
    {
     "name": "stdout",
     "output_type": "stream",
     "text": [
      "bert_load_from_file: gguf version     = 2\n",
      "bert_load_from_file: gguf alignment   = 32\n",
      "bert_load_from_file: gguf data offset = 695552\n",
      "bert_load_from_file: model name           = BERT\n",
      "bert_load_from_file: model architecture   = bert\n",
      "bert_load_from_file: model file type      = 1\n",
      "bert_load_from_file: bert tokenizer vocab = 30522\n"
     ]
    }
   ],
   "source": [
    "# Create a GPT4AllEmbeddings object\n",
    "embeddings = GPT4AllEmbeddings()"
   ]
  },
  {
   "cell_type": "markdown",
   "metadata": {},
   "source": [
    "## Create a vector store"
   ]
  },
  {
   "cell_type": "code",
   "execution_count": 16,
   "metadata": {},
   "outputs": [
    {
     "name": "stdout",
     "output_type": "stream",
     "text": [
      "Number of documents: 62158\n"
     ]
    }
   ],
   "source": [
    "text_splitter = RecursiveCharacterTextSplitter()\n",
    "documents = text_splitter.split_documents(docs)\n",
    "print(f\"Number of documents: {len(documents)}\")\n",
    "# Number of documents: 62158"
   ]
  },
  {
   "cell_type": "code",
   "execution_count": null,
   "metadata": {},
   "outputs": [],
   "source": [
    "vector = FAISS.from_documents(documents, embeddings)"
   ]
  },
  {
   "cell_type": "code",
   "execution_count": null,
   "metadata": {},
   "outputs": [],
   "source": [
    "# Save the index to disk\n",
    "vector.save_local(os.path.join(project_dir,'vectorStore'))"
   ]
  },
  {
   "cell_type": "code",
   "execution_count": 5,
   "metadata": {},
   "outputs": [],
   "source": [
    "vector = FAISS.load_local(os.path.join('vectorStore'), embeddings)"
   ]
  },
  {
   "cell_type": "code",
   "execution_count": 4,
   "metadata": {},
   "outputs": [],
   "source": [
    "#change the directory to this file's parent directory\n",
    "__file__ = 'build_pipeline.ipynb'\n",
    "#change the directory to this file's parent directory\n",
    "os.chdir(os.path.dirname(os.path.dirname(os.path.abspath(__file__))))\n"
   ]
  },
  {
   "cell_type": "code",
   "execution_count": 6,
   "metadata": {},
   "outputs": [
    {
     "name": "stdout",
     "output_type": "stream",
     "text": [
      "Number of vectors in the index: 62158\n",
      "Vector dimensionality: 384\n"
     ]
    }
   ],
   "source": [
    "import faiss\n",
    "# Load the FAISS index\n",
    "index = faiss.read_index(os.path.join('vectorStore','index.faiss'))\n",
    "\n",
    "# Print the number of vectors and their dimensionality\n",
    "print(f\"Number of vectors in the index: {index.ntotal}\")\n",
    "print(f\"Vector dimensionality: {index.d}\")"
   ]
  },
  {
   "cell_type": "markdown",
   "metadata": {},
   "source": [
    "## Load LLM Model"
   ]
  },
  {
   "cell_type": "code",
   "execution_count": 7,
   "metadata": {},
   "outputs": [],
   "source": [
    "llm = Ollama(model=\"llama2\")"
   ]
  },
  {
   "cell_type": "code",
   "execution_count": 8,
   "metadata": {},
   "outputs": [],
   "source": [
    "\n",
    "retriever = vector.as_retriever()"
   ]
  },
  {
   "cell_type": "code",
   "execution_count": 9,
   "metadata": {},
   "outputs": [],
   "source": [
    "\n",
    "prompt = ChatPromptTemplate.from_template(\"\"\"Answer the following question based only on the provided context and metadata:\n",
    "\n",
    "<context>\n",
    "{context}\n",
    "</context>\n",
    "<metadata>\n",
    "{metadata}\n",
    "<metadata>\n",
    "Question: {input}\"\"\")\n",
    "\n",
    "document_chain = create_stuff_documents_chain(llm, prompt)\n",
    "\n",
    "query = \"how artificial intelligence can predict the occurrence of progressive immunoglobulin A nephropathy?\"\n",
    "documents = retriever.get_relevant_documents(query)"
   ]
  },
  {
   "cell_type": "code",
   "execution_count": 22,
   "metadata": {},
   "outputs": [
    {
     "data": {
      "text/plain": [
       "[Document(page_content='BACKGROUND: Artificial intelligence (AI) now plays a critical role in almost every area of our daily lives and academic disciplines due to the growth of computing power, advances in methods and techniques, and the explosion of the amount of data; medicine is not an exception. Rather than replacing clinicians, AI is augmenting the intelligence of clinicians in diagnosis, prognosis, and treatment decisions. SUMMARY: Kidney disease is a substantial medical and public health burden globally, with both acute kidney injury and chronic kidney disease bringing about high morbidity and mortality as well as a huge economic burden. Even though the existing research and applied works have made certain contributions to more accurate prediction and better understanding of histologic pathology, there is a lot more work to be done and problems to solve. KEY MESSAGES: AI applications of diagnostics and prognostics for high-prevalence and high-morbidity types of nephropathy in medical-resource-inadequate areas need special attention; high-volume and high-quality data need to be collected and prepared; a consensus on ethics and safety in the use of AI technologies needs to be built.', metadata={'PMID': '32021868', 'TI': \"Artificial Intelligence in Nephrology: How Can Artificial Intelligence Augment Nephrologists' Intelligence?\", 'FAU': 'Xie, Guotong Chen, Tiange Li, Yingxue Chen, Tingyu Li, Xiang Liu, Zhihong', 'AU': 'Xie G Chen T Li Y Chen T Li X Liu Z', 'DP': '2020 Jan', 'MH': 'no information', 'OT': 'Artificial intelligence Big data Diagnostics and prognostics Kidney disease Treatment', 'PL': 'Switzerland', 'JT': 'Kidney diseases (Basel, Switzerland)', 'PMC': 'PMC6995978', 'EDAT': '2020/02/06 06:00', 'MHDA': '2020/02/06 06:01', 'STAT': 'PubMed-not-MEDLINE'}),\n",
       " Document(page_content='The rapid development of artificial intelligence (AI) technology, especially the progress in deep learning methods and computing power of hardware, has greatly promoted the application of AI in the field of biomedicine and nephrology. AI can predict the occurrence of acute kidney injury, identify chronic kidney disease, and assist in the analysis of kidney disease pathology, prognosis prediction and decision-making. The application of AI in the field of nephrology depends on the coordinated development of nephrology and artificial intelligence, and requires close interdisciplinary cooperation between multiple disciplines. This article describes the application and research progress of AI in nephrology and provides insights for future directions.', metadata={'PMID': '37150686', 'TI': '[Artificial intelligence: a new journey in nephrology].', 'FAU': 'Liu, Z S', 'AU': 'Liu ZS', 'DP': '2023 May 16', 'MH': 'Humans *Nephrology Artificial Intelligence *Acute Kidney Injury *Renal Insufficiency, Chronic Technology', 'OT': 'no information', 'PL': 'China', 'JT': 'Zhonghua yi xue za zhi', 'PMC': 'no information', 'EDAT': '2023/05/08 00:41', 'MHDA': '2023/05/09 06:42', 'STAT': 'MEDLINE'}),\n",
       " Document(page_content='Artificial intelligence is increasingly being used to improve diagnosis and prognostication for acute and chronic kidney diseases. Studies published in 2019 relied on a variety of available data sources towards this objective, including electronic health records, intraoperative physiological signals, kidney ultrasound imaging, and digitized biopsy specimens.', metadata={'PMID': '31873197', 'TI': 'Artificial intelligence approaches to improve kidney care.', 'FAU': 'Rashidi, Parisa Bihorac, Azra', 'AU': 'Rashidi P Bihorac A', 'DP': '2020 Feb', 'MH': 'Acute Kidney Injury/*epidemiology *Artificial Intelligence Biopsy Deep Learning Electronic Health Records Humans Image Interpretation, Computer-Assisted Kidney/*diagnostic imaging/*pathology Kidney Transplantation Nephrectomy Postoperative Complications/*epidemiology Renal Insufficiency, Chronic/classification/*diagnostic imaging/metabolism Transplants/pathology Ultrasonography', 'OT': 'no information', 'PL': 'England', 'JT': 'Nature reviews. Nephrology', 'PMC': 'PMC7591106', 'EDAT': '2019/12/25 06:00', 'MHDA': '2020/04/17 06:00', 'STAT': 'MEDLINE'}),\n",
       " Document(page_content=\"BACKGROUND: Kidney disease progression rates vary among patients. Rapid and accurate prediction of kidney disease outcomes is crucial for disease management. In recent years, various prediction models using Machine Learning (ML) algorithms have been established in nephrology. However, their accuracy have been inconsistent. Therefore, we conducted a systematic review and meta-analysis to investigate the diagnostic accuracy of ML algorithms for kidney disease progression. METHODS: We searched PubMed, EMBASE, Cochrane Central Register of Controlled Trials, the Chinese Biomedicine Literature Database, Chinese National Knowledge Infrastructure, Wanfang Database, and the VIP Database for diagnostic studies on ML algorithms' accuracy in predicting kidney disease prognosis, from the establishment of these databases until October 2020. Two investigators independently evaluate study quality by QUADAS-2 tool and extracted data from single ML algorithm for data synthesis using the bivariate model and the hierarchical summary receiver operating characteristic (HSROC) model. RESULTS: Fifteen studies were left after screening, only 6 studies were eligible for data synthesis. The sample size of these 6 studies was 12,534, and the kidney disease types could be divided into chronic kidney disease (CKD) and Immunoglobulin A Nephropathy, with 5 articles using end-stage renal diseases occurrence as the primary outcome. The main results indicated that the area under curve (AUC) of the HSROC was 0.87 (0.84-0.90) and ML algorithm exhibited a strong specificity, 95% confidence interval and heterogeneity (I(2)) of (0.87, 0.84-0.90, [I(2) 99.0%]) and a weak sensitivity of (0.68, 0.58-0.77, [I(2) 99.7%]) in predicting kidney disease deterioration. And the the results of subgroup analysis indicated that ML algorithm's AUC for predicting CKD prognosis was 0.82 (0.79-0.85), with the pool sensitivity of (0.64, 0.49-0.77, [I(2) 99.20%]) and pool specificity of (0.84, 0.74-0.91, [I(2) 99.84%]). The ML algorithm's AUC for predicting IgA nephropathy prognosis was 0.78 (0.74-0.81), with the pool sensitivity of (0.74, 0.71-0.77, [I(2) 7.10%]) and pool specificity of (0.93, 0.91-0.95, [I(2) 83.92%]). CONCLUSION: Taking advantage of big data, ML algorithm-based prediction models have high accuracy in predicting kidney disease progression, we recommend ML algorithms as an auxiliary tool for clinicians to determine proper treatment and disease management strategies.\", metadata={'PMID': '35915457', 'TI': \"Machine learning algorithms' accuracy in predicting kidney disease progression: a systematic review and meta-analysis.\", 'FAU': 'Lei, Nuo Zhang, Xianlong Wei, Mengting Lao, Beini Xu, Xueyi Zhang, Min Chen, Huifen Xu, Yanmin Xia, Bingqing Zhang, Dingjun Dong, Chendi Fu, Lizhe Tang, Fang Wu, Yifan', 'AU': 'Lei N Zhang X Wei M Lao B Xu X Zhang M Chen H Xu Y Xia B Zhang D Dong C Fu L Tang F Wu Y', 'DP': '2022 Aug 1', 'MH': 'Algorithms Disease Progression Humans Kidney *Machine Learning *Renal Insufficiency, Chronic/diagnosis', 'OT': 'Artificial intelligence CKD progression Chronic kidney disease Immunoglobulin A nephropathy Machine learning algorithm Prediction models', 'PL': 'England', 'JT': 'BMC medical informatics and decision making', 'PMC': 'PMC9341041', 'EDAT': '2022/08/02 06:00', 'MHDA': '2022/08/04 06:00', 'STAT': 'MEDLINE'})]"
      ]
     },
     "execution_count": 22,
     "metadata": {},
     "output_type": "execute_result"
    }
   ],
   "source": [
    "documents"
   ]
  },
  {
   "cell_type": "code",
   "execution_count": 10,
   "metadata": {},
   "outputs": [
    {
     "name": "stdout",
     "output_type": "stream",
     "text": [
      "page_content='BACKGROUND: Artificial intelligence (AI) now plays a critical role in almost every area of our daily lives and academic disciplines due to the growth of computing power, advances in methods and techniques, and the explosion of the amount of data; medicine is not an exception. Rather than replacing clinicians, AI is augmenting the intelligence of clinicians in diagnosis, prognosis, and treatment decisions. SUMMARY: Kidney disease is a substantial medical and public health burden globally, with both acute kidney injury and chronic kidney disease bringing about high morbidity and mortality as well as a huge economic burden. Even though the existing research and applied works have made certain contributions to more accurate prediction and better understanding of histologic pathology, there is a lot more work to be done and problems to solve. KEY MESSAGES: AI applications of diagnostics and prognostics for high-prevalence and high-morbidity types of nephropathy in medical-resource-inadequate areas need special attention; high-volume and high-quality data need to be collected and prepared; a consensus on ethics and safety in the use of AI technologies needs to be built.' metadata={'PMID': '32021868', 'TI': \"Artificial Intelligence in Nephrology: How Can Artificial Intelligence Augment Nephrologists' Intelligence?\", 'FAU': 'Xie, Guotong Chen, Tiange Li, Yingxue Chen, Tingyu Li, Xiang Liu, Zhihong', 'AU': 'Xie G Chen T Li Y Chen T Li X Liu Z', 'DP': '2020 Jan', 'MH': 'no information', 'OT': 'Artificial intelligence Big data Diagnostics and prognostics Kidney disease Treatment', 'PL': 'Switzerland', 'JT': 'Kidney diseases (Basel, Switzerland)', 'PMC': 'PMC6995978', 'EDAT': '2020/02/06 06:00', 'MHDA': '2020/02/06 06:01', 'STAT': 'PubMed-not-MEDLINE'}\n"
     ]
    },
    {
     "data": {
      "text/plain": [
       "{'PMID': '32021868',\n",
       " 'TI': \"Artificial Intelligence in Nephrology: How Can Artificial Intelligence Augment Nephrologists' Intelligence?\",\n",
       " 'FAU': 'Xie, Guotong Chen, Tiange Li, Yingxue Chen, Tingyu Li, Xiang Liu, Zhihong',\n",
       " 'AU': 'Xie G Chen T Li Y Chen T Li X Liu Z',\n",
       " 'DP': '2020 Jan',\n",
       " 'MH': 'no information',\n",
       " 'OT': 'Artificial intelligence Big data Diagnostics and prognostics Kidney disease Treatment',\n",
       " 'PL': 'Switzerland',\n",
       " 'JT': 'Kidney diseases (Basel, Switzerland)',\n",
       " 'PMC': 'PMC6995978',\n",
       " 'EDAT': '2020/02/06 06:00',\n",
       " 'MHDA': '2020/02/06 06:01',\n",
       " 'STAT': 'PubMed-not-MEDLINE'}"
      ]
     },
     "execution_count": 10,
     "metadata": {},
     "output_type": "execute_result"
    }
   ],
   "source": [
    "context = documents[0]\n",
    "metadata = documents[0].metadata\n",
    "print(context)\n",
    "metadata"
   ]
  },
  {
   "cell_type": "code",
   "execution_count": 11,
   "metadata": {},
   "outputs": [
    {
     "data": {
      "text/plain": [
       "'Based on the provided context and metadata, the answer to the question is not explicitly stated. However, it can be inferred that AI has the potential to predict the occurrence of progressive immunoglobulin A nephropathy through the following clues:\\n\\n1. The article mentions that AI applications of diagnostics and prognostics for high-prevalence and high-morbidity types of nephropathy in medical-resource-inadequate areas need special attention, suggesting that AI can be used to identify and predict the onset of nephropathy in resource-poor settings.\\n2. The authors highlight the importance of collecting and preparing high-volume and high-quality data for AI applications, which suggests that AI can analyze large amounts of data to identify patterns and make predictions about the occurrence of progressive immunoglobulin A nephropathy.\\n3. The article mentions that a consensus on ethics and safety in the use of AI technologies needs to be built, indicating that AI can be used to predict the occurrence of nephropathy while ensuring patient safety and privacy.\\n\\nTherefore, based on the provided information, it can be inferred that AI has the potential to predict the occurrence of progressive immunoglobulin A nephropathy through the analysis of large amounts of data and the use of ethical and safe AI applications.'"
      ]
     },
     "execution_count": 11,
     "metadata": {},
     "output_type": "execute_result"
    }
   ],
   "source": [
    "document_chain.invoke({\n",
    "    \"input\": query,\n",
    "    \"context\": [context],\n",
    "    \"metadata\": [metadata]\n",
    "})"
   ]
  },
  {
   "cell_type": "code",
   "execution_count": 12,
   "metadata": {},
   "outputs": [],
   "source": [
    "from langchain.chains import create_history_aware_retriever\n",
    "from langchain_core.prompts import MessagesPlaceholder\n",
    "from langchain_core.messages import HumanMessage, AIMessage\n",
    "\n",
    "# First we need a prompt that we can pass into an LLM to generate this search query\n",
    "\n",
    "prompt = ChatPromptTemplate.from_messages([\n",
    "    MessagesPlaceholder(variable_name=\"chat_history\"),\n",
    "    (\"system\", \"Act as Expert in Medical field by providing refrences and scientifc conclusions for user's questions based on the below context:\\n\\n{context} and metadata\"),\n",
    "    (\"user\", \"{input}\"),\n",
    "    (\"user\", '''Given the above conversation, generate a search query to look up\n",
    "      in order to get information relevant to the conversation''')\n",
    "])\n",
    "retriever_chain = create_history_aware_retriever(llm, retriever, prompt)\n",
    "\n",
    "document_chain = create_stuff_documents_chain(llm, prompt)\n",
    "\n",
    "retrieval_chain = create_retrieval_chain(retriever_chain, document_chain)"
   ]
  },
  {
   "cell_type": "code",
   "execution_count": 13,
   "metadata": {},
   "outputs": [
    {
     "data": {
      "text/plain": [
       "{'chat_history': [HumanMessage(content=''), AIMessage(content='Yes!')],\n",
       " 'input': 'where was the articles published (place of publication PL)?',\n",
       " 'context': [Document(page_content='BACKGROUND: Artificial intelligence (AI) has had a significant impact on our lives and plays many roles in various fields. By analyzing the past 30 years of AI trends in the field of nephrology, using a bibliography, we wanted to know the areas of interest and future direction of AI in research related to the kidney. METHODS: Using the Institute for Scientific Information Web of Knowledge database, we searched for articles published from 1990 to 2019 in January 2020 using the keywords AI; deep learning; machine learning; and kidney (or renal). The selected articles were reviewed manually at the points of citation analysis. RESULTS: From 218 related articles, we selected the top fifty with 1188 citations in total. The most-cited article was cited 84 times and the least-cited one was cited 12 times. These articles were published in 40 journals. Expert Systems with Applications (three articles) and Kidney International (three articles) were the most cited journals. Forty articles were published in the 2010s, and seven articles were published in the 2000s. The top-fifty most cited articles originated from 17 countries; the USA contributed 16 articles, followed by Turkey with four articles. The main topics in the top fifty consisted of tumors (11), acute kidney injury (10), dialysis-related (5), kidney-transplant related (4), nephrotoxicity (4), glomerular disease (4), chronic kidney disease (3), polycystic kidney disease (2), kidney stone (2), kidney image (2), renal pathology (2), and glomerular filtration rate measure (1). CONCLUSIONS: After 2010, the interest in AI and its achievements increased enormously. To date, AIs have been investigated using data that are relatively easy to access, for example, radiologic images and laboratory results in the fields of tumor and acute kidney injury. In the near future, a deeper and wider range of information, such as genetic and personalized database, will help enrich nephrology fields with AI technology.', metadata={'PMID': '33832141', 'TI': 'Artificial intelligence with kidney disease: A scoping review with bibliometric analysis, PRISMA-ScR.', 'FAU': 'Park, Sihyung Park, Bong Soo Lee, Yoo Jin Kim, Il Hwan Park, Jin Han Ko, Junghae Kim, Yang Wook Park, Kang Min', 'AU': 'Park S Park BS Lee YJ Kim IH Park JH Ko J Kim YW Park KM', 'DP': '2021 Apr 9', 'MH': '*Artificial Intelligence *Bibliometrics Humans Kidney Diseases/*diagnosis/*therapy Nephrology/*methods', 'OT': 'no information', 'PL': 'United States', 'JT': 'Medicine', 'PMC': 'PMC8036048', 'EDAT': '2021/04/10 06:00', 'MHDA': '2021/04/23 06:00', 'STAT': 'MEDLINE'}),\n",
       "  Document(page_content='BACKGROUND: The integration of artificial intelligence (AI) and machine learning (ML) in kidney care has seen a significant rise in recent years. This study specifically analyzed AI and ML research publications related to kidney care to identify leading authors, institutions, and countries in this area. It aimed to examine publication trends and patterns, and to explore the impact of collaborative efforts on citation metrics. METHODS: The study used the Science Citation Index Expanded (SCI-EXPANDED) of Clarivate Analytics Web of Science Core Collection to search for AI and machine learning publications related to nephrology from 1992 to 2021. The authors used quotation marks and Boolean operator \"or\" to search for keywords in the title, abstract, author keywords, and Keywords Plus. In addition, the \\'front page\\' filter was applied. A total of 5425 documents were identified and analyzed. RESULTS: The results showed that articles represent 75% of the analyzed documents, with an average author to publications ratio of 7.4 and an average number of citations per publication in 2021 of 18. English articles had a higher citation rate than non-English articles. The USA dominated in all publication indicators, followed by China. Notably, the research also showed that collaborative efforts tend to result in higher citation rates. A significant portion of the publications were found in urology journals, emphasizing the broader scope of kidney care beyond traditional nephrology. CONCLUSIONS: The findings underscore the importance of AI and ML in enhancing kidney care, offering a roadmap for future research and implementation in this expanding field.', metadata={'PMID': '38281623', 'TI': 'Artificial intelligence and machine learning trends in kidney care.', 'FAU': 'Ho, Yuh-Shan Fulop, Tibor Krisanapan, Pajaree Soliman, Karim M Cheungpasitporn, Wisit', 'AU': 'Ho YS Fulop T Krisanapan P Soliman KM Cheungpasitporn W', 'DP': '2024 Jan 26', 'MH': 'no information', 'OT': 'Artificial intelligence Bibliometric Citation analysis Kidney care Machine learning Nephrology Publication trends SCI-EXPANDED', 'PL': 'United States', 'JT': 'The American journal of the medical sciences', 'PMC': 'no information', 'EDAT': '2024/01/29 00:42', 'MHDA': '2024/01/29 00:42', 'STAT': 'Publisher'}),\n",
       "  Document(page_content='Artificial intelligence (AI) has emerged as a promising tool in the field of healthcare, with an increasing number of research articles evaluating its applications in the domain of kidney disease. To comprehend the evolving landscape of AI research in kidney disease, a bibliometric analysis is essential. The purposes of this study are to systematically analyze and quantify the scientific output, research trends, and collaborative networks in the application of AI to kidney disease. This study collected AI-related articles published between 2012 and 20 November 2023 from the Web of Science. Descriptive analyses of research trends in the application of AI in kidney disease were used to determine the growth rate of publications by authors, journals, institutions, and countries. Visualization network maps of country collaborations and author-provided keyword co-occurrences were generated to show the hotspots and research trends in AI research on kidney disease. The initial search yielded 673 articles, of which 631 were included in the analyses. Our findings reveal a noteworthy exponential growth trend in the annual publications of AI applications in kidney disease. Nephrology Dialysis Transplantation emerged as the leading publisher, accounting for 4.12% (26 out of 631 papers), followed by the American Journal of Transplantation at 3.01% (19/631) and Scientific Reports at 2.69% (17/631). The primary contributors were predominantly from the United States (n = 164, 25.99%), followed by China (n = 156, 24.72%) and India (n = 62, 9.83%). In terms of institutions, Mayo Clinic led with 27 contributions (4.27%), while Harvard University (n = 19, 3.01%) and Sun Yat-Sen University (n = 16, 2.53%) secured the second and third positions, respectively. This study summarized AI research trends in the field of kidney disease through statistical analysis and network visualization. The findings show that the field of AI in kidney disease is dynamic and rapidly progressing and provides valuable information for recognizing emerging patterns, technological shifts, and interdisciplinary collaborations that contribute to the advancement of knowledge in this critical domain.', metadata={'PMID': '38396436', 'TI': 'Artificial Intelligence in Kidney Disease: A Comprehensive Study and Directions for Future Research.', 'FAU': 'Wu, Chieh-Chen Islam, Md Mohaimenul Poly, Tahmina Nasrin Weng, Yung-Ching', 'AU': 'Wu CC Islam MM Poly TN Weng YC', 'DP': '2024 Feb 12', 'MH': 'no information', 'OT': 'artificial intelligence bibliometric study deep learning kidney disease machine learning', 'PL': 'Switzerland', 'JT': 'Diagnostics (Basel, Switzerland)', 'PMC': 'PMC10887584', 'EDAT': '2024/02/24 11:44', 'MHDA': '2024/02/24 11:45', 'STAT': 'PubMed-not-MEDLINE'}),\n",
       "  Document(page_content='This study aimed to assess the research on medical Artificial intelligence (AI) related to sex/gender and explore global research trends over the past 20 years. We searched the Web of Science (WoS) for gender-related medical AI publications from 2001 to 2020. We extracted the bibliometric data and calculated the annual growth of publications, Specialization Index, and Category Normalized Citation Impact. We also analyzed the publication distributions by institution, author, WoS subject category, and journal. A total of 3,110 papers were included in the bibliometric analysis. The number of publications continuously increased over time, with a steep increase between 2016 and 2020. The United States of America and Harvard University were the country and institution that had the largest number of publications. Surgery and urology nephrology were the most common subject categories of WoS. The most occurred keywords were machine learning, classification, risk, outcomes, diagnosis, and surgery. Despite increased interest, gender-related research is still low in medical AI field and further research is needed.', metadata={'PMID': '35655848', 'TI': 'Global Research Trends of Gender-Related Artificial Intelligence in Medicine Between 2001-2020: A Bibliometric Study.', 'FAU': 'Yoon, Ha Young Lee, Heisook Yee, Jeong Gwak, Hye Sun', 'AU': 'Yoon HY Lee H Yee J Gwak HS', 'DP': '2022', 'MH': 'no information', 'OT': 'artificial intelligence bibliometric analysis gender medical research medicine', 'PL': 'Switzerland', 'JT': 'Frontiers in medicine', 'PMC': 'PMC9152019', 'EDAT': '2022/06/04 06:00', 'MHDA': '2022/06/04 06:01', 'STAT': 'PubMed-not-MEDLINE'})],\n",
       " 'answer': 'AI: The articles were published in various places around the world, including the United States, China, India, and Europe. Here is a list of some of the specific locations where the articles were published:\\n\\n* United States: 164 articles (25.99%)\\n\\t+ Mayo Clinic: 27 articles (4.27%)\\n\\t+ Harvard University: 19 articles (3.01%)\\n\\t+ Sun Yat-Sen University: 16 articles (2.53%)\\n* China: 156 articles (24.72%)\\n* India: 62 articles (9.83%)\\n* Europe: 51 articles (8.25%)\\n\\nTo find more information on AI research related to kidney disease, you can use a search query such as \"kidney disease AI research\" or \"AI applications in nephrology.\" This should bring up relevant articles and studies from around the world.'}"
      ]
     },
     "execution_count": 13,
     "metadata": {},
     "output_type": "execute_result"
    }
   ],
   "source": [
    "query = \"where was the articles published (place of publication PL)?\"\n",
    "retriever.get_relevant_documents(query)\n",
    "chat_history = [HumanMessage(content=\"\"), AIMessage(content=\"Yes!\")]\n",
    "retrieval_chain.invoke({\n",
    "    \"chat_history\": chat_history,\n",
    "    \"input\": query,\n",
    "    \"context\": context,\n",
    "})"
   ]
  },
  {
   "cell_type": "code",
   "execution_count": null,
   "metadata": {},
   "outputs": [],
   "source": []
  }
 ],
 "metadata": {
  "kernelspec": {
   "display_name": ".venv",
   "language": "python",
   "name": "python3"
  },
  "language_info": {
   "codemirror_mode": {
    "name": "ipython",
    "version": 3
   },
   "file_extension": ".py",
   "mimetype": "text/x-python",
   "name": "python",
   "nbconvert_exporter": "python",
   "pygments_lexer": "ipython3",
   "version": "3.11.4"
  }
 },
 "nbformat": 4,
 "nbformat_minor": 2
}
